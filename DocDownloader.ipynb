{
  "nbformat": 4,
  "nbformat_minor": 0,
  "metadata": {
    "colab": {
      "name": "DocDownloader.ipynb",
      "provenance": [],
      "collapsed_sections": [],
      "authorship_tag": "ABX9TyOLPdGwZ+QV7vfnLF9diM+o",
      "include_colab_link": true
    },
    "kernelspec": {
      "name": "python3",
      "display_name": "Python 3"
    }
  },
  "cells": [
    {
      "cell_type": "markdown",
      "metadata": {
        "id": "view-in-github",
        "colab_type": "text"
      },
      "source": [
        "<a href=\"https://colab.research.google.com/github/sipocz/pdf_NLP/blob/main/DocDownloader.ipynb\" target=\"_parent\"><img src=\"https://colab.research.google.com/assets/colab-badge.svg\" alt=\"Open In Colab\"/></a>"
      ]
    },
    {
      "cell_type": "code",
      "metadata": {
        "id": "RvblZUdz9Dj6"
      },
      "source": [
        "import requests\n",
        "from bs4 import  BeautifulSoup\n",
        "\n",
        "\n",
        "def query_urls():\n",
        "    print(\"------------------------------------------------\")\n",
        "    \n",
        "    url=\"./ABB Library - 800xA.html\"\n",
        "    f=open(url)\n",
        "    res=f.read()\n",
        "    print(res[:30])\n",
        "    f.close()\n",
        "    soup=BeautifulSoup(res,\"html.parser\")\n",
        "    urllist_a=soup.find_all(\"a\")\n",
        "    \n",
        "    \n",
        "   \n",
        "\n",
        "    out1=[]\n",
        "    out2={}\n",
        "    count_i=0\n",
        "    print(len(urllist_a))\n",
        "    for i in urllist_a:\n",
        "        count_i+=1\n",
        "        try:\n",
        "            print(count_i, \"-->\", i[\"href\"])\n",
        "            out1.append(i[\"href\"])\n",
        "        except:\n",
        "            pass   \n",
        "    print(\"----------------  END  ------------------------\")\n",
        "    return(out1)\n",
        "\n"
      ],
      "execution_count": 80,
      "outputs": []
    },
    {
      "cell_type": "code",
      "source": [
        "o=query_url()"
      ],
      "metadata": {
        "id": "nH3Lnz_wrrTR"
      },
      "execution_count": null,
      "outputs": []
    },
    {
      "cell_type": "code",
      "source": [
        "print(o[1])"
      ],
      "metadata": {
        "colab": {
          "base_uri": "https://localhost:8080/"
        },
        "id": "hLFf4cw0bJsp",
        "outputId": "8df2fabc-ef90-4bcf-d988-95adb5b8513c"
      },
      "execution_count": 89,
      "outputs": [
        {
          "output_type": "stream",
          "name": "stdout",
          "text": [
            "https://search.abb.com/library/Download.aspx?DocumentID=7PAA000908&LanguageCode=en&DocumentPartId=&Action=Launch\n"
          ]
        }
      ]
    },
    {
      "cell_type": "code",
      "source": [
        "def query_pdf(url_in):\n",
        "    \n",
        "    header={'User-Agent':\"Mozilla/5.0 (Windows NT 10.0; Win64; x64) AppleWebKit/537.36 (KHTML, like Gecko) Chrome/86.0.4240.75 Safari/537.36\"}\n",
        "\n",
        "    \n",
        "    \n",
        "    url=url_in\n",
        "    res=requests.get(url,headers=header)\n",
        "    print(res.text)\n",
        "    soup=BeautifulSoup(res.text,\"html.parser\")\n",
        "    urllist_a=soup.find_all(\"iframe\")\n",
        "    try:\n",
        "        out=urllist_a[0][\"src\"].split(\"?\")[0]\n",
        "        print(\"iFRAMe:\",out)\n",
        "    except:\n",
        "        print(\"iFrame: error\")\n",
        "        out=None\n",
        "\n",
        "    return(out)\n",
        "    \n",
        "\n"
      ],
      "metadata": {
        "id": "l2Jykf4vyjE0"
      },
      "execution_count": 110,
      "outputs": []
    },
    {
      "cell_type": "code",
      "source": [
        "query_pdf(\"https://search.abb.com/library/Download.aspx?DocumentID=9AKK107992A8766&LanguageCode=en\")"
      ],
      "metadata": {
        "colab": {
          "base_uri": "https://localhost:8080/",
          "height": 53
        },
        "id": "_aj-y4q-0AiB",
        "outputId": "9aa8929a-71ac-49af-880a-f71dcf97ba75"
      },
      "execution_count": 100,
      "outputs": [
        {
          "output_type": "stream",
          "name": "stdout",
          "text": [
            "iFRAMe: https://library.e.abb.com/public/1f26136a87434713bc8b57fee1b1d5c7/9AKK107992A8766%20Sugar%20Library%20Rev%20A3.pdf\n"
          ]
        },
        {
          "output_type": "execute_result",
          "data": {
            "application/vnd.google.colaboratory.intrinsic+json": {
              "type": "string"
            },
            "text/plain": [
              "'https://library.e.abb.com/public/1f26136a87434713bc8b57fee1b1d5c7/9AKK107992A8766%20Sugar%20Library%20Rev%20A3.pdf'"
            ]
          },
          "metadata": {},
          "execution_count": 100
        }
      ]
    },
    {
      "cell_type": "code",
      "source": [
        "query_pdf(\"https://search.abb.com/library/Download.aspx?DocumentID=2PAA121231&LanguageCode=en&DocumentPartId=&Action=Launch\")"
      ],
      "metadata": {
        "colab": {
          "base_uri": "https://localhost:8080/",
          "height": 53
        },
        "id": "FLamSRV3gYL9",
        "outputId": "2d179013-0410-4cbb-9851-9601d8b455d0"
      },
      "execution_count": 101,
      "outputs": [
        {
          "output_type": "stream",
          "name": "stdout",
          "text": [
            "iFRAMe: https://library.e.abb.com/public/d25019064f4c4eaaaecf673048e6165f/2PAA121231_C_en_SECURITY%20Multiple%20Vulnerabilities%20in%20ABB%20Central%20Licensing%20System.pdf\n"
          ]
        },
        {
          "output_type": "execute_result",
          "data": {
            "application/vnd.google.colaboratory.intrinsic+json": {
              "type": "string"
            },
            "text/plain": [
              "'https://library.e.abb.com/public/d25019064f4c4eaaaecf673048e6165f/2PAA121231_C_en_SECURITY%20Multiple%20Vulnerabilities%20in%20ABB%20Central%20Licensing%20System.pdf'"
            ]
          },
          "metadata": {},
          "execution_count": 101
        }
      ]
    },
    {
      "cell_type": "code",
      "source": [
        "def create_url_list(url_search):\n",
        "    out=[]\n",
        "    for url in url_search:\n",
        "        if  \"Download\" in url:\n",
        "            print(\"uRl:\",url)\n",
        "            o=query_pdf(url)\n",
        "            if o!=None:\n",
        "                out.append(0)\n",
        "    return(out)"
      ],
      "metadata": {
        "id": "vIAly8EZeZat"
      },
      "execution_count": 105,
      "outputs": []
    },
    {
      "cell_type": "code",
      "source": [
        "cc=create_url_list(o)"
      ],
      "metadata": {
        "colab": {
          "base_uri": "https://localhost:8080/",
          "height": 1000
        },
        "id": "RBqKrS9ZkkBH",
        "outputId": "a6ca19ea-456e-4638-be38-444b1dc1819a"
      },
      "execution_count": 108,
      "outputs": [
        {
          "output_type": "stream",
          "name": "stdout",
          "text": [
            "uRl: https://search.abb.com/library/Download.aspx?DocumentID=7PAA000908&LanguageCode=en&DocumentPartId=&Action=Launch\n",
            "iFRAMe: https://library.e.abb.com/public/d53ba16b5c3641be9eb0d99bbec918f7/7PAA000908_A_en_SECURITY%20-%20OPC%20Server%20for%20AC%20800M%20-%20Remote%20Code%20Execution%20Vulnerability.pdf\n",
            "uRl: https://search.abb.com/library/Download.aspx?DocumentID=9AKK107992A8766&LanguageCode=en&DocumentPartId=&Action=Launch\n",
            "iFRAMe: https://library.e.abb.com/public/1f26136a87434713bc8b57fee1b1d5c7/9AKK107992A8766%20Sugar%20Library%20Rev%20A3.pdf\n",
            "uRl: https://search.abb.com/library/Download.aspx?DocumentID=2PAA121236&LanguageCode=en&DocumentPartId=&Action=Launch\n",
            "iFRAMe: https://library.e.abb.com/public/de3bf57af4cd4cc3b9d4fdaaffe45ad8/2PAA121236_D_en_SECURITY%20Inter%20process%20communication%20vulnerability%20in%20System%20800xA.pdf\n",
            "uRl: https://search.abb.com/library/Download.aspx?DocumentID=3BGB000935&LanguageCode=en&DocumentPartId=&Action=Launch\n",
            "iFRAMe: https://library.e.abb.com/public/1a7e06c662ab41c399c13d99e1234134/3BGB000935_EN_A_Imperial%20College%20Brochure%202020_LR.pdf\n",
            "uRl: https://search.abb.com/library/Download.aspx?DocumentID=3BSE091397&LanguageCode=en&DocumentPartId=&Action=Launch\n",
            "iFRAMe: https://library.e.abb.com/public/332c43b442874252b8085f32c2067483/3BSE091397%20en%20K%20ABB%20Ability%20System%20800xA%206.1.1%20Product%20Catalog.pdf\n",
            "uRl: https://search.abb.com/library/Download.aspx?DocumentID=3BSE062980&LanguageCode=en&DocumentPartId=&Action=Launch\n",
            "iFRAMe: https://library.e.abb.com/public/3393e64747484613b3052e8a8f274f0a/3BSE062980%20en%20K%20Compact%20Product%20Suite%20Product%20Catalog.pdf\n",
            "uRl: https://search.abb.com/library/Download.aspx?DocumentID=3BDD013118&LanguageCode=en&DocumentPartId=&Action=Launch\n",
            "iFRAMe: https://library.e.abb.com/public/158e96ddfa6c4554afe42d0c47da15dc/3BDD013118_DQ_en_System%20800xA%20Device%20Management%20Integrated%20HART%20Devices.pdf\n",
            "uRl: https://search.abb.com/library/Download.aspx?DocumentID=2PAA122974&LanguageCode=en&DocumentPartId=&Action=Launch\n",
            "iFRAMe: https://library.e.abb.com/public/653f326b7b214f3191659ef431bdf384/2PAA122974_B_en_SECURITY%20-%20ABB%20Base%20Software%20for%20SoftControl%20Remote%20Code%20Execution%20vulnerability.pdf\n",
            "uRl: https://search.abb.com/library/Download.aspx?DocumentID=3BSE077629&LanguageCode=en&DocumentPartId=&Action=Launch\n",
            "iFRAMe: https://library.e.abb.com/public/6776076692f8409cb4d8cf64c0c0c543/3BSE077629%20en%20D%20System%20800xA%20Mobility%20-%20Extended%20Automation%20in%20the%20palm%20of%20your%20hands.pdf\n",
            "uRl: https://search.abb.com/library/Download.aspx?DocumentID=2PAA120481&LanguageCode=en&DocumentPartId=&Action=Launch\n",
            "iFRAMe: https://library.e.abb.com/public/35b7293721c1497b915c1761f504b48c/2PAA120481_B_en_SECURITY%20WindRiver%20VxWorks%20IPNet%20Vulnerabilities,%20impact%20on%20AC%20800M.pdf\n",
            "uRl: https://search.abb.com/library/Download.aspx?DocumentID=2PAA121231&LanguageCode=en&DocumentPartId=&Action=Launch\n",
            "iFRAMe: https://library.e.abb.com/public/d25019064f4c4eaaaecf673048e6165f/2PAA121231_C_en_SECURITY%20Multiple%20Vulnerabilities%20in%20ABB%20Central%20Licensing%20System.pdf\n",
            "uRl: https://search.abb.com/library/Download.aspx?DocumentID=2PAA121230&LanguageCode=en&DocumentPartId=&Action=Launch\n",
            "iFRAMe: https://library.e.abb.com/public/d7ab2ae2f3364d6084de1f599c74c84c/2PAA121230_C_en_SECURITY%20ABB%20Central%20Licensing%20System%20Vulnerabilities,%20impact%20on%20System%20800xA,%20Compact%20HMI%20and%20Control%20Builder%20Safe.pdf\n",
            "uRl: https://search.abb.com/library/Download.aspx?DocumentID=2PAA121106&LanguageCode=en&DocumentPartId=&Action=Launch\n",
            "iFRAMe: https://library.e.abb.com/public/6e66a727642e49c590bd6bf0da2822e5/2PAA121106_C_en_SECURITY%20System%20800xA%20Weak%20File%20Permissions.pdf\n",
            "uRl: https://search.abb.com/library/Download.aspx?DocumentID=9AKK107992A4952&LanguageCode=en&DocumentPartId=&Action=Launch\n",
            "iFRAMe: https://library.e.abb.com/public/a3b9d379c49745ed85577081f5ab9bf3/ABB%20UNIVERSITY%20INDIA%20Course%20Catalog.pdf\n",
            "uRl: https://search.abb.com/library/Download.aspx?DocumentID=9AKK107992A4950&LanguageCode=en&DocumentPartId=&Action=Launch\n",
            "iFRAMe: https://library.e.abb.com/public/57cf2d8c4c1b4cdc9a1609d0adf05aa3/T568%20Freelance.pdf\n",
            "uRl: https://search.abb.com/library/Download.aspx?DocumentID=3BSE059723&LanguageCode=en&DocumentPartId=&Action=Launch\n",
            "iFRAMe: https://library.e.abb.com/public/ffba647de3424e91ae011d616280831a/3BSE059723%20en%20H%20System%20800xA%20Operator%20Effectiveness%20-%20Its%20all%20about%20smooth%20operations.pdf\n",
            "uRl: https://search.abb.com/library/Download.aspx?DocumentID=3BDD013120&LanguageCode=en&DocumentPartId=&Action=Launch\n",
            "iFRAMe: https://library.e.abb.com/public/ca59b7f6400a41adad4fcd7a158113d6/3BDD013120_DH_en_System%20800xA%20Device%20Management%20Integrated%20PROFIBUS%20Devices.pdf\n",
            "uRl: https://search.abb.com/library/Download.aspx?DocumentID=3BDD013119&LanguageCode=en&DocumentPartId=&Action=Launch\n",
            "iFRAMe: https://library.e.abb.com/public/fc1b63a38eb046e2a379de415a674fc4/3BDD013119_DM_en_System%20800xA%20Device%20Management%20Integrated%20FF%20Devices.pdf\n",
            "uRl: https://search.abb.com/library/Download.aspx?DocumentID=9AKK107992A4949&LanguageCode=en&DocumentPartId=&Action=Launch\n",
            "iFRAMe: https://library.e.abb.com/public/a162a874ea9347e6b0a83c4bab397aab/INT366%20Compact%20HMI%20800.pdf\n",
            "uRl: https://search.abb.com/library/Download.aspx?DocumentID=9AKK107992A4948&LanguageCode=en&DocumentPartId=&Action=Launch\n",
            "iFRAMe: https://library.e.abb.com/public/af36e1640e844779a649b7e92534b8b4/INT365%20Configuring%20AC800M%20using%20Compact%20Control%20Builder.pdf\n",
            "uRl: https://search.abb.com/library/Download.aspx?DocumentID=9AKK107992A4947&LanguageCode=en&DocumentPartId=&Action=Launch\n",
            "iFRAMe: https://library.e.abb.com/public/56cf5e50351645e38f958c22e1481238/INT315C&H%20System%20800xA%20with%20AC800M.pdf\n",
            "uRl: https://search.abb.com/library/Download.aspx?DocumentID=9AKK107992A4946&LanguageCode=en&DocumentPartId=&Action=Launch\n",
            "iFRAMe: https://library.e.abb.com/public/2170f036c2464b2cb2cb4853ef463026/INT314%20System%20800xA%20with%20AC800M.pdf\n",
            "uRl: https://search.abb.com/library/Download.aspx?DocumentID=9AKK107992A4945&LanguageCode=en&DocumentPartId=&Action=Launch\n",
            "iFRAMe: https://library.e.abb.com/public/070e5c72786049eb91f5ee82975ca984/INT310%20System%20800xA%20Operations.pdf\n",
            "uRl: https://search.abb.com/library/Download.aspx?DocumentID=7PAA000120&LanguageCode=en&DocumentPartId=&Action=Launch\n",
            "iFrame: error\n",
            "uRl: https://search.abb.com/library/Download.aspx?DocumentID=3BSE087225&LanguageCode=en&DocumentPartId=&Action=Launch\n",
            "iFRAMe: https://library.e.abb.com/public/0ceca1febbb540798c6dc2cad7d6e0e4/3BSE087225%20en%20B%20Process%20Automation%20Hardware%20Selectors%20-%20Choosing%20the%20right%20hardware%20made%20easy.pdf\n",
            "uRl: https://search.abb.com/library/Download.aspx?DocumentID=2PAA125656&LanguageCode=en&DocumentPartId=&Action=Launch\n",
            "iFRAMe: https://library.e.abb.com/public/5e913a2d6f1b48ab962af43f00538730/2PAA125656%20en%20B%20ABB%20Ability%20System%20800xA%20-%20with%20OPC%20UA%20protocol.pdf\n",
            "uRl: https://search.abb.com/library/Download.aspx?DocumentID=2PAA125955&LanguageCode=en&DocumentPartId=&Action=Launch\n",
            "iFrame: error\n",
            "uRl: https://search.abb.com/library/Download.aspx?DocumentID=2PAA125657&LanguageCode=en&DocumentPartId=&Action=Launch\n",
            "iFRAMe: https://library.e.abb.com/public/9b0ae801eb0e4d8d9d5891f9b586ef17/2PAA125657%20en%20A%20ABB%20Ability%20System%20800xA%20-%20Ethernet%20IO%20Field%20Kit%20with%20xStream%20Commissioning.pdf\n",
            "uRl: https://search.abb.com/library/Download.aspx?DocumentID=3BSE089233&LanguageCode=en&DocumentPartId=&Action=Launch\n",
            "iFRAMe: https://library.e.abb.com/public/ad6749bea4fe47538b5dfda9267c49fe/3BSE089233%20en%20I%20ABB%20Ability%20System%20800xA%20Select%20IO%20datasheet.pdf\n",
            "uRl: https://search.abb.com/library/Download.aspx?DocumentID=2PAA125774&LanguageCode=en&DocumentPartId=&Action=Launch\n",
            "iFRAMe: https://library.e.abb.com/public/8d0fecdcd15544e79d5d48ec89faf631/2PAA125774%20en%20B%20ABB%20Ability%20System%20800xA%206.1.1%20What%20s%20new.pdf\n",
            "uRl: https://search.abb.com/library/Download.aspx?DocumentID=2PAA125619&LanguageCode=en&DocumentPartId=&Action=Launch\n",
            "iFRAMe: https://library.e.abb.com/public/bd14b21a183140be8dc020bb35d4beec/2PAA125619%20en%20A%20Field%20Information%20Manager%202.2%20-%20External%20Sales%20presentation.pdf\n",
            "uRl: https://search.abb.com/library/Download.aspx?DocumentID=3BSE094879&LanguageCode=en&DocumentPartId=&Action=Launch\n",
            "iFRAMe: https://library.e.abb.com/public/175feb47c7c74cdeafe4c79d67d5218b/3BSE094879_A_en_T320%20800xA%20with%20Advant%20Master%20-%20Course%20description.pdf\n",
            "uRl: https://search.abb.com/library/Download.aspx?DocumentID=3BSE094873&LanguageCode=en&DocumentPartId=&Action=Launch\n",
            "iFRAMe: https://library.e.abb.com/public/09989a721a584c46946e659c574db43a/3BSE094873_A_en_T310%20System%20800xA%20Operation.pdf\n",
            "uRl: https://search.abb.com/library/Download.aspx?DocumentID=3BSE094878&LanguageCode=en&DocumentPartId=&Action=Launch\n",
            "iFRAMe: https://library.e.abb.com/public/4930aa22b463432da1c2391cf55e0a33/3BSE094878_A_en_T317%20Foundation%20Fieldbus%20Device%20Management.pdf\n",
            "uRl: https://search.abb.com/library/Download.aspx?DocumentID=3BSE094881&LanguageCode=en&DocumentPartId=&Action=Launch\n",
            "iFRAMe: https://library.e.abb.com/public/b9be21b73f7f47919787b82729b713c8/3BSE094881_A_en_T360%20System%20800xA%20with%20AC%20800M%20Basic%20Engineering%20for%20Channel%20Partners.pdf\n",
            "uRl: https://search.abb.com/library/Download.aspx?DocumentID=2PAA120824D0499&LanguageCode=en&DocumentPartId=&Action=Launch\n"
          ]
        },
        {
          "output_type": "error",
          "ename": "KeyboardInterrupt",
          "evalue": "ignored",
          "traceback": [
            "\u001b[0;31m---------------------------------------------------------------------------\u001b[0m",
            "\u001b[0;31mKeyboardInterrupt\u001b[0m                         Traceback (most recent call last)",
            "\u001b[0;32m<ipython-input-108-b454a3b8e570>\u001b[0m in \u001b[0;36m<module>\u001b[0;34m()\u001b[0m\n\u001b[0;32m----> 1\u001b[0;31m \u001b[0mcc\u001b[0m\u001b[0;34m=\u001b[0m\u001b[0mcreate_url_list\u001b[0m\u001b[0;34m(\u001b[0m\u001b[0mo\u001b[0m\u001b[0;34m)\u001b[0m\u001b[0;34m\u001b[0m\u001b[0;34m\u001b[0m\u001b[0m\n\u001b[0m",
            "\u001b[0;32m<ipython-input-105-421c5b0713f2>\u001b[0m in \u001b[0;36mcreate_url_list\u001b[0;34m(url_search)\u001b[0m\n\u001b[1;32m      4\u001b[0m         \u001b[0;32mif\u001b[0m  \u001b[0;34m\"Download\"\u001b[0m \u001b[0;32min\u001b[0m \u001b[0murl\u001b[0m\u001b[0;34m:\u001b[0m\u001b[0;34m\u001b[0m\u001b[0;34m\u001b[0m\u001b[0m\n\u001b[1;32m      5\u001b[0m             \u001b[0mprint\u001b[0m\u001b[0;34m(\u001b[0m\u001b[0;34m\"uRl:\"\u001b[0m\u001b[0;34m,\u001b[0m\u001b[0murl\u001b[0m\u001b[0;34m)\u001b[0m\u001b[0;34m\u001b[0m\u001b[0;34m\u001b[0m\u001b[0m\n\u001b[0;32m----> 6\u001b[0;31m             \u001b[0mo\u001b[0m\u001b[0;34m=\u001b[0m\u001b[0mquery_pdf\u001b[0m\u001b[0;34m(\u001b[0m\u001b[0murl\u001b[0m\u001b[0;34m)\u001b[0m\u001b[0;34m\u001b[0m\u001b[0;34m\u001b[0m\u001b[0m\n\u001b[0m\u001b[1;32m      7\u001b[0m             \u001b[0;32mif\u001b[0m \u001b[0mo\u001b[0m\u001b[0;34m!=\u001b[0m\u001b[0;32mNone\u001b[0m\u001b[0;34m:\u001b[0m\u001b[0;34m\u001b[0m\u001b[0;34m\u001b[0m\u001b[0m\n\u001b[1;32m      8\u001b[0m                 \u001b[0mout\u001b[0m\u001b[0;34m.\u001b[0m\u001b[0mappend\u001b[0m\u001b[0;34m(\u001b[0m\u001b[0;36m0\u001b[0m\u001b[0;34m)\u001b[0m\u001b[0;34m\u001b[0m\u001b[0;34m\u001b[0m\u001b[0m\n",
            "\u001b[0;32m<ipython-input-104-5d598844ce1c>\u001b[0m in \u001b[0;36mquery_pdf\u001b[0;34m(url_in)\u001b[0m\n\u001b[1;32m      8\u001b[0m     \u001b[0mres\u001b[0m\u001b[0;34m=\u001b[0m\u001b[0mrequests\u001b[0m\u001b[0;34m.\u001b[0m\u001b[0mget\u001b[0m\u001b[0;34m(\u001b[0m\u001b[0murl\u001b[0m\u001b[0;34m,\u001b[0m\u001b[0mheaders\u001b[0m\u001b[0;34m=\u001b[0m\u001b[0mheader\u001b[0m\u001b[0;34m)\u001b[0m\u001b[0;34m\u001b[0m\u001b[0;34m\u001b[0m\u001b[0m\n\u001b[1;32m      9\u001b[0m     \u001b[0;31m#print(res.text)\u001b[0m\u001b[0;34m\u001b[0m\u001b[0;34m\u001b[0m\u001b[0;34m\u001b[0m\u001b[0m\n\u001b[0;32m---> 10\u001b[0;31m     \u001b[0msoup\u001b[0m\u001b[0;34m=\u001b[0m\u001b[0mBeautifulSoup\u001b[0m\u001b[0;34m(\u001b[0m\u001b[0mres\u001b[0m\u001b[0;34m.\u001b[0m\u001b[0mtext\u001b[0m\u001b[0;34m,\u001b[0m\u001b[0;34m\"html.parser\"\u001b[0m\u001b[0;34m)\u001b[0m\u001b[0;34m\u001b[0m\u001b[0;34m\u001b[0m\u001b[0m\n\u001b[0m\u001b[1;32m     11\u001b[0m     \u001b[0murllist_a\u001b[0m\u001b[0;34m=\u001b[0m\u001b[0msoup\u001b[0m\u001b[0;34m.\u001b[0m\u001b[0mfind_all\u001b[0m\u001b[0;34m(\u001b[0m\u001b[0;34m\"iframe\"\u001b[0m\u001b[0;34m)\u001b[0m\u001b[0;34m\u001b[0m\u001b[0;34m\u001b[0m\u001b[0m\n\u001b[1;32m     12\u001b[0m     \u001b[0;32mtry\u001b[0m\u001b[0;34m:\u001b[0m\u001b[0;34m\u001b[0m\u001b[0;34m\u001b[0m\u001b[0m\n",
            "\u001b[0;32m/usr/local/lib/python3.7/dist-packages/requests/models.py\u001b[0m in \u001b[0;36mtext\u001b[0;34m(self)\u001b[0m\n\u001b[1;32m    856\u001b[0m         \u001b[0;31m# Fallback to auto-detected encoding.\u001b[0m\u001b[0;34m\u001b[0m\u001b[0;34m\u001b[0m\u001b[0;34m\u001b[0m\u001b[0m\n\u001b[1;32m    857\u001b[0m         \u001b[0;32mif\u001b[0m \u001b[0mself\u001b[0m\u001b[0;34m.\u001b[0m\u001b[0mencoding\u001b[0m \u001b[0;32mis\u001b[0m \u001b[0;32mNone\u001b[0m\u001b[0;34m:\u001b[0m\u001b[0;34m\u001b[0m\u001b[0;34m\u001b[0m\u001b[0m\n\u001b[0;32m--> 858\u001b[0;31m             \u001b[0mencoding\u001b[0m \u001b[0;34m=\u001b[0m \u001b[0mself\u001b[0m\u001b[0;34m.\u001b[0m\u001b[0mapparent_encoding\u001b[0m\u001b[0;34m\u001b[0m\u001b[0;34m\u001b[0m\u001b[0m\n\u001b[0m\u001b[1;32m    859\u001b[0m \u001b[0;34m\u001b[0m\u001b[0m\n\u001b[1;32m    860\u001b[0m         \u001b[0;31m# Decode unicode from given encoding.\u001b[0m\u001b[0;34m\u001b[0m\u001b[0;34m\u001b[0m\u001b[0;34m\u001b[0m\u001b[0m\n",
            "\u001b[0;32m/usr/local/lib/python3.7/dist-packages/requests/models.py\u001b[0m in \u001b[0;36mapparent_encoding\u001b[0;34m(self)\u001b[0m\n\u001b[1;32m    726\u001b[0m     \u001b[0;32mdef\u001b[0m \u001b[0mapparent_encoding\u001b[0m\u001b[0;34m(\u001b[0m\u001b[0mself\u001b[0m\u001b[0;34m)\u001b[0m\u001b[0;34m:\u001b[0m\u001b[0;34m\u001b[0m\u001b[0;34m\u001b[0m\u001b[0m\n\u001b[1;32m    727\u001b[0m         \u001b[0;34m\"\"\"The apparent encoding, provided by the chardet library.\"\"\"\u001b[0m\u001b[0;34m\u001b[0m\u001b[0;34m\u001b[0m\u001b[0m\n\u001b[0;32m--> 728\u001b[0;31m         \u001b[0;32mreturn\u001b[0m \u001b[0mchardet\u001b[0m\u001b[0;34m.\u001b[0m\u001b[0mdetect\u001b[0m\u001b[0;34m(\u001b[0m\u001b[0mself\u001b[0m\u001b[0;34m.\u001b[0m\u001b[0mcontent\u001b[0m\u001b[0;34m)\u001b[0m\u001b[0;34m[\u001b[0m\u001b[0;34m'encoding'\u001b[0m\u001b[0;34m]\u001b[0m\u001b[0;34m\u001b[0m\u001b[0;34m\u001b[0m\u001b[0m\n\u001b[0m\u001b[1;32m    729\u001b[0m \u001b[0;34m\u001b[0m\u001b[0m\n\u001b[1;32m    730\u001b[0m     \u001b[0;32mdef\u001b[0m \u001b[0miter_content\u001b[0m\u001b[0;34m(\u001b[0m\u001b[0mself\u001b[0m\u001b[0;34m,\u001b[0m \u001b[0mchunk_size\u001b[0m\u001b[0;34m=\u001b[0m\u001b[0;36m1\u001b[0m\u001b[0;34m,\u001b[0m \u001b[0mdecode_unicode\u001b[0m\u001b[0;34m=\u001b[0m\u001b[0;32mFalse\u001b[0m\u001b[0;34m)\u001b[0m\u001b[0;34m:\u001b[0m\u001b[0;34m\u001b[0m\u001b[0;34m\u001b[0m\u001b[0m\n",
            "\u001b[0;32m/usr/local/lib/python3.7/dist-packages/chardet/__init__.py\u001b[0m in \u001b[0;36mdetect\u001b[0;34m(byte_str)\u001b[0m\n\u001b[1;32m     36\u001b[0m             \u001b[0mbyte_str\u001b[0m \u001b[0;34m=\u001b[0m \u001b[0mbytearray\u001b[0m\u001b[0;34m(\u001b[0m\u001b[0mbyte_str\u001b[0m\u001b[0;34m)\u001b[0m\u001b[0;34m\u001b[0m\u001b[0;34m\u001b[0m\u001b[0m\n\u001b[1;32m     37\u001b[0m     \u001b[0mdetector\u001b[0m \u001b[0;34m=\u001b[0m \u001b[0mUniversalDetector\u001b[0m\u001b[0;34m(\u001b[0m\u001b[0;34m)\u001b[0m\u001b[0;34m\u001b[0m\u001b[0;34m\u001b[0m\u001b[0m\n\u001b[0;32m---> 38\u001b[0;31m     \u001b[0mdetector\u001b[0m\u001b[0;34m.\u001b[0m\u001b[0mfeed\u001b[0m\u001b[0;34m(\u001b[0m\u001b[0mbyte_str\u001b[0m\u001b[0;34m)\u001b[0m\u001b[0;34m\u001b[0m\u001b[0;34m\u001b[0m\u001b[0m\n\u001b[0m\u001b[1;32m     39\u001b[0m     \u001b[0;32mreturn\u001b[0m \u001b[0mdetector\u001b[0m\u001b[0;34m.\u001b[0m\u001b[0mclose\u001b[0m\u001b[0;34m(\u001b[0m\u001b[0;34m)\u001b[0m\u001b[0;34m\u001b[0m\u001b[0;34m\u001b[0m\u001b[0m\n",
            "\u001b[0;32m/usr/local/lib/python3.7/dist-packages/chardet/universaldetector.py\u001b[0m in \u001b[0;36mfeed\u001b[0;34m(self, byte_str)\u001b[0m\n\u001b[1;32m    209\u001b[0m                 \u001b[0mself\u001b[0m\u001b[0;34m.\u001b[0m\u001b[0m_charset_probers\u001b[0m\u001b[0;34m.\u001b[0m\u001b[0mappend\u001b[0m\u001b[0;34m(\u001b[0m\u001b[0mLatin1Prober\u001b[0m\u001b[0;34m(\u001b[0m\u001b[0;34m)\u001b[0m\u001b[0;34m)\u001b[0m\u001b[0;34m\u001b[0m\u001b[0;34m\u001b[0m\u001b[0m\n\u001b[1;32m    210\u001b[0m             \u001b[0;32mfor\u001b[0m \u001b[0mprober\u001b[0m \u001b[0;32min\u001b[0m \u001b[0mself\u001b[0m\u001b[0;34m.\u001b[0m\u001b[0m_charset_probers\u001b[0m\u001b[0;34m:\u001b[0m\u001b[0;34m\u001b[0m\u001b[0;34m\u001b[0m\u001b[0m\n\u001b[0;32m--> 211\u001b[0;31m                 \u001b[0;32mif\u001b[0m \u001b[0mprober\u001b[0m\u001b[0;34m.\u001b[0m\u001b[0mfeed\u001b[0m\u001b[0;34m(\u001b[0m\u001b[0mbyte_str\u001b[0m\u001b[0;34m)\u001b[0m \u001b[0;34m==\u001b[0m \u001b[0mProbingState\u001b[0m\u001b[0;34m.\u001b[0m\u001b[0mFOUND_IT\u001b[0m\u001b[0;34m:\u001b[0m\u001b[0;34m\u001b[0m\u001b[0;34m\u001b[0m\u001b[0m\n\u001b[0m\u001b[1;32m    212\u001b[0m                     self.result = {'encoding': prober.charset_name,\n\u001b[1;32m    213\u001b[0m                                    \u001b[0;34m'confidence'\u001b[0m\u001b[0;34m:\u001b[0m \u001b[0mprober\u001b[0m\u001b[0;34m.\u001b[0m\u001b[0mget_confidence\u001b[0m\u001b[0;34m(\u001b[0m\u001b[0;34m)\u001b[0m\u001b[0;34m,\u001b[0m\u001b[0;34m\u001b[0m\u001b[0;34m\u001b[0m\u001b[0m\n",
            "\u001b[0;32m/usr/local/lib/python3.7/dist-packages/chardet/charsetgroupprober.py\u001b[0m in \u001b[0;36mfeed\u001b[0;34m(self, byte_str)\u001b[0m\n\u001b[1;32m     69\u001b[0m             \u001b[0;32mif\u001b[0m \u001b[0;32mnot\u001b[0m \u001b[0mprober\u001b[0m\u001b[0;34m.\u001b[0m\u001b[0mactive\u001b[0m\u001b[0;34m:\u001b[0m\u001b[0;34m\u001b[0m\u001b[0;34m\u001b[0m\u001b[0m\n\u001b[1;32m     70\u001b[0m                 \u001b[0;32mcontinue\u001b[0m\u001b[0;34m\u001b[0m\u001b[0;34m\u001b[0m\u001b[0m\n\u001b[0;32m---> 71\u001b[0;31m             \u001b[0mstate\u001b[0m \u001b[0;34m=\u001b[0m \u001b[0mprober\u001b[0m\u001b[0;34m.\u001b[0m\u001b[0mfeed\u001b[0m\u001b[0;34m(\u001b[0m\u001b[0mbyte_str\u001b[0m\u001b[0;34m)\u001b[0m\u001b[0;34m\u001b[0m\u001b[0;34m\u001b[0m\u001b[0m\n\u001b[0m\u001b[1;32m     72\u001b[0m             \u001b[0;32mif\u001b[0m \u001b[0;32mnot\u001b[0m \u001b[0mstate\u001b[0m\u001b[0;34m:\u001b[0m\u001b[0;34m\u001b[0m\u001b[0;34m\u001b[0m\u001b[0m\n\u001b[1;32m     73\u001b[0m                 \u001b[0;32mcontinue\u001b[0m\u001b[0;34m\u001b[0m\u001b[0;34m\u001b[0m\u001b[0m\n",
            "\u001b[0;32m/usr/local/lib/python3.7/dist-packages/chardet/sbcharsetprober.py\u001b[0m in \u001b[0;36mfeed\u001b[0;34m(self, byte_str)\u001b[0m\n\u001b[1;32m     91\u001b[0m             \u001b[0;31m#      _total_char purposes.\u001b[0m\u001b[0;34m\u001b[0m\u001b[0;34m\u001b[0m\u001b[0;34m\u001b[0m\u001b[0m\n\u001b[1;32m     92\u001b[0m             \u001b[0;32mif\u001b[0m \u001b[0morder\u001b[0m \u001b[0;34m<\u001b[0m \u001b[0mCharacterCategory\u001b[0m\u001b[0;34m.\u001b[0m\u001b[0mCONTROL\u001b[0m\u001b[0;34m:\u001b[0m\u001b[0;34m\u001b[0m\u001b[0;34m\u001b[0m\u001b[0m\n\u001b[0;32m---> 93\u001b[0;31m                 \u001b[0mself\u001b[0m\u001b[0;34m.\u001b[0m\u001b[0m_total_char\u001b[0m \u001b[0;34m+=\u001b[0m \u001b[0;36m1\u001b[0m\u001b[0;34m\u001b[0m\u001b[0;34m\u001b[0m\u001b[0m\n\u001b[0m\u001b[1;32m     94\u001b[0m             \u001b[0;32mif\u001b[0m \u001b[0morder\u001b[0m \u001b[0;34m<\u001b[0m \u001b[0mself\u001b[0m\u001b[0;34m.\u001b[0m\u001b[0mSAMPLE_SIZE\u001b[0m\u001b[0;34m:\u001b[0m\u001b[0;34m\u001b[0m\u001b[0;34m\u001b[0m\u001b[0m\n\u001b[1;32m     95\u001b[0m                 \u001b[0mself\u001b[0m\u001b[0;34m.\u001b[0m\u001b[0m_freq_char\u001b[0m \u001b[0;34m+=\u001b[0m \u001b[0;36m1\u001b[0m\u001b[0;34m\u001b[0m\u001b[0;34m\u001b[0m\u001b[0m\n",
            "\u001b[0;31mKeyboardInterrupt\u001b[0m: "
          ]
        }
      ]
    },
    {
      "cell_type": "code",
      "source": [
        "query_pdf(\"https://search.abb.com/library/Download.aspx?DocumentID=2PAA120824D0499&LanguageCode=en&DocumentPartId=&Action=Launch\")"
      ],
      "metadata": {
        "colab": {
          "base_uri": "https://localhost:8080/",
          "height": 310
        },
        "id": "ses3R0KkonRT",
        "outputId": "8dc5309d-121b-483f-a512-ba9e99c6a4fc"
      },
      "execution_count": 111,
      "outputs": [
        {
          "output_type": "error",
          "ename": "KeyboardInterrupt",
          "evalue": "ignored",
          "traceback": [
            "\u001b[0;31m---------------------------------------------------------------------------\u001b[0m",
            "\u001b[0;31mKeyboardInterrupt\u001b[0m                         Traceback (most recent call last)",
            "\u001b[0;32m<ipython-input-111-11aa66d7922d>\u001b[0m in \u001b[0;36m<module>\u001b[0;34m()\u001b[0m\n\u001b[0;32m----> 1\u001b[0;31m \u001b[0mquery_pdf\u001b[0m\u001b[0;34m(\u001b[0m\u001b[0;34m\"https://search.abb.com/library/Download.aspx?DocumentID=2PAA120824D0499&LanguageCode=en&DocumentPartId=&Action=Launch\"\u001b[0m\u001b[0;34m)\u001b[0m\u001b[0;34m\u001b[0m\u001b[0;34m\u001b[0m\u001b[0m\n\u001b[0m",
            "\u001b[0;32m<ipython-input-110-caf6af66a3e5>\u001b[0m in \u001b[0;36mquery_pdf\u001b[0;34m(url_in)\u001b[0m\n\u001b[1;32m      7\u001b[0m     \u001b[0murl\u001b[0m\u001b[0;34m=\u001b[0m\u001b[0murl_in\u001b[0m\u001b[0;34m\u001b[0m\u001b[0;34m\u001b[0m\u001b[0m\n\u001b[1;32m      8\u001b[0m     \u001b[0mres\u001b[0m\u001b[0;34m=\u001b[0m\u001b[0mrequests\u001b[0m\u001b[0;34m.\u001b[0m\u001b[0mget\u001b[0m\u001b[0;34m(\u001b[0m\u001b[0murl\u001b[0m\u001b[0;34m,\u001b[0m\u001b[0mheaders\u001b[0m\u001b[0;34m=\u001b[0m\u001b[0mheader\u001b[0m\u001b[0;34m)\u001b[0m\u001b[0;34m\u001b[0m\u001b[0;34m\u001b[0m\u001b[0m\n\u001b[0;32m----> 9\u001b[0;31m     \u001b[0mprint\u001b[0m\u001b[0;34m(\u001b[0m\u001b[0mres\u001b[0m\u001b[0;34m.\u001b[0m\u001b[0mtext\u001b[0m\u001b[0;34m)\u001b[0m\u001b[0;34m\u001b[0m\u001b[0;34m\u001b[0m\u001b[0m\n\u001b[0m\u001b[1;32m     10\u001b[0m     \u001b[0msoup\u001b[0m\u001b[0;34m=\u001b[0m\u001b[0mBeautifulSoup\u001b[0m\u001b[0;34m(\u001b[0m\u001b[0mres\u001b[0m\u001b[0;34m.\u001b[0m\u001b[0mtext\u001b[0m\u001b[0;34m,\u001b[0m\u001b[0;34m\"html.parser\"\u001b[0m\u001b[0;34m)\u001b[0m\u001b[0;34m\u001b[0m\u001b[0;34m\u001b[0m\u001b[0m\n\u001b[1;32m     11\u001b[0m     \u001b[0murllist_a\u001b[0m\u001b[0;34m=\u001b[0m\u001b[0msoup\u001b[0m\u001b[0;34m.\u001b[0m\u001b[0mfind_all\u001b[0m\u001b[0;34m(\u001b[0m\u001b[0;34m\"iframe\"\u001b[0m\u001b[0;34m)\u001b[0m\u001b[0;34m\u001b[0m\u001b[0;34m\u001b[0m\u001b[0m\n",
            "\u001b[0;32m/usr/local/lib/python3.7/dist-packages/requests/models.py\u001b[0m in \u001b[0;36mtext\u001b[0;34m(self)\u001b[0m\n\u001b[1;32m    856\u001b[0m         \u001b[0;31m# Fallback to auto-detected encoding.\u001b[0m\u001b[0;34m\u001b[0m\u001b[0;34m\u001b[0m\u001b[0;34m\u001b[0m\u001b[0m\n\u001b[1;32m    857\u001b[0m         \u001b[0;32mif\u001b[0m \u001b[0mself\u001b[0m\u001b[0;34m.\u001b[0m\u001b[0mencoding\u001b[0m \u001b[0;32mis\u001b[0m \u001b[0;32mNone\u001b[0m\u001b[0;34m:\u001b[0m\u001b[0;34m\u001b[0m\u001b[0;34m\u001b[0m\u001b[0m\n\u001b[0;32m--> 858\u001b[0;31m             \u001b[0mencoding\u001b[0m \u001b[0;34m=\u001b[0m \u001b[0mself\u001b[0m\u001b[0;34m.\u001b[0m\u001b[0mapparent_encoding\u001b[0m\u001b[0;34m\u001b[0m\u001b[0;34m\u001b[0m\u001b[0m\n\u001b[0m\u001b[1;32m    859\u001b[0m \u001b[0;34m\u001b[0m\u001b[0m\n\u001b[1;32m    860\u001b[0m         \u001b[0;31m# Decode unicode from given encoding.\u001b[0m\u001b[0;34m\u001b[0m\u001b[0;34m\u001b[0m\u001b[0;34m\u001b[0m\u001b[0m\n",
            "\u001b[0;32m/usr/local/lib/python3.7/dist-packages/requests/models.py\u001b[0m in \u001b[0;36mapparent_encoding\u001b[0;34m(self)\u001b[0m\n\u001b[1;32m    726\u001b[0m     \u001b[0;32mdef\u001b[0m \u001b[0mapparent_encoding\u001b[0m\u001b[0;34m(\u001b[0m\u001b[0mself\u001b[0m\u001b[0;34m)\u001b[0m\u001b[0;34m:\u001b[0m\u001b[0;34m\u001b[0m\u001b[0;34m\u001b[0m\u001b[0m\n\u001b[1;32m    727\u001b[0m         \u001b[0;34m\"\"\"The apparent encoding, provided by the chardet library.\"\"\"\u001b[0m\u001b[0;34m\u001b[0m\u001b[0;34m\u001b[0m\u001b[0m\n\u001b[0;32m--> 728\u001b[0;31m         \u001b[0;32mreturn\u001b[0m \u001b[0mchardet\u001b[0m\u001b[0;34m.\u001b[0m\u001b[0mdetect\u001b[0m\u001b[0;34m(\u001b[0m\u001b[0mself\u001b[0m\u001b[0;34m.\u001b[0m\u001b[0mcontent\u001b[0m\u001b[0;34m)\u001b[0m\u001b[0;34m[\u001b[0m\u001b[0;34m'encoding'\u001b[0m\u001b[0;34m]\u001b[0m\u001b[0;34m\u001b[0m\u001b[0;34m\u001b[0m\u001b[0m\n\u001b[0m\u001b[1;32m    729\u001b[0m \u001b[0;34m\u001b[0m\u001b[0m\n\u001b[1;32m    730\u001b[0m     \u001b[0;32mdef\u001b[0m \u001b[0miter_content\u001b[0m\u001b[0;34m(\u001b[0m\u001b[0mself\u001b[0m\u001b[0;34m,\u001b[0m \u001b[0mchunk_size\u001b[0m\u001b[0;34m=\u001b[0m\u001b[0;36m1\u001b[0m\u001b[0;34m,\u001b[0m \u001b[0mdecode_unicode\u001b[0m\u001b[0;34m=\u001b[0m\u001b[0;32mFalse\u001b[0m\u001b[0;34m)\u001b[0m\u001b[0;34m:\u001b[0m\u001b[0;34m\u001b[0m\u001b[0;34m\u001b[0m\u001b[0m\n",
            "\u001b[0;32m/usr/local/lib/python3.7/dist-packages/chardet/__init__.py\u001b[0m in \u001b[0;36mdetect\u001b[0;34m(byte_str)\u001b[0m\n\u001b[1;32m     36\u001b[0m             \u001b[0mbyte_str\u001b[0m \u001b[0;34m=\u001b[0m \u001b[0mbytearray\u001b[0m\u001b[0;34m(\u001b[0m\u001b[0mbyte_str\u001b[0m\u001b[0;34m)\u001b[0m\u001b[0;34m\u001b[0m\u001b[0;34m\u001b[0m\u001b[0m\n\u001b[1;32m     37\u001b[0m     \u001b[0mdetector\u001b[0m \u001b[0;34m=\u001b[0m \u001b[0mUniversalDetector\u001b[0m\u001b[0;34m(\u001b[0m\u001b[0;34m)\u001b[0m\u001b[0;34m\u001b[0m\u001b[0;34m\u001b[0m\u001b[0m\n\u001b[0;32m---> 38\u001b[0;31m     \u001b[0mdetector\u001b[0m\u001b[0;34m.\u001b[0m\u001b[0mfeed\u001b[0m\u001b[0;34m(\u001b[0m\u001b[0mbyte_str\u001b[0m\u001b[0;34m)\u001b[0m\u001b[0;34m\u001b[0m\u001b[0;34m\u001b[0m\u001b[0m\n\u001b[0m\u001b[1;32m     39\u001b[0m     \u001b[0;32mreturn\u001b[0m \u001b[0mdetector\u001b[0m\u001b[0;34m.\u001b[0m\u001b[0mclose\u001b[0m\u001b[0;34m(\u001b[0m\u001b[0;34m)\u001b[0m\u001b[0;34m\u001b[0m\u001b[0;34m\u001b[0m\u001b[0m\n",
            "\u001b[0;32m/usr/local/lib/python3.7/dist-packages/chardet/universaldetector.py\u001b[0m in \u001b[0;36mfeed\u001b[0;34m(self, byte_str)\u001b[0m\n\u001b[1;32m    209\u001b[0m                 \u001b[0mself\u001b[0m\u001b[0;34m.\u001b[0m\u001b[0m_charset_probers\u001b[0m\u001b[0;34m.\u001b[0m\u001b[0mappend\u001b[0m\u001b[0;34m(\u001b[0m\u001b[0mLatin1Prober\u001b[0m\u001b[0;34m(\u001b[0m\u001b[0;34m)\u001b[0m\u001b[0;34m)\u001b[0m\u001b[0;34m\u001b[0m\u001b[0;34m\u001b[0m\u001b[0m\n\u001b[1;32m    210\u001b[0m             \u001b[0;32mfor\u001b[0m \u001b[0mprober\u001b[0m \u001b[0;32min\u001b[0m \u001b[0mself\u001b[0m\u001b[0;34m.\u001b[0m\u001b[0m_charset_probers\u001b[0m\u001b[0;34m:\u001b[0m\u001b[0;34m\u001b[0m\u001b[0;34m\u001b[0m\u001b[0m\n\u001b[0;32m--> 211\u001b[0;31m                 \u001b[0;32mif\u001b[0m \u001b[0mprober\u001b[0m\u001b[0;34m.\u001b[0m\u001b[0mfeed\u001b[0m\u001b[0;34m(\u001b[0m\u001b[0mbyte_str\u001b[0m\u001b[0;34m)\u001b[0m \u001b[0;34m==\u001b[0m \u001b[0mProbingState\u001b[0m\u001b[0;34m.\u001b[0m\u001b[0mFOUND_IT\u001b[0m\u001b[0;34m:\u001b[0m\u001b[0;34m\u001b[0m\u001b[0;34m\u001b[0m\u001b[0m\n\u001b[0m\u001b[1;32m    212\u001b[0m                     self.result = {'encoding': prober.charset_name,\n\u001b[1;32m    213\u001b[0m                                    \u001b[0;34m'confidence'\u001b[0m\u001b[0;34m:\u001b[0m \u001b[0mprober\u001b[0m\u001b[0;34m.\u001b[0m\u001b[0mget_confidence\u001b[0m\u001b[0;34m(\u001b[0m\u001b[0;34m)\u001b[0m\u001b[0;34m,\u001b[0m\u001b[0;34m\u001b[0m\u001b[0;34m\u001b[0m\u001b[0m\n",
            "\u001b[0;32m/usr/local/lib/python3.7/dist-packages/chardet/charsetgroupprober.py\u001b[0m in \u001b[0;36mfeed\u001b[0;34m(self, byte_str)\u001b[0m\n\u001b[1;32m     69\u001b[0m             \u001b[0;32mif\u001b[0m \u001b[0;32mnot\u001b[0m \u001b[0mprober\u001b[0m\u001b[0;34m.\u001b[0m\u001b[0mactive\u001b[0m\u001b[0;34m:\u001b[0m\u001b[0;34m\u001b[0m\u001b[0;34m\u001b[0m\u001b[0m\n\u001b[1;32m     70\u001b[0m                 \u001b[0;32mcontinue\u001b[0m\u001b[0;34m\u001b[0m\u001b[0;34m\u001b[0m\u001b[0m\n\u001b[0;32m---> 71\u001b[0;31m             \u001b[0mstate\u001b[0m \u001b[0;34m=\u001b[0m \u001b[0mprober\u001b[0m\u001b[0;34m.\u001b[0m\u001b[0mfeed\u001b[0m\u001b[0;34m(\u001b[0m\u001b[0mbyte_str\u001b[0m\u001b[0;34m)\u001b[0m\u001b[0;34m\u001b[0m\u001b[0;34m\u001b[0m\u001b[0m\n\u001b[0m\u001b[1;32m     72\u001b[0m             \u001b[0;32mif\u001b[0m \u001b[0;32mnot\u001b[0m \u001b[0mstate\u001b[0m\u001b[0;34m:\u001b[0m\u001b[0;34m\u001b[0m\u001b[0;34m\u001b[0m\u001b[0m\n\u001b[1;32m     73\u001b[0m                 \u001b[0;32mcontinue\u001b[0m\u001b[0;34m\u001b[0m\u001b[0;34m\u001b[0m\u001b[0m\n",
            "\u001b[0;32m/usr/local/lib/python3.7/dist-packages/chardet/sbcharsetprober.py\u001b[0m in \u001b[0;36mfeed\u001b[0;34m(self, byte_str)\u001b[0m\n\u001b[1;32m     77\u001b[0m     \u001b[0;32mdef\u001b[0m \u001b[0mfeed\u001b[0m\u001b[0;34m(\u001b[0m\u001b[0mself\u001b[0m\u001b[0;34m,\u001b[0m \u001b[0mbyte_str\u001b[0m\u001b[0;34m)\u001b[0m\u001b[0;34m:\u001b[0m\u001b[0;34m\u001b[0m\u001b[0;34m\u001b[0m\u001b[0m\n\u001b[1;32m     78\u001b[0m         \u001b[0;32mif\u001b[0m \u001b[0;32mnot\u001b[0m \u001b[0mself\u001b[0m\u001b[0;34m.\u001b[0m\u001b[0m_model\u001b[0m\u001b[0;34m[\u001b[0m\u001b[0;34m'keep_english_letter'\u001b[0m\u001b[0;34m]\u001b[0m\u001b[0;34m:\u001b[0m\u001b[0;34m\u001b[0m\u001b[0;34m\u001b[0m\u001b[0m\n\u001b[0;32m---> 79\u001b[0;31m             \u001b[0mbyte_str\u001b[0m \u001b[0;34m=\u001b[0m \u001b[0mself\u001b[0m\u001b[0;34m.\u001b[0m\u001b[0mfilter_international_words\u001b[0m\u001b[0;34m(\u001b[0m\u001b[0mbyte_str\u001b[0m\u001b[0;34m)\u001b[0m\u001b[0;34m\u001b[0m\u001b[0;34m\u001b[0m\u001b[0m\n\u001b[0m\u001b[1;32m     80\u001b[0m         \u001b[0;32mif\u001b[0m \u001b[0;32mnot\u001b[0m \u001b[0mbyte_str\u001b[0m\u001b[0;34m:\u001b[0m\u001b[0;34m\u001b[0m\u001b[0;34m\u001b[0m\u001b[0m\n\u001b[1;32m     81\u001b[0m             \u001b[0;32mreturn\u001b[0m \u001b[0mself\u001b[0m\u001b[0;34m.\u001b[0m\u001b[0mstate\u001b[0m\u001b[0;34m\u001b[0m\u001b[0;34m\u001b[0m\u001b[0m\n",
            "\u001b[0;32m/usr/local/lib/python3.7/dist-packages/chardet/charsetprober.py\u001b[0m in \u001b[0;36mfilter_international_words\u001b[0;34m(buf)\u001b[0m\n\u001b[1;32m     85\u001b[0m         \u001b[0;31m# the end.\u001b[0m\u001b[0;34m\u001b[0m\u001b[0;34m\u001b[0m\u001b[0;34m\u001b[0m\u001b[0m\n\u001b[1;32m     86\u001b[0m         words = re.findall(b'[a-zA-Z]*[\\x80-\\xFF]+[a-zA-Z]*[^a-zA-Z\\x80-\\xFF]?',\n\u001b[0;32m---> 87\u001b[0;31m                            buf)\n\u001b[0m\u001b[1;32m     88\u001b[0m \u001b[0;34m\u001b[0m\u001b[0m\n\u001b[1;32m     89\u001b[0m         \u001b[0;32mfor\u001b[0m \u001b[0mword\u001b[0m \u001b[0;32min\u001b[0m \u001b[0mwords\u001b[0m\u001b[0;34m:\u001b[0m\u001b[0;34m\u001b[0m\u001b[0;34m\u001b[0m\u001b[0m\n",
            "\u001b[0;32m/usr/lib/python3.7/re.py\u001b[0m in \u001b[0;36mfindall\u001b[0;34m(pattern, string, flags)\u001b[0m\n\u001b[1;32m    223\u001b[0m \u001b[0;34m\u001b[0m\u001b[0m\n\u001b[1;32m    224\u001b[0m     Empty matches are included in the result.\"\"\"\n\u001b[0;32m--> 225\u001b[0;31m     \u001b[0;32mreturn\u001b[0m \u001b[0m_compile\u001b[0m\u001b[0;34m(\u001b[0m\u001b[0mpattern\u001b[0m\u001b[0;34m,\u001b[0m \u001b[0mflags\u001b[0m\u001b[0;34m)\u001b[0m\u001b[0;34m.\u001b[0m\u001b[0mfindall\u001b[0m\u001b[0;34m(\u001b[0m\u001b[0mstring\u001b[0m\u001b[0;34m)\u001b[0m\u001b[0;34m\u001b[0m\u001b[0;34m\u001b[0m\u001b[0m\n\u001b[0m\u001b[1;32m    226\u001b[0m \u001b[0;34m\u001b[0m\u001b[0m\n\u001b[1;32m    227\u001b[0m \u001b[0;32mdef\u001b[0m \u001b[0mfinditer\u001b[0m\u001b[0;34m(\u001b[0m\u001b[0mpattern\u001b[0m\u001b[0;34m,\u001b[0m \u001b[0mstring\u001b[0m\u001b[0;34m,\u001b[0m \u001b[0mflags\u001b[0m\u001b[0;34m=\u001b[0m\u001b[0;36m0\u001b[0m\u001b[0;34m)\u001b[0m\u001b[0;34m:\u001b[0m\u001b[0;34m\u001b[0m\u001b[0;34m\u001b[0m\u001b[0m\n",
            "\u001b[0;31mKeyboardInterrupt\u001b[0m: "
          ]
        }
      ]
    }
  ]
}