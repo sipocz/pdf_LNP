{
 "cells": [
  {
   "cell_type": "code",
   "execution_count": 4,
   "metadata": {},
   "outputs": [],
   "source": [
    "# AI searc engine \n",
    "#Dev by S.L.\n",
    "# -------------\n",
    "# 2022.02.13.\n",
    "# -------------\n",
    "\n",
    "# Dependencies:\n",
    "# platform\n",
    "# gensim\n"
   ]
  },
  {
   "cell_type": "code",
   "execution_count": 5,
   "metadata": {},
   "outputs": [],
   "source": [
    "import platform\n",
    "from gensim.models import Doc2Vec\n"
   ]
  },
  {
   "cell_type": "code",
   "execution_count": 6,
   "metadata": {},
   "outputs": [],
   "source": [
    "\n",
    "os_str=platform.platform()\n",
    "if \"Windows\" in os_str:\n",
    "    _OS_=\"windows\"\n",
    "else:\n",
    "    _OS_=\"linux\""
   ]
  },
  {
   "cell_type": "code",
   "execution_count": 7,
   "metadata": {},
   "outputs": [],
   "source": [
    "if _OS_== \"linux\":\n",
    "    _fname_=\"/home/sipocz/drive/ABB_sentences.txt\"\n",
    "    _basepath_=\"/home/sipocz/drive/\"\n",
    "else:\n",
    "    _fname_=\"C:/Users/sipocz/Downloads/ABB_sentences.txt\"\n",
    "    _basepath_=\"C:/Users/sipocz/Downloads/\"\n",
    "    _modelpath_=\"C:/PDF_NLP_MODELS/\"\n",
    "    \n"
   ]
  },
  {
   "cell_type": "code",
   "execution_count": 8,
   "metadata": {},
   "outputs": [],
   "source": [
    "doc_model=Doc2Vec.load(_modelpath_+\"ABB_paragraph.model\")"
   ]
  },
  {
   "cell_type": "code",
   "execution_count": 22,
   "metadata": {},
   "outputs": [],
   "source": [
    "def AI_searching(search_text:str, topn:int=20):\n",
    "    search_text=search_text.lower()\n",
    "    search_list=search_text.split(\" \")\n",
    "    print(f\"input vector:  {search_list}\")\n",
    "    model1=doc_model.infer_vector(search_list,epochs=1220)\n",
    "    ans=doc_model.dv.similar_by_vector(model1,topn=topn)\n",
    "    # debug\n",
    "    # print(ans)\n",
    "    for i in range(topn):\n",
    "        print(f\"{i:2}-->similarity:{ans[i][1]*100:3.3} --> index: {ans[i][0]}\")\n",
    "    # end debug\n",
    "    return(ans)\n"
   ]
  },
  {
   "cell_type": "code",
   "execution_count": 33,
   "metadata": {},
   "outputs": [
    {
     "name": "stdout",
     "output_type": "stream",
     "text": [
      "input vector:  ['abb', 'fuzzy', 'logic', 'control', 'configuration']\n",
      " 0-->similarity:68.7 --> index: 1077874\n",
      " 1-->similarity:65.3 --> index: 481941\n",
      " 2-->similarity:64.8 --> index: 271509\n",
      " 3-->similarity:63.3 --> index: 340288\n",
      " 4-->similarity:62.8 --> index: 48610\n",
      " 5-->similarity:62.8 --> index: 340077\n",
      " 6-->similarity:62.6 --> index: 136434\n",
      " 7-->similarity:62.6 --> index: 269010\n",
      " 8-->similarity:62.4 --> index: 958779\n",
      " 9-->similarity:62.3 --> index: 369049\n",
      "10-->similarity:61.8 --> index: 958082\n",
      "11-->similarity:61.4 --> index: 958837\n",
      "12-->similarity:61.4 --> index: 876965\n",
      "13-->similarity:61.3 --> index: 634398\n",
      "14-->similarity:60.6 --> index: 342562\n",
      "15-->similarity:60.6 --> index: 999219\n",
      "16-->similarity:60.4 --> index: 999731\n",
      "17-->similarity:60.4 --> index: 999058\n",
      "18-->similarity:60.4 --> index: 668081\n",
      "19-->similarity:60.4 --> index: 1000215\n"
     ]
    }
   ],
   "source": [
    "answer=AI_searching(\"ABB Fuzzy Logic control configuration\")"
   ]
  }
 ],
 "metadata": {
  "interpreter": {
   "hash": "5ce7801274b0b37dd0fd5d67dc711627c3fd25ac6676442e98aec8c24f76fbd7"
  },
  "kernelspec": {
   "display_name": "Python 3.8.6 64-bit",
   "language": "python",
   "name": "python3"
  },
  "language_info": {
   "codemirror_mode": {
    "name": "ipython",
    "version": 3
   },
   "file_extension": ".py",
   "mimetype": "text/x-python",
   "name": "python",
   "nbconvert_exporter": "python",
   "pygments_lexer": "ipython3",
   "version": "3.8.6"
  },
  "orig_nbformat": 4
 },
 "nbformat": 4,
 "nbformat_minor": 2
}
