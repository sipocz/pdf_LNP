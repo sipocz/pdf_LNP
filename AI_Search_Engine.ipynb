{
 "cells": [
  {
   "cell_type": "code",
   "execution_count": 4,
   "metadata": {},
   "outputs": [],
   "source": [
    "# AI searc engine \n",
    "#Dev by S.L.\n",
    "# -------------\n",
    "# 2022.02.13.\n",
    "# -------------\n",
    "\n",
    "# Dependencies:\n",
    "# platform\n",
    "# gensim\n"
   ]
  },
  {
   "cell_type": "code",
   "execution_count": 5,
   "metadata": {},
   "outputs": [],
   "source": [
    "import platform\n",
    "from gensim.models import Doc2Vec\n"
   ]
  },
  {
   "cell_type": "code",
   "execution_count": 6,
   "metadata": {},
   "outputs": [],
   "source": [
    "\n",
    "os_str=platform.platform()\n",
    "if \"Windows\" in os_str:\n",
    "    _OS_=\"windows\"\n",
    "else:\n",
    "    _OS_=\"linux\""
   ]
  },
  {
   "cell_type": "code",
   "execution_count": 7,
   "metadata": {},
   "outputs": [],
   "source": [
    "if _OS_== \"linux\":\n",
    "    _fname_=\"/home/sipocz/drive/ABB_sentences.txt\"\n",
    "    _basepath_=\"/home/sipocz/drive/\"\n",
    "else:\n",
    "    _fname_=\"C:/Users/sipocz/Downloads/ABB_sentences.txt\"\n",
    "    _basepath_=\"C:/Users/sipocz/Downloads/\"\n",
    "    _modelpath_=\"C:/PDF_NLP_MODELS/\"\n",
    "    \n"
   ]
  },
  {
   "cell_type": "code",
   "execution_count": 8,
   "metadata": {},
   "outputs": [],
   "source": [
    "doc_model=Doc2Vec.load(_modelpath_+\"ABB_paragraph.model\")"
   ]
  },
  {
   "cell_type": "code",
   "execution_count": 22,
   "metadata": {},
   "outputs": [],
   "source": [
    "def AI_searching(search_text:str, topn:int=20):\n",
    "    search_text=search_text.lower()\n",
    "    search_list=search_text.split(\" \")\n",
    "    print(f\"input vector:  {search_list}\")\n",
    "    model1=doc_model.infer_vector(search_list,epochs=1220)\n",
    "    ans=doc_model.dv.similar_by_vector(model1,topn=topn)\n",
    "    # debug\n",
    "    # print(ans)\n",
    "    for i in range(topn):\n",
    "        print(f\"{i:2}-->similarity:{ans[i][1]*100:3.3} --> index: {ans[i][0]}\")\n",
    "    # end debug\n",
    "    return(ans)\n"
   ]
  },
  {
   "cell_type": "code",
   "execution_count": 27,
   "metadata": {},
   "outputs": [
    {
     "name": "stdout",
     "output_type": "stream",
     "text": [
      "input vector:  ['abb', 'fuzzy', 'logic', 'control', 'configuration']\n",
      " 0-->similarity:67.7 --> index: 1077874\n",
      " 1-->similarity:64.2 --> index: 481941\n",
      " 2-->similarity:63.9 --> index: 271509\n",
      " 3-->similarity:63.5 --> index: 48610\n",
      " 4-->similarity:62.3 --> index: 340288\n",
      " 5-->similarity:61.9 --> index: 958779\n",
      " 6-->similarity:61.3 --> index: 269010\n",
      " 7-->similarity:61.3 --> index: 621312\n",
      " 8-->similarity:61.1 --> index: 369049\n",
      " 9-->similarity:61.1 --> index: 340077\n",
      "10-->similarity:60.9 --> index: 136434\n",
      "11-->similarity:60.6 --> index: 958837\n",
      "12-->similarity:60.5 --> index: 7740\n",
      "13-->similarity:60.3 --> index: 620701\n",
      "14-->similarity:60.2 --> index: 876965\n",
      "15-->similarity:60.0 --> index: 999219\n",
      "16-->similarity:60.0 --> index: 634398\n",
      "17-->similarity:59.8 --> index: 547651\n",
      "18-->similarity:59.8 --> index: 621757\n",
      "19-->similarity:59.7 --> index: 97137\n"
     ]
    }
   ],
   "source": [
    "answer=AI_searching(\"ABB Fuzzy Logic control configuration\")"
   ]
  }
 ],
 "metadata": {
  "interpreter": {
   "hash": "5ce7801274b0b37dd0fd5d67dc711627c3fd25ac6676442e98aec8c24f76fbd7"
  },
  "kernelspec": {
   "display_name": "Python 3.8.6 64-bit",
   "language": "python",
   "name": "python3"
  },
  "language_info": {
   "codemirror_mode": {
    "name": "ipython",
    "version": 3
   },
   "file_extension": ".py",
   "mimetype": "text/x-python",
   "name": "python",
   "nbconvert_exporter": "python",
   "pygments_lexer": "ipython3",
   "version": "3.8.6"
  },
  "orig_nbformat": 4
 },
 "nbformat": 4,
 "nbformat_minor": 2
}
