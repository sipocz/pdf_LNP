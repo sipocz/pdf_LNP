{
 "cells": [
  {
   "cell_type": "code",
   "execution_count": 1,
   "metadata": {},
   "outputs": [],
   "source": [
    "import mariadb\n",
    "from os import getenv"
   ]
  },
  {
   "cell_type": "code",
   "execution_count": 2,
   "metadata": {},
   "outputs": [
    {
     "ename": "SyntaxError",
     "evalue": "invalid syntax (<ipython-input-2-46d7945f20ce>, line 36)",
     "output_type": "error",
     "traceback": [
      "\u001b[1;36m  File \u001b[1;32m\"<ipython-input-2-46d7945f20ce>\"\u001b[1;36m, line \u001b[1;32m36\u001b[0m\n\u001b[1;33m    cur.\u001b[0m\n\u001b[1;37m        ^\u001b[0m\n\u001b[1;31mSyntaxError\u001b[0m\u001b[1;31m:\u001b[0m invalid syntax\n"
     ]
    }
   ],
   "source": [
    "class MariaDbSupport:\n",
    "    def __init__(self,user,pwd,host,database,port=3306):\n",
    "        \n",
    "        self.user=user\n",
    "        self.pwd=pwd\n",
    "        self.host=host\n",
    "        self.database=database\n",
    "        self.port=port\n",
    "        self.dms=False\n",
    "    \n",
    "    def debug_mode(self,value:bool=True):\n",
    "        '''\n",
    "        Az osztályt debug üzemmódba teszi.(default=True) Több kiírás jelenik neg a kimeneten \n",
    "            ha bemeneti értéke False: a debug móde kikapcsolásra kerül\n",
    "            az osztály létrehozásakor a debug mód ki van kapcsolva \n",
    "        '''\n",
    "        self.dms=value #Debug_mode_state\n",
    "\n",
    "    \n",
    "    \n",
    "    def upload_from_csv(self,db:str,tabée:str,fname:str):\n",
    "        \n",
    "        '''\n",
    "        MONGODB adatbázisba collection feltöltése fname csv-ből\n",
    "        '''\n",
    "        if self.dms:\n",
    "            print(\"Upload_start\")\n",
    "        import mariadb\n",
    "        import pandas as pd\n",
    "    \n",
    "        conn=mariadb.connect(user=self.user,password=self.pwd,host=self.host,port=self.port,database=self.database)\n",
    "        cur=conn.cursor()\n",
    "        \n",
    "        cur.execute(\"SELECT * from ABB_file_location\")\n",
    "\n",
    "        cur.\n",
    "        '''\n",
    "        #print(df.head())\n",
    "        df=pd.read_csv(fname)\n",
    "        if self.dms:\n",
    "            print(df.head())\n",
    "        list_of_dict=df.to_dict('records')\n",
    "        col.insert_many(list_of_dict)\n",
    "        if self.dms:\n",
    "            print(\"exit upload\")\n",
    "        return(col)\n",
    "        '''"
   ]
  },
  {
   "cell_type": "code",
   "execution_count": 106,
   "metadata": {},
   "outputs": [],
   "source": [
    "import mariadb\n",
    "import pandas as pd\n",
    "fname=\"E:/corpus/_META_ABB_sentences_20220313_233000.txt\"\n",
    "\n",
    "df=pd.read_csv(fname)"
   ]
  },
  {
   "cell_type": "code",
   "execution_count": 107,
   "metadata": {},
   "outputs": [
    {
     "data": {
      "text/html": [
       "<div>\n",
       "<style scoped>\n",
       "    .dataframe tbody tr th:only-of-type {\n",
       "        vertical-align: middle;\n",
       "    }\n",
       "\n",
       "    .dataframe tbody tr th {\n",
       "        vertical-align: top;\n",
       "    }\n",
       "\n",
       "    .dataframe thead th {\n",
       "        text-align: right;\n",
       "    }\n",
       "</style>\n",
       "<table border=\"1\" class=\"dataframe\">\n",
       "  <thead>\n",
       "    <tr style=\"text-align: right;\">\n",
       "      <th></th>\n",
       "      <th>_id</th>\n",
       "      <th>index</th>\n",
       "      <th>fname</th>\n",
       "      <th>page</th>\n",
       "      <th>pos0</th>\n",
       "      <th>pos1</th>\n",
       "      <th>pos2</th>\n",
       "      <th>pos3</th>\n",
       "    </tr>\n",
       "  </thead>\n",
       "  <tbody>\n",
       "    <tr>\n",
       "      <th>0</th>\n",
       "      <td>0</td>\n",
       "      <td>0</td>\n",
       "      <td>003_IA_Brochure_Leah N. Oxford_OP_20190624_dfw</td>\n",
       "      <td>0</td>\n",
       "      <td>46</td>\n",
       "      <td>109</td>\n",
       "      <td>457</td>\n",
       "      <td>189</td>\n",
       "    </tr>\n",
       "    <tr>\n",
       "      <th>1</th>\n",
       "      <td>1</td>\n",
       "      <td>1</td>\n",
       "      <td>003_IA_Brochure_Leah N. Oxford_OP_20190624_dfw</td>\n",
       "      <td>0</td>\n",
       "      <td>376</td>\n",
       "      <td>216</td>\n",
       "      <td>596</td>\n",
       "      <td>373</td>\n",
       "    </tr>\n",
       "    <tr>\n",
       "      <th>2</th>\n",
       "      <td>2</td>\n",
       "      <td>2</td>\n",
       "      <td>003_IA_Brochure_Leah N. Oxford_OP_20190624_dfw</td>\n",
       "      <td>0</td>\n",
       "      <td>140</td>\n",
       "      <td>448</td>\n",
       "      <td>362</td>\n",
       "      <td>528</td>\n",
       "    </tr>\n",
       "    <tr>\n",
       "      <th>3</th>\n",
       "      <td>3</td>\n",
       "      <td>3</td>\n",
       "      <td>003_IA_Brochure_Leah N. Oxford_OP_20190624_dfw</td>\n",
       "      <td>0</td>\n",
       "      <td>140</td>\n",
       "      <td>544</td>\n",
       "      <td>364</td>\n",
       "      <td>588</td>\n",
       "    </tr>\n",
       "    <tr>\n",
       "      <th>4</th>\n",
       "      <td>4</td>\n",
       "      <td>4</td>\n",
       "      <td>003_IA_Brochure_Leah N. Oxford_OP_20190624_dfw</td>\n",
       "      <td>0</td>\n",
       "      <td>140</td>\n",
       "      <td>604</td>\n",
       "      <td>360</td>\n",
       "      <td>696</td>\n",
       "    </tr>\n",
       "  </tbody>\n",
       "</table>\n",
       "</div>"
      ],
      "text/plain": [
       "   _id  index                                           fname  page  pos0  \\\n",
       "0    0      0  003_IA_Brochure_Leah N. Oxford_OP_20190624_dfw     0    46   \n",
       "1    1      1  003_IA_Brochure_Leah N. Oxford_OP_20190624_dfw     0   376   \n",
       "2    2      2  003_IA_Brochure_Leah N. Oxford_OP_20190624_dfw     0   140   \n",
       "3    3      3  003_IA_Brochure_Leah N. Oxford_OP_20190624_dfw     0   140   \n",
       "4    4      4  003_IA_Brochure_Leah N. Oxford_OP_20190624_dfw     0   140   \n",
       "\n",
       "   pos1  pos2  pos3  \n",
       "0   109   457   189  \n",
       "1   216   596   373  \n",
       "2   448   362   528  \n",
       "3   544   364   588  \n",
       "4   604   360   696  "
      ]
     },
     "execution_count": 107,
     "metadata": {},
     "output_type": "execute_result"
    }
   ],
   "source": [
    "df.head()"
   ]
  },
  {
   "cell_type": "code",
   "execution_count": 108,
   "metadata": {},
   "outputs": [],
   "source": [
    "df.columns=[\"_id\",\"index1\",\"fname\",\"page\",\"pos0\",\"pos1\",\"pos2\",\"pos3\"]"
   ]
  },
  {
   "cell_type": "code",
   "execution_count": 109,
   "metadata": {},
   "outputs": [],
   "source": [
    "\n",
    "maria_usr=getenv('maria_nlp_user')\n",
    "maria_pwd=getenv('maria_nlp_pwd')\n",
    "maria_host=\"217.144.54.147\"\n",
    "database=\"NLP_ABB\"\n"
   ]
  },
  {
   "cell_type": "code",
   "execution_count": 110,
   "metadata": {},
   "outputs": [],
   "source": [
    "list_of_dict=df.to_dict('records')"
   ]
  },
  {
   "cell_type": "code",
   "execution_count": 111,
   "metadata": {},
   "outputs": [
    {
     "name": "stdout",
     "output_type": "stream",
     "text": [
      "1728782\n"
     ]
    }
   ],
   "source": [
    "print(len(list_of_dict))"
   ]
  },
  {
   "cell_type": "code",
   "execution_count": 113,
   "metadata": {},
   "outputs": [
    {
     "data": {
      "text/plain": [
       "{'_id': 1,\n",
       " 'index1': 1,\n",
       " 'fname': '003_IA_Brochure_Leah N. Oxford_OP_20190624_dfw',\n",
       " 'page': 0,\n",
       " 'pos0': 376,\n",
       " 'pos1': 216,\n",
       " 'pos2': 596,\n",
       " 'pos3': 373}"
      ]
     },
     "execution_count": 113,
     "metadata": {},
     "output_type": "execute_result"
    }
   ],
   "source": [
    "list_of_dict[1]"
   ]
  },
  {
   "cell_type": "code",
   "execution_count": null,
   "metadata": {},
   "outputs": [],
   "source": []
  },
  {
   "cell_type": "code",
   "execution_count": 114,
   "metadata": {},
   "outputs": [],
   "source": [
    "conn=mariadb.connect(user=maria_usr,password=maria_pwd,host=maria_host,port=3306,database=database)"
   ]
  },
  {
   "cell_type": "code",
   "execution_count": 115,
   "metadata": {},
   "outputs": [],
   "source": [
    "'''\n",
    "cur=conn.cursor()\n",
    "cur.execute(\"delete from ABB_pdf \")\n",
    "conn.commit()\n",
    "'''"
   ]
  },
  {
   "cell_type": "code",
   "execution_count": 116,
   "metadata": {},
   "outputs": [],
   "source": [
    "cur.execute(\"SELECT * from ABB_pdf \")"
   ]
  },
  {
   "cell_type": "code",
   "execution_count": 117,
   "metadata": {},
   "outputs": [],
   "source": [
    "cur.next()"
   ]
  },
  {
   "cell_type": "code",
   "execution_count": 118,
   "metadata": {},
   "outputs": [],
   "source": [
    "description=cur.description\n",
    "cols=[i[0] for i in  description]\n",
    "cols_str=str(cols).replace(\"'\",\"\")\n",
    "cols_str=str(cols_str).replace(\"[\",\"(\").replace(\"]\",\")\")\n"
   ]
  },
  {
   "cell_type": "code",
   "execution_count": 119,
   "metadata": {},
   "outputs": [
    {
     "data": {
      "text/plain": [
       "'(_id, index1, fname, page, pos0, pos1, pos2, pos3)'"
      ]
     },
     "execution_count": 119,
     "metadata": {},
     "output_type": "execute_result"
    }
   ],
   "source": [
    "cols_str"
   ]
  },
  {
   "cell_type": "code",
   "execution_count": 120,
   "metadata": {},
   "outputs": [
    {
     "data": {
      "text/plain": [
       "['_id', 'index1', 'fname', 'page', 'pos0', 'pos1', 'pos2', 'pos3']"
      ]
     },
     "execution_count": 120,
     "metadata": {},
     "output_type": "execute_result"
    }
   ],
   "source": [
    "cols"
   ]
  },
  {
   "cell_type": "code",
   "execution_count": 121,
   "metadata": {},
   "outputs": [],
   "source": [
    "i=1\n",
    "o=str([list_of_dict[i][k] for k in cols]).replace(\"[\",\"(\").replace(\"]\",\")\")"
   ]
  },
  {
   "cell_type": "code",
   "execution_count": 122,
   "metadata": {},
   "outputs": [
    {
     "data": {
      "text/plain": [
       "\"(1, 1, '003_IA_Brochure_Leah N. Oxford_OP_20190624_dfw', 0, 376, 216, 596, 373)\""
      ]
     },
     "execution_count": 122,
     "metadata": {},
     "output_type": "execute_result"
    }
   ],
   "source": [
    "o"
   ]
  },
  {
   "cell_type": "code",
   "execution_count": 123,
   "metadata": {},
   "outputs": [
    {
     "name": "stdout",
     "output_type": "stream",
     "text": [
      "0_ _10000_ _20000_ _30000_ _40000_ _50000_ _60000_ _70000_ _80000_ _90000_ _100000_ _110000_ _120000_ _130000_ _140000_ _150000_ _160000_ _170000_ _180000_ _190000_ _200000_ _210000_ _220000_ _230000_ _240000_ _250000_ _260000_ _270000_ _280000_ _290000_ _300000_ _310000_ _320000_ _330000_ _340000_ _350000_ _360000_ _370000_ _380000_ _390000_ _400000_ _410000_ _420000_ _430000_ _440000_ _450000_ _460000_ _470000_ _480000_ _490000_ _500000_ _510000_ _520000_ _530000_ _540000_ _550000_ _560000_ _570000_ _580000_ _"
     ]
    }
   ],
   "source": [
    "for i,_ in enumerate(list_of_dict):\n",
    "    table=\"ABB_pdf\"\n",
    "    o=str([list_of_dict[i][k] for k in cols]).replace(\"[\",\"(\").replace(\"]\",\")\")\n",
    "    sql_cmd=f\"INSERT INTO {table} {cols_str} VALUES \"+o\n",
    "    \n",
    "    cur.execute(sql_cmd)\n",
    "    if i % 10000==0:\n",
    "        conn.commit()\n",
    "        print(i, end=\"_ _\")"
   ]
  },
  {
   "cell_type": "code",
   "execution_count": 122,
   "metadata": {},
   "outputs": [],
   "source": []
  },
  {
   "cell_type": "code",
   "execution_count": 145,
   "metadata": {},
   "outputs": [
    {
     "data": {
      "text/plain": [
       "\"INSERT INTO ABB_pdf (_id, index1, fname, page, pos0, pos1, pos2, pos3) VALUES ('621d11a3d90b5e626f8f7149', 1, '003_IA_Brochure_Leah N. Oxford_OP_20190624_dfw', 0, 46.20380020141602, 109.82373809814452, 457.7418212890625, 189.82373046875)\""
      ]
     },
     "execution_count": 145,
     "metadata": {},
     "output_type": "execute_result"
    }
   ],
   "source": [
    "sql_cmd"
   ]
  },
  {
   "cell_type": "code",
   "execution_count": 147,
   "metadata": {},
   "outputs": [],
   "source": []
  },
  {
   "cell_type": "code",
   "execution_count": 13,
   "metadata": {},
   "outputs": [],
   "source": []
  },
  {
   "cell_type": "code",
   "execution_count": null,
   "metadata": {},
   "outputs": [],
   "source": []
  },
  {
   "cell_type": "code",
   "execution_count": 24,
   "metadata": {},
   "outputs": [],
   "source": [
    "conn.commit()"
   ]
  },
  {
   "cell_type": "code",
   "execution_count": 25,
   "metadata": {},
   "outputs": [],
   "source": [
    "conn.close()"
   ]
  }
 ],
 "metadata": {
  "interpreter": {
   "hash": "5ce7801274b0b37dd0fd5d67dc711627c3fd25ac6676442e98aec8c24f76fbd7"
  },
  "kernelspec": {
   "display_name": "Python 3.8.6 64-bit",
   "language": "python",
   "name": "python3"
  },
  "language_info": {
   "codemirror_mode": {
    "name": "ipython",
    "version": 3
   },
   "file_extension": ".py",
   "mimetype": "text/x-python",
   "name": "python",
   "nbconvert_exporter": "python",
   "pygments_lexer": "ipython3",
   "version": "3.8.6"
  },
  "orig_nbformat": 4
 },
 "nbformat": 4,
 "nbformat_minor": 2
}
