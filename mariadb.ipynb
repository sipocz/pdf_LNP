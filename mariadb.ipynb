{
 "cells": [
  {
   "cell_type": "code",
   "execution_count": 1,
   "metadata": {},
   "outputs": [],
   "source": [
    "import mariadb\n",
    "from os import getenv"
   ]
  },
  {
   "cell_type": "code",
   "execution_count": 2,
   "metadata": {},
   "outputs": [
    {
     "ename": "SyntaxError",
     "evalue": "invalid syntax (<ipython-input-2-46d7945f20ce>, line 36)",
     "output_type": "error",
     "traceback": [
      "\u001b[1;36m  File \u001b[1;32m\"<ipython-input-2-46d7945f20ce>\"\u001b[1;36m, line \u001b[1;32m36\u001b[0m\n\u001b[1;33m    cur.\u001b[0m\n\u001b[1;37m        ^\u001b[0m\n\u001b[1;31mSyntaxError\u001b[0m\u001b[1;31m:\u001b[0m invalid syntax\n"
     ]
    }
   ],
   "source": [
    "class MariaDbSupport:\n",
    "    def __init__(self,user,pwd,host,database,port=3306):\n",
    "        \n",
    "        self.user=user\n",
    "        self.pwd=pwd\n",
    "        self.host=host\n",
    "        self.database=database\n",
    "        self.port=port\n",
    "        self.dms=False\n",
    "    \n",
    "    def debug_mode(self,value:bool=True):\n",
    "        '''\n",
    "        Az osztályt debug üzemmódba teszi.(default=True) Több kiírás jelenik neg a kimeneten \n",
    "            ha bemeneti értéke False: a debug móde kikapcsolásra kerül\n",
    "            az osztály létrehozásakor a debug mód ki van kapcsolva \n",
    "        '''\n",
    "        self.dms=value #Debug_mode_state\n",
    "\n",
    "    \n",
    "    \n",
    "    def upload_from_csv(self,db:str,tabée:str,fname:str):\n",
    "        \n",
    "        '''\n",
    "        MONGODB adatbázisba collection feltöltése fname csv-ből\n",
    "        '''\n",
    "        if self.dms:\n",
    "            print(\"Upload_start\")\n",
    "        import mariadb\n",
    "        import pandas as pd\n",
    "    \n",
    "        conn=mariadb.connect(user=self.user,password=self.pwd,host=self.host,port=self.port,database=self.database)\n",
    "        cur=conn.cursor()\n",
    "        \n",
    "        cur.execute(\"SELECT * from ABB_file_location\")\n",
    "\n",
    "        cur.\n",
    "        '''\n",
    "        #print(df.head())\n",
    "        df=pd.read_csv(fname)\n",
    "        if self.dms:\n",
    "            print(df.head())\n",
    "        list_of_dict=df.to_dict('records')\n",
    "        col.insert_many(list_of_dict)\n",
    "        if self.dms:\n",
    "            print(\"exit upload\")\n",
    "        return(col)\n",
    "        '''"
   ]
  },
  {
   "cell_type": "code",
   "execution_count": 3,
   "metadata": {},
   "outputs": [],
   "source": [
    "import mariadb\n",
    "import pandas as pd\n",
    "fname=\"E:/Backup/20220305/pdf_metadata.csv\"\n",
    "df=pd.read_csv(fname)"
   ]
  },
  {
   "cell_type": "code",
   "execution_count": 4,
   "metadata": {},
   "outputs": [
    {
     "data": {
      "text/html": [
       "<div>\n",
       "<style scoped>\n",
       "    .dataframe tbody tr th:only-of-type {\n",
       "        vertical-align: middle;\n",
       "    }\n",
       "\n",
       "    .dataframe tbody tr th {\n",
       "        vertical-align: top;\n",
       "    }\n",
       "\n",
       "    .dataframe thead th {\n",
       "        text-align: right;\n",
       "    }\n",
       "</style>\n",
       "<table border=\"1\" class=\"dataframe\">\n",
       "  <thead>\n",
       "    <tr style=\"text-align: right;\">\n",
       "      <th></th>\n",
       "      <th>_id</th>\n",
       "      <th>index</th>\n",
       "      <th>fname</th>\n",
       "      <th>page</th>\n",
       "      <th>pos0</th>\n",
       "      <th>pos1</th>\n",
       "      <th>pos2</th>\n",
       "      <th>pos3</th>\n",
       "    </tr>\n",
       "  </thead>\n",
       "  <tbody>\n",
       "    <tr>\n",
       "      <th>0</th>\n",
       "      <td>621d11a3d90b5e626f8f7148</td>\n",
       "      <td>0</td>\n",
       "      <td>003_IA_Brochure_Leah N. Oxford_OP_20190624_dfw</td>\n",
       "      <td>0</td>\n",
       "      <td>14.576145</td>\n",
       "      <td>213.194702</td>\n",
       "      <td>363.603149</td>\n",
       "      <td>411.967529</td>\n",
       "    </tr>\n",
       "    <tr>\n",
       "      <th>1</th>\n",
       "      <td>621d11a3d90b5e626f8f7149</td>\n",
       "      <td>1</td>\n",
       "      <td>003_IA_Brochure_Leah N. Oxford_OP_20190624_dfw</td>\n",
       "      <td>0</td>\n",
       "      <td>46.203800</td>\n",
       "      <td>109.823738</td>\n",
       "      <td>457.741821</td>\n",
       "      <td>189.823730</td>\n",
       "    </tr>\n",
       "    <tr>\n",
       "      <th>2</th>\n",
       "      <td>621d11a3d90b5e626f8f714a</td>\n",
       "      <td>2</td>\n",
       "      <td>003_IA_Brochure_Leah N. Oxford_OP_20190624_dfw</td>\n",
       "      <td>0</td>\n",
       "      <td>376.747101</td>\n",
       "      <td>216.856796</td>\n",
       "      <td>596.134888</td>\n",
       "      <td>373.856812</td>\n",
       "    </tr>\n",
       "    <tr>\n",
       "      <th>3</th>\n",
       "      <td>621d11a3d90b5e626f8f714b</td>\n",
       "      <td>3</td>\n",
       "      <td>003_IA_Brochure_Leah N. Oxford_OP_20190624_dfw</td>\n",
       "      <td>0</td>\n",
       "      <td>140.644699</td>\n",
       "      <td>448.092285</td>\n",
       "      <td>362.736877</td>\n",
       "      <td>528.592285</td>\n",
       "    </tr>\n",
       "    <tr>\n",
       "      <th>4</th>\n",
       "      <td>621d11a3d90b5e626f8f714c</td>\n",
       "      <td>4</td>\n",
       "      <td>003_IA_Brochure_Leah N. Oxford_OP_20190624_dfw</td>\n",
       "      <td>0</td>\n",
       "      <td>140.644699</td>\n",
       "      <td>544.092285</td>\n",
       "      <td>364.276276</td>\n",
       "      <td>588.592285</td>\n",
       "    </tr>\n",
       "  </tbody>\n",
       "</table>\n",
       "</div>"
      ],
      "text/plain": [
       "                        _id  index  \\\n",
       "0  621d11a3d90b5e626f8f7148      0   \n",
       "1  621d11a3d90b5e626f8f7149      1   \n",
       "2  621d11a3d90b5e626f8f714a      2   \n",
       "3  621d11a3d90b5e626f8f714b      3   \n",
       "4  621d11a3d90b5e626f8f714c      4   \n",
       "\n",
       "                                            fname  page        pos0  \\\n",
       "0  003_IA_Brochure_Leah N. Oxford_OP_20190624_dfw     0   14.576145   \n",
       "1  003_IA_Brochure_Leah N. Oxford_OP_20190624_dfw     0   46.203800   \n",
       "2  003_IA_Brochure_Leah N. Oxford_OP_20190624_dfw     0  376.747101   \n",
       "3  003_IA_Brochure_Leah N. Oxford_OP_20190624_dfw     0  140.644699   \n",
       "4  003_IA_Brochure_Leah N. Oxford_OP_20190624_dfw     0  140.644699   \n",
       "\n",
       "         pos1        pos2        pos3  \n",
       "0  213.194702  363.603149  411.967529  \n",
       "1  109.823738  457.741821  189.823730  \n",
       "2  216.856796  596.134888  373.856812  \n",
       "3  448.092285  362.736877  528.592285  \n",
       "4  544.092285  364.276276  588.592285  "
      ]
     },
     "execution_count": 4,
     "metadata": {},
     "output_type": "execute_result"
    }
   ],
   "source": [
    "df.head()"
   ]
  },
  {
   "cell_type": "code",
   "execution_count": 5,
   "metadata": {},
   "outputs": [],
   "source": [
    "df.columns=[\"_id\",\"index1\",\"fname\",\"page\",\"pos0\",\"pos1\",\"pos2\",\"pos3\"]"
   ]
  },
  {
   "cell_type": "code",
   "execution_count": 6,
   "metadata": {},
   "outputs": [],
   "source": [
    "\n",
    "maria_usr=getenv('maria_nlp_user')\n",
    "maria_pwd=getenv('maria_nlp_pwd')\n",
    "maria_host=\"217.144.54.147\"\n",
    "database=\"NLP_ABB\"\n"
   ]
  },
  {
   "cell_type": "code",
   "execution_count": 7,
   "metadata": {},
   "outputs": [],
   "source": [
    "list_of_dict=df.to_dict('records')"
   ]
  },
  {
   "cell_type": "code",
   "execution_count": 9,
   "metadata": {},
   "outputs": [
    {
     "data": {
      "text/plain": [
       "{'_id': '621d11a3d90b5e626f8f7148',\n",
       " 'index1': 0,\n",
       " 'fname': '003_IA_Brochure_Leah N. Oxford_OP_20190624_dfw',\n",
       " 'page': 0,\n",
       " 'pos0': 14.57614517211914,\n",
       " 'pos1': 213.1947021484375,\n",
       " 'pos2': 363.6031494140625,\n",
       " 'pos3': 411.967529296875}"
      ]
     },
     "execution_count": 9,
     "metadata": {},
     "output_type": "execute_result"
    }
   ],
   "source": [
    "list_of_dict[0]"
   ]
  },
  {
   "cell_type": "code",
   "execution_count": null,
   "metadata": {},
   "outputs": [],
   "source": []
  },
  {
   "cell_type": "code",
   "execution_count": 10,
   "metadata": {},
   "outputs": [],
   "source": [
    "conn=mariadb.connect(user=maria_usr,password=maria_pwd,host=maria_host,port=3306,database=database)"
   ]
  },
  {
   "cell_type": "code",
   "execution_count": 11,
   "metadata": {},
   "outputs": [],
   "source": [
    "cur=conn.cursor()"
   ]
  },
  {
   "cell_type": "code",
   "execution_count": 12,
   "metadata": {},
   "outputs": [],
   "source": [
    "cur.execute(\"SELECT * from ABB_pdf \")"
   ]
  },
  {
   "cell_type": "code",
   "execution_count": 13,
   "metadata": {},
   "outputs": [],
   "source": [
    "description=cur.description\n",
    "cols=[i[0] for i in  description]\n",
    "cols_str=str(cols).replace(\"'\",\"\")\n",
    "cols_str=str(cols_str).replace(\"[\",\"(\").replace(\"]\",\")\")\n"
   ]
  },
  {
   "cell_type": "code",
   "execution_count": 14,
   "metadata": {},
   "outputs": [
    {
     "data": {
      "text/plain": [
       "'(_id, index1, fname, page, pos0, pos1, pos2, pos3)'"
      ]
     },
     "execution_count": 14,
     "metadata": {},
     "output_type": "execute_result"
    }
   ],
   "source": [
    "cols_str"
   ]
  },
  {
   "cell_type": "code",
   "execution_count": 15,
   "metadata": {},
   "outputs": [
    {
     "data": {
      "text/plain": [
       "['_id', 'index1', 'fname', 'page', 'pos0', 'pos1', 'pos2', 'pos3']"
      ]
     },
     "execution_count": 15,
     "metadata": {},
     "output_type": "execute_result"
    }
   ],
   "source": [
    "cols"
   ]
  },
  {
   "cell_type": "code",
   "execution_count": 16,
   "metadata": {},
   "outputs": [],
   "source": [
    "i=1\n",
    "o=str([list_of_dict[i][k] for k in cols]).replace(\"[\",\"(\").replace(\"]\",\")\")"
   ]
  },
  {
   "cell_type": "code",
   "execution_count": 17,
   "metadata": {},
   "outputs": [
    {
     "data": {
      "text/plain": [
       "\"('621d11a3d90b5e626f8f7149', 1, '003_IA_Brochure_Leah N. Oxford_OP_20190624_dfw', 0, 46.20380020141602, 109.82373809814452, 457.7418212890625, 189.82373046875)\""
      ]
     },
     "execution_count": 17,
     "metadata": {},
     "output_type": "execute_result"
    }
   ],
   "source": [
    "o"
   ]
  },
  {
   "cell_type": "code",
   "execution_count": 18,
   "metadata": {},
   "outputs": [],
   "source": [
    "for i,_ in enumerate(list_of_dict):\n",
    "    table=\"ABB_pdf\"\n",
    "    o=str([list_of_dict[i][k] for k in cols]).replace(\"[\",\"(\").replace(\"]\",\")\")\n",
    "    sql_cmd=f\"INSERT INTO {table} {cols_str} VALUES \"+o\n",
    "    \n",
    "    cur.execute(sql_cmd)\n",
    "    conn.commit()"
   ]
  },
  {
   "cell_type": "code",
   "execution_count": 122,
   "metadata": {},
   "outputs": [],
   "source": []
  },
  {
   "cell_type": "code",
   "execution_count": 145,
   "metadata": {},
   "outputs": [
    {
     "data": {
      "text/plain": [
       "\"INSERT INTO ABB_pdf (_id, index1, fname, page, pos0, pos1, pos2, pos3) VALUES ('621d11a3d90b5e626f8f7149', 1, '003_IA_Brochure_Leah N. Oxford_OP_20190624_dfw', 0, 46.20380020141602, 109.82373809814452, 457.7418212890625, 189.82373046875)\""
      ]
     },
     "execution_count": 145,
     "metadata": {},
     "output_type": "execute_result"
    }
   ],
   "source": [
    "sql_cmd"
   ]
  },
  {
   "cell_type": "code",
   "execution_count": 147,
   "metadata": {},
   "outputs": [],
   "source": [
    "cur.description"
   ]
  },
  {
   "cell_type": "code",
   "execution_count": 13,
   "metadata": {},
   "outputs": [],
   "source": []
  },
  {
   "cell_type": "code",
   "execution_count": null,
   "metadata": {},
   "outputs": [],
   "source": []
  },
  {
   "cell_type": "code",
   "execution_count": 149,
   "metadata": {},
   "outputs": [],
   "source": [
    "conn.commit()"
   ]
  },
  {
   "cell_type": "code",
   "execution_count": 150,
   "metadata": {},
   "outputs": [],
   "source": [
    "conn.close()"
   ]
  }
 ],
 "metadata": {
  "interpreter": {
   "hash": "5ce7801274b0b37dd0fd5d67dc711627c3fd25ac6676442e98aec8c24f76fbd7"
  },
  "kernelspec": {
   "display_name": "Python 3.8.6 64-bit",
   "language": "python",
   "name": "python3"
  },
  "language_info": {
   "codemirror_mode": {
    "name": "ipython",
    "version": 3
   },
   "file_extension": ".py",
   "mimetype": "text/x-python",
   "name": "python",
   "nbconvert_exporter": "python",
   "pygments_lexer": "ipython3",
   "version": "3.8.6"
  },
  "orig_nbformat": 4
 },
 "nbformat": 4,
 "nbformat_minor": 2
}
