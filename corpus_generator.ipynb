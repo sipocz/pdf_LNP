{
 "cells": [
  {
   "cell_type": "code",
   "execution_count": 8,
   "metadata": {},
   "outputs": [],
   "source": [
    "import fitz as pymupdf\n",
    "import pandas as pd"
   ]
  },
  {
   "cell_type": "code",
   "execution_count": 9,
   "metadata": {},
   "outputs": [],
   "source": [
    "df=open(\"/home/sipocz/drive/ABB/pdf_list.csv\")\n",
    "doclist=[]\n",
    "for f in df:\n",
    "    doclist.append(f.strip())\n"
   ]
  },
  {
   "cell_type": "code",
   "execution_count": 16,
   "metadata": {},
   "outputs": [],
   "source": [
    "def extract_text(fname,page=0):\n",
    "    '''\n",
    "\n",
    "    load_page.get_text(\"blocks\") feldolgozása\n",
    "    \n",
    "    '''\n",
    "    \n",
    "    meta_out=[]\n",
    "\n",
    "\n",
    "    f = pymupdf.open(fname)\n",
    "    txt = f.load_page(page).get_text(\"blocks\")\n",
    "    if page==0:\n",
    "        allpage=f.page_count\n",
    "    print('Page Number:',   f.page_count)\n",
    "    print('Creation Date:', f.metadata['creationDate'])\n",
    "    print('Modified Date:', f.metadata['modDate'])\n",
    "    #print('\\nTable of Content:\\n', [toc for toc in f.get_toc()])\n",
    "    \n",
    "    txt_out=[]\n",
    "    for i in range(allpage):\n",
    "        txt = f.load_page(i).get_text(\"blocks\")\n",
    "        for line_i in txt:\n",
    "            meta_rec={}\n",
    "            meta_rec={\"fname\":fname, \"page\":i,\"pos0\":line_i[0],\"pos1\":line_i[1],\"pos2\":line_i[2],\"pos3\":line_i[3]}\n",
    "            txt_i=line_i[4].replace(\"\\n\",\" \")\n",
    "            txt_out.append(txt_i)\n",
    "            meta_out.append(meta_rec)\n",
    "            #print(txt_i)\n",
    "    return(txt_out,meta_out)"
   ]
  },
  {
   "cell_type": "code",
   "execution_count": 17,
   "metadata": {},
   "outputs": [],
   "source": [
    "def create_corpus(file_list):\n",
    "    i=0\n",
    "    text_out=[]\n",
    "    meta_out=[]\n",
    "    for file_name in file_list:\n",
    "        path_file=file_name\n",
    "        i+=1\n",
    "        print(f\"{i:3} --> {path_file}\")\n",
    "        text,meta=extract_text(path_file)\n",
    "        text_out=text_out+text\n",
    "        meta_out=meta_out+meta\n",
    "    return(text_out,meta_out)"
   ]
  },
  {
   "cell_type": "code",
   "execution_count": null,
   "metadata": {},
   "outputs": [],
   "source": [
    "text_24,meta_out=create_corpus(doclist)"
   ]
  },
  {
   "cell_type": "code",
   "execution_count": 31,
   "metadata": {},
   "outputs": [
    {
     "name": "stdout",
     "output_type": "stream",
     "text": [
      "2353831\n",
      "2353831\n"
     ]
    }
   ],
   "source": [
    "print(len(meta_out))\n",
    "print(len(text_24))\n"
   ]
  },
  {
   "cell_type": "code",
   "execution_count": 50,
   "metadata": {},
   "outputs": [
    {
     "data": {
      "text/plain": [
       "['PROCONTROL  P ',\n",
       " 'Communication Application Description ',\n",
       " '<image: DeviceGray, width: 570, height: 241, bpc: 1>',\n",
       " 'for Coupling the PROCONTROL Station Bus to the Advant® Fieldbus 100 ',\n",
       " '87TS50-E/R5010 ',\n",
       " 'Coupling Module ',\n",
       " 'Publication No. D UTA 6302 99 E, Edition 02/99 ',\n",
       " 'Contents ',\n",
       " '1 Overview . . . . . . . . . . . . . . . . . . . . . . . . . . . . . . . . . . . . . 2 ',\n",
       " '2 Service  and configuration interface . . . . . . . . . . . . . . 2 ',\n",
       " '2.1 Configuring the Ethernet interface. . . . . . . . . . . . . . . . . 3 ',\n",
       " '2.2 Configuring the module . . . . . . . . . . . . . . . . . . . . . . . . . 4 ',\n",
       " '3 APBRIDGE configuration program. . . . . . . . . . . . . . . . 7 ',\n",
       " '3.1 General notes. . . . . . . . . . . . . . . . . . . . . . . . . . . . . . . . . 7 ',\n",
       " '3.2 Installing the program under Windows 3.11  . . . . . . . . . 7 ',\n",
       " '3.3 Installing the program under Windows NT 4.0 . . . . . . . 7 ']"
      ]
     },
     "execution_count": 50,
     "metadata": {},
     "output_type": "execute_result"
    }
   ],
   "source": [
    "text_24[0:16]\n"
   ]
  },
  {
   "cell_type": "code",
   "execution_count": 52,
   "metadata": {},
   "outputs": [
    {
     "data": {
      "text/plain": [
       "[{'fname': '/home/sipocz/drive/ABB/another/0299E299.pdf',\n",
       "  'page': 0,\n",
       "  'pos0': 320.3699951171875,\n",
       "  'pos1': 22.070016860961914,\n",
       "  'pos2': 470.3760070800781,\n",
       "  'pos3': 46.85601806640625},\n",
       " {'fname': '/home/sipocz/drive/ABB/another/0299E299.pdf',\n",
       "  'page': 0,\n",
       "  'pos0': 56.72999954223633,\n",
       "  'pos1': 22.579992294311523,\n",
       "  'pos2': 417.6290283203125,\n",
       "  'pos3': 68.05209350585938},\n",
       " {'fname': '/home/sipocz/drive/ABB/another/0299E299.pdf',\n",
       "  'page': 0,\n",
       "  'pos0': 442.7699890136719,\n",
       "  'pos1': 736.72998046875,\n",
       "  'pos2': 579.4901733398438,\n",
       "  'pos3': 794.4951782226562},\n",
       " {'fname': '/home/sipocz/drive/ABB/another/0299E299.pdf',\n",
       "  'page': 0,\n",
       "  'pos0': 320.3699951171875,\n",
       "  'pos1': 124.19002532958984,\n",
       "  'pos2': 564.14990234375,\n",
       "  'pos3': 154.71800231933594},\n",
       " {'fname': '/home/sipocz/drive/ABB/another/0299E299.pdf',\n",
       "  'page': 0,\n",
       "  'pos0': 320.3699951171875,\n",
       "  'pos1': 165.11000061035156,\n",
       "  'pos2': 459.20404052734375,\n",
       "  'pos3': 189.89599609375},\n",
       " {'fname': '/home/sipocz/drive/ABB/another/0299E299.pdf',\n",
       "  'page': 0,\n",
       "  'pos0': 320.3699951171875,\n",
       "  'pos1': 94.10001373291016,\n",
       "  'pos2': 455.4421081542969,\n",
       "  'pos3': 118.83201599121094},\n",
       " {'fname': '/home/sipocz/drive/ABB/another/0299E299.pdf',\n",
       "  'page': 0,\n",
       "  'pos0': 56.72999954223633,\n",
       "  'pos1': 163.65501403808594,\n",
       "  'pos2': 184.03501892089844,\n",
       "  'pos3': 187.06129455566406},\n",
       " {'fname': '/home/sipocz/drive/ABB/another/0299E299.pdf',\n",
       "  'page': 0,\n",
       "  'pos0': 320.3699951171875,\n",
       "  'pos1': 207.82998657226562,\n",
       "  'pos2': 368.25006103515625,\n",
       "  'pos3': 224.31797790527344},\n",
       " {'fname': '/home/sipocz/drive/ABB/another/0299E299.pdf',\n",
       "  'page': 0,\n",
       "  'pos0': 320.3699951171875,\n",
       "  'pos1': 236.9750213623047,\n",
       "  'pos2': 567.0894165039062,\n",
       "  'pos3': 249.41302490234375},\n",
       " {'fname': '/home/sipocz/drive/ABB/another/0299E299.pdf',\n",
       "  'page': 0,\n",
       "  'pos0': 320.3699951171875,\n",
       "  'pos1': 254.0146942138672,\n",
       "  'pos2': 567.0665283203125,\n",
       "  'pos3': 266.45269775390625},\n",
       " {'fname': '/home/sipocz/drive/ABB/another/0299E299.pdf',\n",
       "  'page': 0,\n",
       "  'pos0': 320.3699951171875,\n",
       "  'pos1': 270.9346923828125,\n",
       "  'pos2': 567.0061645507812,\n",
       "  'pos3': 283.3006896972656},\n",
       " {'fname': '/home/sipocz/drive/ABB/another/0299E299.pdf',\n",
       "  'page': 0,\n",
       "  'pos0': 320.3699951171875,\n",
       "  'pos1': 285.93499755859375,\n",
       "  'pos2': 566.9519653320312,\n",
       "  'pos3': 298.3009948730469},\n",
       " {'fname': '/home/sipocz/drive/ABB/another/0299E299.pdf',\n",
       "  'page': 0,\n",
       "  'pos0': 320.3699951171875,\n",
       "  'pos1': 306.9346923828125,\n",
       "  'pos2': 567.0755615234375,\n",
       "  'pos3': 319.3726806640625},\n",
       " {'fname': '/home/sipocz/drive/ABB/another/0299E299.pdf',\n",
       "  'page': 0,\n",
       "  'pos0': 320.3699951171875,\n",
       "  'pos1': 323.9743957519531,\n",
       "  'pos2': 566.9788208007812,\n",
       "  'pos3': 336.34039306640625},\n",
       " {'fname': '/home/sipocz/drive/ABB/another/0299E299.pdf',\n",
       "  'page': 0,\n",
       "  'pos0': 320.3699951171875,\n",
       "  'pos1': 338.9747009277344,\n",
       "  'pos2': 566.5296630859375,\n",
       "  'pos3': 351.3406982421875},\n",
       " {'fname': '/home/sipocz/drive/ABB/another/0299E299.pdf',\n",
       "  'page': 0,\n",
       "  'pos0': 320.3699951171875,\n",
       "  'pos1': 353.9750061035156,\n",
       "  'pos2': 566.529541015625,\n",
       "  'pos3': 366.34100341796875}]"
      ]
     },
     "execution_count": 52,
     "metadata": {},
     "output_type": "execute_result"
    }
   ],
   "source": [
    "meta_out[0:16]"
   ]
  },
  {
   "cell_type": "code",
   "execution_count": 21,
   "metadata": {},
   "outputs": [
    {
     "name": "stdout",
     "output_type": "stream",
     "text": [
      "bekezdések száma: 2353831\n"
     ]
    }
   ],
   "source": [
    "print(f\"bekezdések száma: {len(text_24)}\")"
   ]
  },
  {
   "cell_type": "code",
   "execution_count": 22,
   "metadata": {},
   "outputs": [],
   "source": [
    "import nltk\n",
    "from nltk.tokenize import sent_tokenize, word_tokenize\n",
    "import gensim\n",
    "from gensim.models import Word2Vec\n",
    "import pandas as pd"
   ]
  },
  {
   "cell_type": "code",
   "execution_count": 23,
   "metadata": {},
   "outputs": [
    {
     "data": {
      "text/plain": [
       "'All users working with FBB FF configuration shall have Configure and Operator Configure permissions. LD800HSE device added in the FBB FF is shown as HSE Super type object in Plant Explorer after upload, without an operator relevant aspect like faceplate. Reason: The user adding the linking device in FBB FF does not have Operator Configure permission. '"
      ]
     },
     "execution_count": 23,
     "metadata": {},
     "output_type": "execute_result"
    }
   ],
   "source": [
    "text_24[-1119]"
   ]
  },
  {
   "cell_type": "code",
   "execution_count": null,
   "metadata": {},
   "outputs": [],
   "source": []
  },
  {
   "cell_type": "code",
   "execution_count": 34,
   "metadata": {},
   "outputs": [
    {
     "name": "stdout",
     "output_type": "stream",
     "text": [
      "start\n",
      "index:0,index:1,index:2,index:3,index:4,index:5,index:6,index:7,index:8,index:9,index:10,index:11,index:12,index:13,index:14,index:15,index:16,index:17,index:18,index:19,index:20,index:21,index:22,index:23,index:24,index:25,index:26,index:27,index:28,index:29,index:30,index:31,index:32,index:33,index:34,index:35,index:36,index:37,index:38,index:39,index:40,index:41,index:42,index:43,index:44,index:45,index:46,index:47,index:48,index:49,index:50,index:51,index:52,index:53,index:54,index:55,index:56,index:57,index:58,index:59,index:60,index:61,index:62,index:63,index:64,index:65,index:66,index:67,index:68,index:69,index:70,index:71,index:72,index:73,index:74,index:75,index:76,index:77,index:78,index:79,index:80,index:81,index:82,index:83,index:84,index:85,index:86,index:87,index:88,index:89,index:90,index:91,index:92,index:93,index:94,index:95,index:96,index:97,index:98,index:99,index:100,index:101,index:102,index:103,index:104,index:105,index:106,index:107,index:108,index:109,index:110,index:111,index:112,index:113,index:114,index:115,index:116,index:117,index:118,index:119,index:120,index:121,index:122,index:123,index:124,index:125,index:126,index:127,index:128,index:129,index:130,index:131,index:132,index:133,index:134,index:135,index:136,index:137,index:138,index:139,index:140,index:141,index:142,index:143,index:144,index:145,index:146,index:147,index:148,index:149,index:150,index:151,index:152,index:153,index:154,index:155,index:156,index:157,index:158,index:159,index:160,index:161,index:162,index:163,index:164,index:165,index:166,index:167,index:168,index:169,index:170,tokenized\n"
     ]
    }
   ],
   "source": [
    "import re\n",
    "regexp_digits_dot_digits = re.compile(r'^(\\d+(\\.+\\d+)*(\\.)*)$')\n",
    "corpus_text = \"\".join(text_24[:])\n",
    "print(\"start\")\n",
    "data_token = []\n",
    "st=[]\n",
    "for i in range(0,171):\n",
    "    print(f\"index:{i}\", end=\",\")\n",
    "    stx=sent_tokenize(corpus_text[i*1000000:(i+1)*1000000])\n",
    "    st=st+stx\n",
    "print(\"tokenized\")\n",
    "# iterate over each sentence in the document for i in sent_tokenize(corpus_text):\n"
   ]
  },
  {
   "cell_type": "code",
   "execution_count": 57,
   "metadata": {},
   "outputs": [
    {
     "data": {
      "text/plain": [
       "['<image: DeviceGray, width: 570, height: 241, bpc: 1>']"
      ]
     },
     "execution_count": 57,
     "metadata": {},
     "output_type": "execute_result"
    }
   ],
   "source": [
    "sent_tokenize(text_24[2])"
   ]
  },
  {
   "cell_type": "code",
   "execution_count": 35,
   "metadata": {},
   "outputs": [
    {
     "name": "stdout",
     "output_type": "stream",
     "text": [
      "172699501\n"
     ]
    }
   ],
   "source": [
    "print(len(corpus_text))"
   ]
  },
  {
   "cell_type": "code",
   "execution_count": 39,
   "metadata": {},
   "outputs": [
    {
     "data": {
      "text/plain": [
       "'PROCONTROL  P Communication Application Description <image: DeviceGray, width: 570, height: 241, bpc: 1>for Coupling the PROCONTROL Station Bus to the Advant® Fieldbus 100 87TS50-E/R5010 Coupling Module Publication No. D UTA 6302 99 E, Edition 02/99 Contents 1 Overview . . . . . . . . . . . . . . . . . . . . . . . . . . . . . . . . . . . . . 2 2 Service  and configuration interface . . . . . . . . . . . . . . 2 2.1 Configuring the Ethernet interface. . . . . . . . . . . . . . . . . 3 2.2 Configuring the module . . . . . . . . . . . . . . . . . . . . . . . . . 4 3 APBRIDGE configuration program. . . . . . . . . . . . . . . . 7 3.1 General notes. . . . . . . . . . . . . . . . . . . . . . . . . . . . . . . . . 7 3.2 Installing the program under Windows 3.11  . . . . . . . . . 7 3.3 Installing the program under Windows NT 4.0 . . . . . . . 7 3.4 Getting started . . . . . . . . . . . . . . . . . . . . . . . . . . . . . . . . 7 3.5 Data input. . . . . . . . . . . . . . . . . . . . . . . . . . . . . . . . . . . . 8 3.6 Program structure  . . . . . . . . . . . . . . . . . . . . . . . . . . . . 15 3.7 Sample configuration session (under Windows 3.11)  . . . . . . . . . . . . . . . . . . . . . . . . . 15 4 How to operate the user monitor . . . . . . . . . . . . . . . . 16 4.1 General notes. . . . . . . . . . . . . . . . . . . . . . . . . . . . . . . . 16 4.2 Login. . . . . . . . . . . . . . . . . . . . . . . . . . . . . . . . . . . . . . . 16 4.3 Menu overview. . . . . . . . . . . . . '"
      ]
     },
     "execution_count": 39,
     "metadata": {},
     "output_type": "execute_result"
    }
   ],
   "source": [
    "corpus_text[0:1500]"
   ]
  },
  {
   "cell_type": "code",
   "execution_count": 42,
   "metadata": {},
   "outputs": [
    {
     "data": {
      "text/plain": [
       "'for Coupling the PROCONTROL Station Bus to the Advant® Fieldbus 100 '"
      ]
     },
     "execution_count": 42,
     "metadata": {},
     "output_type": "execute_result"
    }
   ],
   "source": [
    "text_24[3]"
   ]
  },
  {
   "cell_type": "code",
   "execution_count": 44,
   "metadata": {},
   "outputs": [
    {
     "name": "stdout",
     "output_type": "stream",
     "text": [
      "2353831\n"
     ]
    }
   ],
   "source": [
    "print(len(text_24))"
   ]
  },
  {
   "cell_type": "code",
   "execution_count": 58,
   "metadata": {},
   "outputs": [
    {
     "name": "stdout",
     "output_type": "stream",
     "text": [
      "1156117\n"
     ]
    }
   ],
   "source": [
    "print (len(st))"
   ]
  },
  {
   "cell_type": "code",
   "execution_count": 68,
   "metadata": {},
   "outputs": [
    {
     "data": {
      "text/plain": [
       "['PROCONTROL', 'P']"
      ]
     },
     "execution_count": 68,
     "metadata": {},
     "output_type": "execute_result"
    }
   ],
   "source": [
    "word_tokenize(text_24[0])"
   ]
  },
  {
   "cell_type": "code",
   "execution_count": 62,
   "metadata": {},
   "outputs": [
    {
     "data": {
      "text/plain": [
       "'PROCONTROL  P Communication Application Description <image: DeviceGray, width: 570, height: 241, bpc: 1>for Coupling the PROCONTROL Station Bus to the Advant® Fieldbus 100 87TS50-E/R5010 Coupling Module Publication No.'"
      ]
     },
     "execution_count": 62,
     "metadata": {},
     "output_type": "execute_result"
    }
   ],
   "source": [
    "st[0]"
   ]
  },
  {
   "cell_type": "code",
   "execution_count": 79,
   "metadata": {},
   "outputs": [
    {
     "name": "stdout",
     "output_type": "stream",
     "text": [
      "100000,200000,300000,400000,500000,600000,700000,800000,900000,1000000,1100000,"
     ]
    }
   ],
   "source": [
    "index_i=0\n",
    "for i in st:\n",
    "    index_i=index_i+1\n",
    "    if index_i % 100000==0:\n",
    "        print(index_i,end=\",\")\n",
    "    temp = []\n",
    "    # tokenize the sentence into words\n",
    "    for j in word_tokenize(i):\n",
    "        if not re.match(regexp_digits_dot_digits, j):\n",
    "            temp.append(j.lower())\n",
    "        else:\n",
    "            #print(j,end=\" \")\n",
    "            pass\n",
    "    data_token.append(temp)"
   ]
  },
  {
   "cell_type": "code",
   "execution_count": 83,
   "metadata": {},
   "outputs": [
    {
     "data": {
      "text/plain": [
       "['6',\n",
       " 'Withdraw',\n",
       " 'the',\n",
       " 'module',\n",
       " 'and',\n",
       " 'write',\n",
       " 'the',\n",
       " 'configured',\n",
       " 'Internet',\n",
       " 'address',\n",
       " 'on',\n",
       " 'the',\n",
       " 'Internet',\n",
       " 'address',\n",
       " 'label',\n",
       " 'at',\n",
       " 'connector',\n",
       " 'X12',\n",
       " 'of',\n",
       " 'that',\n",
       " 'module',\n",
       " '.']"
      ]
     },
     "execution_count": 83,
     "metadata": {},
     "output_type": "execute_result"
    }
   ],
   "source": [
    "word_tokenize(text_24[123],)"
   ]
  },
  {
   "cell_type": "code",
   "execution_count": 81,
   "metadata": {},
   "outputs": [
    {
     "data": {
      "text/plain": [
       "['t', 's', '/', 'r', ' ']"
      ]
     },
     "execution_count": 81,
     "metadata": {},
     "output_type": "execute_result"
    }
   ],
   "source": [
    "data_token[100]"
   ]
  },
  {
   "cell_type": "code",
   "execution_count": 123,
   "metadata": {},
   "outputs": [
    {
     "name": "stdout",
     "output_type": "stream",
     "text": [
      "100000,in the mydoors project, expand application_1 to view the diagrams folder and the  three default diagrams. in this example, you are going to create the logic in  diagram2. \n",
      "['in', 'the', 'mydoors', 'project', 'expand', 'application_', 'to', 'view', 'the', 'diagrams', 'folder', 'and', 'the', 'three', 'default', 'diagrams', 'in', 'this', 'example', 'you', 'are', 'going', 'to', 'create', 'the', 'logic', 'in', 'diagram']\n",
      "200000,testimonials \n",
      "['testimonials']\n",
      "300000,table 72, table 74, table 75, and table 75 lists the issues that may exist and affect  operation of the system or product at time of release. workarounds, clarifications, or  helpful hints have been provided for each issue wherever possible.  \n",
      "['table', 'table', 'table', 'and', 'table', 'lists', 'the', 'issues', 'that', 'may', 'exist', 'and', 'affect', 'operation', 'of', 'the', 'system', 'or', 'product', 'at', 'time', 'of', 'release', 'workarounds', 'clarifications', 'or', 'helpful', 'hints', 'have', 'been', 'provided', 'for', 'each', 'issue', 'wherever', 'possible']\n",
      "400000,2. remove the third aspect server using the configuration wizard. \n",
      "['remove', 'the', 'third', 'aspect', 'server', 'using', 'the', 'configuration', 'wizard']\n",
      "500000,sales configurator wizard for compact hmi 800 \n",
      "['sales', 'configurator', 'wizard', 'for', 'compact', 'hmi']\n",
      "600000,  \n",
      "[]\n",
      "700000,<image: devicergb, width: 2, height: 1, bpc: 8>\n",
      "['image', 'devicergb', 'width', 'height', 'bpc']\n",
      "800000,<image: devicergb, width: 1, height: 1, bpc: 8>\n",
      "['image', 'devicergb', 'width', 'height', 'bpc']\n",
      "900000,g \n",
      "['g']\n",
      "1000000,<image: indexed(3,devicergb), width: 358, height: 160, bpc: 4>\n",
      "['image', 'indexed', '(', 'devicergb', ')', 'width', 'height', 'bpc']\n",
      "1100000,<image: indexed(10,devicecmyk), width: 78, height: 77, bpc: 8>\n",
      "['image', 'indexed', '(', 'devicecmyk', ')', 'width', 'height', 'bpc']\n",
      "1200000,second approval to change  batch equipment status to  reserved. \n",
      "['second', 'approval', 'to', 'change', 'batch', 'equipment', 'status', 'to', 'reserved']\n",
      "1300000,• insert > graphic > rectangle \n",
      "['•', 'insert', 'graphic', 'rectangle']\n",
      "1400000,zp - - - a1 a1 a1 - - \n",
      "['zp', '-', '-', '-', 'a', 'a', 'a', '-', '-']\n",
      "1500000,introduction.....................................................................................................................55 \n",
      "['introduction']\n",
      "1600000,  \n",
      "[]\n",
      "1700000,• configured usage: number of hardware features that are configured and are  not downloaded to controller. \n",
      "['•', 'configured', 'usage', 'number', 'of', 'hardware', 'features', 'that', 'are', 'configured', 'and', 'are', 'not', 'downloaded', 'to', 'controller']\n",
      "1800000,sync  \n",
      "['sync']\n",
      "1900000,by default, the first option above is not set and the second option is set. see search  and navigation settings on page 203. \n",
      "['by', 'default', 'the', 'first', 'option', 'above', 'is', 'not', 'set', 'and', 'the', 'second', 'option', 'is', 'set', 'see', 'search', 'and', 'navigation', 'settings', 'on', 'page']\n",
      "2000000,<image: indexed(249,iccbased(rgb,srgb iec61966-2.1)), width: 231, height: 160, bpc: 8>\n",
      "['image', 'indexed', '(', 'iccbased', '(', 'rgbsrgb', 'iec-', ')', ')', 'width', 'height', 'bpc']\n",
      "2100000,29. mail server and provide the ip address or subnet and click add. \n",
      "['mail', 'server', 'and', 'provide', 'the', 'ip', 'address', 'or', 'subnet', 'and', 'click', 'add']\n",
      "2200000,ingress protection for hazardous area (enclosure) \n",
      "['ingress', 'protection', 'for', 'hazardous', 'area', '(', 'enclosure', ')']\n",
      "2300000,incoming connections are also supported, where controllers can call up the server in the case of an alarm and so on. \n",
      "['incoming', 'connections', 'are', 'also', 'supported', 'where', 'controllers', 'can', 'call', 'up', 'the', 'server', 'in', 'the', 'case', 'of', 'an', 'alarm', 'and', 'so', 'on']\n"
     ]
    }
   ],
   "source": [
    "# text_24 converter  text_24: stringek listája -> listák listája\n",
    "regexp_digits_dot_digits = re.compile(r'(\\d+(\\.+\\d+)*(\\.)*)')\n",
    "regexp_digits = re.compile(r'( |^)(\\d+)( |\\.|\\,|\\(|\\))')\n",
    "regexp_comma=re.compile(r\"(\\,|\\:|\\<|\\>)\")\n",
    "index_i=0\n",
    "data_token=[]\n",
    "for text_i in text_24[:]:\n",
    "    index_i=index_i+1\n",
    "    temp = []\n",
    "    # tokenize the sentence into words\n",
    "    \n",
    "\n",
    "    temp1=text_i.lower()    #print(j,end=\" \")\n",
    "    \n",
    "    temp2=re.sub(regexp_digits_dot_digits,\"\",temp1)   #\n",
    "    temp3=re.sub(regexp_digits,\"\",temp2)   #\n",
    "    temp4=temp3.replace(\".\",\"\")\n",
    "    temp5=re.sub(regexp_comma,\"\",temp4)\n",
    "\n",
    "    temp6=word_tokenize(temp5)\n",
    "    \n",
    "    if index_i % 100000==0:\n",
    "        print(index_i,end=\",\")\n",
    "    \n",
    "        print(temp1)\n",
    "        print(temp6)\n",
    "    \n",
    "    data_token.append(temp6)"
   ]
  },
  {
   "cell_type": "code",
   "execution_count": 124,
   "metadata": {},
   "outputs": [
    {
     "data": {
      "text/plain": [
       "2353831"
      ]
     },
     "execution_count": 124,
     "metadata": {},
     "output_type": "execute_result"
    }
   ],
   "source": [
    "len(data_token)"
   ]
  },
  {
   "cell_type": "code",
   "execution_count": 126,
   "metadata": {},
   "outputs": [
    {
     "data": {
      "text/plain": [
       "2353831"
      ]
     },
     "execution_count": 126,
     "metadata": {},
     "output_type": "execute_result"
    }
   ],
   "source": [
    "len(text_24)"
   ]
  },
  {
   "cell_type": "code",
   "execution_count": 127,
   "metadata": {},
   "outputs": [
    {
     "data": {
      "text/plain": [
       "['procontrol', 'p']"
      ]
     },
     "execution_count": 127,
     "metadata": {},
     "output_type": "execute_result"
    }
   ],
   "source": [
    "data_token[0]"
   ]
  },
  {
   "cell_type": "code",
   "execution_count": 128,
   "metadata": {},
   "outputs": [],
   "source": [
    "_sent_path_=\"~/drive/\""
   ]
  },
  {
   "cell_type": "code",
   "execution_count": 19,
   "metadata": {},
   "outputs": [],
   "source": [
    "#data_token_list=[str(data_token_i) for data_token_i in data_token]"
   ]
  },
  {
   "cell_type": "code",
   "execution_count": 129,
   "metadata": {},
   "outputs": [],
   "source": [
    "import pandas as pd"
   ]
  },
  {
   "cell_type": "code",
   "execution_count": 130,
   "metadata": {},
   "outputs": [
    {
     "data": {
      "text/plain": [
       "['if',\n",
       " 'the',\n",
       " 'hart',\n",
       " 'routing',\n",
       " 'functionality',\n",
       " 'of',\n",
       " 'aia',\n",
       " 'is',\n",
       " 'not',\n",
       " 'restricted',\n",
       " 'by',\n",
       " 'the',\n",
       " 'configuration',\n",
       " 'settings',\n",
       " 'of',\n",
       " 'the',\n",
       " 'module',\n",
       " 'the',\n",
       " 'operation',\n",
       " 'procedures',\n",
       " 'shall',\n",
       " 'include',\n",
       " 'restrictions',\n",
       " 'for',\n",
       " 'use',\n",
       " 'of',\n",
       " 'this',\n",
       " 'function']"
      ]
     },
     "execution_count": 130,
     "metadata": {},
     "output_type": "execute_result"
    }
   ],
   "source": [
    "data_token[1353]"
   ]
  },
  {
   "cell_type": "code",
   "execution_count": 131,
   "metadata": {},
   "outputs": [],
   "source": [
    "def save_list(fname:str,dlist:list):\n",
    "    f=open(fname,\"x\",)\n",
    "    for element in dlist:\n",
    "        f.write(str(element)+\"\\n\")\n",
    "    f.close()\n",
    "\n"
   ]
  },
  {
   "cell_type": "code",
   "execution_count": 132,
   "metadata": {},
   "outputs": [],
   "source": [
    "def load_list(fname:str):\n",
    "    f=open(fname,\"r\")\n",
    "    for i in range(10):\n",
    "        line=f.readline()\n",
    "        print(line)\n",
    "    f.close()\n",
    "    print(\"End\")\n",
    "    return(0)"
   ]
  },
  {
   "cell_type": "code",
   "execution_count": 133,
   "metadata": {},
   "outputs": [
    {
     "name": "stdout",
     "output_type": "stream",
     "text": [
      "python read text fllo\n"
     ]
    }
   ],
   "source": [
    "print(\"python read text fllo\")"
   ]
  },
  {
   "cell_type": "code",
   "execution_count": 25,
   "metadata": {},
   "outputs": [],
   "source": [
    "#load_list(\"/home/sipocz/s1.txt\")"
   ]
  },
  {
   "cell_type": "code",
   "execution_count": null,
   "metadata": {},
   "outputs": [],
   "source": [
    "f=open(\"/home/sipocz/drive/Sentences.txt\")"
   ]
  },
  {
   "cell_type": "code",
   "execution_count": 27,
   "metadata": {},
   "outputs": [],
   "source": [
    "aaa=f.readline(5)\n"
   ]
  },
  {
   "cell_type": "code",
   "execution_count": 28,
   "metadata": {},
   "outputs": [
    {
     "name": "stdout",
     "output_type": "stream",
     "text": [
      "['pro\n"
     ]
    }
   ],
   "source": [
    "print(aaa)"
   ]
  },
  {
   "cell_type": "code",
   "execution_count": 134,
   "metadata": {},
   "outputs": [],
   "source": [
    "save_list(\"/home/sipocz/drive/ABB_sentences_2.txt\",data_token[:])"
   ]
  },
  {
   "cell_type": "code",
   "execution_count": 129,
   "metadata": {},
   "outputs": [],
   "source": [
    "f=open(\"/home/sipocz/SL_8.txt\")"
   ]
  },
  {
   "cell_type": "code",
   "execution_count": 135,
   "metadata": {},
   "outputs": [],
   "source": [
    "def read_file(fname, counter=0):\n",
    "    out=[]\n",
    "    f=open(fname,\"r\")\n",
    "    if counter!=0:\n",
    "        for i in range(counter):\n",
    "            one_line=f.readline()\n",
    "            out.append(one_line.strip())\n",
    "    else:\n",
    "        while True:\n",
    "            one_line=f.readline()\n",
    "            if one_line==\"\":\n",
    "                print(\"EOF\")\n",
    "                \n",
    "                break\n",
    "            out.append(one_line.strip())\n",
    "\n",
    "    \n",
    "    return(out)"
   ]
  },
  {
   "cell_type": "code",
   "execution_count": 136,
   "metadata": {},
   "outputs": [
    {
     "name": "stdout",
     "output_type": "stream",
     "text": [
      "EOF\n"
     ]
    }
   ],
   "source": [
    "corpus_lst=read_file(\"/home/sipocz/drive/ABB_sentences_2.txt\")"
   ]
  },
  {
   "cell_type": "code",
   "execution_count": 137,
   "metadata": {},
   "outputs": [
    {
     "data": {
      "text/plain": [
       "2353831"
      ]
     },
     "execution_count": 137,
     "metadata": {},
     "output_type": "execute_result"
    }
   ],
   "source": [
    "len(corpus_lst)"
   ]
  },
  {
   "cell_type": "code",
   "execution_count": 138,
   "metadata": {},
   "outputs": [
    {
     "data": {
      "text/plain": [
       "[\"['procontrol', 'p']\",\n",
       " \"['communication', 'application', 'description']\",\n",
       " \"['image', 'devicegray', 'width', 'height', 'bpc']\",\n",
       " \"['for', 'coupling', 'the', 'procontrol', 'station', 'bus', 'to', 'the', 'advant®', 'fieldbus']\",\n",
       " \"['ts-e/r']\"]"
      ]
     },
     "execution_count": 138,
     "metadata": {},
     "output_type": "execute_result"
    }
   ],
   "source": [
    "corpus_lst[0:5]"
   ]
  },
  {
   "cell_type": "code",
   "execution_count": 139,
   "metadata": {},
   "outputs": [
    {
     "data": {
      "text/plain": [
       "'Communication Application Description '"
      ]
     },
     "execution_count": 139,
     "metadata": {},
     "output_type": "execute_result"
    }
   ],
   "source": [
    "text_24[1]"
   ]
  }
 ],
 "metadata": {
  "interpreter": {
   "hash": "e7370f93d1d0cde622a1f8e1c04877d8463912d04d973331ad4851f04de6915a"
  },
  "kernelspec": {
   "display_name": "Python 3.8.10 64-bit",
   "language": "python",
   "name": "python3"
  },
  "language_info": {
   "codemirror_mode": {
    "name": "ipython",
    "version": 3
   },
   "file_extension": ".py",
   "mimetype": "text/x-python",
   "name": "python",
   "nbconvert_exporter": "python",
   "pygments_lexer": "ipython3",
   "version": "3.8.6"
  },
  "orig_nbformat": 4
 },
 "nbformat": 4,
 "nbformat_minor": 2
}
