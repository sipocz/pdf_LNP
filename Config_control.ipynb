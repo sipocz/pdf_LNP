{
 "cells": [
  {
   "cell_type": "code",
   "execution_count": 28,
   "metadata": {},
   "outputs": [],
   "source": [
    "import platform\n",
    "import os\n",
    "os_str=platform.platform()\n",
    "if \"Windows\" in os_str:\n",
    "    _OS_=\"windows\"\n",
    "else:\n",
    "    _OS_=\"linux\"\n",
    "\n",
    "\n",
    "\n",
    "if _OS_== \"linux\":\n",
    "    _testpdf_=\"/Users/sipocz/Downloads/abb/7PAA000908_A_en_SECURITY - OPC Server for AC 800M - Remote Code Execution Vulnerability.pdf\"  #csak a png kimenet miatt kell!\n",
    "    _pdflist_=\"/ABB/pdf_list_20220226.csv\"\n",
    "    _corpus_=\"/corpus/\"\n",
    "    _corpus_name_=\"ABB_sentences_20220313_2330000.txt\"\n",
    "else:\n",
    " \n",
    "    _testpdf_=\"C:/Users/sipocz/Downloads/abb/7PAA000908_A_en_SECURITY - OPC Server for AC 800M - Remote Code Execution Vulnerability.pdf\"  #csak a png kimenet miatt kell!\n",
    "    _pdflist_=\"D:/ABB/pdf_list_20220226.csv\"\n",
    "    _corpus_=\"D:/corpus/\"\n",
    "    _corpus_name_=\"ABB_sentences_20220313_233000.txt\"\n",
    "    _brain_dir_=\"D:/tmp/\""
   ]
  },
  {
   "cell_type": "code",
   "execution_count": 29,
   "metadata": {},
   "outputs": [],
   "source": [
    "import wget\n",
    "def _query(data,pwd):\n",
    "    \n",
    "    link = 'ftp://ftpuser@protonix.hu:'+pwd+'@protonix.hu/public_ftp/'+data\n",
    "    print(link)\n",
    "    wget.options=\"-O D:\\tmp\\ABB.zip\"\n",
    "    fname=wget.download(link)\n",
    "    print(fname)\n",
    "    \n",
    "    shutil.move(fname,_brain_dir_+data)\n",
    "    o=f\"{fname}--> {_brain_dir_+data}\"\n",
    "    return(o)"
   ]
  },
  {
   "cell_type": "code",
   "execution_count": null,
   "metadata": {},
   "outputs": [],
   "source": []
  },
  {
   "cell_type": "code",
   "execution_count": 30,
   "metadata": {},
   "outputs": [],
   "source": [
    "from flask import Flask\n",
    "app = Flask(__name__)\n",
    "\n",
    "\n",
    "@app.route('/update/<update_data>/<pwd>')\n",
    "def query(update_data,pwd):\n",
    "    # print(search_text) #DEBUG\n",
    "    result=_query(update_data,pwd)\n",
    "    return result\n",
    "\n",
    "\n",
    "\n",
    "@app.route('/')\n",
    "def root():\n",
    "    return 'Hello, World!'"
   ]
  },
  {
   "cell_type": "code",
   "execution_count": 31,
   "metadata": {},
   "outputs": [
    {
     "name": "stdout",
     "output_type": "stream",
     "text": [
      " * Serving Flask app '__main__' (lazy loading)\n",
      " * Environment: production\n",
      "   WARNING: This is a development server. Do not use it in a production deployment.\n",
      "   Use a production WSGI server instead.\n",
      " * Debug mode: off\n"
     ]
    },
    {
     "name": "stderr",
     "output_type": "stream",
     "text": [
      " * Running on all addresses.\n",
      "   WARNING: This is a development server. Do not use it in a production deployment.\n",
      " * Running on http://192.168.2.6:5001/ (Press CTRL+C to quit)\n"
     ]
    },
    {
     "name": "stdout",
     "output_type": "stream",
     "text": [
      "ftp://ftpuser@protonix.hu:FtPuSeR007@protonix.hu/public_ftp/ABB_Doc_220312_1_brain.model\n",
      "ABB_Doc_220312_1_brain.model\n"
     ]
    },
    {
     "name": "stderr",
     "output_type": "stream",
     "text": [
      "192.168.2.6 - - [14/Mar/2022 19:35:04] \"GET /update/ABB_Doc_220312_1_brain.model/FtPuSeR007 HTTP/1.1\" 200 -\n"
     ]
    }
   ],
   "source": [
    "if __name__ == '__main__':\n",
    "   porto = int(os.environ.get(\"PORT\", 5000))\n",
    "   app.run(host=\"0.0.0.0\", port=porto)"
   ]
  },
  {
   "cell_type": "code",
   "execution_count": null,
   "metadata": {},
   "outputs": [
    {
     "name": "stdout",
     "output_type": "stream",
     "text": [
      "ABB_Doc_220313_2_brain.zip\n"
     ]
    },
    {
     "ename": "OSError",
     "evalue": "[WinError 17] A rendszer nem tudja a fájlt egy másik lemezmeghajtóra áthelyezni: 'ABB_Doc_220313_2_brain.zip' -> 'D:/tmp/data'",
     "output_type": "error",
     "traceback": [
      "\u001b[1;31m---------------------------------------------------------------------------\u001b[0m",
      "\u001b[1;31mOSError\u001b[0m                                   Traceback (most recent call last)",
      "\u001b[1;32m<ipython-input-10-89f7f5209fc3>\u001b[0m in \u001b[0;36m<module>\u001b[1;34m\u001b[0m\n\u001b[0;32m      5\u001b[0m \u001b[0mprint\u001b[0m\u001b[1;33m(\u001b[0m\u001b[0mfname\u001b[0m\u001b[1;33m)\u001b[0m\u001b[1;33m\u001b[0m\u001b[1;33m\u001b[0m\u001b[0m\n\u001b[0;32m      6\u001b[0m \u001b[0mo\u001b[0m\u001b[1;33m=\u001b[0m\u001b[1;34m\"fname\"\u001b[0m\u001b[1;33m\u001b[0m\u001b[1;33m\u001b[0m\u001b[0m\n\u001b[1;32m----> 7\u001b[1;33m \u001b[0mos\u001b[0m\u001b[1;33m.\u001b[0m\u001b[0mrename\u001b[0m\u001b[1;33m(\u001b[0m\u001b[0mfname\u001b[0m\u001b[1;33m,\u001b[0m\u001b[0m_brain_dir_\u001b[0m\u001b[1;33m+\u001b[0m\u001b[1;34m\"data\"\u001b[0m\u001b[1;33m)\u001b[0m\u001b[1;33m\u001b[0m\u001b[1;33m\u001b[0m\u001b[0m\n\u001b[0m",
      "\u001b[1;31mOSError\u001b[0m: [WinError 17] A rendszer nem tudja a fájlt egy másik lemezmeghajtóra áthelyezni: 'ABB_Doc_220313_2_brain.zip' -> 'D:/tmp/data'"
     ]
    }
   ],
   "source": [
    "data=  \"ABB_Doc_220313_2_brain.zip\"\n",
    "link = 'ftp://ftpuser@protonix.hu:FtPuSeR007@protonix.hu/public_ftp/'+data\n",
    "wget.options=\"-O D:\\tmp\\ABB.zip\"\n",
    "fname=wget.download(link)\n",
    "print(fname)\n",
    "o=\"fname\"\n",
    "shutil.move(fname,_brain_dir_+data)"
   ]
  },
  {
   "cell_type": "code",
   "execution_count": null,
   "metadata": {},
   "outputs": [],
   "source": [
    "import shutil"
   ]
  },
  {
   "cell_type": "code",
   "execution_count": null,
   "metadata": {},
   "outputs": [
    {
     "data": {
      "text/plain": [
       "'D:/tmp/ABB_Doc_220313_2_brain.zip'"
      ]
     },
     "execution_count": 13,
     "metadata": {},
     "output_type": "execute_result"
    }
   ],
   "source": [
    "shutil.move(fname,_brain_dir_+data)"
   ]
  }
 ],
 "metadata": {
  "interpreter": {
   "hash": "5ce7801274b0b37dd0fd5d67dc711627c3fd25ac6676442e98aec8c24f76fbd7"
  },
  "kernelspec": {
   "display_name": "Python 3.8.6 64-bit",
   "language": "python",
   "name": "python3"
  },
  "language_info": {
   "codemirror_mode": {
    "name": "ipython",
    "version": 3
   },
   "file_extension": ".py",
   "mimetype": "text/x-python",
   "name": "python",
   "nbconvert_exporter": "python",
   "pygments_lexer": "ipython3",
   "version": "3.8.6"
  },
  "orig_nbformat": 4
 },
 "nbformat": 4,
 "nbformat_minor": 2
}
