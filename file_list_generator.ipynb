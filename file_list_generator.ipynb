{
 "cells": [
  {
   "cell_type": "code",
   "execution_count": 1,
   "metadata": {},
   "outputs": [],
   "source": [
    "import datetime\n",
    "import os\n",
    "import shutil\n",
    "import pandas as pd"
   ]
  },
  {
   "cell_type": "code",
   "execution_count": 5,
   "metadata": {},
   "outputs": [],
   "source": [
    "def searchfiles(outFileName, extension='.ttf', folder='C:\\\\', deltaTime=3600 * 24):\n",
    "    \"\"\"\n",
    "    ***************************\n",
    "    Listát készít egy adott könyvtárban lévő megadott kiterjesztésű fájlokból rekurzívan.\n",
    "    A listát eltárolja a outFileName -ban megadott helyre\n",
    "    Csak azokat a fájlokat veszi figyelembe, amelyek kora kisebb mint a megadott idő [sec]\n",
    "    ***************************\n",
    "    :param outFileName:     ide menti a kimeneti listát\n",
    "    :param extension:       ezeket a fájlokat keresi\n",
    "    :param folder:          ebben a könyvtárban keres\n",
    "    :param deltaTime:       ilyen korú, vagy fiatalabb fájlokat keresi [sec]-ben kell megadni!!\n",
    "    :return: ---\n",
    "    \"\"\"\n",
    "    \"Create a txt file with all the file of a type\"\n",
    "    currentDateTimeStamp = datetime.datetime.now().timestamp()\n",
    "    # print (currentDateTimeStamp)\n",
    "    with open(outFileName, \"w\", encoding=\"utf-8\") as filewrite:\n",
    "        for r, d, f in os.walk(folder):\n",
    "            for file in f:\n",
    "                if file.endswith(extension):\n",
    "                    # print(r+file)\n",
    "                    fname = r + \"/\" + file\n",
    "                    fileTimeStamp = os.path.getctime(fname)\n",
    "                    # print(fileTimeStamp)\n",
    "                    if (currentDateTimeStamp - fileTimeStamp) <= deltaTime:\n",
    "                        filewrite.write(f\"{fname}\\n\")\n"
   ]
  },
  {
   "cell_type": "code",
   "execution_count": 6,
   "metadata": {},
   "outputs": [],
   "source": [
    "searchfiles(\"D:/arXiv_nlp/arXiv_pdf_list_20220318.csv\",\".pdf\",\"D:/arXiv/\",  3600 * 24*365*25)"
   ]
  },
  {
   "cell_type": "code",
   "execution_count": null,
   "metadata": {},
   "outputs": [],
   "source": []
  },
  {
   "cell_type": "markdown",
   "metadata": {},
   "source": []
  }
 ],
 "metadata": {
  "interpreter": {
   "hash": "e7370f93d1d0cde622a1f8e1c04877d8463912d04d973331ad4851f04de6915a"
  },
  "kernelspec": {
   "display_name": "Python 3.8.10 64-bit",
   "language": "python",
   "name": "python3"
  },
  "language_info": {
   "codemirror_mode": {
    "name": "ipython",
    "version": 3
   },
   "file_extension": ".py",
   "mimetype": "text/x-python",
   "name": "python",
   "nbconvert_exporter": "python",
   "pygments_lexer": "ipython3",
   "version": "3.8.6"
  },
  "orig_nbformat": 4
 },
 "nbformat": 4,
 "nbformat_minor": 2
}
