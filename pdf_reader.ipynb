{
 "cells": [
  {
   "cell_type": "code",
   "execution_count": 16,
   "metadata": {},
   "outputs": [
    {
     "name": "stdout",
     "output_type": "stream",
     "text": [
      "Requirement already satisfied: PyMuPDF in c:\\users\\sipocz\\appdata\\local\\programs\\python\\python38\\lib\\site-packages (1.19.4)\n"
     ]
    },
    {
     "name": "stderr",
     "output_type": "stream",
     "text": [
      "WARNING: You are using pip version 20.3.3; however, version 21.3.1 is available.\n",
      "You should consider upgrading via the 'c:\\users\\sipocz\\appdata\\local\\programs\\python\\python38\\python.exe -m pip install --upgrade pip' command.\n"
     ]
    }
   ],
   "source": [
    "!pip install PyMuPDF"
   ]
  },
  {
   "cell_type": "code",
   "execution_count": 17,
   "metadata": {},
   "outputs": [],
   "source": [
    "import fitz as pymupdf\n"
   ]
  },
  {
   "cell_type": "code",
   "execution_count": 18,
   "metadata": {},
   "outputs": [],
   "source": [
    "_OPERATING_SYSTEM_=\"WINDOWS\"\n",
    "if _OPERATING_SYSTEM_==\"LINUX\":\n",
    "    fname=\"/home/sipocz/Letöltések/s71500rh_manual_en-US_en-US.pdf\"\n",
    "elif _OPERATING_SYSTEM_==\"WINDOWS\":\n",
    "    fname=\"./pdf/s71500rh_manual_en-US_en-US.pdf\"\n"
   ]
  },
  {
   "cell_type": "code",
   "execution_count": 19,
   "metadata": {},
   "outputs": [
    {
     "name": "stdout",
     "output_type": "stream",
     "text": [
      "Page Number: 366\n",
      "Creation Date: D:20210422101802+02'00'\n",
      "Modified Date: D:20210422103408+02'00'\n",
      "\n",
      "Table of Content:\n",
      " [[1, 'S7-1500 S7-1500 R/H redundant system', 1], [1, 'Legal information', 3], [1, 'Preface', 4], [1, 'Table of contents', 8], [1, '1  S7-1500R/H Documentation Guide', 13], [1, '2  New properties/functions', 15], [1, '3  System overview', 19], [2, '3.1 What is the S7-1500R/H redundant system?', 19], [3, '3.1.1 Areas of application', 20], [3, '3.1.2 Operating principle of the S7-1500R/H redundant system', 24], [3, '3.1.3 Plant components and automation levels', 30], [3, '3.1.4 Scalability', 31], [3, '3.1.5 Overview of features', 35], [2, '3.2 Configuration', 36], [3, '3.2.1 Structure of the S7-1500R redundant system', 36], [3, '3.2.2 Structure of the S7-1500H redundant system', 37], [3, '3.2.3 Configuration of a fail-safe system with SIMATIC S7-1500HF', 39], [3, '3.2.4 Components', 41], [2, '3.3 S7-1500 R/H-CPUs', 43], [3, '3.3.1 Overview of the CPU technical specifications', 44], [3, '3.3.2 Redundancy', 45], [3, '3.3.3 Safety', 52], [3, '3.3.4 Security', 55], [3, '3.3.5 Diagnostics', 57], [3, '3.3.6 Trace', 59], [3, '3.3.7 PID control', 61], [2, '3.4 Communication', 64], [3, '3.4.1 System and device IP addresses', 64], [3, '3.4.2 Integrated interfaces for communication', 66], [3, '3.4.3 HMI devices', 67], [2, '3.5 Power supply', 67], [2, '3.6 Software', 68], [3, '3.6.1 TIA Portal', 68], [3, '3.6.2 SINETPLAN', 69], [3, '3.6.3 PRONETA', 69], [1, '4  Application planning', 70], [2, '4.1 Requirements', 70], [2, '4.2 Restrictions compared to the S7-1500 automation system', 72], [2, '4.3 Configuration versions', 74], [3, '4.3.1 S7-1500R/H configuration with IO devices in the PROFINET ring', 75], [3, '4.3.2 S7-1500R/H configuration with switches and linear topology', 77], [2, '4.4 Redundancy scenarios', 79], [3, '4.4.1 Introduction', 79], [3, '4.4.2 Failure of the primary CPU', 80], [3, '4.4.3 Failure of the backup CPU', 82], [3, '4.4.4 Failure of the PROFINET cable in the PROFINET ring', 84], [3, '4.4.5 Specific redundancy scenarios for S7-1500H', 86], [4, '4.4.5.1 Failure of a redundancy connection in S7-1500H', 86], [4, '4.4.5.2 Failure of both redundancy connections in S7-1500H > 55\\xa0ms apart', 88], [4, '4.4.5.3 Failure of both redundancy connections and the PROFINET cable in the PROFINET\\xa0ring', 90], [4, '4.4.5.4 Failure of the two PROFINET cables in the PROFINET ring on the backup CPU', 92], [2, '4.5 Failure scenarios', 93], [3, '4.5.1 Failure of an IO device in the PROFINET ring', 94], [3, '4.5.2 Failure of a switch (with line topology) in the PROFINET ring', 96], [3, '4.5.3 Specific failure scenarios with S7-1500R', 98], [4, '4.5.3.1 Two cable interruptions in the PROFINET ring in S7-1500R > 1500\\xa0ms apart', 98], [4, '4.5.3.2 Two cable interruptions in the PROFINET ring in S7-1500R within ≤ 1500\\xa0ms', 100], [4, '4.5.3.3 Failure of the primary CPU when IO devices have failed in the PROFINET ring', 102], [3, '4.5.4 Specific failure scenarios with S7-1500H', 105], [4, '4.5.4.1 Failure of both redundancy connections in S7-1500H ≤ 55\\xa0ms apart', 105], [4, '4.5.4.2 Failure of one redundancy connection and the primary CPU in S7-1500H', 107], [4, '4.5.4.3 Failure of the two PROFINET cables in the PROFINET ring at the primary CPU', 109], [4, '4.5.4.4 Failure of the redundant system through safe state of the HF-CPUs', 111], [2, '4.6 Hardware configuration', 113], [2, '4.7 Using HMI devices', 114], [1, '5  Installation', 118], [2, '5.1 Basics', 118], [2, '5.2 Installing the mounting rail', 120], [2, '5.3 Installing the standard rail adapter', 124], [2, '5.4 Installing a load current supply', 130], [2, '5.5 Installing R/H-CPUs', 133], [1, '6  Wiring', 135], [2, '6.1 Rules and regulations for operation', 135], [2, '6.2 Operation on grounded infeed', 138], [2, '6.3 Electrical configuration', 141], [2, '6.4 Wiring rules', 142], [2, '6.5 Connecting the supply voltage', 143], [2, '6.6 Connecting the load current supply', 145], [2, '6.7 Connecting the CPU to the load power supply', 146], [2, '6.8 Connecting interfaces for communication with S7-1500R', 148], [3, '6.8.1 Connecting the PROFINET ring to S7-1500', 148], [2, '6.9 Connecting interfaces for communication with S7-1500H', 151], [3, '6.9.1 Connecting redundancy connections (fiber-optic cables)', 151], [4, '6.9.1.1 Synchronization modules for S7-1500H', 151], [4, '6.9.1.2 Selecting fiber-optic cables', 152], [4, '6.9.1.3 Installing fiber-optic cables', 154], [4, '6.9.1.4 Connecting redundancy connections (fiber-optic cables) to S7-1500H', 156], [3, '6.9.2 Connecting the PROFINET ring to S7-1500H', 160], [1, '7  Configuration', 162], [2, '7.1 Configuring the CPU', 162], [2, '7.2 Configuration procedure', 162], [2, '7.3 Project tree', 169], [2, '7.4 Parameters', 170], [2, '7.5 Process images and process image partitions', 170], [3, '7.5.1 Process image - overview', 170], [3, '7.5.2 Updating process image partitions in the user program', 171], [1, '8  Basics of program execution', 173], [2, '8.1 Programming the S7-1500R/H', 173], [2, '8.2 Restrictions', 176], [2, '8.3 Events and OBs', 178], [2, '8.4 Special instructions for S7-1500R/H redundant systems', 184], [3, '8.4.1 Disabling/enabling SYNCUP with the RH_CTRL instruction', 184], [3, '8.4.2 Determining the primary CPU with \"RH_GetPrimaryID\"', 187], [2, '8.5 Asynchronous instructions', 188], [1, '9  Protection', 195], [2, '9.1 Overview of the protection functions', 195], [2, '9.2 Protection of confidential configuration data', 195], [2, '9.3 Configuring access protection for the CPU', 196], [2, '9.4 Using the display to set additional password protection', 200], [2, '9.5 Using the user program to set additional access protection', 200], [2, '9.6 Know-how protection', 201], [2, '9.7 Protection by locking the CPU', 205], [1, '10  Commissioning', 206], [2, '10.1 Overview', 206], [2, '10.2 Check before powering on for the first time', 207], [2, '10.3 Commissioning procedure', 208], [3, '10.3.1 Removing/plugging in SIMATIC memory cards', 209], [3, '10.3.2 First power-on of the CPUs', 212], [3, '10.3.3 CPU pairing', 212], [3, '10.3.4 Redundancy IDs', 214], [3, '10.3.5 Downloading projects to the CPUs', 219], [2, '10.4 Operating and system states', 227], [3, '10.4.1 Overview', 227], [3, '10.4.2 STARTUP operating state', 231], [3, '10.4.3 STOP operating state', 234], [3, '10.4.4 SYNCUP operating state', 234], [3, '10.4.5 RUN operating states', 235], [3, '10.4.6 SYNCUP system state', 236], [3, '10.4.7 System and operating state transitions', 248], [3, '10.4.8 Loss of redundancy', 258], [3, '10.4.9 Displaying and changing the system state', 261], [2, '10.5 CPU memory reset', 264], [3, '10.5.1 Automatic memory reset', 265], [3, '10.5.2 Manual memory reset', 266], [2, '10.6 Backing up and restoring the CPU configuration', 267], [2, '10.7 Time synchronization', 271], [3, '10.7.1 Example: Configuring the NTP server', 273], [2, '10.8 Identification and maintenance data', 274], [3, '10.8.1 Reading out and entering I&M data', 274], [3, '10.8.2 Record structure for I&M data', 276], [3, '10.8.3 Example: Read out firmware version of the CPU with Get_IM_Data', 278], [1, '11  Display', 281], [2, '11.1 CPU display', 281], [1, '12  Maintenance', 290], [2, '12.1 Replacing components of the S7-1500R/H redundant system', 290], [3, '12.1.1 Checking before replacing components', 290], [3, '12.1.2 Replacing defective R/H-CPUs', 293], [3, '12.1.3 Replacing defective redundancy connections', 294], [4, '12.1.3.1 Replacing two defective PROFINET cables with S7-1500R', 295], [4, '12.1.3.2 Replacing a defective redundancy connection with S7-1500H', 296], [4, '12.1.3.3 Replacing defective synchronization module with S7-1500H', 296], [4, '12.1.3.4 Replacing both defective redundancy connections with S7-1500H', 297], [3, '12.1.4 Replacing defective PROFINET cables', 298], [3, '12.1.5 Replacing a defective SIMATIC memory card', 299], [3, '12.1.6 Replace defective load current supply PM', 300], [3, '12.1.7 Replacing defective IO devices/switches', 301], [2, '12.2 Replacing the front cover', 302], [2, '12.3 Replacing the coding element at the power connector of the load current supply', 303], [2, '12.4 Firmware update', 305], [2, '12.5 Resetting CPUs to factory settings', 310], [2, '12.6 Maintenance and repair', 314], [1, '13  Test and service functions', 315], [2, '13.1 Test functions', 315], [2, '13.2 Reading out/saving service data', 321], [1, '14  Technical specifications', 323], [2, '14.1 Standards and Approvals', 323], [2, '14.2 Electromagnetic compatibility', 331], [2, '14.3 Shipping and storage conditions', 333], [2, '14.4 Mechanical and climatic ambient conditions', 334], [2, '14.5 Information on insulation tests, protection class, degree of protection and rated voltage', 337], [2, '14.6 Use of S7-1500R/H in Zone 2 hazardous area', 338], [1, 'A  Dimension drawings', 339], [1, 'B  Accessories/spare parts', 342], [1, 'C  Safety symbols', 344], [2, 'C.1 Safety-related symbols for devices without Ex protection', 344], [2, 'C.2 Safety-related symbols for devices with Ex protection', 345], [1, 'Glossary', 347], [1, ' Index', 362], [2, '2', 362], [2, 'A', 362], [2, 'B', 362], [2, 'C', 362], [2, 'D', 363], [2, 'E', 363], [2, 'F', 363], [2, 'G', 363], [2, 'H', 363], [2, 'I', 363], [2, 'K', 364], [2, 'L', 364], [2, 'M', 364], [2, 'N', 364], [2, 'O', 364], [2, 'P', 364], [2, 'R', 365], [2, 'S', 365], [2, 'T', 366], [2, 'U', 366], [2, 'W', 366]]\n"
     ]
    }
   ],
   "source": [
    "f = pymupdf.open(fname)\n",
    "print('Page Number:', f.page_count)\n",
    "print('Creation Date:', f.metadata['creationDate'])\n",
    "print('Modified Date:', f.metadata['modDate'])\n",
    "print('\\nTable of Content:\\n', [toc for toc in f.get_toc()])\n",
    "f.close()"
   ]
  },
  {
   "cell_type": "code",
   "execution_count": 20,
   "metadata": {},
   "outputs": [],
   "source": [
    "f = pymupdf.open(fname)\n",
    "txt = f.load_page(24).get_text(\"blocks\")\n",
    "f.close()"
   ]
  },
  {
   "cell_type": "code",
   "execution_count": 21,
   "metadata": {},
   "outputs": [],
   "source": [
    "f = pymupdf.open(fname)\n",
    "layout=f.layout()"
   ]
  },
  {
   "cell_type": "code",
   "execution_count": 22,
   "metadata": {},
   "outputs": [
    {
     "name": "stdout",
     "output_type": "stream",
     "text": [
      "None\n"
     ]
    }
   ],
   "source": [
    "print(layout)"
   ]
  },
  {
   "cell_type": "code",
   "execution_count": 23,
   "metadata": {},
   "outputs": [
    {
     "name": "stdout",
     "output_type": "stream",
     "text": [
      "hello\n"
     ]
    }
   ],
   "source": [
    "print(\"hello\")"
   ]
  },
  {
   "cell_type": "code",
   "execution_count": 24,
   "metadata": {},
   "outputs": [
    {
     "name": "stdout",
     "output_type": "stream",
     "text": [
      "[(42.47999954223633, 36.28115463256836, 541.1253051757812, 48.30711364746094, 'System overview \\n \\n', 0, 0), (42.47999954223633, 51.28115463256836, 251.92807006835938, 63.30711364746094, '3.1 What is the S7-1500R/H redundant system? \\n', 1, 0), (42.47999954223633, 739.03955078125, 540.6156005859375, 763.3953857421875, ' \\nS7-1500R/H redundant system \\n24 \\nSystem Manual, 05/2021, A5E41814787-AC \\n', 2, 0), (127.55999755859375, 87.28115844726562, 326.9279479980469, 99.30711364746094, 'The S7-1500R redundant system consists of:  \\n', 3, 0), (127.55999755859375, 105.27706909179688, 244.48338317871094, 117.30302429199219, '• Two S7-1500R CPUs ① \\n', 4, 0), (127.55999755859375, 123.27297973632812, 391.54693603515625, 135.29893493652344, '• A PROFINET ring with the Media Redundancy Protocol ② \\n', 5, 0), (127.55999755859375, 141.26889038085938, 201.22703552246094, 153.2948455810547, '• IO devices ③ \\n', 6, 0), (127.55998229980469, 159.26480102539062, 231.58761596679688, 171.29075622558594, '• Possibly switches ④ \\n', 7, 0), (127.55996704101562, 177.26071166992188, 538.7285766601562, 225.29856872558594, 'A PROFINET ring is required for the S7-1500R redundant system. The two CPUs must be \\ndirectly connected to each other with a PROFINET cable. All nodes can still communicate with \\neach other in the event of an interruption in the ring. All PROFINET devices in the PROFINET \\nring must support media redundancy (MRP).  \\n', 8, 0), (127.55996704101562, 231.26852416992188, 472.7790222167969, 243.2944793701172, 'You can decouple further devices from the PROFINET ring via a ④ switch, e.g.: \\n', 9, 0), (127.5499267578125, 249.26443481445312, 283.6514892578125, 261.2903747558594, '• PROFINET devices with one port \\n', 10, 0), (127.54989624023438, 267.2603454589844, 300.93597412109375, 279.2862854003906, '• Non MRP-capable PROFINET devices \\n', 11, 0), (127.54986572265625, 285.2562561035156, 520.7847900390625, 297.2821960449219, '• PROFINET devices that do not support H-Sync Forwarding, such as standard IO devices \\n', 12, 0), (127.55990600585938, 303.2521667480469, 519.1615600585938, 315.2781066894531, 'The redundancy connections in an S7-1500R system are the PROFINET ring with MRP ②.  \\n', 13, 0), (127.55987548828125, 321.2480773925781, 524.1146850585938, 381.2898864746094, 'One of the two CPUs in the redundant system takes on the role of primary CPU. The other \\nCPU takes on the role of the following CPU (backup CPU). The role of the CPUs can change \\nduring operation. Synchronization of primary and backup CPU ensures rapid switchover \\nbetween CPUs in the event of a failure of the primary CPU. If the primary CPU fails, the \\nbackup CPU takes over control of the process as the new primary CPU. \\n', 14, 0), (127.54986572265625, 387.2598571777344, 506.80487060546875, 423.2937316894531, 'The redundancy connections use part of the bandwidth on the PROFINET cable for the \\nsynchronization of the R-CPUs. This bandwidth is therefore not available for  \\nPROFINET IO communication.  \\n', 15, 0)]\n"
     ]
    }
   ],
   "source": [
    "print(txt)"
   ]
  },
  {
   "cell_type": "code",
   "execution_count": 25,
   "metadata": {},
   "outputs": [],
   "source": [
    "def extract_text(fname,page=0):\n",
    "    '''\n",
    "    load_page.get_text(\"blocks\") feldolgozása\n",
    "    '''\n",
    "  \n",
    "    f = pymupdf.open(fname)\n",
    "    txt = f.load_page(page).get_text(\"blocks\")\n",
    "    if page==0:\n",
    "        allpage=f.page_count\n",
    "    print('Page Number:', f.page_count)\n",
    "    print('Creation Date:', f.metadata['creationDate'])\n",
    "    print('Modified Date:', f.metadata['modDate'])\n",
    "    #print('\\nTable of Content:\\n', [toc for toc in f.get_toc()])\n",
    "    \n",
    "    txt_out=[]\n",
    "    for i in range(allpage):\n",
    "        txt = f.load_page(i).get_text(\"blocks\")\n",
    "        for line_i in txt:\n",
    "            txt_i=line_i[4].replace(\"\\n\",\" \")\n",
    "            txt_out.append(txt_i)\n",
    "            #print(txt_i)\n",
    "    return(txt_out)\n",
    "\n"
   ]
  },
  {
   "cell_type": "code",
   "execution_count": 26,
   "metadata": {},
   "outputs": [
    {
     "name": "stdout",
     "output_type": "stream",
     "text": [
      "Page Number: 366\n",
      "Creation Date: D:20210422101802+02'00'\n",
      "Modified Date: D:20210422103408+02'00'\n"
     ]
    }
   ],
   "source": [
    "text_24=extract_text(fname)"
   ]
  },
  {
   "cell_type": "code",
   "execution_count": 27,
   "metadata": {},
   "outputs": [
    {
     "name": "stdout",
     "output_type": "stream",
     "text": [
      "7763\n"
     ]
    }
   ],
   "source": [
    "print(len(text_24))"
   ]
  },
  {
   "cell_type": "code",
   "execution_count": 28,
   "metadata": {},
   "outputs": [
    {
     "name": "stdout",
     "output_type": "stream",
     "text": [
      "• Safety-relevant data with fail-safe modules of the IO devices  \n",
      "• Non-safety-relevant data with non-fail-safe modules of the IO devices  \n",
      "  System overview  \n",
      "  3.2 Configuration  \n",
      "S7-1500R/H redundant system  \n",
      "System Manual, 05/2021, A5E41814787-AC  39  \n",
      "Configuration example  \n",
      "<image: ICCBased(RGB,Artifex Software sRGB ICC Profile), width: 851, height: 849, bpc: 8>\n",
      "  \n",
      "①  CPU 1518HF-4 PN  \n",
      "②  Redundancy connections (fiber-optic cables)  \n",
      "③  ET 200SP IO device  \n",
      "④  PROFINET cable (PROFINET ring)  \n",
      "⑤  ET 200MP IO device with fail-safe and non-fail-safe modules  \n",
      "⑥  ET 200SP IO device with fail-safe and non-fail-safe modules  \n",
      "Figure 3-12  Example configuration of redundant system with two 1518HF-4 PN CPUs  \n",
      "Reference  \n",
      "You can find additional information on the fail-safe modules for ET 200SP/ET 200MP in the  associated system and device manuals.  \n",
      "System overview    \n",
      "3.2 Configuration  \n",
      "  S7-1500R/H redundant system  40  System Manual, 05/2021, A5E41814787-AC  \n",
      "3.2.4  Components  \n",
      "Components of the S7-1500R/H redundant system  \n"
     ]
    }
   ],
   "source": [
    "for i in range(800,823):\n",
    "    print(text_24[i])"
   ]
  },
  {
   "cell_type": "code",
   "execution_count": 29,
   "metadata": {},
   "outputs": [],
   "source": [
    "f = pymupdf.open(fname)\n",
    "pno=24\n",
    "page = f.load_page(pno)  # loads page number 'pno' of the document (0-based)\n",
    "page = f[pno]  # the short form"
   ]
  },
  {
   "cell_type": "code",
   "execution_count": 30,
   "metadata": {},
   "outputs": [],
   "source": [
    "pix=page.get_pixmap()"
   ]
  },
  {
   "cell_type": "code",
   "execution_count": 31,
   "metadata": {},
   "outputs": [],
   "source": [
    "pix.save(f\"fname_{pno}.png\")"
   ]
  },
  {
   "cell_type": "code",
   "execution_count": 32,
   "metadata": {},
   "outputs": [
    {
     "name": "stdout",
     "output_type": "stream",
     "text": [
      "Requirement already satisfied: gensim in c:\\users\\sipocz\\appdata\\local\\programs\\python\\python38\\lib\\site-packages (4.1.2)\n",
      "Requirement already satisfied: numpy>=1.17.0 in c:\\users\\sipocz\\appdata\\local\\programs\\python\\python38\\lib\\site-packages (from gensim) (1.19.4)\n",
      "Requirement already satisfied: scipy>=0.18.1 in c:\\users\\sipocz\\appdata\\local\\programs\\python\\python38\\lib\\site-packages (from gensim) (1.5.4)\n",
      "Requirement already satisfied: smart-open>=1.8.1 in c:\\users\\sipocz\\appdata\\local\\programs\\python\\python38\\lib\\site-packages (from gensim) (5.2.1)\n",
      "Requirement already satisfied: Cython==0.29.23 in c:\\users\\sipocz\\appdata\\local\\programs\\python\\python38\\lib\\site-packages (from gensim) (0.29.23)\n"
     ]
    },
    {
     "name": "stderr",
     "output_type": "stream",
     "text": [
      "WARNING: You are using pip version 20.3.3; however, version 21.3.1 is available.\n",
      "You should consider upgrading via the 'c:\\users\\sipocz\\appdata\\local\\programs\\python\\python38\\python.exe -m pip install --upgrade pip' command.\n",
      "WARNING: You are using pip version 20.3.3; however, version 21.3.1 is available.\n",
      "You should consider upgrading via the 'c:\\users\\sipocz\\appdata\\local\\programs\\python\\python38\\python.exe -m pip install --upgrade pip' command.\n"
     ]
    },
    {
     "name": "stdout",
     "output_type": "stream",
     "text": [
      "Requirement already satisfied: nltk in c:\\users\\sipocz\\appdata\\local\\programs\\python\\python38\\lib\\site-packages (3.6.7)\n",
      "Requirement already satisfied: joblib in c:\\users\\sipocz\\appdata\\local\\programs\\python\\python38\\lib\\site-packages (from nltk) (0.17.0)\n",
      "Requirement already satisfied: regex>=2021.8.3 in c:\\users\\sipocz\\appdata\\local\\programs\\python\\python38\\lib\\site-packages (from nltk) (2021.11.10)\n",
      "Requirement already satisfied: tqdm in c:\\users\\sipocz\\appdata\\local\\programs\\python\\python38\\lib\\site-packages (from nltk) (4.52.0)\n",
      "Requirement already satisfied: click in c:\\users\\sipocz\\appdata\\local\\programs\\python\\python38\\lib\\site-packages (from nltk) (7.1.2)\n"
     ]
    }
   ],
   "source": [
    "!pip install gensim\n",
    "!pip install nltk\n",
    "#Importing libraries\n",
    "from nltk.tokenize import sent_tokenize, word_tokenize\n",
    "import gensim\n",
    "from gensim.models import Word2Vec"
   ]
  },
  {
   "cell_type": "code",
   "execution_count": 33,
   "metadata": {},
   "outputs": [],
   "source": [
    "import nltk\n",
    "# nltk.download() NLTK library download"
   ]
  },
  {
   "cell_type": "code",
   "execution_count": 34,
   "metadata": {},
   "outputs": [
    {
     "name": "stdout",
     "output_type": "stream",
     "text": [
      "<class 'list'>\n"
     ]
    }
   ],
   "source": [
    "print(type(text_24))"
   ]
  },
  {
   "cell_type": "code",
   "execution_count": 35,
   "metadata": {},
   "outputs": [],
   "source": [
    "corpus_text = corpus_text = \"\".join(text_24[:])\n",
    "data_token = []\n",
    "# iterate over each sentence in the document for i in sent_tokenize(corpus_text):\n",
    "for i in sent_tokenize(corpus_text):\n",
    "    \n",
    "    temp = []\n",
    "    # tokenize the sentence into words\n",
    "    for j in word_tokenize(i):\n",
    "        temp.append(j.lower())\n",
    "    data_token.append(temp)"
   ]
  },
  {
   "cell_type": "code",
   "execution_count": 36,
   "metadata": {},
   "outputs": [],
   "source": [
    "#data_token"
   ]
  },
  {
   "cell_type": "code",
   "execution_count": 45,
   "metadata": {},
   "outputs": [],
   "source": [
    "model1 = gensim.models.Word2Vec(data_token, vector_size=10,  sg=1,)"
   ]
  },
  {
   "cell_type": "code",
   "execution_count": null,
   "metadata": {},
   "outputs": [],
   "source": []
  },
  {
   "cell_type": "code",
   "execution_count": 46,
   "metadata": {},
   "outputs": [
    {
     "data": {
      "text/plain": [
       "array([ 0.675698  , -0.06491432, -0.3562087 , -0.08496   ,  0.51007575,\n",
       "       -0.03396389,  0.44135606,  0.10632135, -1.0045525 , -0.5491514 ],\n",
       "      dtype=float32)"
      ]
     },
     "execution_count": 46,
     "metadata": {},
     "output_type": "execute_result"
    }
   ],
   "source": [
    "model1.wv[\"siemens\"]"
   ]
  },
  {
   "cell_type": "code",
   "execution_count": 47,
   "metadata": {},
   "outputs": [
    {
     "data": {
      "text/plain": [
       "array([ 0.63065517, -0.10847007,  0.27881172,  0.0288225 ,  0.32017797,\n",
       "       -0.29160717,  0.6661251 ,  0.42874354, -0.7910927 , -0.14127617],\n",
       "      dtype=float32)"
      ]
     },
     "execution_count": 47,
     "metadata": {},
     "output_type": "execute_result"
    }
   ],
   "source": [
    "model1.wv[\"s7\"]"
   ]
  },
  {
   "cell_type": "code",
   "execution_count": null,
   "metadata": {},
   "outputs": [],
   "source": []
  },
  {
   "cell_type": "code",
   "execution_count": 48,
   "metadata": {},
   "outputs": [
    {
     "name": "stdout",
     "output_type": "stream",
     "text": [
      "0 the\n",
      "100 card\n",
      "200 installation\n",
      "300 contents\n",
      "400 200mp\n",
      "500 general\n",
      "600 task\n",
      "700 addition\n",
      "800 successful\n",
      "900 3.5\n",
      "1000 aborts\n",
      "1100 notice\n",
      "1200 enclosure\n",
      "1300 laddr\n",
      "1400 recording\n",
      "1500 drop-down\n",
      "1600 powering\n"
     ]
    }
   ],
   "source": [
    "for index, word in enumerate (model1.wv.index_to_key):\n",
    "    if index % 100==0:\n",
    "        print(index,word)"
   ]
  },
  {
   "cell_type": "code",
   "execution_count": 54,
   "metadata": {},
   "outputs": [
    {
     "data": {
      "text/plain": [
       "[('7.2', 0.9705953001976013),\n",
       " ('a5e41814787-ac', 0.966221809387207),\n",
       " ('manual', 0.9615107178688049),\n",
       " ('05/2021', 0.9574476480484009),\n",
       " ('10.3', 0.954512357711792),\n",
       " ('features', 0.9526990652084351),\n",
       " ('approvals', 0.9495055675506592),\n",
       " ('infeed', 0.9475627541542053),\n",
       " ('s7-1500r/h', 0.9452190399169922),\n",
       " ('3.2', 0.9444774389266968)]"
      ]
     },
     "execution_count": 54,
     "metadata": {},
     "output_type": "execute_result"
    }
   ],
   "source": [
    "model1.wv.most_similar(\"12.1\")"
   ]
  },
  {
   "cell_type": "code",
   "execution_count": 50,
   "metadata": {},
   "outputs": [
    {
     "data": {
      "text/plain": [
       "[('fm', 0.973659336566925),\n",
       " ('marked', 0.973319411277771),\n",
       " ('external', 0.9728752970695496),\n",
       " ('radio', 0.9694380760192871),\n",
       " ('shorter', 0.9679370522499084),\n",
       " ('lists', 0.9646331071853638),\n",
       " ('diameter', 0.9645074605941772),\n",
       " ('administration', 0.9628579616546631),\n",
       " ('substitute', 0.9623192548751831),\n",
       " ('enclosure', 0.9621286988258362)]"
      ]
     },
     "execution_count": 50,
     "metadata": {},
     "output_type": "execute_result"
    }
   ],
   "source": [
    "model1.wv.most_similar(\"design\")"
   ]
  },
  {
   "cell_type": "code",
   "execution_count": 51,
   "metadata": {},
   "outputs": [
    {
     "data": {
      "text/plain": [
       "[('8-', 0.954961895942688),\n",
       " ('requirements', 0.9529446363449097),\n",
       " ('meets', 0.9524385333061218),\n",
       " ('10.8', 0.9402968287467957),\n",
       " ('electromagnetic', 0.9387511014938354),\n",
       " ('137', 0.9378561973571777),\n",
       " ('9.6', 0.9352551698684692),\n",
       " ('special', 0.9312949776649475),\n",
       " ('standards', 0.9284592866897583),\n",
       " ('336', 0.9251601099967957)]"
      ]
     },
     "execution_count": 51,
     "metadata": {},
     "output_type": "execute_result"
    }
   ],
   "source": [
    "model1.wv.most_similar(\"table\")"
   ]
  },
  {
   "cell_type": "code",
   "execution_count": null,
   "metadata": {},
   "outputs": [],
   "source": []
  }
 ],
 "metadata": {
  "interpreter": {
   "hash": "5ce7801274b0b37dd0fd5d67dc711627c3fd25ac6676442e98aec8c24f76fbd7"
  },
  "kernelspec": {
   "display_name": "Python 3",
   "language": "python",
   "name": "python3"
  },
  "language_info": {
   "codemirror_mode": {
    "name": "ipython",
    "version": 3
   },
   "file_extension": ".py",
   "mimetype": "text/x-python",
   "name": "python",
   "nbconvert_exporter": "python",
   "pygments_lexer": "ipython3",
   "version": "3.8.6"
  }
 },
 "nbformat": 4,
 "nbformat_minor": 4
}
