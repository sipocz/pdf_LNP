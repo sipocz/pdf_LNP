{
 "cells": [
  {
   "cell_type": "code",
   "execution_count": 16,
   "metadata": {},
   "outputs": [
    {
     "name": "stdout",
     "output_type": "stream",
     "text": [
      "Requirement already satisfied: PyMuPDF in c:\\users\\sipocz\\appdata\\local\\programs\\python\\python38\\lib\\site-packages (1.19.4)\n"
     ]
    },
    {
     "name": "stderr",
     "output_type": "stream",
     "text": [
      "WARNING: You are using pip version 20.3.3; however, version 21.3.1 is available.\n",
      "You should consider upgrading via the 'c:\\users\\sipocz\\appdata\\local\\programs\\python\\python38\\python.exe -m pip install --upgrade pip' command.\n"
     ]
    }
   ],
   "source": [
    "!pip install PyMuPDF"
   ]
  },
  {
   "cell_type": "code",
   "execution_count": 17,
   "metadata": {},
   "outputs": [],
   "source": [
    "import fitz as pymupdf\n"
   ]
  },
  {
   "cell_type": "code",
   "execution_count": 18,
   "metadata": {},
   "outputs": [],
   "source": [
    "_OPERATING_SYSTEM_=\"WINDOWS\"\n",
    "if _OPERATING_SYSTEM_==\"LINUX\":\n",
    "    fname=\"/home/sipocz/Letöltések/s71500rh_manual_en-US_en-US.pdf\"\n",
    "elif _OPERATING_SYSTEM_==\"WINDOWS\":\n",
    "    fname=\"./pdf/s71500rh_manual_en-US_en-US.pdf\"\n"
   ]
  },
  {
   "cell_type": "code",
   "execution_count": 19,
   "metadata": {},
   "outputs": [
    {
     "name": "stdout",
     "output_type": "stream",
     "text": [
      "Page Number: 366\n",
      "Creation Date: D:20210422101802+02'00'\n",
      "Modified Date: D:20210422103408+02'00'\n",
      "\n",
      "Table of Content:\n",
      " [[1, 'S7-1500 S7-1500 R/H redundant system', 1], [1, 'Legal information', 3], [1, 'Preface', 4], [1, 'Table of contents', 8], [1, '1  S7-1500R/H Documentation Guide', 13], [1, '2  New properties/functions', 15], [1, '3  System overview', 19], [2, '3.1 What is the S7-1500R/H redundant system?', 19], [3, '3.1.1 Areas of application', 20], [3, '3.1.2 Operating principle of the S7-1500R/H redundant system', 24], [3, '3.1.3 Plant components and automation levels', 30], [3, '3.1.4 Scalability', 31], [3, '3.1.5 Overview of features', 35], [2, '3.2 Configuration', 36], [3, '3.2.1 Structure of the S7-1500R redundant system', 36], [3, '3.2.2 Structure of the S7-1500H redundant system', 37], [3, '3.2.3 Configuration of a fail-safe system with SIMATIC S7-1500HF', 39], [3, '3.2.4 Components', 41], [2, '3.3 S7-1500 R/H-CPUs', 43], [3, '3.3.1 Overview of the CPU technical specifications', 44], [3, '3.3.2 Redundancy', 45], [3, '3.3.3 Safety', 52], [3, '3.3.4 Security', 55], [3, '3.3.5 Diagnostics', 57], [3, '3.3.6 Trace', 59], [3, '3.3.7 PID control', 61], [2, '3.4 Communication', 64], [3, '3.4.1 System and device IP addresses', 64], [3, '3.4.2 Integrated interfaces for communication', 66], [3, '3.4.3 HMI devices', 67], [2, '3.5 Power supply', 67], [2, '3.6 Software', 68], [3, '3.6.1 TIA Portal', 68], [3, '3.6.2 SINETPLAN', 69], [3, '3.6.3 PRONETA', 69], [1, '4  Application planning', 70], [2, '4.1 Requirements', 70], [2, '4.2 Restrictions compared to the S7-1500 automation system', 72], [2, '4.3 Configuration versions', 74], [3, '4.3.1 S7-1500R/H configuration with IO devices in the PROFINET ring', 75], [3, '4.3.2 S7-1500R/H configuration with switches and linear topology', 77], [2, '4.4 Redundancy scenarios', 79], [3, '4.4.1 Introduction', 79], [3, '4.4.2 Failure of the primary CPU', 80], [3, '4.4.3 Failure of the backup CPU', 82], [3, '4.4.4 Failure of the PROFINET cable in the PROFINET ring', 84], [3, '4.4.5 Specific redundancy scenarios for S7-1500H', 86], [4, '4.4.5.1 Failure of a redundancy connection in S7-1500H', 86], [4, '4.4.5.2 Failure of both redundancy connections in S7-1500H > 55\\xa0ms apart', 88], [4, '4.4.5.3 Failure of both redundancy connections and the PROFINET cable in the PROFINET\\xa0ring', 90], [4, '4.4.5.4 Failure of the two PROFINET cables in the PROFINET ring on the backup CPU', 92], [2, '4.5 Failure scenarios', 93], [3, '4.5.1 Failure of an IO device in the PROFINET ring', 94], [3, '4.5.2 Failure of a switch (with line topology) in the PROFINET ring', 96], [3, '4.5.3 Specific failure scenarios with S7-1500R', 98], [4, '4.5.3.1 Two cable interruptions in the PROFINET ring in S7-1500R > 1500\\xa0ms apart', 98], [4, '4.5.3.2 Two cable interruptions in the PROFINET ring in S7-1500R within ≤ 1500\\xa0ms', 100], [4, '4.5.3.3 Failure of the primary CPU when IO devices have failed in the PROFINET ring', 102], [3, '4.5.4 Specific failure scenarios with S7-1500H', 105], [4, '4.5.4.1 Failure of both redundancy connections in S7-1500H ≤ 55\\xa0ms apart', 105], [4, '4.5.4.2 Failure of one redundancy connection and the primary CPU in S7-1500H', 107], [4, '4.5.4.3 Failure of the two PROFINET cables in the PROFINET ring at the primary CPU', 109], [4, '4.5.4.4 Failure of the redundant system through safe state of the HF-CPUs', 111], [2, '4.6 Hardware configuration', 113], [2, '4.7 Using HMI devices', 114], [1, '5  Installation', 118], [2, '5.1 Basics', 118], [2, '5.2 Installing the mounting rail', 120], [2, '5.3 Installing the standard rail adapter', 124], [2, '5.4 Installing a load current supply', 130], [2, '5.5 Installing R/H-CPUs', 133], [1, '6  Wiring', 135], [2, '6.1 Rules and regulations for operation', 135], [2, '6.2 Operation on grounded infeed', 138], [2, '6.3 Electrical configuration', 141], [2, '6.4 Wiring rules', 142], [2, '6.5 Connecting the supply voltage', 143], [2, '6.6 Connecting the load current supply', 145], [2, '6.7 Connecting the CPU to the load power supply', 146], [2, '6.8 Connecting interfaces for communication with S7-1500R', 148], [3, '6.8.1 Connecting the PROFINET ring to S7-1500', 148], [2, '6.9 Connecting interfaces for communication with S7-1500H', 151], [3, '6.9.1 Connecting redundancy connections (fiber-optic cables)', 151], [4, '6.9.1.1 Synchronization modules for S7-1500H', 151], [4, '6.9.1.2 Selecting fiber-optic cables', 152], [4, '6.9.1.3 Installing fiber-optic cables', 154], [4, '6.9.1.4 Connecting redundancy connections (fiber-optic cables) to S7-1500H', 156], [3, '6.9.2 Connecting the PROFINET ring to S7-1500H', 160], [1, '7  Configuration', 162], [2, '7.1 Configuring the CPU', 162], [2, '7.2 Configuration procedure', 162], [2, '7.3 Project tree', 169], [2, '7.4 Parameters', 170], [2, '7.5 Process images and process image partitions', 170], [3, '7.5.1 Process image - overview', 170], [3, '7.5.2 Updating process image partitions in the user program', 171], [1, '8  Basics of program execution', 173], [2, '8.1 Programming the S7-1500R/H', 173], [2, '8.2 Restrictions', 176], [2, '8.3 Events and OBs', 178], [2, '8.4 Special instructions for S7-1500R/H redundant systems', 184], [3, '8.4.1 Disabling/enabling SYNCUP with the RH_CTRL instruction', 184], [3, '8.4.2 Determining the primary CPU with \"RH_GetPrimaryID\"', 187], [2, '8.5 Asynchronous instructions', 188], [1, '9  Protection', 195], [2, '9.1 Overview of the protection functions', 195], [2, '9.2 Protection of confidential configuration data', 195], [2, '9.3 Configuring access protection for the CPU', 196], [2, '9.4 Using the display to set additional password protection', 200], [2, '9.5 Using the user program to set additional access protection', 200], [2, '9.6 Know-how protection', 201], [2, '9.7 Protection by locking the CPU', 205], [1, '10  Commissioning', 206], [2, '10.1 Overview', 206], [2, '10.2 Check before powering on for the first time', 207], [2, '10.3 Commissioning procedure', 208], [3, '10.3.1 Removing/plugging in SIMATIC memory cards', 209], [3, '10.3.2 First power-on of the CPUs', 212], [3, '10.3.3 CPU pairing', 212], [3, '10.3.4 Redundancy IDs', 214], [3, '10.3.5 Downloading projects to the CPUs', 219], [2, '10.4 Operating and system states', 227], [3, '10.4.1 Overview', 227], [3, '10.4.2 STARTUP operating state', 231], [3, '10.4.3 STOP operating state', 234], [3, '10.4.4 SYNCUP operating state', 234], [3, '10.4.5 RUN operating states', 235], [3, '10.4.6 SYNCUP system state', 236], [3, '10.4.7 System and operating state transitions', 248], [3, '10.4.8 Loss of redundancy', 258], [3, '10.4.9 Displaying and changing the system state', 261], [2, '10.5 CPU memory reset', 264], [3, '10.5.1 Automatic memory reset', 265], [3, '10.5.2 Manual memory reset', 266], [2, '10.6 Backing up and restoring the CPU configuration', 267], [2, '10.7 Time synchronization', 271], [3, '10.7.1 Example: Configuring the NTP server', 273], [2, '10.8 Identification and maintenance data', 274], [3, '10.8.1 Reading out and entering I&M data', 274], [3, '10.8.2 Record structure for I&M data', 276], [3, '10.8.3 Example: Read out firmware version of the CPU with Get_IM_Data', 278], [1, '11  Display', 281], [2, '11.1 CPU display', 281], [1, '12  Maintenance', 290], [2, '12.1 Replacing components of the S7-1500R/H redundant system', 290], [3, '12.1.1 Checking before replacing components', 290], [3, '12.1.2 Replacing defective R/H-CPUs', 293], [3, '12.1.3 Replacing defective redundancy connections', 294], [4, '12.1.3.1 Replacing two defective PROFINET cables with S7-1500R', 295], [4, '12.1.3.2 Replacing a defective redundancy connection with S7-1500H', 296], [4, '12.1.3.3 Replacing defective synchronization module with S7-1500H', 296], [4, '12.1.3.4 Replacing both defective redundancy connections with S7-1500H', 297], [3, '12.1.4 Replacing defective PROFINET cables', 298], [3, '12.1.5 Replacing a defective SIMATIC memory card', 299], [3, '12.1.6 Replace defective load current supply PM', 300], [3, '12.1.7 Replacing defective IO devices/switches', 301], [2, '12.2 Replacing the front cover', 302], [2, '12.3 Replacing the coding element at the power connector of the load current supply', 303], [2, '12.4 Firmware update', 305], [2, '12.5 Resetting CPUs to factory settings', 310], [2, '12.6 Maintenance and repair', 314], [1, '13  Test and service functions', 315], [2, '13.1 Test functions', 315], [2, '13.2 Reading out/saving service data', 321], [1, '14  Technical specifications', 323], [2, '14.1 Standards and Approvals', 323], [2, '14.2 Electromagnetic compatibility', 331], [2, '14.3 Shipping and storage conditions', 333], [2, '14.4 Mechanical and climatic ambient conditions', 334], [2, '14.5 Information on insulation tests, protection class, degree of protection and rated voltage', 337], [2, '14.6 Use of S7-1500R/H in Zone 2 hazardous area', 338], [1, 'A  Dimension drawings', 339], [1, 'B  Accessories/spare parts', 342], [1, 'C  Safety symbols', 344], [2, 'C.1 Safety-related symbols for devices without Ex protection', 344], [2, 'C.2 Safety-related symbols for devices with Ex protection', 345], [1, 'Glossary', 347], [1, ' Index', 362], [2, '2', 362], [2, 'A', 362], [2, 'B', 362], [2, 'C', 362], [2, 'D', 363], [2, 'E', 363], [2, 'F', 363], [2, 'G', 363], [2, 'H', 363], [2, 'I', 363], [2, 'K', 364], [2, 'L', 364], [2, 'M', 364], [2, 'N', 364], [2, 'O', 364], [2, 'P', 364], [2, 'R', 365], [2, 'S', 365], [2, 'T', 366], [2, 'U', 366], [2, 'W', 366]]\n"
     ]
    }
   ],
   "source": [
    "f = pymupdf.open(fname)\n",
    "print('Page Number:', f.page_count)\n",
    "print('Creation Date:', f.metadata['creationDate'])\n",
    "print('Modified Date:', f.metadata['modDate'])\n",
    "print('\\nTable of Content:\\n', [toc for toc in f.get_toc()])\n",
    "f.close()"
   ]
  },
  {
   "cell_type": "code",
   "execution_count": 20,
   "metadata": {},
   "outputs": [],
   "source": [
    "f = pymupdf.open(fname)\n",
    "txt = f.load_page(24).get_text(\"blocks\")\n",
    "f.close()"
   ]
  },
  {
   "cell_type": "code",
   "execution_count": 21,
   "metadata": {},
   "outputs": [],
   "source": [
    "f = pymupdf.open(fname)\n",
    "layout=f.layout()"
   ]
  },
  {
   "cell_type": "code",
   "execution_count": 22,
   "metadata": {},
   "outputs": [
    {
     "name": "stdout",
     "output_type": "stream",
     "text": [
      "None\n"
     ]
    }
   ],
   "source": [
    "print(layout)"
   ]
  },
  {
   "cell_type": "code",
   "execution_count": 23,
   "metadata": {},
   "outputs": [
    {
     "name": "stdout",
     "output_type": "stream",
     "text": [
      "hello\n"
     ]
    }
   ],
   "source": [
    "print(\"hello\")"
   ]
  },
  {
   "cell_type": "code",
   "execution_count": 24,
   "metadata": {},
   "outputs": [
    {
     "name": "stdout",
     "output_type": "stream",
     "text": [
      "[(42.47999954223633, 36.28115463256836, 541.1253051757812, 48.30711364746094, 'System overview \\n \\n', 0, 0), (42.47999954223633, 51.28115463256836, 251.92807006835938, 63.30711364746094, '3.1 What is the S7-1500R/H redundant system? \\n', 1, 0), (42.47999954223633, 739.03955078125, 540.6156005859375, 763.3953857421875, ' \\nS7-1500R/H redundant system \\n24 \\nSystem Manual, 05/2021, A5E41814787-AC \\n', 2, 0), (127.55999755859375, 87.28115844726562, 326.9279479980469, 99.30711364746094, 'The S7-1500R redundant system consists of:  \\n', 3, 0), (127.55999755859375, 105.27706909179688, 244.48338317871094, 117.30302429199219, '• Two S7-1500R CPUs ① \\n', 4, 0), (127.55999755859375, 123.27297973632812, 391.54693603515625, 135.29893493652344, '• A PROFINET ring with the Media Redundancy Protocol ② \\n', 5, 0), (127.55999755859375, 141.26889038085938, 201.22703552246094, 153.2948455810547, '• IO devices ③ \\n', 6, 0), (127.55998229980469, 159.26480102539062, 231.58761596679688, 171.29075622558594, '• Possibly switches ④ \\n', 7, 0), (127.55996704101562, 177.26071166992188, 538.7285766601562, 225.29856872558594, 'A PROFINET ring is required for the S7-1500R redundant system. The two CPUs must be \\ndirectly connected to each other with a PROFINET cable. All nodes can still communicate with \\neach other in the event of an interruption in the ring. All PROFINET devices in the PROFINET \\nring must support media redundancy (MRP).  \\n', 8, 0), (127.55996704101562, 231.26852416992188, 472.7790222167969, 243.2944793701172, 'You can decouple further devices from the PROFINET ring via a ④ switch, e.g.: \\n', 9, 0), (127.5499267578125, 249.26443481445312, 283.6514892578125, 261.2903747558594, '• PROFINET devices with one port \\n', 10, 0), (127.54989624023438, 267.2603454589844, 300.93597412109375, 279.2862854003906, '• Non MRP-capable PROFINET devices \\n', 11, 0), (127.54986572265625, 285.2562561035156, 520.7847900390625, 297.2821960449219, '• PROFINET devices that do not support H-Sync Forwarding, such as standard IO devices \\n', 12, 0), (127.55990600585938, 303.2521667480469, 519.1615600585938, 315.2781066894531, 'The redundancy connections in an S7-1500R system are the PROFINET ring with MRP ②.  \\n', 13, 0), (127.55987548828125, 321.2480773925781, 524.1146850585938, 381.2898864746094, 'One of the two CPUs in the redundant system takes on the role of primary CPU. The other \\nCPU takes on the role of the following CPU (backup CPU). The role of the CPUs can change \\nduring operation. Synchronization of primary and backup CPU ensures rapid switchover \\nbetween CPUs in the event of a failure of the primary CPU. If the primary CPU fails, the \\nbackup CPU takes over control of the process as the new primary CPU. \\n', 14, 0), (127.54986572265625, 387.2598571777344, 506.80487060546875, 423.2937316894531, 'The redundancy connections use part of the bandwidth on the PROFINET cable for the \\nsynchronization of the R-CPUs. This bandwidth is therefore not available for  \\nPROFINET IO communication.  \\n', 15, 0)]\n"
     ]
    }
   ],
   "source": [
    "print(txt)"
   ]
  },
  {
   "cell_type": "code",
   "execution_count": 83,
   "metadata": {},
   "outputs": [],
   "source": [
    "def extract_text(fname,page=0):\n",
    "    '''\n",
    "    load_page.get_text(\"blocks\") feldolgozása\n",
    "    '''\n",
    "  \n",
    "\n",
    "    f = pymupdf.open(fname)\n",
    "    txt = f.load_page(page).get_text(\"blocks\")\n",
    "    if page==0:\n",
    "        allpage=f.page_count\n",
    "    print('Page Number:', f.page_count)\n",
    "    print('Creation Date:', f.metadata['creationDate'])\n",
    "    print('Modified Date:', f.metadata['modDate'])\n",
    "    #print('\\nTable of Content:\\n', [toc for toc in f.get_toc()])\n",
    "    \n",
    "    txt_out=[]\n",
    "    for i in range(allpage):\n",
    "        txt = f.load_page(i).get_text(\"blocks\")\n",
    "        for line_i in txt:\n",
    "            txt_i=line_i[4].replace(\"\\n\",\" \")\n",
    "            txt_out.append(txt_i)\n",
    "            #print(txt_i)\n",
    "    return(txt_out)\n",
    "\n"
   ]
  },
  {
   "cell_type": "code",
   "execution_count": 61,
   "metadata": {},
   "outputs": [
    {
     "name": "stdout",
     "output_type": "stream",
     "text": [
      "Page Number: 366\n",
      "Creation Date: D:20210422101802+02'00'\n",
      "Modified Date: D:20210422103408+02'00'\n"
     ]
    }
   ],
   "source": [
    "text_24=extract_text(fname)"
   ]
  },
  {
   "cell_type": "code",
   "execution_count": 62,
   "metadata": {},
   "outputs": [
    {
     "name": "stdout",
     "output_type": "stream",
     "text": [
      "7763\n"
     ]
    }
   ],
   "source": [
    "print(len(text_24))"
   ]
  },
  {
   "cell_type": "code",
   "execution_count": 64,
   "metadata": {},
   "outputs": [
    {
     "name": "stdout",
     "output_type": "stream",
     "text": [
      "• Safety-relevant data with fail-safe modules of the IO devices  \n",
      "• Non-safety-relevant data with non-fail-safe modules of the IO devices  \n",
      "  System overview  \n",
      "  3.2 Configuration  \n",
      "S7-1500R/H redundant system  \n",
      "System Manual, 05/2021, A5E41814787-AC  39  \n",
      "Configuration example  \n",
      "<image: ICCBased(RGB,Artifex Software sRGB ICC Profile), width: 851, height: 849, bpc: 8>\n",
      "  \n",
      "①  CPU 1518HF-4 PN  \n",
      "②  Redundancy connections (fiber-optic cables)  \n",
      "③  ET 200SP IO device  \n",
      "④  PROFINET cable (PROFINET ring)  \n",
      "⑤  ET 200MP IO device with fail-safe and non-fail-safe modules  \n",
      "⑥  ET 200SP IO device with fail-safe and non-fail-safe modules  \n",
      "Figure 3-12  Example configuration of redundant system with two 1518HF-4 PN CPUs  \n",
      "Reference  \n",
      "You can find additional information on the fail-safe modules for ET 200SP/ET 200MP in the  associated system and device manuals.  \n",
      "System overview    \n",
      "3.2 Configuration  \n",
      "  S7-1500R/H redundant system  40  System Manual, 05/2021, A5E41814787-AC  \n",
      "3.2.4  Components  \n",
      "Components of the S7-1500R/H redundant system  \n"
     ]
    }
   ],
   "source": [
    "for i in range(800,823):\n",
    "    print(text_24[i])"
   ]
  },
  {
   "cell_type": "code",
   "execution_count": 65,
   "metadata": {},
   "outputs": [],
   "source": [
    "f = pymupdf.open(fname)\n",
    "pno=24\n",
    "page = f.load_page(pno)  # loads page number 'pno' of the document (0-based)\n",
    "page = f[pno]  # the short form"
   ]
  },
  {
   "cell_type": "code",
   "execution_count": 66,
   "metadata": {},
   "outputs": [],
   "source": [
    "pix=page.get_pixmap()"
   ]
  },
  {
   "cell_type": "code",
   "execution_count": 67,
   "metadata": {},
   "outputs": [],
   "source": [
    "pix.save(f\"fname_{pno}.png\")"
   ]
  },
  {
   "cell_type": "code",
   "execution_count": 68,
   "metadata": {},
   "outputs": [
    {
     "name": "stdout",
     "output_type": "stream",
     "text": [
      "Requirement already satisfied: gensim in c:\\users\\sipocz\\appdata\\local\\programs\\python\\python38\\lib\\site-packages (4.1.2)\n",
      "Requirement already satisfied: numpy>=1.17.0 in c:\\users\\sipocz\\appdata\\local\\programs\\python\\python38\\lib\\site-packages (from gensim) (1.19.4)\n",
      "Requirement already satisfied: Cython==0.29.23 in c:\\users\\sipocz\\appdata\\local\\programs\\python\\python38\\lib\\site-packages (from gensim) (0.29.23)\n",
      "Requirement already satisfied: smart-open>=1.8.1 in c:\\users\\sipocz\\appdata\\local\\programs\\python\\python38\\lib\\site-packages (from gensim) (5.2.1)\n",
      "Requirement already satisfied: scipy>=0.18.1 in c:\\users\\sipocz\\appdata\\local\\programs\\python\\python38\\lib\\site-packages (from gensim) (1.5.4)\n"
     ]
    },
    {
     "name": "stderr",
     "output_type": "stream",
     "text": [
      "WARNING: You are using pip version 20.3.3; however, version 21.3.1 is available.\n",
      "You should consider upgrading via the 'c:\\users\\sipocz\\appdata\\local\\programs\\python\\python38\\python.exe -m pip install --upgrade pip' command.\n"
     ]
    },
    {
     "name": "stdout",
     "output_type": "stream",
     "text": [
      "Requirement already satisfied: nltk in c:\\users\\sipocz\\appdata\\local\\programs\\python\\python38\\lib\\site-packages (3.6.7)\n",
      "Requirement already satisfied: tqdm in c:\\users\\sipocz\\appdata\\local\\programs\\python\\python38\\lib\\site-packages (from nltk) (4.52.0)\n",
      "Requirement already satisfied: regex>=2021.8.3 in c:\\users\\sipocz\\appdata\\local\\programs\\python\\python38\\lib\\site-packages (from nltk) (2021.11.10)\n",
      "Requirement already satisfied: click in c:\\users\\sipocz\\appdata\\local\\programs\\python\\python38\\lib\\site-packages (from nltk) (7.1.2)\n",
      "Requirement already satisfied: joblib in c:\\users\\sipocz\\appdata\\local\\programs\\python\\python38\\lib\\site-packages (from nltk) (0.17.0)\n"
     ]
    },
    {
     "name": "stderr",
     "output_type": "stream",
     "text": [
      "WARNING: You are using pip version 20.3.3; however, version 21.3.1 is available.\n",
      "You should consider upgrading via the 'c:\\users\\sipocz\\appdata\\local\\programs\\python\\python38\\python.exe -m pip install --upgrade pip' command.\n"
     ]
    }
   ],
   "source": [
    "!pip install gensim\n",
    "!pip install nltk\n",
    "#Importing libraries\n",
    "from nltk.tokenize import sent_tokenize, word_tokenize\n",
    "import gensim\n",
    "from gensim.models import Word2Vec"
   ]
  },
  {
   "cell_type": "code",
   "execution_count": 69,
   "metadata": {},
   "outputs": [],
   "source": [
    "import nltk\n",
    "# nltk.download() NLTK library download"
   ]
  },
  {
   "cell_type": "code",
   "execution_count": 70,
   "metadata": {},
   "outputs": [
    {
     "name": "stdout",
     "output_type": "stream",
     "text": [
      "<class 'list'>\n"
     ]
    }
   ],
   "source": [
    "print(type(text_24))"
   ]
  },
  {
   "cell_type": "code",
   "execution_count": 85,
   "metadata": {},
   "outputs": [
    {
     "name": "stdout",
     "output_type": "stream",
     "text": [
      "1871 2489 8 228 447 85 8 1 2 3 4 5 6 7 8 9 10 11 12 13 14 48 48 90026 2018 2021 80 45 39 8 0 45 39 8 0 45 39 8 0 45 39 8 3 7 7 7 4 7 5 6 7 3 1 12 2 14 3 18 3.1 18 3.1.1 19 3.1.2 23 3.1.3 29 3.1.4 30 3.1.5 34 3.2 35 3.2.1 35 3.2.2 36 3.2.3 38 3.2.4 40 3.3 42 3.3.1 43 3.3.2 44 3.3.3 51 3.3.4 54 3.3.5 56 3.3.6 58 3.3.7 60 3.4 63 3.4.1 63 3.4.2 65 3.4.3 66 3.5 66 3.6 67 3.6.1 67 3.6.2 68 3.6.3 68 4 69 4.1 69 4.2 71 4.3 73 4.3.1 74 4.3.2 76 8 4.4 78 4.4.1 78 4.4.2 79 4.4.3 81 4.4.4 83 4.4.5 85 4.4.5.1 85 4.4.5.2 55 87 4.4.5.3 89 4.4.5.4 91 4.5 92 4.5.1 93 4.5.2 95 4.5.3 97 4.5.3.1 1500 97 4.5.3.2 1500 99 4.5.3.3 101 4.5.4 104 4.5.4.1 55 104 4.5.4.2 106 4.5.4.3 108 4.5.4.4 110 4.6 112 4.7 113 5 117 5.1 117 5.2 119 5.3 123 5.4 129 5.5 132 6 134 6.1 134 6.2 137 6.3 140 6.4 141 6.5 142 6.6 144 6.7 145 6.8 147 6.8.1 147 9 6.9 150 6.9.1 150 6.9.1.1 150 6.9.1.2 151 6.9.1.3 153 6.9.1.4 155 6.9.2 159 7 161 7.1 161 7.2 161 7.3 168 7.4 169 7.5 169 7.5.1 169 7.5.2 170 8 172 8.1 172 8.2 175 8.3 177 8.4 183 8.4.1 183 8.4.2 186 8.5 187 9 194 9.1 194 9.2 194 9.3 195 9.4 199 9.5 199 9.6 200 9.7 204 10 205 10.1 205 10.2 206 10.3 207 10.3.1 208 10.3.2 211 10.3.3 211 10.3.4 213 10.3.5 218 10 10.4 226 10.4.1 226 10.4.2 230 10.4.3 233 10.4.4 233 10.4.5 234 10.4.6 235 10.4.7 247 10.4.8 257 10.4.9 260 10.5 263 10.5.1 264 10.5.2 265 10.6 266 10.7 270 10.7.1 272 10.8 273 10.8.1 273 10.8.2 275 10.8.3 277 11 280 11.1 280 12 289 12.1 289 12.1.1 289 12.1.2 292 12.1.3 293 12.1.3.1 294 12.1.3.2 295 12.1.3.3 295 12.1.3.4 296 12.1.4 297 12.1.5 298 12.1.6 299 12.1.7 300 12.2 301 12.3 302 12.4 304 12.5 309 12.6 313 13 314 13.1 314 13.2 320 11 14 322 14.1 322 14.2 330 14.3 332 14.4 333 14.5 336 14.6 2 337 338 341 343 343 344 346 361 12 1 1285 746 8 7 13 14 2 3 18 56 50 60 15 7 72 72 172 172 7 16 7 44 35 123 314 17 60 218 266 26 18 3 3.1 3.1 19 3.1.1 3.1 20 1 1561 305 8 10 3.1 21 2 1458 673 8 3.1 22 3 999 976 8 51 3.1 23 3.1.2 732 877 8 3.1 24 3.1 25 919 1011 8 3.1 26 3.1 27 1 100 1.5 3 300 500 1 8 60 2 9 2 2 100 10 50 16 66 50 258 3.1 28 2 1 1 2 1 2 3.1 29 3.1.3 1369 983 8 3.1 30 3.1.4 3.1 31 50 16 66 16 16 16 3.1 32 1358 1121 8 50 258 3.1 33 1360 1378 8 2 44 3.1 34 3.1.5 1538 1055 8 3.2 35 3.2 3.2.1 2 3.2 36 1345 727 8 3.2.2 3.2 37 1470 811 8 3.2 38 3.2.3 3.2 39 851 849 8 3.2 40 3.2.4 3 341 293 383 8 35 341 242 179 441 8 160 830 341 188 251 8 3.2 41 380 656 8 305 104 8 2 4 2 1 10 10 1 10 10 265 225 8 2 1 2 10 10 305 127 8 3.3 42 125 169 8 24 70 190 134 284 8 3.3 3.3 43 3.3.1 4 1.5 3 8 60 300 500 2 9 32 32 32 32 32 32 32 32 1 1 1 1 1 1 2 80 60 4 4 3.45 6.1 6.1 6.1 50 16 50 16 50 50 66 66 258 258 2 2 2 2 100 100 10 10 1 300 300 50 50 1 3.3 44 3.3.2 2 7 3.3 45 2 3.3 46 708 554 8 1 2 3 4 5 6 80 80 80 177 3.3 47 7 3.3 48 7 3.3 49 7 7 7 3 50 4 2 2 2 3 3.3 50 2 1135 1177 8 2 3.3 51 3.3.3 7 7 3 61508 3 62061 4 7 7 7 3.3 52 1224 793 8 3.3 53 851 1004 8 7 3.3 54 3.3.4 5 3.3 55 7 594 149 8 7 2.9 194 7 3.3 56 3.3.5 3.3 57 1266 994 8 3.3 58 3.3.6 3.3 59 1514 1027 8 3.3 60 16 314 3.3.7 3.3 61 7 689 598 8 7 3.3 62 805 627 8 7 3.4 63 3.4 3.4.1 7 161 3.4 64 919 919 8 3.4 65 3.4.2 6 1 2 1 2 3 3.5 66 3.4.3 7 113 3.5 24 24 24 24 3.6 67 3.6 3.6.1 1430 985 8 3.6 68 3.6.2 3.6.3 69 4 4.1 1 2 73 4.1 70 2 70 190 1 80 4.2 71 2 2 7 7 7 4.2 3 58 4.2 72 4 175 7 1 1 2 7 3 7 7 4 1 7 1 4.3 73 4.3 492 336 8 4.3 74 4.3.1 826 577 8 1 2 4.3 75 1199 811 8 1 2 4.3 76 4.3.2 1088 802 8 1 2 4.3 77 1163 1036 8 1 2 4.4 78 4.4 4.4.1 533 338 8 4.4 79 4.4.2 860 779 8 4.4 80 1 2 226 3 4 92 292 4.4 81 4.4.3 860 607 8 1 2 226 3 4 92 4.4 82 292 4.4 83 4.4.4 858 652 8 4.4 84 1 2 3 4 92 0 46 40 8 101 4.4 85 4.4.5 4.4.5.1 974 811 8 4.4 86 1 2 3 0 46 40 8 106 293 4.4 87 4.4.5.2 55 55 974 811 8 55 4.4 88 1 55 2 3 4 92 293 4.4 89 4.4.5.3 55 974 811 8 4.4 90 1 55 2 3 4 5 293 4.4 91 4.4.5.4 974 811 8 1 2 3 4 4.5 92 4.5 535 338 8 4.5 93 4.5.1 849 607 8 1 2 3 4 4.5 94 0 46 40 8 101 300 4.5 95 4.5.2 851 826 8 4.5 96 1 2 3 4 0 46 40 8 101 300 4.5 97 4.5.3 4.5.3.1 1500 1500 1027 608 8 1500 1 2 3 1500 4 5 4.5 98 293 4.5 99 4.5.3.2 1500 1500 1027 608 8 2 2 1500 4.5 100 1 2 1500 2 3 4 0 46 40 8 2 1500 1500 293 4.5 101 4.5.3.3 1067 608 8 4.5 102 1 2 3 4 5 6 4.5 103 292 300 1 2 3 4.5 104 4.5.4 4.5.4.1 55 55 974 811 8 4.5 105 1 55 2 3 4 0 46 40 8 55 55 293 4.5 106 4.5.4.2 55 974 811 8 4.5 107 1 2 3 4 5 293 292 4.5 108 4.5.4.3 994 811 8 1 2 3 4.5 109 297 4.5 110 4.5.4.4 858 774 8 4.5 111 1 0 2 3 4.6 112 4.6 5 1 1 1 1 582 469 8 4.7 113 6 50 16 1 50 66 258 1 16 16 4.7 7 4.7 114 983 901 8 4.7 115 2 69 4.7 116 989 718 8 2 161 117 5 5.1 60 40 341 5.1 118 563 694 8 0 46 40 8 5.2 119 5.2 160 245 482.6 19 530 830 2000 341 160 830 2000 341 6.5 10 5.2 120 1 482.6 1580 85 6.4 11 7092 433 4017 4017 2 657 600 8 713 600 8 160 10 140 245 10 225 482.6 8.3 466 530 15 500 830 15 800 530 530 482.6 5.2 121 2000 2000 1 2000 2 500 3 4 254 401 8 2000 118 5.2 122 1 10 2 3 4 4 5 1 4 600 738 8 338 5.3 123 5.3 35 35 5 8.4 3.5 8.4 150 1 10 150 11 3 3 5.3 124 364 666 8 5.3 125 1303 811 8 35 7.5 35 15 5.3 126 4762 912 35 250 788 760 8 4 5.3 127 3 160.0 4 245.0 4 482.6 8 530.0 0 830.0 0 319 764 8 5.3 128 35 7.5 35 7.5 1 2 2 3 4 4 5 6 1308 1172 8 35 7.5 35 15 5.4 129 35 15 35 15 1 2 3 3 4 4 5 6 5.4 4.5 5.4 130 1 2 502 680 8 3 4 5 1.5 6 144 5.4 131 1 2 3 4 5 6 5.5 132 5.5 4.5 1 460 586 8 2 3 1.5 5.5 133 1 2 3 4 5 6 7 134 112 8 134 6 6.1 60204 0113 1500 55 6.1 135 336 24 24 24 24 10 30 298 20 21 6.1 136 6.2 137 6.2 60364 0100 60204 0113 24 24 24 6.2 138 140 1 60364 0100 60204 0113 6.2 139 1514 1411 8 6.3 140 6.3 1228 788 8 6.4 141 6.4 2 0.25 2.5 0.5 2.5 24 14 20 14 0.25 1.5 0.5 1.5 24 16 20 16 1 1 10 11 7 8 46228 10 7 0.25 1.5 10 7 8.5 3 3.5 3 3.5 0.5 0.6 1 4 1.5 6.5 142 6.5 373 188 8 10 10 141 1 8 11 2 3 4 3 3.5 6.5 143 1 8 11 2 3 4 1 2 6.6 144 6.6 3 3.5 1 2 1 3 2 4 3 974 413 8 1 5 35 7 8 6 4 7 5 6.7 145 8 6 1069 432 8 2 9 24 6.7 24 142 3 3.5 6.7 146 1 24 2 24 441 273 8 3 655 425 8 6.8 147 6.8 6.8.1 7 2 100 7 1 6.8 148 1 2 1292 628 8 6.8 149 3 1292 1030 8 4 6.9 150 6.9 6.9.1 6.9.1.1 265 225 8 10 10 6.9 151 6.9.1.2 10 10 10 2 3 1 2 10 6.9 152 10 10 10 10 4 2 1 4 1 2 5 1 4 1 2 6.9 153 1 788 455 8 6.9.1.3 6.9 154 0 46 40 8 1500 55 1500 55 6.9 155 6.9.1.4 10 4 2 10 1 10 10 1 10 2 341 1 10 1 2 10 1 10 6.9 156 0 46 40 8 2 2 2 0 46 40 8 1 647 214 8 1 6.9 157 1 2 1 1 2 1 2 974 600 8 6.9 158 3 4 1 3 1139 720 8 1 2 3 4 5 6.9 159 6.9.2 6.9 160 1430 1505 8 161 7 7.1 69 7.2 1 1 7 2 3 7 7 71 227 149 8 1 1 2 7.2 162 2 7 167 638 144 8 7 423 384 8 7 1 2 213 7.2 163 3 1 2 3 4 6 7 5 243 641 156 8 7.2 164 4 7 226 5 1 2 3 4 5 7.2 165 6 1 2 3 161 820 347 8 7.2 166 7 1 7 2 7 808 277 8 7 7 7 7 7.2 167 8 7 1 7 2 3 769 269 8 7 4 676 182 8 9 7 7 7.3 168 7.3 7 1 351 60 8 353 422 8 1 354 175 8 2 196 352 60 8 7.4 169 7.4 7 7 7 7 7.5 7.5.1 1024 7.5 170 32 32 0 1 31 779 122 8 7.5.2 7 0 0 7.5 171 172 8 8.1 3 4 183 7 8 9 186 8.1 173 72 72 7 7 8.1 174 7 7 7 7 175 1 65149 7 7 8.2 175 8.2 1 1 8.2 176 1 2 67 91 92 95 8.3 177 8.3 2 1 100 123 0 100 1 1 123 0 100 2 24 2 10 17 123 0 20 2 24 3 20 23 123 0 20 2 24 8 17 30 38 123 0 20 2 26 16 40 47 123 0 50 2 24 4 55 0 1 2 24 4 56 0 1 2 24 4 57 0 1 2 26 26 72 0 1 22 80 0 1 2 26 5 82 0 1 2 26 6 83 0 1 2 26 6 86 0 1 2 26 7 121 0 1 2 26 7 122 0 1 1 2 8.3 178 72 86 86 72 1508 966 8 72 86 8.3 179 86 86 2 3 86 86 86 72 72 72 72 7 72 72 72 86 72 72 26 86 8.3 180 72 72 72 80 3 80 1 2 8.3 181 4 80 80 1 80 2 80 80 80 80 80 80 1 2 8.3 182 1 26 83 82 15 15 7 8.4 183 8.4 8.4.1 174 430 190 8 8.4 184 1107 727 8 292 8.4 185 3 4 3 7 235 8.4 186 8.4.2 138 326 139 8 1 2 1 12 1 2 2 22 2 2 7 8.5 187 8.5 8.5 188 926 614 8 98 52 38 8 1 8.5 189 989 317 8 8.5 190 1097 380 8 0 8.5 191 5 1 1 16 7001 1 0 0 16 0 0 1 2 1 16 7002 1 0 0 16 0000 0 1 0 0 0 1 20 1 16 8.5 192 6 20 20 10 10 10 10 10 10 10 7 88 108 288 384 88 108 288 384 88 108 288 384 88 108 288 384 88 108 288 384 88 108 288 384 8.5 193 8 9 7 194 9 9.1 9.2 7 9.3 195 9.3 8 1 7 7 7 7 9.3 196 9.3 197 7 1 2 814 385 8 3 4 5 6 9.3 198 7 7 9.4 199 9.4 7 7 1 2 7 7 9.5 7 7 9.6 200 9.6 7 7 7 7 7 9.6 201 1 2 81 517 139 8 3 360 210 8 4 9.6 202 5 6 1 2 3 7 1 2 3 4 5 9.6 203 1 2 360 210 8 3 4 9.7 204 9.7 3 622 443 8 205 10 10.1 67 10.2 206 10.2 7 7 10.3 207 10.3 309 304 1 1 7 161 2 172 7 3 117 4 134 5 208 6 211 7 211 8 213 9 10 280 11 218 12 314 7 10.3 208 10.3.1 1 2 265 533 8 3 10.3 209 1 2 3 10.3 210 263 10.3 211 10.3.2 1 2 2 10.3.3 10.3 212 1 2 7 289 0 46 40 8 289 10.3 213 7 10.3.4 10.3 214 1 2 1 2 1 7 7 1 2 1264 673 8 10.3 215 1 1 10.3 216 1 2 2 2 2 3 4 37 240 320 8 10.3 217 1 2 3 211 16 16 8 10.3 218 10.3.5 7 10.3 219 1 2 1 2 3 10.3 220 4 632 213 8 7 5 1 7 2 7 213 1 2 3 10.3 221 0 46 40 8 1 2 3 10.3 222 1 2 3 4 1 2 630 211 8 10.3 223 1 2 3 10.3 224 2 10.3 225 1 2 1 2 1 2 10.4 226 10.4 10.4.1 10.4 227 69 211 207 10.4 228 1495 976 8 10.4 229 3 1 100 2 72 72 207 172 10.4 230 10.4.2 82 83 86 121 122 7 10.4 231 10.4 232 7 1 7 2 81 517 252 8 60 000 10.4 233 10.4.3 10.4.4 235 314 10.4 234 10.4.5 169 80 177 235 10.4 235 10.4.6 7 10.4 236 4 70 240 320 8 246 240 320 8 10.4 237 5 78 240 320 8 83 240 320 8 10.4 238 6 240 320 8 83 240 320 8 10.4 239 7 33 240 320 8 30 240 320 8 10.4 240 1 8 39 240 320 8 30 240 320 8 10.4 241 9 37 240 320 8 30 240 320 8 10.4 242 10 37 240 320 8 30 240 320 8 10.4 243 11 82 177 10.4 244 100 10 13 10.4 245 1491 976 8 12 1 2 10.4 246 13 101 6 193558 80 177 10.4 247 10.4.7 1320 282 8 10.4 248 1317 793 8 10.4 249 10.4 250 1 2 3 10.4 251 1 2 3 10.4 252 10.4 253 10.4 254 7 235 10.4 255 177 10.4 256 235 10.4 257 10.4.8 247 1 2 10.4 258 1 1495 976 8 10.4 259 14 1 2 235 2 1486 976 8 10.4 260 15 1 2 1 1 2 1 2 1 1 235 10.4.9 7 10.4 261 10.4 262 7 481 312 8 10.5 263 10.5 2 10.5 264 16 1 500 10.5.1 235 10.5 265 10.5.2 7 1 2 3 309 10.6 266 7 7 1 2 3 10.6 194 7 10.6 267 17 1 7 1 2 3 4 10.6 268 5 6 1 2 3 4 5 6 7 8 7 10.6 269 10.7 270 2 7 7 10.7 1 10.7 271 10 1 2 3 10.7 272 10.7.1 192.168.1.15 1 2 1 192.168.1.15 1271 572 8 3 1 2 4 192.168.1.15 10.8 273 10.8 10.8.1 2 3 7 10.8 274 275 65154 65354 7 1 2 7 7 1 2 3 10.8 275 7 7 1 1 2 3 7 1 7 2 3 1 2 3 10.8.2 18 2 2 1 01 1 00 54 54 16 54 10.8 276 19 0 1 1 20 16 2 1 1 1 1 1 1 2 2 0000 2 1.1 1 1 2 1 32 22 2 16 3 54 10.8 277 10.8.3 0 0 0 0 0 0 65149 1 65349 2 0 0 0 0 1 10.8 278 0 1 1 0 2 435 155 8 3 1 4 235 580 317 8 5 10.8 279 0 1 0 7 555 421 8 0 280 11 11.1 314 7 7 11.1 281 130 463 320 8 11.1 282 1 196 20 20 8 16 16 8 106 20 20 8 16 16 8 1 94 7 8 11.1 283 2 15 39 39 8 31 39 39 8 36 39 39 8 3 39 39 8 9 39 39 8 11.1 284 3 153 20 20 8 15 15 8 16 16 8 14 14 8 14 14 8 9 15 8 12 15 8 1 23 23 8 16 16 8 16 16 8 11.1 285 2 858 521 8 3 11.1 286 26 240 320 8 11.1 287 7 7 498 234 8 4 128 120 240 260 240 260 240 260 7 60 11.1 288 7 1 2 289 12 12.1 12.1.1 0 46 40 8 12.1 290 40 240 320 8 40 240 320 8 12.1 291 7 778 350 8 7 1 2 3 4 12.1 292 12.1.2 289 1 2 3 4 5 6 7 8 9 10 11 12 13 14 12.1 293 1 2 12.1.3 297 12.1 294 12.1.3.1 1500 289 1 2 3 1500 1 2 3 4 12.1 295 12.1.3.2 1 2 3 12.1.3.3 1 2 3 12.1 296 12.1.3.4 55 289 1 2 3 55 1 2 3 12.1 297 12.1.4 1 2 3 12.1 298 12.1.5 289 1 2 1 2 12.1 299 12.1.6 289 1 24 230 2 3 4 1 2 12.1 300 12.1.7 1 2 3 4 5 6 7 8 7 12.2 301 12.2 1 2 628 628 8 0 46 40 8 2 2 2 12.3 302 12.3 16 46 40 8 16 46 40 8 24 12.3 303 1 533 310 8 2 3 3 3 4 24 389 408 8 12.4 304 12.4 12.4 305 168 401 325 8 7 7 12.4 306 7 7 1 2 3 4 5 6 7 12.4 307 1 2 3 4 5 6 7 341 12.4 308 1 2 1 2 2 2 2 3 1 4 1 5 1 6 2 0 46 40 8 1 2 1 2 2 2 3 2 4 1 5 1 6 1 12.5 309 7 12.5 7 12.5 310 1 2 3 3 4 1 1 2 12.5 311 7 7 1 2 3 4 5 12.5 312 1 1 7 01 2012 1 2 1 266 12.6 313 7 263 12.6 314 13 13.1 13.1 315 0 46 40 8 13.1 316 13.1 317 13.1 318 13.1 319 7 7 7 13.2 320 13.2 7 7 7 13.2 321 7 1 2 3 4 4 32 5 322 14 14.1 14.1 323 0 46 40 8 0 46 40 8 2 2 0 46 40 8 2 2 0105 1 2 3 4 5 14.1 324 184 154 112 8 203 128 8 1963 508 142 14.1 325 213 183 8 222 147 8 508 142 12.12.01 213 2 2 2 2 2 2 3611 3600 3810 121201 213 2 2 2 2 2 2 14.1 326 190 132 117 8 219 98 8 15 0 289 71 8 7 0 289 71 8 1 2 2 3 119 15 0 291 71 8 7 0 291 71 8 14.1 327 220 125 99 8 212 148 112 8 255 72 106 8 56 102 102 8 1 2 2 3 119 3836.8 8 3836.1 1 2 16935.1 3836.8 140 14.1 328 11 14 2 61158 10 14.1 329 2007 2011 2005 14.2 330 14.2 1 3 3 30 30 3 4 3 230 3 30 30 14.2 331 2 21 80 2.7 10 3 2.7 6 3 2 80 1 3 10 3 10 80 1 150 55016 4 30 230 40 10 230 1000 47 10 1 3 76 3 3 6 80 3 55016 5 0.15 0.5 79 66 0.5 30 73 60 14.3 332 14.3 6 1 1140 660 3500 5 95 5 8.4 3.5 8.4 500 9.8 250 6 1000 14.4 333 14.4 5 5 7 1 5 8.4 7 8.4 150 2 10 3 15 11 3 3 250 6 1000 3 14.4 334 8 0 60 0 40 10 10 95 1140 795 2000 2000 2000 9 5000 3000 2000 1 2000 1.0 2000 3000 0.9 3000 4000 0.8 4000 5000 0.7 1 2000 14.4 335 2000 1 10 1 10 5000 2000 20 100 14.5 336 14.5 24 707 2 60529 12.5 10 24 19.2 28.8 1 14.6 2 337 14.6 2 2 338 160 1055 647 8 160 245 1055 647 8 245 339 482.6 1055 647 8 482.6 530 1055 647 8 530 340 830 1055 647 8 830 2000 1055 647 8 2000 341 1 160 245 482 530 830 2000 10 10 10 2000 20 10 5 70 35 10 1 10 1 10 1 2 10 10 342 180 1 180 10 90 1 90 10 2 4 12 24 256 2 32 3 343 145 92 80 8 80 80 8 7010 222 80 80 8 60417 6182 127 111 8 83 111 8 101 136 8 230 101 136 8 221 136 8 68 45 80 8 344 129 221 8 80 80 8 7010 222 80 80 8 60417 6182 146 136 8 127 111 8 82 111 8 155 111 8 101 136 8 230 101 136 8 221 136 8 345 205 136 8 2 205 136 8 22 346 347 7 7 348 349 350 351 2 7 352 0 255 192.162.0.0 353 354 7 7 7 355 356 357 61508 61508 1616 358 359 7 360 361 2 24 135 197 195 199 199 341 334 333 333 322 324 324 325 328 328 187 29 267 316 10 152 10 151 141 246 324 16 334 144 302 275 206 211 211 273 275 275 207 208 63 38 138 161 140 25 36 25 36 23 35 23 35 137 73 272 150 147 159 147 155 142 42 316 289 299 302 295 300 297 294 292 293 296 298 301 295 41 267 320 309 178 362 324 336 63 162 56 188 27 338 183 280 280 285 288 283 284 280 287 153 219 218 140 330 330 331 330 268 268 134 275 310 38 78 92 309 209 51 34 41 150 153 151 304 7 306 307 325 318 316 38 207 38 207 140 137 137 122 137 139 69 71 71 132 133 114 113 66 45 273 275 60204 134 328 328 137 117 123 130 363 119 121 132 117 118 123 175 336 200 202 203 201 288 319 135 135 42 146 130 66 72 86 178 257 63 289 304 320 310 314 112 342 44 167 264 263 265 118 40 117 119 122 338 120 120 121 120 49 271 72 178 86 178 181 182 202 261 232 261 234 234 234 230 233 233 25 23 248 139 40 139 228 43 212 200 153 40 137 60 60 29 364 318 336 66 169 171 41 174 315 269 168 68 195 201 204 195 135 198 201 204 136 336 54 341 73 280 112 263 138 292 178 329 331 336 132 133 44 78 215 216 217 229 138 210 289 302 301 300 299 297 294 292 295 293 296 298 295 69 71 72 65 112 113 40 65 40 137 207 38 323 30 137 320 321 320 7 320 332 138 342 51 68 66 67 71 72 341 134 172 40 322 177 365 332 48 41 150 157 158 235 246 244 237 235 237 57 27 163 63 47 262 262 247 334 43 330 332 322 314 336 67 271 286 58 319 131 133 19 113 2 337 329 329 329 172 224 223 113 317 134 134 114 144 142 142 141 "
     ]
    }
   ],
   "source": [
    "import re\n",
    "regexp_digits_dot_digits = re.compile(r'^(\\d+(\\.+\\d+)*(\\.)*)$')\n",
    "corpus_text = \"\".join(text_24[:])\n",
    "data_token = []\n",
    "# iterate over each sentence in the document for i in sent_tokenize(corpus_text):\n",
    "for i in sent_tokenize(corpus_text):\n",
    "    \n",
    "    temp = []\n",
    "    # tokenize the sentence into words\n",
    "    for j in word_tokenize(i):\n",
    "        if not re.match(regexp_digits_dot_digits, j):\n",
    "            temp.append(j.lower())\n",
    "        else:\n",
    "            print(j,end=\" \")\n",
    "    data_token.append(temp)"
   ]
  },
  {
   "cell_type": "code",
   "execution_count": 72,
   "metadata": {},
   "outputs": [],
   "source": [
    "#data_token"
   ]
  },
  {
   "cell_type": "code",
   "execution_count": 86,
   "metadata": {},
   "outputs": [],
   "source": [
    "model1 = gensim.models.Word2Vec(data_token, vector_size=10,  sg=1,)"
   ]
  },
  {
   "cell_type": "code",
   "execution_count": null,
   "metadata": {},
   "outputs": [],
   "source": []
  },
  {
   "cell_type": "code",
   "execution_count": 87,
   "metadata": {},
   "outputs": [
    {
     "data": {
      "text/plain": [
       "array([ 0.19381584, -0.72058624, -0.59393746,  0.33932665,  0.20117567,\n",
       "        0.01956519,  0.24150223,  0.62872916, -0.7012056 , -0.5974766 ],\n",
       "      dtype=float32)"
      ]
     },
     "execution_count": 87,
     "metadata": {},
     "output_type": "execute_result"
    }
   ],
   "source": [
    "model1.wv[\"siemens\"]"
   ]
  },
  {
   "cell_type": "code",
   "execution_count": 88,
   "metadata": {},
   "outputs": [
    {
     "data": {
      "text/plain": [
       "array([ 0.27005824, -0.6727609 , -0.03996404,  0.64198697,  0.05935031,\n",
       "        0.09829926,  0.47116834,  0.45340073, -0.29214197, -0.8028599 ],\n",
       "      dtype=float32)"
      ]
     },
     "execution_count": 88,
     "metadata": {},
     "output_type": "execute_result"
    }
   ],
   "source": [
    "model1.wv[\"s7\"]"
   ]
  },
  {
   "cell_type": "code",
   "execution_count": null,
   "metadata": {},
   "outputs": [],
   "source": []
  },
  {
   "cell_type": "code",
   "execution_count": 89,
   "metadata": {},
   "outputs": [
    {
     "name": "stdout",
     "output_type": "stream",
     "text": [
      "0 the\n",
      "100 connection\n",
      "200 et\n",
      "300 parameters\n",
      "400 view\n",
      "500 necessary\n",
      "600 takes\n",
      "700 range\n",
      "800 saved\n",
      "900 s7\n",
      "1000 isolation\n",
      "1100 programs\n",
      "1200 commands\n",
      "1300 making\n",
      "1400 common\n"
     ]
    }
   ],
   "source": [
    "for index, word in enumerate (model1.wv.index_to_key):\n",
    "    if index % 100==0:\n",
    "        print(index,word)"
   ]
  },
  {
   "cell_type": "code",
   "execution_count": 92,
   "metadata": {},
   "outputs": [
    {
     "data": {
      "text/plain": [
       "[('system', 0.9873246550559998),\n",
       " ('s7-1500r/h', 0.9681430459022522),\n",
       " ('principle', 0.9669223427772522),\n",
       " ('what', 0.9557061195373535),\n",
       " ('?', 0.9353463649749756),\n",
       " ('.......................................................................................................',\n",
       "  0.9308798313140869),\n",
       " ('s7-1500', 0.9261094331741333),\n",
       " ('compared', 0.9161714315414429),\n",
       " ('r/h-cpus', 0.9119051098823547),\n",
       " ('05/2021', 0.9091641306877136)]"
      ]
     },
     "execution_count": 92,
     "metadata": {},
     "output_type": "execute_result"
    }
   ],
   "source": [
    "model1.wv.most_similar(\"redundant\")"
   ]
  },
  {
   "cell_type": "code",
   "execution_count": 93,
   "metadata": {},
   "outputs": [
    {
     "data": {
      "text/plain": [
       "[('screwdriver', 0.9808293581008911),\n",
       " ('groove', 0.9786607027053833),\n",
       " ('tools', 0.9781438112258911),\n",
       " ('hexagon', 0.9780747890472412),\n",
       " ('diameter', 0.9779940247535706),\n",
       " ('screws', 0.9747684001922607),\n",
       " ('clamp', 0.9740849137306213),\n",
       " ('t4', 0.9740503430366516),\n",
       " ('vibration', 0.9717580080032349),\n",
       " ('d', 0.9705566167831421)]"
      ]
     },
     "execution_count": 93,
     "metadata": {},
     "output_type": "execute_result"
    }
   ],
   "source": [
    "model1.wv.most_similar(\"design\")"
   ]
  },
  {
   "cell_type": "code",
   "execution_count": 94,
   "metadata": {},
   "outputs": [
    {
     "data": {
      "text/plain": [
       "[('special', 0.9886468648910522),\n",
       " ('ambient', 0.9788122773170471),\n",
       " ('mechanical', 0.9649530053138733),\n",
       " ('electromagnetic', 0.963901937007904),\n",
       " ('standards', 0.9595019817352295),\n",
       " ('trace', 0.9583989977836609),\n",
       " ('guide', 0.9572391510009766),\n",
       " ('features', 0.9500641822814941),\n",
       " ('approvals', 0.9487094283103943),\n",
       " ('grounded', 0.9481918811798096)]"
      ]
     },
     "execution_count": 94,
     "metadata": {},
     "output_type": "execute_result"
    }
   ],
   "source": [
    "model1.wv.most_similar(\"table\")"
   ]
  },
  {
   "cell_type": "code",
   "execution_count": null,
   "metadata": {},
   "outputs": [],
   "source": []
  }
 ],
 "metadata": {
  "interpreter": {
   "hash": "5ce7801274b0b37dd0fd5d67dc711627c3fd25ac6676442e98aec8c24f76fbd7"
  },
  "kernelspec": {
   "display_name": "Python 3",
   "language": "python",
   "name": "python3"
  },
  "language_info": {
   "codemirror_mode": {
    "name": "ipython",
    "version": 3
   },
   "file_extension": ".py",
   "mimetype": "text/x-python",
   "name": "python",
   "nbconvert_exporter": "python",
   "pygments_lexer": "ipython3",
   "version": "3.8.6"
  }
 },
 "nbformat": 4,
 "nbformat_minor": 4
}
