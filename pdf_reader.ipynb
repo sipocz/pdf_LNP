{
 "cells": [
  {
   "cell_type": "code",
   "execution_count": 1,
   "metadata": {},
   "outputs": [
    {
     "name": "stdout",
     "output_type": "stream",
     "text": [
      "Collecting PyMuPDF\n",
      "  Downloading PyMuPDF-1.19.4-cp38-cp38-win_amd64.whl (6.4 MB)\n",
      "Installing collected packages: PyMuPDF\n",
      "Successfully installed PyMuPDF-1.19.4\n"
     ]
    },
    {
     "name": "stderr",
     "output_type": "stream",
     "text": [
      "WARNING: You are using pip version 20.3.3; however, version 21.3.1 is available.\n",
      "You should consider upgrading via the 'c:\\users\\sipocz\\appdata\\local\\programs\\python\\python38\\python.exe -m pip install --upgrade pip' command.\n"
     ]
    }
   ],
   "source": [
    "!pip install PyMuPDF"
   ]
  },
  {
   "cell_type": "code",
   "execution_count": 2,
   "metadata": {},
   "outputs": [],
   "source": [
    "import fitz as pymupdf\n"
   ]
  },
  {
   "cell_type": "code",
   "execution_count": 3,
   "metadata": {},
   "outputs": [],
   "source": [
    "fname=\"./pdf/s71500rh_manual_en-US_en-US.pdf\"\n",
    " "
   ]
  },
  {
   "cell_type": "code",
   "execution_count": 7,
   "metadata": {},
   "outputs": [
    {
     "name": "stdout",
     "output_type": "stream",
     "text": [
      "Page Number: 366\n",
      "Creation Date: D:20210422101802+02'00'\n",
      "Modified Date: D:20210422103408+02'00'\n",
      "\n",
      "Table of Content:\n",
      " [[1, 'S7-1500 S7-1500 R/H redundant system', 1], [1, 'Legal information', 3], [1, 'Preface', 4], [1, 'Table of contents', 8], [1, '1  S7-1500R/H Documentation Guide', 13], [1, '2  New properties/functions', 15], [1, '3  System overview', 19], [2, '3.1 What is the S7-1500R/H redundant system?', 19], [3, '3.1.1 Areas of application', 20], [3, '3.1.2 Operating principle of the S7-1500R/H redundant system', 24], [3, '3.1.3 Plant components and automation levels', 30], [3, '3.1.4 Scalability', 31], [3, '3.1.5 Overview of features', 35], [2, '3.2 Configuration', 36], [3, '3.2.1 Structure of the S7-1500R redundant system', 36], [3, '3.2.2 Structure of the S7-1500H redundant system', 37], [3, '3.2.3 Configuration of a fail-safe system with SIMATIC S7-1500HF', 39], [3, '3.2.4 Components', 41], [2, '3.3 S7-1500 R/H-CPUs', 43], [3, '3.3.1 Overview of the CPU technical specifications', 44], [3, '3.3.2 Redundancy', 45], [3, '3.3.3 Safety', 52], [3, '3.3.4 Security', 55], [3, '3.3.5 Diagnostics', 57], [3, '3.3.6 Trace', 59], [3, '3.3.7 PID control', 61], [2, '3.4 Communication', 64], [3, '3.4.1 System and device IP addresses', 64], [3, '3.4.2 Integrated interfaces for communication', 66], [3, '3.4.3 HMI devices', 67], [2, '3.5 Power supply', 67], [2, '3.6 Software', 68], [3, '3.6.1 TIA Portal', 68], [3, '3.6.2 SINETPLAN', 69], [3, '3.6.3 PRONETA', 69], [1, '4  Application planning', 70], [2, '4.1 Requirements', 70], [2, '4.2 Restrictions compared to the S7-1500 automation system', 72], [2, '4.3 Configuration versions', 74], [3, '4.3.1 S7-1500R/H configuration with IO devices in the PROFINET ring', 75], [3, '4.3.2 S7-1500R/H configuration with switches and linear topology', 77], [2, '4.4 Redundancy scenarios', 79], [3, '4.4.1 Introduction', 79], [3, '4.4.2 Failure of the primary CPU', 80], [3, '4.4.3 Failure of the backup CPU', 82], [3, '4.4.4 Failure of the PROFINET cable in the PROFINET ring', 84], [3, '4.4.5 Specific redundancy scenarios for S7-1500H', 86], [4, '4.4.5.1 Failure of a redundancy connection in S7-1500H', 86], [4, '4.4.5.2 Failure of both redundancy connections in S7-1500H > 55\\xa0ms apart', 88], [4, '4.4.5.3 Failure of both redundancy connections and the PROFINET cable in the PROFINET\\xa0ring', 90], [4, '4.4.5.4 Failure of the two PROFINET cables in the PROFINET ring on the backup CPU', 92], [2, '4.5 Failure scenarios', 93], [3, '4.5.1 Failure of an IO device in the PROFINET ring', 94], [3, '4.5.2 Failure of a switch (with line topology) in the PROFINET ring', 96], [3, '4.5.3 Specific failure scenarios with S7-1500R', 98], [4, '4.5.3.1 Two cable interruptions in the PROFINET ring in S7-1500R > 1500\\xa0ms apart', 98], [4, '4.5.3.2 Two cable interruptions in the PROFINET ring in S7-1500R within ≤ 1500\\xa0ms', 100], [4, '4.5.3.3 Failure of the primary CPU when IO devices have failed in the PROFINET ring', 102], [3, '4.5.4 Specific failure scenarios with S7-1500H', 105], [4, '4.5.4.1 Failure of both redundancy connections in S7-1500H ≤ 55\\xa0ms apart', 105], [4, '4.5.4.2 Failure of one redundancy connection and the primary CPU in S7-1500H', 107], [4, '4.5.4.3 Failure of the two PROFINET cables in the PROFINET ring at the primary CPU', 109], [4, '4.5.4.4 Failure of the redundant system through safe state of the HF-CPUs', 111], [2, '4.6 Hardware configuration', 113], [2, '4.7 Using HMI devices', 114], [1, '5  Installation', 118], [2, '5.1 Basics', 118], [2, '5.2 Installing the mounting rail', 120], [2, '5.3 Installing the standard rail adapter', 124], [2, '5.4 Installing a load current supply', 130], [2, '5.5 Installing R/H-CPUs', 133], [1, '6  Wiring', 135], [2, '6.1 Rules and regulations for operation', 135], [2, '6.2 Operation on grounded infeed', 138], [2, '6.3 Electrical configuration', 141], [2, '6.4 Wiring rules', 142], [2, '6.5 Connecting the supply voltage', 143], [2, '6.6 Connecting the load current supply', 145], [2, '6.7 Connecting the CPU to the load power supply', 146], [2, '6.8 Connecting interfaces for communication with S7-1500R', 148], [3, '6.8.1 Connecting the PROFINET ring to S7-1500', 148], [2, '6.9 Connecting interfaces for communication with S7-1500H', 151], [3, '6.9.1 Connecting redundancy connections (fiber-optic cables)', 151], [4, '6.9.1.1 Synchronization modules for S7-1500H', 151], [4, '6.9.1.2 Selecting fiber-optic cables', 152], [4, '6.9.1.3 Installing fiber-optic cables', 154], [4, '6.9.1.4 Connecting redundancy connections (fiber-optic cables) to S7-1500H', 156], [3, '6.9.2 Connecting the PROFINET ring to S7-1500H', 160], [1, '7  Configuration', 162], [2, '7.1 Configuring the CPU', 162], [2, '7.2 Configuration procedure', 162], [2, '7.3 Project tree', 169], [2, '7.4 Parameters', 170], [2, '7.5 Process images and process image partitions', 170], [3, '7.5.1 Process image - overview', 170], [3, '7.5.2 Updating process image partitions in the user program', 171], [1, '8  Basics of program execution', 173], [2, '8.1 Programming the S7-1500R/H', 173], [2, '8.2 Restrictions', 176], [2, '8.3 Events and OBs', 178], [2, '8.4 Special instructions for S7-1500R/H redundant systems', 184], [3, '8.4.1 Disabling/enabling SYNCUP with the RH_CTRL instruction', 184], [3, '8.4.2 Determining the primary CPU with \"RH_GetPrimaryID\"', 187], [2, '8.5 Asynchronous instructions', 188], [1, '9  Protection', 195], [2, '9.1 Overview of the protection functions', 195], [2, '9.2 Protection of confidential configuration data', 195], [2, '9.3 Configuring access protection for the CPU', 196], [2, '9.4 Using the display to set additional password protection', 200], [2, '9.5 Using the user program to set additional access protection', 200], [2, '9.6 Know-how protection', 201], [2, '9.7 Protection by locking the CPU', 205], [1, '10  Commissioning', 206], [2, '10.1 Overview', 206], [2, '10.2 Check before powering on for the first time', 207], [2, '10.3 Commissioning procedure', 208], [3, '10.3.1 Removing/plugging in SIMATIC memory cards', 209], [3, '10.3.2 First power-on of the CPUs', 212], [3, '10.3.3 CPU pairing', 212], [3, '10.3.4 Redundancy IDs', 214], [3, '10.3.5 Downloading projects to the CPUs', 219], [2, '10.4 Operating and system states', 227], [3, '10.4.1 Overview', 227], [3, '10.4.2 STARTUP operating state', 231], [3, '10.4.3 STOP operating state', 234], [3, '10.4.4 SYNCUP operating state', 234], [3, '10.4.5 RUN operating states', 235], [3, '10.4.6 SYNCUP system state', 236], [3, '10.4.7 System and operating state transitions', 248], [3, '10.4.8 Loss of redundancy', 258], [3, '10.4.9 Displaying and changing the system state', 261], [2, '10.5 CPU memory reset', 264], [3, '10.5.1 Automatic memory reset', 265], [3, '10.5.2 Manual memory reset', 266], [2, '10.6 Backing up and restoring the CPU configuration', 267], [2, '10.7 Time synchronization', 271], [3, '10.7.1 Example: Configuring the NTP server', 273], [2, '10.8 Identification and maintenance data', 274], [3, '10.8.1 Reading out and entering I&M data', 274], [3, '10.8.2 Record structure for I&M data', 276], [3, '10.8.3 Example: Read out firmware version of the CPU with Get_IM_Data', 278], [1, '11  Display', 281], [2, '11.1 CPU display', 281], [1, '12  Maintenance', 290], [2, '12.1 Replacing components of the S7-1500R/H redundant system', 290], [3, '12.1.1 Checking before replacing components', 290], [3, '12.1.2 Replacing defective R/H-CPUs', 293], [3, '12.1.3 Replacing defective redundancy connections', 294], [4, '12.1.3.1 Replacing two defective PROFINET cables with S7-1500R', 295], [4, '12.1.3.2 Replacing a defective redundancy connection with S7-1500H', 296], [4, '12.1.3.3 Replacing defective synchronization module with S7-1500H', 296], [4, '12.1.3.4 Replacing both defective redundancy connections with S7-1500H', 297], [3, '12.1.4 Replacing defective PROFINET cables', 298], [3, '12.1.5 Replacing a defective SIMATIC memory card', 299], [3, '12.1.6 Replace defective load current supply PM', 300], [3, '12.1.7 Replacing defective IO devices/switches', 301], [2, '12.2 Replacing the front cover', 302], [2, '12.3 Replacing the coding element at the power connector of the load current supply', 303], [2, '12.4 Firmware update', 305], [2, '12.5 Resetting CPUs to factory settings', 310], [2, '12.6 Maintenance and repair', 314], [1, '13  Test and service functions', 315], [2, '13.1 Test functions', 315], [2, '13.2 Reading out/saving service data', 321], [1, '14  Technical specifications', 323], [2, '14.1 Standards and Approvals', 323], [2, '14.2 Electromagnetic compatibility', 331], [2, '14.3 Shipping and storage conditions', 333], [2, '14.4 Mechanical and climatic ambient conditions', 334], [2, '14.5 Information on insulation tests, protection class, degree of protection and rated voltage', 337], [2, '14.6 Use of S7-1500R/H in Zone 2 hazardous area', 338], [1, 'A  Dimension drawings', 339], [1, 'B  Accessories/spare parts', 342], [1, 'C  Safety symbols', 344], [2, 'C.1 Safety-related symbols for devices without Ex protection', 344], [2, 'C.2 Safety-related symbols for devices with Ex protection', 345], [1, 'Glossary', 347], [1, ' Index', 362], [2, '2', 362], [2, 'A', 362], [2, 'B', 362], [2, 'C', 362], [2, 'D', 363], [2, 'E', 363], [2, 'F', 363], [2, 'G', 363], [2, 'H', 363], [2, 'I', 363], [2, 'K', 364], [2, 'L', 364], [2, 'M', 364], [2, 'N', 364], [2, 'O', 364], [2, 'P', 364], [2, 'R', 365], [2, 'S', 365], [2, 'T', 366], [2, 'U', 366], [2, 'W', 366]]\n"
     ]
    }
   ],
   "source": [
    "f = pymupdf.open(fname)\n",
    "print('Page Number:', f.page_count)\n",
    "print('Creation Date:', f.metadata['creationDate'])\n",
    "print('Modified Date:', f.metadata['modDate'])\n",
    "print('\\nTable of Content:\\n', [toc for toc in f.get_toc()])\n",
    "f.close()"
   ]
  },
  {
   "cell_type": "code",
   "execution_count": 31,
   "metadata": {},
   "outputs": [],
   "source": [
    "f = pymupdf.open(fname)\n",
    "txt = f.load_page(24).get_text(\"blocks\")\n",
    "f.close()"
   ]
  },
  {
   "cell_type": "code",
   "execution_count": 24,
   "metadata": {},
   "outputs": [],
   "source": [
    "f = pymupdf.open(fname)\n",
    "layout=f.layout()"
   ]
  },
  {
   "cell_type": "code",
   "execution_count": 25,
   "metadata": {},
   "outputs": [
    {
     "name": "stdout",
     "output_type": "stream",
     "text": [
      "None\n"
     ]
    }
   ],
   "source": [
    "print(layout)"
   ]
  },
  {
   "cell_type": "code",
   "execution_count": 103,
   "metadata": {},
   "outputs": [
    {
     "name": "stdout",
     "output_type": "stream",
     "text": [
      "hello\n"
     ]
    }
   ],
   "source": [
    "print(\"hello\")"
   ]
  },
  {
   "cell_type": "code",
   "execution_count": 32,
   "metadata": {},
   "outputs": [
    {
     "name": "stdout",
     "output_type": "stream",
     "text": [
      "[(42.47999954223633, 36.28115463256836, 541.1253051757812, 48.30711364746094, 'System overview \\n \\n', 0, 0), (42.47999954223633, 51.28115463256836, 251.92807006835938, 63.30711364746094, '3.1 What is the S7-1500R/H redundant system? \\n', 1, 0), (42.47999954223633, 739.03955078125, 540.6156005859375, 763.3953857421875, ' \\nS7-1500R/H redundant system \\n24 \\nSystem Manual, 05/2021, A5E41814787-AC \\n', 2, 0), (127.55999755859375, 87.28115844726562, 326.9279479980469, 99.30711364746094, 'The S7-1500R redundant system consists of:  \\n', 3, 0), (127.55999755859375, 105.27706909179688, 244.48338317871094, 117.30302429199219, '• Two S7-1500R CPUs ① \\n', 4, 0), (127.55999755859375, 123.27297973632812, 391.54693603515625, 135.29893493652344, '• A PROFINET ring with the Media Redundancy Protocol ② \\n', 5, 0), (127.55999755859375, 141.26889038085938, 201.22703552246094, 153.2948455810547, '• IO devices ③ \\n', 6, 0), (127.55998229980469, 159.26480102539062, 231.58761596679688, 171.29075622558594, '• Possibly switches ④ \\n', 7, 0), (127.55996704101562, 177.26071166992188, 538.7285766601562, 225.29856872558594, 'A PROFINET ring is required for the S7-1500R redundant system. The two CPUs must be \\ndirectly connected to each other with a PROFINET cable. All nodes can still communicate with \\neach other in the event of an interruption in the ring. All PROFINET devices in the PROFINET \\nring must support media redundancy (MRP).  \\n', 8, 0), (127.55996704101562, 231.26852416992188, 472.7790222167969, 243.2944793701172, 'You can decouple further devices from the PROFINET ring via a ④ switch, e.g.: \\n', 9, 0), (127.5499267578125, 249.26443481445312, 283.6514892578125, 261.2903747558594, '• PROFINET devices with one port \\n', 10, 0), (127.54989624023438, 267.2603454589844, 300.93597412109375, 279.2862854003906, '• Non MRP-capable PROFINET devices \\n', 11, 0), (127.54986572265625, 285.2562561035156, 520.7847900390625, 297.2821960449219, '• PROFINET devices that do not support H-Sync Forwarding, such as standard IO devices \\n', 12, 0), (127.55990600585938, 303.2521667480469, 519.1615600585938, 315.2781066894531, 'The redundancy connections in an S7-1500R system are the PROFINET ring with MRP ②.  \\n', 13, 0), (127.55987548828125, 321.2480773925781, 524.1146850585938, 381.2898864746094, 'One of the two CPUs in the redundant system takes on the role of primary CPU. The other \\nCPU takes on the role of the following CPU (backup CPU). The role of the CPUs can change \\nduring operation. Synchronization of primary and backup CPU ensures rapid switchover \\nbetween CPUs in the event of a failure of the primary CPU. If the primary CPU fails, the \\nbackup CPU takes over control of the process as the new primary CPU. \\n', 14, 0), (127.54986572265625, 387.2598571777344, 506.80487060546875, 423.2937316894531, 'The redundancy connections use part of the bandwidth on the PROFINET cable for the \\nsynchronization of the R-CPUs. This bandwidth is therefore not available for  \\nPROFINET IO communication.  \\n', 15, 0)]\n"
     ]
    }
   ],
   "source": [
    "print(txt)"
   ]
  },
  {
   "cell_type": "code",
   "execution_count": null,
   "metadata": {},
   "outputs": [],
   "source": [
    "ps7box_b_en-US.pdf"
   ]
  },
  {
   "cell_type": "code",
   "execution_count": 98,
   "metadata": {},
   "outputs": [],
   "source": [
    "def extract_text(fname,page=0):\n",
    "    '''\n",
    "    load_page.get_text(\"blocks\") feldolgozása\n",
    "    '''\n",
    "  \n",
    "    f = pymupdf.open(fname)\n",
    "    txt = f.load_page(page).get_text(\"blocks\")\n",
    "    if page==0:\n",
    "        allpage=f.page_count\n",
    "    print('Page Number:', f.page_count)\n",
    "    print('Creation Date:', f.metadata['creationDate'])\n",
    "    print('Modified Date:', f.metadata['modDate'])\n",
    "    print('\\nTable of Content:\\n', [toc for toc in f.get_toc()])\n",
    "    \n",
    "    txt_out=[]\n",
    "    for i in range(allpage):\n",
    "        txt = f.load_page(page).get_text(\"blocks\")\n",
    "        for line_i in txt:\n",
    "            txt_i=line_i[4].replace(\"\\n\",\" \")\n",
    "            txt_out.append(txt_i)\n",
    "    return(txt_out)\n",
    "\n"
   ]
  },
  {
   "cell_type": "code",
   "execution_count": 100,
   "metadata": {},
   "outputs": [
    {
     "name": "stdout",
     "output_type": "stream",
     "text": [
      "Page Number: 316\n",
      "Creation Date: D:20200318171654+01'00'\n",
      "Modified Date: D:20200318171734+01'00'\n",
      "\n",
      "Table of Content:\n",
      " [[1, 'SFC for SIMATIC S7 (V9.0 SP4)', 1], [1, 'Legal information\\xa0- Warning notice system', 2], [1, 'Table of contents', 3], [1, '1 Security information', 11], [1, \"2 What's new in SFC?\", 13], [1, '3 Introduction', 17], [1, '4 Getting started', 21], [2, '4.1 How to work with SFC in overview', 21], [2, '4.2 How to create an SFC in overview', 23], [2, '4.3 How to create an SFC type in overview', 26], [2, '4.4 How to create an SFC instance in overview', 28], [1, '5 Essentials of SFC', 29], [2, '5.1 SFC in the STEP 7 environment', 29], [2, '5.2 SFC and plant hierarchy', 30], [2, '5.3 SFC and other target systems', 31], [2, '5.4 Configuration limits of the SFC', 32], [2, '5.5 Uses and functionality of SFCs', 33], [3, '5.5.1 What is an SFC?', 33], [3, '5.5.2 What is an SFC type/SFC instance?', 34], [3, '5.5.3 SFC and SFC type comparison', 37], [3, '5.5.4 External view of the SFC', 37], [2, '5.6 SFC elements', 40], [3, '5.6.1 What is a sequencer?', 40], [3, '5.6.2 What are sequencer elements?', 41], [3, '5.6.3 What is a step?', 42], [3, '5.6.4 What is a transition?', 43], [3, '5.6.5 What is a text?', 44], [3, '5.6.6 What is a sequence?', 44], [3, '5.6.7 What is a simultaneous branch?', 45], [3, '5.6.8 What is an alternative branch?', 45], [3, '5.6.9 What is a loop?', 46], [3, '5.6.10 What is a jump?', 47], [1, '6 Starting and working', 49], [2, '6.1 Working with the SFC Editor', 49], [2, '6.2 How to start the SFC Editor', 50], [2, '6.3 Multiuser engineering', 51], [2, '6.4 Navigating in the SFC', 52], [3, '6.4.1 How to navigate in the SFC', 52], [2, '6.5 User interface and operator input', 53], [3, '6.5.1 Elements of the user interface', 53], [3, '6.5.2 Dialog boxes', 56], [2, '6.6 Operator inputs with the mouse', 58], [2, '6.7 Working with the keyboard', 59], [3, '6.7.1 Working with the keyboard', 59], [3, '6.7.2 Shortcut keys for menu commands', 59], [3, '6.7.3 Shortcuts for menu commands', 60], [3, '6.7.4 Navigating in the menu bar and menus with the keyboard', 61], [3, '6.7.5 Navigating in dialog boxes with the keyboard', 62], [3, '6.7.6 Navigating in texts with the keyboard', 63], [3, '6.7.7 Selecting text with the keyboard', 63], [3, '6.7.8 Keyboard shortcuts in the sequencer', 64], [3, '6.7.9 Opening Help with the keyboard', 64], [3, '6.7.10 Changing the window section', 64], [2, '6.8 Default colors', 65], [2, '6.9 Data backup in the SFC Editor', 66], [1, '7 Create the project structure', 67], [2, '7.1 How to create a project structure', 67], [1, '8 Creating, configuring and managing SFCs', 69], [2, '8.1 Overview of creating, configuring and managing SFCs', 69], [2, '8.2 Creating an SFC', 71], [3, '8.2.1 How to create an SFC', 71], [2, '8.3 Creating an SFC type and creating an SFC instance', 72], [3, '8.3.1 How to create an SFC type', 72], [3, '8.3.2 How to create an SFC instance', 73], [2, '8.4 Configuring an SFC', 74], [3, '8.4.1 Basics for configuring an SFC', 74], [3, '8.4.2 Configuration changes in the SFC', 75], [2, '8.5 Configuring the SFC type and SFC instance', 77], [3, '8.5.1 Type/instance concept of SFC', 77], [3, '8.5.2 Configuring the SFC type', 77], [3, '8.5.3 Configuration changes in the SFC type', 79], [3, '8.5.4 Configuring the SFC instance', 80], [3, '8.5.5 Configuration changes in the SFC instance', 82], [2, '8.6 Opening', 83], [3, '8.6.1 How to open SFCs or SFC types', 83], [3, '8.6.2 How to open SFC instances', 84], [2, '8.7 Copying', 85], [3, '8.7.1 Copying and moving SFCs', 85], [3, '8.7.2 Copying and moving SFC types', 86], [3, '8.7.3 Copying and moving SFC instances', 86], [2, '8.8 Deleting', 88], [3, '8.8.1 How to delete SFCs and SFC types', 88], [3, '8.8.2 How to delete SFC instances', 88], [1, '9 Adapting the properties of charts, types and instances', 89], [2, '9.1 How to adapt chart properties', 89], [2, '9.2 How to adapt type properties', 91], [2, '9.3 How to update SFC types', 94], [2, '9.4 How to adapt instance properties', 95], [1, '10 Configuring messages', 97], [2, '10.1 How to configure messages in the SFC', 97], [1, '11 Configuring the characteristics', 99], [2, '11.1 Using the characteristics editor and the interface editor', 99], [2, '11.2 Characteristics of the SFC type', 100], [2, '11.3 Note on subsequent modifications to control strategies', 102], [2, '11.4 How to configure note texts and position texts', 103], [2, '11.5 Inputs/outputs for characteristics', 104], [2, '11.6 Block contacts', 105], [2, '11.7 Attributes for characteristics', 107], [1, '12 Configuring sequential control systems', 111], [2, '12.1 How to configure sequential control systems', 111], [2, '12.2 Creating the sequencer topology', 112], [3, '12.2.1 How to create a sequencer topology', 112], [3, '12.2.2 How to configure multiple sequencers', 113], [3, '12.2.3 Overview of inserting/creating SFC elements', 116], [3, '12.2.4 How to create a sequence', 117], [3, '12.2.5 How to create and edit a simultaneous branch', 117], [3, '12.2.6 How to create and edit an alternative branch', 119], [3, '12.2.7 How to create and edit a loop', 119], [3, '12.2.8 How to create and edit a jump', 121], [3, '12.2.9 How to create and edit a text box', 122], [2, '12.3 Managing SFC elements', 125], [3, '12.3.1 Selecting SFC elements', 125], [4, '12.3.1.1 How to select with a mouse click', 125], [4, '12.3.1.2 How to select with the keyboard', 126], [4, '12.3.1.3 How to select with the lasso', 126], [4, '12.3.1.4 How to select steps and transitions for editing', 126], [3, '12.3.2 Copying, moving and deleting SFC elements', 127], [4, '12.3.2.1 How to copy SFC elements', 127], [4, '12.3.2.2 How to copy object properties of SFC elements', 128], [4, '12.3.2.3 How to move SFC elements', 129], [4, '12.3.2.4 Deleting SFC elements', 130], [2, '12.4 Editing in the properties dialog box', 131], [3, '12.4.1 How to edit sequencer properties', 131], [3, '12.4.2 Editing the steps', 132], [4, '12.4.2.1 How to edit a step', 132], [4, '12.4.2.2 How to edit actions in a step', 134], [4, '12.4.2.3 How to edit addresses in a step', 136], [4, '12.4.2.4 Valid entries for addresses', 138], [4, '12.4.2.5 How to filter block inputs/outputs', 140], [4, '12.4.2.6 How to access structures', 141], [3, '12.4.3 Editing transitions', 142], [4, '12.4.3.1 How to edit the transition', 142], [4, '12.4.3.2 Formulating the conditions of a transition', 144], [4, '12.4.3.3 How to edit addresses in a transition', 144], [4, '12.4.3.4 How to edit OS comments in a transition', 146], [3, '12.4.4 Shared addresses and valid data types', 147], [4, '12.4.4.1 Shared addresses', 147], [4, '12.4.4.2 Absolute addressing', 148], [4, '12.4.4.3 How to perform symbolic addressing', 148], [4, '12.4.4.4 Valid data types', 149], [3, '12.4.5 Calculations in steps and transitions of SFC', 150], [4, '12.4.5.1 Overview of SFC calculations', 150], [4, '12.4.5.2 Configuring a calculation in SFC', 153], [4, '12.4.5.3 Scope of functions in SFC calculations:', 156], [4, '12.4.5.4 Example for implementing a formula in a calculation for SFC ', 158], [2, '12.5 Specifying runtime properties', 160], [3, '12.5.1 Runtime properties of an SFC', 160], [3, '12.5.2 How to edit the run sequence', 160], [3, '12.5.3 Runtime attributes for runtime groups and SFCs', 161], [1, '13 Standard interface and chart I/Os', 165], [2, '13.1 Standard interface of the SFC', 165], [3, '13.1.1 Inputs/outputs of the SFC standard interface', 165], [3, '13.1.2 Standard interface of the SFC', 165], [3, '13.1.3 Meanings in the table', 170], [3, '13.1.4 Inputs/outputs of the SFC sorted according to usage', 170], [2, '13.2 Standard interface of the SFC type', 172], [3, '13.2.1 Standard interface of the SFC type', 172], [3, '13.2.2 Inputs/outputs of the SFC type standard interface', 172], [3, '13.2.3 Inputs/outputs of the SFC type sorted according to usage', 178], [3, '13.2.4 \"Inputs/outputs\" interface expansions', 179], [3, '13.2.5 \"Characteristics\" interface parameter assignments', 179], [4, '13.2.5.1 \"Characteristics\" interface parameter assignments', 179], [4, '13.2.5.2 \"Control strategies\" characteristic', 179], [4, '13.2.5.3 Characteristic for note texts', 180], [4, '13.2.5.4 Characteristic for position texts', 180], [3, '13.2.6 \"Characteristics\" interface expansions', 181], [4, '13.2.6.1 \"Characteristics\" interface expansions', 181], [4, '13.2.6.2 \"Setpoints\" characteristic', 181], [4, '13.2.6.3 Meaning and usage of setpoints', 187], [4, '13.2.6.4 \"Process values\" characteristic', 190], [4, '13.2.6.5 \"Control values\" characteristic', 190], [4, '13.2.6.6 \"Parameters\" characteristic', 190], [4, '13.2.6.7 \"Bit memory\" characteristic', 191], [4, '13.2.6.8 \"Timers\" characteristic', 191], [4, '13.2.6.9 \"Block contacts\" characteristic', 192], [2, '13.3 SFC inputs/outputs sorted by usage', 193], [3, '13.3.1 Operating modes (SFC inputs/outputs)', 193], [3, '13.3.2 Commands and operating states (SFC inputs/outputs)', 194], [3, '13.3.3 Execution options (SFC inputs/outputs)', 201], [3, '13.3.4 Group displays and group acknowledgements (SFC inputs/outputs)', 202], [3, '13.3.5 Data from sequencers and steps to be processed (SFC inputs/outputs)', 202], [3, '13.3.6 BATCH parameters (SFC inputs/outputs)', 203], [3, '13.3.7 Continuous mode (SFC inputs/outputs)', 204], [3, '13.3.8 Troubleshooting (SFC inputs/outputs)', 205], [3, '13.3.9 Messages (SFC inputs/outputs)', 207], [3, '13.3.10 Control words (SFC inputs/outputs)', 208], [3, '13.3.11 Status words (SFC inputs/outputs)', 209], [3, '13.3.12 System parameters (SFC inputs/outputs)', 213], [3, '13.3.13 Reserves (SFC inputs/outputs)', 213], [1, '14 Compiling SFCs and SFC types', 215], [2, '14.1 Overview of compiling charts, types, and instances', 215], [2, '14.2 Settings for compiling/downloading', 217], [2, '14.3 How to compile', 218], [2, '14.4 Overview of the blocks generated during compilation', 219], [2, '14.5 Consistency check', 221], [1, '15 Downloading to the AS', 223], [2, '15.1 How to download programs', 223], [2, '15.2 Reaction of the SFC at deactivation before downloading changes only', 228], [1, '16 Behavior of the sequential control system in the AS', 231], [2, '16.1 Sequential control systems in the AS', 231], [2, '16.2 Specifying the runtime behavior', 232], [3, '16.2.1 Runtime behavior of the sequential control system', 232], [3, '16.2.2 Operating modes', 232], [3, '16.2.3 Step control modes', 233], [3, '16.2.4 Execution options', 234], [3, '16.2.5 Operating states', 236], [4, '16.2.5.1 Operating states', 236], [4, '16.2.5.2 Operating state logic for SFC (SFC OSL)', 236], [4, '16.2.5.3 Continuous mode', 241], [4, '16.2.5.4 Diagram of the state changes for SFC OSL', 242], [4, '16.2.5.5 Operating state logic for sequencers (sequencer OSL)', 243], [4, '16.2.5.6 Diagram of the state changes for sequencer OSL', 245], [2, '16.3 Processing the SFC in the AS', 246], [3, '16.3.1 Processing an SFC', 246], [3, '16.3.2 Processing an SFC after CPU stop and restart', 248], [3, '16.3.3 Commands', 250], [3, '16.3.4 Start requirements of an SFC (chart/instance)', 251], [3, '16.3.5 Behavior when multiple commands are queued\\xa0', 252], [3, '16.3.6 Processing the SFC elements', 253], [4, '16.3.6.1 Runtime phases of a step', 253], [4, '16.3.6.2 Processing a step and transition', 253], [4, '16.3.6.3 Processing a simultaneous branch', 255], [4, '16.3.6.4 Processing an alternative branch', 256], [4, '16.3.6.5 Processing a loop', 257], [4, '16.3.6.6 Processing a jump', 257], [2, '16.4 Changing the control strategy and setpoints', 259], [3, '16.4.1 Changing the control strategy and setpoints for an SFC instance', 259], [3, '16.4.2 Tracking the control strategy and setpoints in AUTO mode', 261], [1, '17 Testing and commissioning sequential control systems', 263], [2, '17.1 Operator control and monitoring during testing', 263], [2, '17.2 Display in test mode', 268], [2, '17.3 States of the steps and transitions', 272], [2, '17.4 Icons for operating states', 273], [2, '17.5 Properties of a step during testing', 274], [2, '17.6 Properties of a transition during testing', 277], [2, '17.7 Properties of a sequencer during testing', 280], [2, '17.8 Calculations in steps and transitions during testing', 282], [1, '18 Documenting programs', 283], [2, '18.1 Documenting SFCs', 283], [2, '18.2 Chart reference data', 285], [2, '18.3 Logs', 287], [2, '18.4 Defining footers', 289], [1, '19 Configuring parameter controls', 291], [2, '19.1 Parameter control', 291], [2, '19.2 How to configure the runtime', 292], [2, '19.3 Execution with different parameter sets', 293], [2, '19.4 Example of a recipe data block', 295], [1, '20 Tips & Tricks', 297], [2, '20.1 Configuring SFC calls', 297], [2, '20.2 Converting older projects', 298], [1, '21 Appendix', 301], [2, '21.1 Allocation request and allocation status', 301], [2, '21.2 Data types', 304], [3, '21.2.1 BOOL, BO', 304], [3, '21.2.2 BYTE, BY', 304], [3, '21.2.3 CHAR, C', 304], [3, '21.2.4 DATE, D', 305], [3, '21.2.5 DINT, DI', 305], [3, '21.2.6 DWORD, DW', 305], [3, '21.2.7 INT, I', 306], [3, '21.2.8 REAL, R', 306], [3, '21.2.9 S5TIME, T5', 306], [3, '21.2.10 STRING, S', 307], [3, '21.2.11 STRUCT, ST', 307], [3, '21.2.12 TIME OF DAY, T', 308], [3, '21.2.13 TIME, TI', 308], [3, '21.2.14 WORD, W', 308], [1, 'Index', 309]]\n"
     ]
    }
   ],
   "source": [
    "text_24=extract_text(\"./pdf/s7sfcs7b_en-US.pdf\")"
   ]
  },
  {
   "cell_type": "code",
   "execution_count": 102,
   "metadata": {},
   "outputs": [
    {
     "name": "stdout",
     "output_type": "stream",
     "text": [
      "8216\n"
     ]
    }
   ],
   "source": [
    "print(len(text_24))"
   ]
  },
  {
   "cell_type": "code",
   "execution_count": 27,
   "metadata": {},
   "outputs": [],
   "source": [
    "f = pymupdf.open(fname)\n",
    "pno=24\n",
    "page = f.load_page(pno)  # loads page number 'pno' of the document (0-based)\n",
    "page = f[pno]  # the short form"
   ]
  },
  {
   "cell_type": "code",
   "execution_count": 29,
   "metadata": {},
   "outputs": [],
   "source": [
    "pix=page.get_pixmap()"
   ]
  },
  {
   "cell_type": "code",
   "execution_count": 30,
   "metadata": {},
   "outputs": [],
   "source": [
    "pix.save(f\"fname_{pno}.png\")"
   ]
  }
 ],
 "metadata": {
  "interpreter": {
   "hash": "5ce7801274b0b37dd0fd5d67dc711627c3fd25ac6676442e98aec8c24f76fbd7"
  },
  "kernelspec": {
   "display_name": "Python 3.8.6 64-bit",
   "language": "python",
   "name": "python3"
  },
  "language_info": {
   "codemirror_mode": {
    "name": "ipython",
    "version": 3
   },
   "file_extension": ".py",
   "mimetype": "text/x-python",
   "name": "python",
   "nbconvert_exporter": "python",
   "pygments_lexer": "ipython3",
   "version": "3.8.6"
  },
  "orig_nbformat": 4
 },
 "nbformat": 4,
 "nbformat_minor": 2
}
