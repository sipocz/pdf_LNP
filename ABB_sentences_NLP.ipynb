{
 "cells": [
  {
   "cell_type": "code",
   "execution_count": 1,
   "metadata": {},
   "outputs": [
    {
     "data": {
      "text/plain": [
       "'\\nCHANGE LOG\\n\\n20220207: Doc2Vec tesz\\n\\n\\n'"
      ]
     },
     "execution_count": 1,
     "metadata": {},
     "output_type": "execute_result"
    }
   ],
   "source": [
    "'''\n",
    "CHANGE LOG\n",
    "\n",
    "20220207: Doc2Vec tesz\n",
    "\n",
    "\n",
    "'''"
   ]
  },
  {
   "cell_type": "code",
   "execution_count": 2,
   "metadata": {},
   "outputs": [],
   "source": [
    "import nltk\n",
    "# nltk.download() NLTK library download\n",
    "\n"
   ]
  },
  {
   "cell_type": "code",
   "execution_count": 3,
   "metadata": {},
   "outputs": [],
   "source": [
    " \n",
    "import platform\n",
    "os_str=platform.platform()\n",
    "if \"Windows\" in os_str:\n",
    "    _OS_=\"windows\"\n",
    "else:\n",
    "    _OS_=\"linux\""
   ]
  },
  {
   "cell_type": "code",
   "execution_count": 34,
   "metadata": {},
   "outputs": [],
   "source": [
    "if _OS_== \"linux\":\n",
    "    _fname_=\"/home/sipocz/drive/ABB_sentences.txt\"\n",
    "    _basepath_=\"/home/sipocz/drive/\"\n",
    "else:\n",
    "    _fname_=\"C:/Users/sipocz/Downloads/ABB_sentences.txt\"\n",
    "    _basepath_=\"C:/Users/sipocz/Downloads/\"\n",
    "    _modelpath_=\"C:/PDF_NLP_MODELS/\"\n",
    "    \n"
   ]
  },
  {
   "cell_type": "code",
   "execution_count": 5,
   "metadata": {},
   "outputs": [],
   "source": [
    "def read_file(fname, counter=0):\n",
    "    out=[]\n",
    "    f=open(fname,\"r\",encoding=\"utf-8\")\n",
    "    if counter!=0:\n",
    "        for i in range(counter):\n",
    "            one_line=f.readline()\n",
    "            out.append(one_line.strip())\n",
    "    else:\n",
    "        while True:\n",
    "            one_line=f.readline()\n",
    "            if one_line==\"\":\n",
    "                print(\"EOF\")\n",
    "                \n",
    "                break\n",
    "            out.append(one_line.strip())\n",
    "\n",
    "    \n",
    "    return(out)"
   ]
  },
  {
   "cell_type": "code",
   "execution_count": 6,
   "metadata": {},
   "outputs": [
    {
     "name": "stdout",
     "output_type": "stream",
     "text": [
      "EOF\n"
     ]
    }
   ],
   "source": [
    "st=read_file(_fname_)"
   ]
  },
  {
   "cell_type": "code",
   "execution_count": 7,
   "metadata": {},
   "outputs": [
    {
     "data": {
      "text/plain": [
       "1156117"
      ]
     },
     "execution_count": 7,
     "metadata": {},
     "output_type": "execute_result"
    }
   ],
   "source": [
    "len(st)"
   ]
  },
  {
   "cell_type": "code",
   "execution_count": 8,
   "metadata": {},
   "outputs": [
    {
     "data": {
      "text/plain": [
       "\"['the', 'checksum', 'program', 'is', 'started', ',', 'and', 'the', 'check-', 'sum', 'is', 'indicated', 'at', 'the', 'end', 'of', 'the', 'configuration', 'file', '.']\""
      ]
     },
     "execution_count": 8,
     "metadata": {},
     "output_type": "execute_result"
    }
   ],
   "source": [
    "st[150]"
   ]
  },
  {
   "cell_type": "code",
   "execution_count": 9,
   "metadata": {},
   "outputs": [],
   "source": [
    "from nltk.tokenize import sent_tokenize, word_tokenize\n",
    "import gensim\n",
    "from gensim.models import Word2Vec\n",
    "from gensim.models import Doc2Vec\n",
    "\n",
    "import pandas as pd"
   ]
  },
  {
   "cell_type": "code",
   "execution_count": 10,
   "metadata": {},
   "outputs": [],
   "source": [
    "def str2list(str):\n",
    "    s=str[1:-1]\n",
    "    s=s.replace(\"', '\",\"#\")[1:-1]\n",
    "    #print(s)\n",
    "    out=s.split(\"#\")\n",
    "    #print(out)\n",
    "    return(out)"
   ]
  },
  {
   "cell_type": "code",
   "execution_count": 11,
   "metadata": {},
   "outputs": [
    {
     "data": {
      "text/plain": [
       "['the',\n",
       " 'compact',\n",
       " 'flash',\n",
       " 'card',\n",
       " 'must',\n",
       " 'be',\n",
       " 'removed',\n",
       " 'from',\n",
       " 'the',\n",
       " 'high',\n",
       " 'integrity',\n",
       " 'controller',\n",
       " 'before',\n",
       " 'the',\n",
       " 'reset',\n",
       " 'button',\n",
       " 'is',\n",
       " 'pressed',\n",
       " 'to',\n",
       " 'perform',\n",
       " 'a',\n",
       " 'cold',\n",
       " 'restart',\n",
       " '.']"
      ]
     },
     "execution_count": 11,
     "metadata": {},
     "output_type": "execute_result"
    }
   ],
   "source": [
    "str2list(st[1200])"
   ]
  },
  {
   "cell_type": "code",
   "execution_count": 12,
   "metadata": {},
   "outputs": [],
   "source": [
    "l=[str2list(x) for x in st]"
   ]
  },
  {
   "cell_type": "code",
   "execution_count": 13,
   "metadata": {},
   "outputs": [
    {
     "name": "stdout",
     "output_type": "stream",
     "text": [
      "1156117\n",
      "['plug', 'the', 'module', 'back', 'into', 'the', 'subrack', '.']\n"
     ]
    }
   ],
   "source": [
    "print(len(l))\n",
    "print(l[50])"
   ]
  },
  {
   "cell_type": "code",
   "execution_count": 33,
   "metadata": {},
   "outputs": [],
   "source": [
    "#model1 = gensim.models.Word2Vec(l, vector_size=400,  sg=1,)"
   ]
  },
  {
   "cell_type": "code",
   "execution_count": 15,
   "metadata": {},
   "outputs": [
    {
     "name": "stdout",
     "output_type": "stream",
     "text": [
      "['when', 'the', 'reference', 'signal', 'is', 'close', 'to', 'a', 'limit', ',', 'autotuning', 'may', 'give', 'poor', 'results', '.']\n"
     ]
    }
   ],
   "source": [
    "print(l[3421])"
   ]
  },
  {
   "cell_type": "code",
   "execution_count": 16,
   "metadata": {},
   "outputs": [],
   "source": [
    "def create_sentence(lin:list):\n",
    "    '''\n",
    "    in:  lin -- list of words\n",
    "    out: out -- sentence string \n",
    "    '''\n",
    "    out=\"\"\n",
    "    for i in lin:\n",
    "        out=out+\" \"+i\n",
    "    return(out)\n",
    "        "
   ]
  },
  {
   "cell_type": "code",
   "execution_count": 17,
   "metadata": {},
   "outputs": [
    {
     "data": {
      "text/plain": [
       "' when the reference signal is close to a limit , autotuning may give poor results .'"
      ]
     },
     "execution_count": 17,
     "metadata": {},
     "output_type": "execute_result"
    }
   ],
   "source": [
    "create_sentence(l[3421])\n",
    "\n",
    "\n",
    "\n"
   ]
  },
  {
   "cell_type": "code",
   "execution_count": 18,
   "metadata": {},
   "outputs": [],
   "source": [
    "def create_doc_corpus(fname,lst:list):\n",
    "\n",
    "\n",
    "    out=[]\n",
    "    f=open(fname,\"w\",encoding=\"utf-8\")\n",
    "\n",
    "    for i in lst[:]:\n",
    "        sentence=create_sentence(i)    \n",
    "        f.write(sentence+\"\\n\")                \n",
    "    f.close()    \n",
    "    \n",
    "    \n",
    "    \n",
    "\n",
    "\n",
    "\n"
   ]
  },
  {
   "cell_type": "code",
   "execution_count": 19,
   "metadata": {},
   "outputs": [],
   "source": [
    "sentence_corpus_file=_basepath_+\"ABB_sentences_corpus.txt\""
   ]
  },
  {
   "cell_type": "code",
   "execution_count": 20,
   "metadata": {},
   "outputs": [
    {
     "data": {
      "text/plain": [
       "'C:/Users/sipocz/Downloads/ABB_sentences_corpus.txt'"
      ]
     },
     "execution_count": 20,
     "metadata": {},
     "output_type": "execute_result"
    }
   ],
   "source": [
    "sentence_corpus_file"
   ]
  },
  {
   "cell_type": "code",
   "execution_count": 21,
   "metadata": {},
   "outputs": [],
   "source": [
    "create_doc_corpus(sentence_corpus_file,l)"
   ]
  },
  {
   "cell_type": "code",
   "execution_count": 22,
   "metadata": {},
   "outputs": [],
   "source": [
    "doc_model =  Doc2Vec(corpus_file=sentence_corpus_file,vector_size=200,epochs=60,dm=0)"
   ]
  },
  {
   "cell_type": "code",
   "execution_count": 39,
   "metadata": {},
   "outputs": [
    {
     "name": "stdout",
     "output_type": "stream",
     "text": [
      "['loopfcm']\n"
     ]
    }
   ],
   "source": [
    "search_text=\"loopfcm\"\n",
    "search_list=search_text.split(\" \")\n",
    "print(search_list)"
   ]
  },
  {
   "cell_type": "code",
   "execution_count": 40,
   "metadata": {},
   "outputs": [],
   "source": [
    "model1=doc_model.infer_vector(search_list,epochs=1220)"
   ]
  },
  {
   "cell_type": "code",
   "execution_count": null,
   "metadata": {},
   "outputs": [],
   "source": []
  },
  {
   "cell_type": "code",
   "execution_count": 41,
   "metadata": {},
   "outputs": [
    {
     "name": "stdout",
     "output_type": "stream",
     "text": [
      "[(727860, 0.8198559284210205), (214966, 0.8095461130142212), (953130, 0.8066140413284302), (405699, 0.8033778071403503), (69532, 0.6780293583869934), (314435, 0.6760463118553162), (418499, 0.5610339045524597), (594192, 0.5575267672538757), (418480, 0.5555064678192139), (830937, 0.5543345212936401), (418482, 0.5533576607704163), (830099, 0.5492563247680664), (769571, 0.5465068221092224), (830050, 0.5453221201896667), (825842, 0.5426957607269287), (418479, 0.5400197505950928), (480831, 0.5397850871086121), (830359, 0.5388229489326477), (480813, 0.5385459661483765), (480812, 0.5385103821754456)]\n"
     ]
    }
   ],
   "source": [
    "ans=doc_model.dv.similar_by_vector(model1,topn=20)\n",
    "print(ans)"
   ]
  },
  {
   "cell_type": "code",
   "execution_count": 42,
   "metadata": {},
   "outputs": [
    {
     "name": "stdout",
     "output_type": "stream",
     "text": [
      "0-->727860-->['when', 'opening', 'a', 'non-rate', 'periodic', 'totalizer', 'fcm', 'in', 'a', 'loopfcm', 'display', 'after', 'changing', 'the', 'period', 'unit', 'value', ',', '“', 'error', '', '', 'text', 'property', 'is', 'read-only', '”', 'was', 'generated', 'by', 'advtemplates', ':', ':newruntimevalue', '.']\n",
      "1-->214966-->['when', 'opening', 'a', 'non-rate', 'periodic', 'totalizer', 'fcm', 'in', 'a', 'loopfcm', 'display', 'after', 'changing', 'the', 'period', 'unit', 'value', ',', '“', 'error', '', '', 'text', 'property', 'is', 'read-only', '”', 'was', 'generated', 'by', 'advtemplates', ':', ':newruntimevalue', '.']\n",
      "2-->953130-->['when', 'opening', 'a', 'non-rate', 'periodic', 'totalizer', 'fcm', 'in', 'a', 'loopfcm', 'display', 'after', 'changing', 'the', 'period', 'unit', 'value', ',', '“', 'error', '', '', 'text', 'property', 'is', 'read-only', '”', 'was', 'generated', 'by', 'advtemplates', ':', ':newruntimevalue', '.']\n",
      "3-->405699-->['when', 'opening', 'a', 'non-rate', 'periodic', 'totalizer', 'fcm', 'in', 'a', 'loopfcm', 'display', 'after', 'changing', 'the', 'period', 'unit', 'value', ',', '“', 'error', '', '', 'text', 'property', 'is', 'read-only', '”', 'was', 'generated', 'by', 'advtemplates', ':', ':newruntimevalue', '.']\n",
      "4-->69532-->['advabuild', 'supports', 'all', 'mod', 'database', 'configuration', ',', 'ccf', ',', 'tcl', ',', 'tll', ',', 'and', 'rdp', 'applications', 'such', 'as', 'console', 'config', ',', 'pagebuilder', ',', 'pcconfig', ',', 'and', 'loopfcm', '.']\n",
      "5-->314435-->['those', 'displays', 'include', ':', 'loopfcm', 'templates', ',', 'ladder', 'logic', 'faceplates', ',', 's800', 'config', 'templates', ',', 'loop', 'faceplates', ',', 'group', 'and', 'area', 'displays', '.']\n",
      "6-->418499-->['•', 'mod', 'tll', 'sequence', '.']\n",
      "7-->594192-->['loopdesc', 'mod', 'loop', 'parameter', 'name', ':', 'loop', 'descriptor', '.']\n",
      "8-->418480-->['•', 'mod', 'tcl', 'sequence', 'debug', '.']\n",
      "9-->830937-->['loopdesc', 'mod', 'loop', 'parameter', 'name', ':', 'loop', 'descriptor', '.']\n",
      "10-->418482-->['•', 'mod', 'tcl', 'sfc', '.']\n",
      "11-->830099-->['•', 'tcl', 'displays', '.']\n",
      "12-->769571-->['•', 'mod', 'tcl', 'unit', 'array', 'plot', '.']\n",
      "13-->830050-->['•', 'mod_ll_dev', '.']\n",
      "14-->825842-->['–', 'mod', 'tcl', 'sfc', '.']\n",
      "15-->418479-->['•', 'mod', 'tcl', 'recipe', 'detail', '.']\n",
      "16-->480831-->['•', 'mod', 'tll', 'sequence', '.']\n",
      "17-->830359-->['tcl', 'array', 'plot', 'the', 'tcl', 'array', 'plot', 'is', 'configured', 'using', 'the', 'mod', 'plot', 'aspect', 'as', 'shown', 'in', 'figure', '.']\n",
      "18-->480813-->['•', 'mod', 'tcl', 'sequence', 'detail', '.']\n",
      "19-->480812-->['•', 'mod', 'tcl', 'sequence', 'debug', '.']\n"
     ]
    }
   ],
   "source": [
    "for i in range(20):\n",
    "    print(f\"{i}-->{ans[i][0]}-->{l[ans[i][0]]}\")\n"
   ]
  },
  {
   "cell_type": "code",
   "execution_count": 43,
   "metadata": {},
   "outputs": [],
   "source": [
    "doc_model.save(_modelpath_+\"ABB_paragraph.model\")"
   ]
  },
  {
   "cell_type": "code",
   "execution_count": 44,
   "metadata": {},
   "outputs": [],
   "source": [
    "doc_model=Doc2Vec.load(_modelpath_+\"ABB_paragraph.model\")"
   ]
  },
  {
   "cell_type": "code",
   "execution_count": 45,
   "metadata": {},
   "outputs": [
    {
     "data": {
      "text/plain": [
       "[(372706, 0.7747548222541809),\n",
       " (66484, 0.7489320039749146),\n",
       " (411861, 0.7479469776153564),\n",
       " (797, 0.6180981397628784),\n",
       " (932, 0.6006776690483093),\n",
       " (1067658, 0.59723961353302),\n",
       " (275, 0.589518129825592),\n",
       " (887735, 0.5796614289283752),\n",
       " (440857, 0.5648865103721619),\n",
       " (440852, 0.5629863739013672)]"
      ]
     },
     "execution_count": 45,
     "metadata": {},
     "output_type": "execute_result"
    }
   ],
   "source": [
    "doc_model.dv.most_similar(49)"
   ]
  },
  {
   "cell_type": "code",
   "execution_count": 46,
   "metadata": {},
   "outputs": [
    {
     "data": {
      "text/plain": [
       "['this',\n",
       " 'allows',\n",
       " 'the',\n",
       " 'user',\n",
       " 'to',\n",
       " 'connect',\n",
       " 'several',\n",
       " 'hart',\n",
       " 'devices',\n",
       " 'at',\n",
       " 'one',\n",
       " 'i/o',\n",
       " 'module',\n",
       " '.']"
      ]
     },
     "execution_count": 46,
     "metadata": {},
     "output_type": "execute_result"
    }
   ],
   "source": [
    "l[780943]"
   ]
  },
  {
   "cell_type": "code",
   "execution_count": 47,
   "metadata": {},
   "outputs": [
    {
     "data": {
      "text/plain": [
       "array([-0.08505765, -0.10627934,  0.28791672, -0.0313446 , -0.23113595,\n",
       "        0.30136397, -0.12787038, -0.17306381,  0.29254496,  0.10075809,\n",
       "        0.19144136,  0.28794548, -0.50341964,  0.13327944, -0.19222072,\n",
       "        0.3992071 ,  0.19157328, -0.10187456,  0.7325503 ,  0.10492992,\n",
       "       -0.23378982, -0.02300307, -0.21724027, -0.37541616, -0.16727027,\n",
       "        0.10947618, -0.09547579,  0.31642154, -0.24927025, -0.47360888,\n",
       "       -0.29909256,  0.45040303,  0.55008066, -0.0824582 , -0.06211973,\n",
       "       -0.04163621, -0.13383421, -0.05833502,  0.15726358,  0.4648321 ,\n",
       "        0.14365418, -0.20631841,  0.11681075, -0.31533587, -0.10986188,\n",
       "        0.29553643,  0.00391633, -0.20793328,  0.22695704,  0.29538295,\n",
       "       -0.183684  ,  0.20712344,  0.15880002,  0.23229167,  0.32313338,\n",
       "       -0.34356257, -0.18859144, -0.09951457, -0.21286231,  0.20960292,\n",
       "        0.25007513,  0.06299697,  0.03243375,  0.15964907,  0.02356828,\n",
       "        0.19708975,  0.01279122,  0.30472878,  0.19074014,  0.19828546,\n",
       "       -0.02016723, -0.03031985,  0.09020748,  0.32955268,  0.48676682,\n",
       "        0.18463641,  0.16048445,  0.02747851,  0.37729976, -0.08790552,\n",
       "        0.4310078 ,  0.05060426, -0.24257934, -0.05684065, -0.08925635,\n",
       "        0.35023677, -0.06419788, -0.1472608 ,  0.14801429,  0.48603436,\n",
       "        0.2909928 ,  0.29580113,  0.02266767,  0.42741433,  0.04937079,\n",
       "        0.3448192 ,  0.09863289, -0.39017394, -0.02146245, -0.24230798,\n",
       "        0.18698582,  0.06191456,  0.16355221, -0.06362085,  0.17270952,\n",
       "        0.24468528, -0.02675592,  0.16921382,  0.06450614,  0.18268508,\n",
       "        0.27792227,  0.0109699 ,  0.09250747, -0.02816009, -0.30194712,\n",
       "       -0.08606344,  0.25116202,  0.47476542,  0.10063761, -0.04722897,\n",
       "        0.11495964,  0.25134596,  0.06235111,  0.11117323,  0.23431012,\n",
       "       -0.11064227,  0.10800047,  0.19260846,  0.06565484,  0.03533045,\n",
       "        0.3292677 ,  0.12077006, -0.18775533,  0.08046376,  0.03473758,\n",
       "       -0.08122613,  0.13766956,  0.0635402 ,  0.33657038, -0.13921879,\n",
       "        0.22274554, -0.04026683, -0.06428201,  0.10161884,  0.02499334,\n",
       "        0.17638111, -0.19931477,  0.00547999, -0.22174144,  0.02048108,\n",
       "        0.30157   ,  0.0767647 ,  0.461854  ,  0.16379833,  0.1168069 ,\n",
       "        0.13052087,  0.6356543 , -0.31298956, -0.33498475, -0.37745005,\n",
       "        0.19676988, -0.2435928 ,  0.1753806 , -0.00314126,  0.4782113 ,\n",
       "        0.08409977,  0.1838024 ,  0.36747167, -0.15970463, -0.28325954,\n",
       "        0.16404353,  0.09416982, -0.3284876 , -0.13351184, -0.18529716,\n",
       "        0.23527405,  0.30334473, -0.07225605, -0.19885525,  0.05945494,\n",
       "        0.00853838,  0.22615007,  0.36870927, -0.45652586,  0.32870197,\n",
       "        0.23508623,  0.19458385,  0.28506523,  0.03289804, -0.08651382,\n",
       "        0.15526481,  0.10900029,  0.5305735 , -0.42543048, -0.12466389,\n",
       "        0.12489764, -0.1466358 ,  0.31276035,  0.03412031, -0.5471164 ],\n",
       "      dtype=float32)"
      ]
     },
     "execution_count": 47,
     "metadata": {},
     "output_type": "execute_result"
    }
   ],
   "source": [
    "model1"
   ]
  },
  {
   "cell_type": "code",
   "execution_count": 48,
   "metadata": {},
   "outputs": [],
   "source": [
    "doc_model.save(\"Doc2vec_ABB.model\")"
   ]
  },
  {
   "cell_type": "code",
   "execution_count": null,
   "metadata": {},
   "outputs": [],
   "source": []
  },
  {
   "cell_type": "code",
   "execution_count": 49,
   "metadata": {},
   "outputs": [
    {
     "ename": "AttributeError",
     "evalue": "'numpy.ndarray' object has no attribute 'wv'",
     "output_type": "error",
     "traceback": [
      "\u001b[1;31m---------------------------------------------------------------------------\u001b[0m",
      "\u001b[1;31mAttributeError\u001b[0m                            Traceback (most recent call last)",
      "\u001b[1;32m<ipython-input-49-55db962c8e74>\u001b[0m in \u001b[0;36m<module>\u001b[1;34m\u001b[0m\n\u001b[1;32m----> 1\u001b[1;33m \u001b[1;32mfor\u001b[0m \u001b[0mindex\u001b[0m\u001b[1;33m,\u001b[0m \u001b[0mword\u001b[0m \u001b[1;32min\u001b[0m \u001b[0menumerate\u001b[0m \u001b[1;33m(\u001b[0m\u001b[0mmodel1\u001b[0m\u001b[1;33m.\u001b[0m\u001b[0mwv\u001b[0m\u001b[1;33m.\u001b[0m\u001b[0mindex_to_key\u001b[0m\u001b[1;33m)\u001b[0m\u001b[1;33m:\u001b[0m\u001b[1;33m\u001b[0m\u001b[1;33m\u001b[0m\u001b[0m\n\u001b[0m\u001b[0;32m      2\u001b[0m     \u001b[1;32mif\u001b[0m \u001b[0mindex\u001b[0m \u001b[1;33m%\u001b[0m \u001b[1;36m100\u001b[0m\u001b[1;33m==\u001b[0m\u001b[1;36m0\u001b[0m\u001b[1;33m:\u001b[0m\u001b[1;33m\u001b[0m\u001b[1;33m\u001b[0m\u001b[0m\n\u001b[0;32m      3\u001b[0m         \u001b[0mprint\u001b[0m\u001b[1;33m(\u001b[0m\u001b[0mindex\u001b[0m\u001b[1;33m,\u001b[0m\u001b[0mword\u001b[0m\u001b[1;33m)\u001b[0m\u001b[1;33m\u001b[0m\u001b[1;33m\u001b[0m\u001b[0m\n",
      "\u001b[1;31mAttributeError\u001b[0m: 'numpy.ndarray' object has no attribute 'wv'"
     ]
    }
   ],
   "source": [
    "for index, word in enumerate (model1.wv.index_to_key):\n",
    "    if index % 100==0:\n",
    "        print(index,word)"
   ]
  },
  {
   "cell_type": "code",
   "execution_count": null,
   "metadata": {},
   "outputs": [
    {
     "data": {
      "text/plain": [
       "[('non-redundant', 0.5890538096427917),\n",
       " ('redundancy', 0.5542015433311462),\n",
       " ('2oo3', 0.513979971408844),\n",
       " ('ci869s', 0.5113728046417236),\n",
       " ('pm858/pm861/pm862/pm864/pm865/pm866/pm867/pm891', 0.4885058104991913),\n",
       " ('hardware-tree', 0.4843270480632782),\n",
       " ('1oo2', 0.4809989035129547),\n",
       " ('opcserv11', 0.4786463677883148),\n",
       " ('nonredundant', 0.47102490067481995),\n",
       " ('pm861/pm862/pm864/pm865/pm866/pm867/pm891', 0.46977168321609497)]"
      ]
     },
     "execution_count": 87,
     "metadata": {},
     "output_type": "execute_result"
    }
   ],
   "source": [
    "model1.wv.most_similar(\"redundant\")"
   ]
  },
  {
   "cell_type": "code",
   "execution_count": null,
   "metadata": {},
   "outputs": [],
   "source": [
    "##\n"
   ]
  }
 ],
 "metadata": {
  "interpreter": {
   "hash": "e7370f93d1d0cde622a1f8e1c04877d8463912d04d973331ad4851f04de6915a"
  },
  "kernelspec": {
   "display_name": "Python 3.8.10 64-bit",
   "language": "python",
   "name": "python3"
  },
  "language_info": {
   "codemirror_mode": {
    "name": "ipython",
    "version": 3
   },
   "file_extension": ".py",
   "mimetype": "text/x-python",
   "name": "python",
   "nbconvert_exporter": "python",
   "pygments_lexer": "ipython3",
   "version": "3.8.6"
  },
  "orig_nbformat": 4
 },
 "nbformat": 4,
 "nbformat_minor": 2
}
