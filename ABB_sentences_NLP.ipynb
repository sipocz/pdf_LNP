{
 "cells": [
  {
   "cell_type": "code",
   "execution_count": 1,
   "metadata": {},
   "outputs": [
    {
     "data": {
      "text/plain": [
       "'\\nCHANGE LOG\\n\\n20220207: Doc2Vec tesz\\n\\n\\n'"
      ]
     },
     "execution_count": 1,
     "metadata": {},
     "output_type": "execute_result"
    }
   ],
   "source": [
    "'''\n",
    "CHANGE LOG\n",
    "\n",
    "20220207: Doc2Vec tesz\n",
    "\n",
    "\n",
    "'''"
   ]
  },
  {
   "cell_type": "code",
   "execution_count": 2,
   "metadata": {},
   "outputs": [],
   "source": [
    "import nltk\n",
    "# nltk.download() NLTK library download\n",
    "\n"
   ]
  },
  {
   "cell_type": "code",
   "execution_count": 3,
   "metadata": {},
   "outputs": [],
   "source": [
    " \n",
    "import platform\n",
    "os_str=platform.platform()\n",
    "if \"Windows\" in os_str:\n",
    "    _OS_=\"windows\"\n",
    "else:\n",
    "    _OS_=\"linux\""
   ]
  },
  {
   "cell_type": "code",
   "execution_count": 34,
   "metadata": {},
   "outputs": [],
   "source": [
    "if _OS_== \"linux\":\n",
    "    _fname_=\"/home/sipocz/drive/ABB_sentences.txt\"\n",
    "    _basepath_=\"/home/sipocz/drive/\"\n",
    "else:\n",
    "    _fname_=\"C:/Users/sipocz/Downloads/ABB_sentences.txt\"\n",
    "    _basepath_=\"C:/Users/sipocz/Downloads/\"\n",
    "    _modelpath_=\"C:/PDF_NLP_MODELS/\"\n",
    "    \n"
   ]
  },
  {
   "cell_type": "code",
   "execution_count": 5,
   "metadata": {},
   "outputs": [],
   "source": [
    "def read_file(fname, counter=0):\n",
    "    out=[]\n",
    "    f=open(fname,\"r\",encoding=\"utf-8\")\n",
    "    if counter!=0:\n",
    "        for i in range(counter):\n",
    "            one_line=f.readline()\n",
    "            out.append(one_line.strip())\n",
    "    else:\n",
    "        while True:\n",
    "            one_line=f.readline()\n",
    "            if one_line==\"\":\n",
    "                print(\"EOF\")\n",
    "                \n",
    "                break\n",
    "            out.append(one_line.strip())\n",
    "\n",
    "    \n",
    "    return(out)"
   ]
  },
  {
   "cell_type": "code",
   "execution_count": 6,
   "metadata": {},
   "outputs": [
    {
     "name": "stdout",
     "output_type": "stream",
     "text": [
      "EOF\n"
     ]
    }
   ],
   "source": [
    "st=read_file(_fname_)"
   ]
  },
  {
   "cell_type": "code",
   "execution_count": 7,
   "metadata": {},
   "outputs": [
    {
     "data": {
      "text/plain": [
       "1156117"
      ]
     },
     "execution_count": 7,
     "metadata": {},
     "output_type": "execute_result"
    }
   ],
   "source": [
    "len(st)"
   ]
  },
  {
   "cell_type": "code",
   "execution_count": 8,
   "metadata": {},
   "outputs": [
    {
     "data": {
      "text/plain": [
       "\"['the', 'checksum', 'program', 'is', 'started', ',', 'and', 'the', 'check-', 'sum', 'is', 'indicated', 'at', 'the', 'end', 'of', 'the', 'configuration', 'file', '.']\""
      ]
     },
     "execution_count": 8,
     "metadata": {},
     "output_type": "execute_result"
    }
   ],
   "source": [
    "st[150]"
   ]
  },
  {
   "cell_type": "code",
   "execution_count": 9,
   "metadata": {},
   "outputs": [],
   "source": [
    "from nltk.tokenize import sent_tokenize, word_tokenize\n",
    "import gensim\n",
    "from gensim.models import Word2Vec\n",
    "from gensim.models import Doc2Vec\n",
    "\n",
    "import pandas as pd"
   ]
  },
  {
   "cell_type": "code",
   "execution_count": 10,
   "metadata": {},
   "outputs": [],
   "source": [
    "def str2list(str):\n",
    "    s=str[1:-1]\n",
    "    s=s.replace(\"', '\",\"#\")[1:-1]\n",
    "    #print(s)\n",
    "    out=s.split(\"#\")\n",
    "    #print(out)\n",
    "    return(out)"
   ]
  },
  {
   "cell_type": "code",
   "execution_count": 11,
   "metadata": {},
   "outputs": [
    {
     "data": {
      "text/plain": [
       "['the',\n",
       " 'compact',\n",
       " 'flash',\n",
       " 'card',\n",
       " 'must',\n",
       " 'be',\n",
       " 'removed',\n",
       " 'from',\n",
       " 'the',\n",
       " 'high',\n",
       " 'integrity',\n",
       " 'controller',\n",
       " 'before',\n",
       " 'the',\n",
       " 'reset',\n",
       " 'button',\n",
       " 'is',\n",
       " 'pressed',\n",
       " 'to',\n",
       " 'perform',\n",
       " 'a',\n",
       " 'cold',\n",
       " 'restart',\n",
       " '.']"
      ]
     },
     "execution_count": 11,
     "metadata": {},
     "output_type": "execute_result"
    }
   ],
   "source": [
    "str2list(st[1200])"
   ]
  },
  {
   "cell_type": "code",
   "execution_count": 12,
   "metadata": {},
   "outputs": [],
   "source": [
    "l=[str2list(x) for x in st]"
   ]
  },
  {
   "cell_type": "code",
   "execution_count": 13,
   "metadata": {},
   "outputs": [
    {
     "name": "stdout",
     "output_type": "stream",
     "text": [
      "1156117\n",
      "['plug', 'the', 'module', 'back', 'into', 'the', 'subrack', '.']\n"
     ]
    }
   ],
   "source": [
    "print(len(l))\n",
    "print(l[50])"
   ]
  },
  {
   "cell_type": "code",
   "execution_count": 33,
   "metadata": {},
   "outputs": [],
   "source": [
    "#model1 = gensim.models.Word2Vec(l, vector_size=400,  sg=1,)"
   ]
  },
  {
   "cell_type": "code",
   "execution_count": 15,
   "metadata": {},
   "outputs": [
    {
     "name": "stdout",
     "output_type": "stream",
     "text": [
      "['when', 'the', 'reference', 'signal', 'is', 'close', 'to', 'a', 'limit', ',', 'autotuning', 'may', 'give', 'poor', 'results', '.']\n"
     ]
    }
   ],
   "source": [
    "print(l[3421])"
   ]
  },
  {
   "cell_type": "code",
   "execution_count": 16,
   "metadata": {},
   "outputs": [],
   "source": [
    "def create_sentence(lin:list):\n",
    "    '''\n",
    "    in:  lin -- list of words\n",
    "    out: out -- sentence string \n",
    "    '''\n",
    "    out=\"\"\n",
    "    for i in lin:\n",
    "        out=out+\" \"+i\n",
    "    return(out)\n",
    "        "
   ]
  },
  {
   "cell_type": "code",
   "execution_count": 17,
   "metadata": {},
   "outputs": [
    {
     "data": {
      "text/plain": [
       "' when the reference signal is close to a limit , autotuning may give poor results .'"
      ]
     },
     "execution_count": 17,
     "metadata": {},
     "output_type": "execute_result"
    }
   ],
   "source": [
    "create_sentence(l[3421])\n",
    "\n",
    "\n",
    "\n"
   ]
  },
  {
   "cell_type": "code",
   "execution_count": 18,
   "metadata": {},
   "outputs": [],
   "source": [
    "def create_doc_corpus(fname,lst:list):\n",
    "\n",
    "\n",
    "    out=[]\n",
    "    f=open(fname,\"w\",encoding=\"utf-8\")\n",
    "\n",
    "    for i in lst[:]:\n",
    "        sentence=create_sentence(i)    \n",
    "        f.write(sentence+\"\\n\")                \n",
    "    f.close()    \n",
    "    \n",
    "    \n",
    "    \n",
    "\n",
    "\n",
    "\n"
   ]
  },
  {
   "cell_type": "code",
   "execution_count": 19,
   "metadata": {},
   "outputs": [],
   "source": [
    "sentence_corpus_file=_basepath_+\"ABB_sentences_corpus.txt\""
   ]
  },
  {
   "cell_type": "code",
   "execution_count": 20,
   "metadata": {},
   "outputs": [
    {
     "data": {
      "text/plain": [
       "'C:/Users/sipocz/Downloads/ABB_sentences_corpus.txt'"
      ]
     },
     "execution_count": 20,
     "metadata": {},
     "output_type": "execute_result"
    }
   ],
   "source": [
    "sentence_corpus_file"
   ]
  },
  {
   "cell_type": "code",
   "execution_count": 21,
   "metadata": {},
   "outputs": [],
   "source": [
    "create_doc_corpus(sentence_corpus_file,l)"
   ]
  },
  {
   "cell_type": "code",
   "execution_count": 22,
   "metadata": {},
   "outputs": [],
   "source": [
    "doc_model =  Doc2Vec(corpus_file=sentence_corpus_file,vector_size=200,epochs=60,dm=0)"
   ]
  },
  {
   "cell_type": "code",
   "execution_count": 72,
   "metadata": {},
   "outputs": [
    {
     "name": "stdout",
     "output_type": "stream",
     "text": [
      "['profibus', 'configuration', 'controller']\n"
     ]
    }
   ],
   "source": [
    "search_text=\"profibus configuration controller\"\n",
    "search_list=search_text.split(\" \")\n",
    "print(search_list)"
   ]
  },
  {
   "cell_type": "code",
   "execution_count": 73,
   "metadata": {},
   "outputs": [],
   "source": [
    "model1=doc_model.infer_vector(search_list,epochs=1220)"
   ]
  },
  {
   "cell_type": "code",
   "execution_count": null,
   "metadata": {},
   "outputs": [],
   "source": []
  },
  {
   "cell_type": "code",
   "execution_count": 74,
   "metadata": {},
   "outputs": [
    {
     "name": "stdout",
     "output_type": "stream",
     "text": [
      "[(398884, 0.714970588684082), (86907, 0.7016884684562683), (784110, 0.6987999677658081), (547651, 0.6952770948410034), (290969, 0.68741774559021), (1003881, 0.6865500211715698), (531029, 0.6827303171157837), (774609, 0.6824926733970642), (44347, 0.6711023449897766), (42777, 0.6704215407371521), (856102, 0.6685103178024292), (426512, 0.6685001850128174), (166633, 0.6679478287696838), (859354, 0.6656824946403503), (1108338, 0.6649587154388428), (1019282, 0.6638833284378052), (1063733, 0.6638532280921936), (608370, 0.6631956100463867), (139341, 0.6616740226745605), (415662, 0.659966230392456)]\n"
     ]
    }
   ],
   "source": [
    "ans=doc_model.dv.similar_by_vector(model1,topn=20)\n",
    "print(ans)"
   ]
  },
  {
   "cell_type": "code",
   "execution_count": 75,
   "metadata": {},
   "outputs": [
    {
     "name": "stdout",
     "output_type": "stream",
     "text": [
      "0-->398884-->['configuration', 'tware', '.']\n",
      "1-->86907-->['configuration', '.']\n",
      "2-->784110-->['configuration', '.']\n",
      "3-->547651-->['configuration', '.']\n",
      "4-->290969-->['controller', '.']\n",
      "5-->1003881-->['configuration', '.']\n",
      "6-->531029-->['controller', '.']\n",
      "7-->774609-->['•', 'ac', '800m', 'profibus', 'dp', 'configuration', '(', '3bds009030', ')', '.']\n",
      "8-->44347-->['maximum', 'configuration', 'using', 'pa', 'controller', 'figure', '.']\n",
      "9-->42777-->['check', 'the', 'dp', 'master', 'slave', 'configuration', '.']\n",
      "10-->856102-->['check', 'the', 'dp', 'master', 'slave', 'configuration', '.']\n",
      "11-->426512-->['configuration', '.']\n",
      "12-->166633-->['check', 'the', 'dp', 'master', 'slave', 'configuration', '.']\n",
      "13-->859354-->['ampl', 'configuration', 'advant', 'controller', 'series', 'ref', '.']\n",
      "14-->1108338-->['this', 'includes', 'the', 'configuration', 'for', 'the', 'controller', ',', 'the', 'ci854', 'and', 'the', 'profibus', 'slave', 'units', '.']\n",
      "15-->1019282-->['•', 'controller', '.']\n",
      "16-->1063733-->['configuration', '.']\n",
      "17-->608370-->['with', 'configuration', 'and', 'with', 'communication', 'with', 'the', 'controller', '.']\n",
      "18-->139341-->['•', 'ac', '800m', 'profibus', 'dp', 'configuration', '(', '3bds009030', ')', '.']\n",
      "19-->415662-->['–', 'configuration', 'changed', '.']\n"
     ]
    }
   ],
   "source": [
    "for i in range(20):\n",
    "    print(f\"{i}-->{ans[i][0]}-->{l[ans[i][0]]}\")\n"
   ]
  },
  {
   "cell_type": "code",
   "execution_count": 76,
   "metadata": {},
   "outputs": [],
   "source": [
    "doc_model.save(_modelpath_+\"ABB_paragraph.model\")"
   ]
  },
  {
   "cell_type": "code",
   "execution_count": 77,
   "metadata": {},
   "outputs": [],
   "source": [
    "doc_model=Doc2Vec.load(_modelpath_+\"ABB_paragraph.model\")"
   ]
  },
  {
   "cell_type": "code",
   "execution_count": 78,
   "metadata": {},
   "outputs": [
    {
     "data": {
      "text/plain": [
       "[(372706, 0.7747548222541809),\n",
       " (66484, 0.7489320039749146),\n",
       " (411861, 0.7479469776153564),\n",
       " (797, 0.6180981397628784),\n",
       " (932, 0.6006776690483093),\n",
       " (1067658, 0.59723961353302),\n",
       " (275, 0.589518129825592),\n",
       " (887735, 0.5796614289283752),\n",
       " (440857, 0.5648865103721619),\n",
       " (440852, 0.5629863739013672)]"
      ]
     },
     "execution_count": 78,
     "metadata": {},
     "output_type": "execute_result"
    }
   ],
   "source": [
    "doc_model.dv.most_similar(49)"
   ]
  },
  {
   "cell_type": "code",
   "execution_count": 79,
   "metadata": {},
   "outputs": [
    {
     "data": {
      "text/plain": [
       "['this',\n",
       " 'allows',\n",
       " 'the',\n",
       " 'user',\n",
       " 'to',\n",
       " 'connect',\n",
       " 'several',\n",
       " 'hart',\n",
       " 'devices',\n",
       " 'at',\n",
       " 'one',\n",
       " 'i/o',\n",
       " 'module',\n",
       " '.']"
      ]
     },
     "execution_count": 79,
     "metadata": {},
     "output_type": "execute_result"
    }
   ],
   "source": [
    "l[780943]"
   ]
  },
  {
   "cell_type": "code",
   "execution_count": 80,
   "metadata": {},
   "outputs": [
    {
     "data": {
      "text/plain": [
       "array([-1.06126398e-01, -3.47044557e-01,  9.14703533e-02, -7.80621693e-02,\n",
       "        7.93892592e-02,  3.94501507e-01, -3.34285498e-02, -8.55409205e-02,\n",
       "        3.74873877e-01, -1.05645046e-01,  9.87271965e-02,  3.23681802e-01,\n",
       "       -2.34603837e-01, -1.78979754e-01, -6.18046969e-02,  2.91445196e-01,\n",
       "        2.72623867e-01,  1.37884840e-01,  9.40452218e-02, -6.92100003e-02,\n",
       "       -1.69496983e-01,  5.21470457e-02, -7.21645132e-02,  1.82324007e-01,\n",
       "        3.47247161e-03, -3.40235084e-02, -1.95738673e-01,  4.98616129e-01,\n",
       "        2.80433483e-02, -7.63972625e-02, -7.68339559e-02, -2.51847189e-02,\n",
       "        6.65967166e-02,  3.61405537e-02,  2.03831509e-01, -4.14185338e-02,\n",
       "       -1.87744610e-02, -1.02750577e-01,  2.41898775e-01,  4.44129467e-01,\n",
       "        2.90035397e-01, -4.56042513e-02, -2.64648180e-02, -2.38000616e-01,\n",
       "        1.11687975e-02, -1.68303847e-01, -1.76966675e-02, -6.70314059e-02,\n",
       "       -1.72767326e-01, -4.27902602e-02,  1.29261941e-01, -2.48745725e-01,\n",
       "        1.29918139e-02, -1.86864704e-01,  3.60594064e-01, -1.72032014e-01,\n",
       "        1.01693764e-01,  2.64778942e-01, -2.53657639e-01,  3.07579786e-01,\n",
       "        2.70818263e-01, -1.55812472e-01,  5.15650928e-01, -6.14479184e-02,\n",
       "        3.51585507e-01, -8.65244046e-02, -1.47938743e-01, -1.33833349e-01,\n",
       "       -1.90013483e-01,  1.07352152e-01,  2.99539454e-02, -2.16306522e-01,\n",
       "       -6.67261630e-02,  3.97863947e-02,  1.19305767e-01,  1.39505595e-01,\n",
       "        1.03906415e-01,  2.06460640e-01,  2.39993870e-01,  9.89848301e-02,\n",
       "        2.01237544e-01, -5.01402654e-02, -9.53542963e-02, -1.25003636e-01,\n",
       "        9.08070877e-02,  5.35358012e-01,  1.16427414e-01,  6.57134354e-02,\n",
       "       -2.55978078e-01,  4.60784920e-02,  5.87630987e-01,  6.96948990e-02,\n",
       "        2.00298103e-03, -6.72237482e-03, -9.15408731e-02,  5.18886447e-01,\n",
       "       -4.40727808e-02, -1.57190599e-02, -8.02610070e-02, -7.59621151e-03,\n",
       "        1.13090977e-01,  1.00066271e-02, -1.36148795e-01, -2.08560556e-01,\n",
       "        5.17468434e-04,  7.17140734e-03, -1.25443414e-01,  3.82745564e-01,\n",
       "        7.93729573e-02,  2.46037334e-01,  9.30695161e-02,  3.74994613e-02,\n",
       "        1.67907998e-01,  1.72585666e-01, -1.92823559e-01,  2.30232388e-01,\n",
       "        3.78370345e-01,  2.48932168e-01,  1.19201869e-01, -2.46525466e-01,\n",
       "        8.89621899e-02,  2.11649179e-01,  1.46440893e-01, -3.65075350e-01,\n",
       "        9.37020630e-02,  3.47351134e-02, -3.01169436e-02,  4.64603335e-01,\n",
       "       -1.13046438e-01, -1.89688385e-01,  2.62091786e-01,  2.56743550e-01,\n",
       "       -4.11203206e-02,  1.39341280e-01,  8.12608153e-02,  1.07718028e-01,\n",
       "        2.45427907e-01,  2.90407777e-01, -8.01938325e-02,  2.90394545e-01,\n",
       "       -3.50125246e-02,  1.39595583e-01, -4.31743205e-01, -1.87365130e-01,\n",
       "        1.00941591e-01,  1.78211793e-01,  8.57324898e-02,  1.49605125e-01,\n",
       "       -1.51483864e-01, -1.00625575e-01, -1.06852524e-01,  2.44503871e-01,\n",
       "       -3.38922860e-03,  2.39418030e-01,  1.64716676e-01, -1.20121218e-01,\n",
       "        2.22891852e-01, -2.35678852e-01,  3.70286778e-02,  1.85105145e-01,\n",
       "       -6.93200752e-02, -1.00001261e-01, -9.38108414e-02, -1.02576762e-01,\n",
       "        2.68224388e-01, -1.63884312e-01, -1.44181997e-01,  1.67079605e-02,\n",
       "       -8.84833485e-02, -2.23477721e-01, -1.49797454e-01, -7.62762204e-02,\n",
       "        9.00517926e-02, -2.88565069e-01, -4.91184853e-02,  3.30976993e-02,\n",
       "       -2.39841603e-02,  2.81891623e-03, -4.03315835e-02, -1.07612768e-02,\n",
       "        1.89927503e-01,  5.97373880e-02,  1.75740391e-01,  3.60397041e-01,\n",
       "        2.09345475e-01,  1.86475724e-01, -1.44568738e-02, -5.23630559e-01,\n",
       "        3.89609575e-01, -1.14469305e-01, -2.36086190e-01,  3.28731649e-02,\n",
       "        2.29593664e-01, -5.44406399e-02,  3.06054316e-02,  1.88837603e-01,\n",
       "        3.14334512e-01,  2.86674462e-02, -8.93830955e-02, -1.33713916e-01],\n",
       "      dtype=float32)"
      ]
     },
     "execution_count": 80,
     "metadata": {},
     "output_type": "execute_result"
    }
   ],
   "source": [
    "model1"
   ]
  },
  {
   "cell_type": "code",
   "execution_count": 81,
   "metadata": {},
   "outputs": [],
   "source": [
    "doc_model.save(\"Doc2vec_ABB.model\")"
   ]
  },
  {
   "cell_type": "code",
   "execution_count": null,
   "metadata": {},
   "outputs": [],
   "source": []
  },
  {
   "cell_type": "code",
   "execution_count": 82,
   "metadata": {},
   "outputs": [
    {
     "ename": "AttributeError",
     "evalue": "'numpy.ndarray' object has no attribute 'wv'",
     "output_type": "error",
     "traceback": [
      "\u001b[1;31m---------------------------------------------------------------------------\u001b[0m",
      "\u001b[1;31mAttributeError\u001b[0m                            Traceback (most recent call last)",
      "\u001b[1;32m<ipython-input-82-55db962c8e74>\u001b[0m in \u001b[0;36m<module>\u001b[1;34m\u001b[0m\n\u001b[1;32m----> 1\u001b[1;33m \u001b[1;32mfor\u001b[0m \u001b[0mindex\u001b[0m\u001b[1;33m,\u001b[0m \u001b[0mword\u001b[0m \u001b[1;32min\u001b[0m \u001b[0menumerate\u001b[0m \u001b[1;33m(\u001b[0m\u001b[0mmodel1\u001b[0m\u001b[1;33m.\u001b[0m\u001b[0mwv\u001b[0m\u001b[1;33m.\u001b[0m\u001b[0mindex_to_key\u001b[0m\u001b[1;33m)\u001b[0m\u001b[1;33m:\u001b[0m\u001b[1;33m\u001b[0m\u001b[1;33m\u001b[0m\u001b[0m\n\u001b[0m\u001b[0;32m      2\u001b[0m     \u001b[1;32mif\u001b[0m \u001b[0mindex\u001b[0m \u001b[1;33m%\u001b[0m \u001b[1;36m100\u001b[0m\u001b[1;33m==\u001b[0m\u001b[1;36m0\u001b[0m\u001b[1;33m:\u001b[0m\u001b[1;33m\u001b[0m\u001b[1;33m\u001b[0m\u001b[0m\n\u001b[0;32m      3\u001b[0m         \u001b[0mprint\u001b[0m\u001b[1;33m(\u001b[0m\u001b[0mindex\u001b[0m\u001b[1;33m,\u001b[0m\u001b[0mword\u001b[0m\u001b[1;33m)\u001b[0m\u001b[1;33m\u001b[0m\u001b[1;33m\u001b[0m\u001b[0m\n",
      "\u001b[1;31mAttributeError\u001b[0m: 'numpy.ndarray' object has no attribute 'wv'"
     ]
    }
   ],
   "source": [
    "for index, word in enumerate (model1.wv.index_to_key):\n",
    "    if index % 100==0:\n",
    "        print(index,word)"
   ]
  },
  {
   "cell_type": "code",
   "execution_count": null,
   "metadata": {},
   "outputs": [
    {
     "data": {
      "text/plain": [
       "[('non-redundant', 0.5890538096427917),\n",
       " ('redundancy', 0.5542015433311462),\n",
       " ('2oo3', 0.513979971408844),\n",
       " ('ci869s', 0.5113728046417236),\n",
       " ('pm858/pm861/pm862/pm864/pm865/pm866/pm867/pm891', 0.4885058104991913),\n",
       " ('hardware-tree', 0.4843270480632782),\n",
       " ('1oo2', 0.4809989035129547),\n",
       " ('opcserv11', 0.4786463677883148),\n",
       " ('nonredundant', 0.47102490067481995),\n",
       " ('pm861/pm862/pm864/pm865/pm866/pm867/pm891', 0.46977168321609497)]"
      ]
     },
     "execution_count": 87,
     "metadata": {},
     "output_type": "execute_result"
    }
   ],
   "source": [
    "model1.wv.most_similar(\"redundant\")"
   ]
  },
  {
   "cell_type": "code",
   "execution_count": null,
   "metadata": {},
   "outputs": [],
   "source": [
    "##\n"
   ]
  }
 ],
 "metadata": {
  "interpreter": {
   "hash": "e7370f93d1d0cde622a1f8e1c04877d8463912d04d973331ad4851f04de6915a"
  },
  "kernelspec": {
   "display_name": "Python 3.8.10 64-bit",
   "language": "python",
   "name": "python3"
  },
  "language_info": {
   "codemirror_mode": {
    "name": "ipython",
    "version": 3
   },
   "file_extension": ".py",
   "mimetype": "text/x-python",
   "name": "python",
   "nbconvert_exporter": "python",
   "pygments_lexer": "ipython3",
   "version": "3.8.6"
  },
  "orig_nbformat": 4
 },
 "nbformat": 4,
 "nbformat_minor": 2
}
