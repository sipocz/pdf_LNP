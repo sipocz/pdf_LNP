{
 "cells": [
  {
   "cell_type": "code",
   "execution_count": 2,
   "metadata": {},
   "outputs": [
    {
     "data": {
      "text/plain": [
       "'\\nCHANGE LOG\\n\\n20220207: Doc2Vec tesz\\n\\n\\n'"
      ]
     },
     "execution_count": 2,
     "metadata": {},
     "output_type": "execute_result"
    }
   ],
   "source": [
    "'''\n",
    "CHANGE LOG\n",
    "\n",
    "20220207: Doc2Vec tesz\n",
    "\n",
    "\n",
    "'''"
   ]
  },
  {
   "cell_type": "code",
   "execution_count": 3,
   "metadata": {},
   "outputs": [],
   "source": [
    "import nltk\n",
    "# nltk.download() NLTK library download\n",
    "\n"
   ]
  },
  {
   "cell_type": "code",
   "execution_count": 4,
   "metadata": {},
   "outputs": [],
   "source": [
    " \n",
    "import platform\n",
    "os_str=platform.platform()\n",
    "if \"Windows\" in os_str:\n",
    "    _OS_=\"windows\"\n",
    "else:\n",
    "    _OS_=\"linux\""
   ]
  },
  {
   "cell_type": "code",
   "execution_count": 55,
   "metadata": {},
   "outputs": [
    {
     "data": {
      "text/plain": [
       "'windows'"
      ]
     },
     "execution_count": 55,
     "metadata": {},
     "output_type": "execute_result"
    }
   ],
   "source": [
    "_OS_"
   ]
  },
  {
   "cell_type": "code",
   "execution_count": 94,
   "metadata": {},
   "outputs": [],
   "source": [
    "if _OS_== \"linux\":\n",
    "    _fname_=\"/home/sipocz/drive/ABB_sentences.txt\"\n",
    "    _basepath_=\"/home/sipocz/drive/\"\n",
    "else:\n",
    "    _fname_=\"C:/Users/sipocz/Downloads/ABB_sentences.txt\"\n",
    "    _basepath_=\"C:/Users/sipocz/Downloads/\"\n"
   ]
  },
  {
   "cell_type": "code",
   "execution_count": 95,
   "metadata": {},
   "outputs": [],
   "source": [
    "def read_file(fname, counter=0):\n",
    "    out=[]\n",
    "    f=open(fname,\"r\",encoding=\"utf-8\")\n",
    "    if counter!=0:\n",
    "        for i in range(counter):\n",
    "            one_line=f.readline()\n",
    "            out.append(one_line.strip())\n",
    "    else:\n",
    "        while True:\n",
    "            one_line=f.readline()\n",
    "            if one_line==\"\":\n",
    "                print(\"EOF\")\n",
    "                \n",
    "                break\n",
    "            out.append(one_line.strip())\n",
    "\n",
    "    \n",
    "    return(out)"
   ]
  },
  {
   "cell_type": "code",
   "execution_count": 96,
   "metadata": {},
   "outputs": [
    {
     "name": "stdout",
     "output_type": "stream",
     "text": [
      "EOF\n"
     ]
    }
   ],
   "source": [
    "st=read_file(_fname_)"
   ]
  },
  {
   "cell_type": "code",
   "execution_count": 97,
   "metadata": {},
   "outputs": [
    {
     "data": {
      "text/plain": [
       "1156117"
      ]
     },
     "execution_count": 97,
     "metadata": {},
     "output_type": "execute_result"
    }
   ],
   "source": [
    "len(st)"
   ]
  },
  {
   "cell_type": "code",
   "execution_count": 98,
   "metadata": {},
   "outputs": [
    {
     "data": {
      "text/plain": [
       "\"['the', 'checksum', 'program', 'is', 'started', ',', 'and', 'the', 'check-', 'sum', 'is', 'indicated', 'at', 'the', 'end', 'of', 'the', 'configuration', 'file', '.']\""
      ]
     },
     "execution_count": 98,
     "metadata": {},
     "output_type": "execute_result"
    }
   ],
   "source": [
    "st[150]"
   ]
  },
  {
   "cell_type": "code",
   "execution_count": 99,
   "metadata": {},
   "outputs": [],
   "source": [
    "from nltk.tokenize import sent_tokenize, word_tokenize\n",
    "import gensim\n",
    "from gensim.models import Word2Vec\n",
    "from gensim.models import Doc2Vec\n",
    "\n",
    "import pandas as pd"
   ]
  },
  {
   "cell_type": "code",
   "execution_count": 100,
   "metadata": {},
   "outputs": [],
   "source": [
    "def str2list(str):\n",
    "    s=str[1:-1]\n",
    "    s=s.replace(\"', '\",\"#\")[1:-1]\n",
    "    #print(s)\n",
    "    out=s.split(\"#\")\n",
    "    #print(out)\n",
    "    return(out)"
   ]
  },
  {
   "cell_type": "code",
   "execution_count": 101,
   "metadata": {},
   "outputs": [
    {
     "data": {
      "text/plain": [
       "['the',\n",
       " 'compact',\n",
       " 'flash',\n",
       " 'card',\n",
       " 'must',\n",
       " 'be',\n",
       " 'removed',\n",
       " 'from',\n",
       " 'the',\n",
       " 'high',\n",
       " 'integrity',\n",
       " 'controller',\n",
       " 'before',\n",
       " 'the',\n",
       " 'reset',\n",
       " 'button',\n",
       " 'is',\n",
       " 'pressed',\n",
       " 'to',\n",
       " 'perform',\n",
       " 'a',\n",
       " 'cold',\n",
       " 'restart',\n",
       " '.']"
      ]
     },
     "execution_count": 101,
     "metadata": {},
     "output_type": "execute_result"
    }
   ],
   "source": [
    "str2list(st[1200])"
   ]
  },
  {
   "cell_type": "code",
   "execution_count": 102,
   "metadata": {},
   "outputs": [],
   "source": [
    "l=[str2list(x) for x in st]"
   ]
  },
  {
   "cell_type": "code",
   "execution_count": 103,
   "metadata": {},
   "outputs": [
    {
     "data": {
      "text/plain": [
       "['<',\n",
       " 'image',\n",
       " ':',\n",
       " 'indexed',\n",
       " '(',\n",
       " ',',\n",
       " 'devicergb',\n",
       " ')',\n",
       " ',',\n",
       " 'width',\n",
       " ':',\n",
       " ',',\n",
       " 'height',\n",
       " ':',\n",
       " ',',\n",
       " 'bpc',\n",
       " ':',\n",
       " '>',\n",
       " 'apbridge',\n",
       " 'configuration',\n",
       " 'program',\n",
       " '87ts50/r5010',\n",
       " 'the',\n",
       " '”',\n",
       " 'rds',\n",
       " 'a',\n",
       " '-',\n",
       " '>',\n",
       " 'p',\n",
       " '”',\n",
       " 'worksheet',\n",
       " 'the',\n",
       " '``',\n",
       " 'rds',\n",
       " 'a-',\n",
       " '>',\n",
       " 'p',\n",
       " '“',\n",
       " 'worksheet',\n",
       " 'is',\n",
       " 'used',\n",
       " 'for',\n",
       " 'entering',\n",
       " 'data',\n",
       " 'that',\n",
       " 'are',\n",
       " 'transferred',\n",
       " 'from',\n",
       " 'the',\n",
       " 'af100',\n",
       " 'to',\n",
       " 'the',\n",
       " 'procontrol',\n",
       " 'station',\n",
       " 'bus',\n",
       " '.']"
      ]
     },
     "execution_count": 103,
     "metadata": {},
     "output_type": "execute_result"
    }
   ],
   "source": [
    "l[107]"
   ]
  },
  {
   "cell_type": "code",
   "execution_count": 104,
   "metadata": {},
   "outputs": [
    {
     "name": "stdout",
     "output_type": "stream",
     "text": [
      "1156117\n",
      "['plug', 'the', 'module', 'back', 'into', 'the', 'subrack', '.']\n"
     ]
    }
   ],
   "source": [
    "print(len(l))\n",
    "print(l[50])"
   ]
  },
  {
   "cell_type": "code",
   "execution_count": 106,
   "metadata": {},
   "outputs": [],
   "source": [
    "#model1 = gensim.models.Word2Vec(l, vector_size=400,  sg=1,)"
   ]
  },
  {
   "cell_type": "code",
   "execution_count": 107,
   "metadata": {},
   "outputs": [
    {
     "name": "stdout",
     "output_type": "stream",
     "text": [
      "['when', 'the', 'reference', 'signal', 'is', 'close', 'to', 'a', 'limit', ',', 'autotuning', 'may', 'give', 'poor', 'results', '.']\n"
     ]
    }
   ],
   "source": [
    "print(l[3421])"
   ]
  },
  {
   "cell_type": "code",
   "execution_count": 108,
   "metadata": {},
   "outputs": [],
   "source": [
    "def create_sentence(lin:list):\n",
    "    '''\n",
    "    in:  lin -- list of words\n",
    "    out: out -- sentence string \n",
    "    '''\n",
    "    out=\"\"\n",
    "    for i in lin:\n",
    "        out=out+\" \"+i\n",
    "    return(out)\n",
    "        "
   ]
  },
  {
   "cell_type": "code",
   "execution_count": 109,
   "metadata": {},
   "outputs": [
    {
     "data": {
      "text/plain": [
       "' when the reference signal is close to a limit , autotuning may give poor results .'"
      ]
     },
     "execution_count": 109,
     "metadata": {},
     "output_type": "execute_result"
    }
   ],
   "source": [
    "create_sentence(l[3421])\n",
    "\n",
    "\n",
    "\n"
   ]
  },
  {
   "cell_type": "code",
   "execution_count": 110,
   "metadata": {},
   "outputs": [],
   "source": [
    "def create_doc_corpus(fname,lst:list):\n",
    "\n",
    "\n",
    "    out=[]\n",
    "    f=open(fname,\"w\",encoding=\"utf-8\")\n",
    "\n",
    "    for i in lst[:]:\n",
    "        sentence=create_sentence(i)    \n",
    "        f.write(sentence+\"\\n\")                \n",
    "    f.close()    \n",
    "    \n",
    "    \n",
    "    \n",
    "\n",
    "\n",
    "\n"
   ]
  },
  {
   "cell_type": "code",
   "execution_count": 111,
   "metadata": {},
   "outputs": [],
   "source": [
    "sentence_corpus_file=_basepath_+\"ABB_sentences_corpus.txt\""
   ]
  },
  {
   "cell_type": "code",
   "execution_count": 112,
   "metadata": {},
   "outputs": [
    {
     "data": {
      "text/plain": [
       "'C:/Users/sipocz/Downloads/ABB_sentences_corpus.txt'"
      ]
     },
     "execution_count": 112,
     "metadata": {},
     "output_type": "execute_result"
    }
   ],
   "source": [
    "sentence_corpus_file"
   ]
  },
  {
   "cell_type": "code",
   "execution_count": 113,
   "metadata": {},
   "outputs": [],
   "source": [
    "create_doc_corpus(sentence_corpus_file,l)"
   ]
  },
  {
   "cell_type": "code",
   "execution_count": 125,
   "metadata": {},
   "outputs": [],
   "source": [
    "doc_model =  Doc2Vec(corpus_file=sentence_corpus_file,vector_size=200,epochs=60,dm=0)"
   ]
  },
  {
   "cell_type": "code",
<<<<<<< HEAD
   "execution_count": 146,
   "metadata": {},
   "outputs": [],
   "source": [
    "doc_model.save(\"ABB_paragraph_model.doc2vec\")"
   ]
  },
  {
   "cell_type": "code",
   "execution_count": 150,
   "metadata": {},
   "outputs": [],
   "source": [
    "doc_model=Doc2Vec.load(\"ABB_paragraph_model.doc2vec\")"
   ]
  },
  {
   "cell_type": "code",
   "execution_count": null,
   "metadata": {},
   "outputs": [],
   "source": []
  },
  {
   "cell_type": "code",
   "execution_count": 156,
=======
   "execution_count": 76,
>>>>>>> a66b4149ec558b7ffa66a9a92b15d3e7c849b21b
   "metadata": {},
   "outputs": [
    {
     "name": "stdout",
     "output_type": "stream",
     "text": [
<<<<<<< HEAD
      "['advant', 'mod', '300']\n"
=======
      "['fuzzy', 'control', 'configuration']\n"
>>>>>>> a66b4149ec558b7ffa66a9a92b15d3e7c849b21b
     ]
    }
   ],
   "source": [
<<<<<<< HEAD
    "search_text=\"advant mod 300\"\n",
=======
    "search_text=\"fuzzy control configuration\"\n",
>>>>>>> a66b4149ec558b7ffa66a9a92b15d3e7c849b21b
    "search_list=search_text.split(\" \")\n",
    "print(search_list)"
   ]
  },
  {
   "cell_type": "code",
<<<<<<< HEAD
   "execution_count": 157,
=======
   "execution_count": 77,
>>>>>>> a66b4149ec558b7ffa66a9a92b15d3e7c849b21b
   "metadata": {},
   "outputs": [],
   "source": [
    "model1=doc_model.infer_vector(search_list,epochs=1220)"
   ]
  },
  {
   "cell_type": "code",
   "execution_count": null,
   "metadata": {},
   "outputs": [],
   "source": []
  },
  {
   "cell_type": "code",
<<<<<<< HEAD
   "execution_count": 158,
=======
   "execution_count": 78,
>>>>>>> a66b4149ec558b7ffa66a9a92b15d3e7c849b21b
   "metadata": {},
   "outputs": [
    {
     "name": "stdout",
     "output_type": "stream",
     "text": [
<<<<<<< HEAD
      "[(384225, 0.7446237802505493), (284474, 0.7375921010971069), (480951, 0.7325252890586853), (478605, 0.7315527200698853), (1075873, 0.7306306958198547), (621315, 0.7299844026565552), (191402, 0.7264018058776855), (480773, 0.7241882085800171), (433731, 0.722564160823822), (857806, 0.7215396165847778), (183243, 0.7205100059509277), (47553, 0.7182769775390625), (534152, 0.7161809206008911), (829509, 0.7155202031135559), (1129292, 0.715050458908081), (857361, 0.7141128778457642), (480899, 0.7126432061195374), (589117, 0.7122001051902771), (456358, 0.7119925022125244), (825827, 0.7107865810394287)]\n"
=======
      "[(1077874, 0.7462648749351501), (481941, 0.6958701610565186), (271509, 0.6945184469223022), (340288, 0.6910508275032043), (340077, 0.6878527402877808), (874143, 0.6790216565132141), (89729, 0.6752811670303345), (2574, 0.6694675087928772), (266187, 0.6661228537559509), (799746, 0.6642762422561646), (133920, 0.6634418368339539), (362593, 0.6617832183837891), (1133509, 0.6595596075057983), (269010, 0.6561607718467712), (136434, 0.6542519927024841), (259864, 0.6539825201034546), (366256, 0.6532742381095886), (631576, 0.6528381109237671), (784110, 0.6527293920516968), (55328, 0.6525208353996277)]\n"
>>>>>>> a66b4149ec558b7ffa66a9a92b15d3e7c849b21b
     ]
    }
   ],
   "source": [
    "ans=doc_model.dv.similar_by_vector(model1,topn=20)\n",
    "print(ans)"
   ]
  },
  {
   "cell_type": "code",
<<<<<<< HEAD
   "execution_count": 159,
=======
   "execution_count": 79,
>>>>>>> a66b4149ec558b7ffa66a9a92b15d3e7c849b21b
   "metadata": {},
   "outputs": [
    {
     "name": "stdout",
     "output_type": "stream",
     "text": [
<<<<<<< HEAD
      "0-->384225-->['800xa', 'for', 'mod', '.']\n",
      "1-->284474-->['af100', 'advant', 'fieldbus', '.']\n",
      "2-->480951-->['•', 'mod', 'opc', '.']\n",
      "3-->478605-->['•', 'advant', 'controller', '.']\n",
      "4-->1075873-->['advant', 'ocs', 'advant', 'fieldbus', '.']\n",
      "5-->621315-->['af100', 'advant', 'fieldbus', '.']\n",
      "6-->191402-->['of', 'mod', '.']\n",
      "7-->480773-->['•', 'mod', 'multibus', '.']\n",
      "8-->433731-->['of', 'mod', '.']\n",
      "9-->857806-->['af100', 'advant', 'fieldbus', '.']\n",
      "10-->183243-->['advant\\\\uf8e8', 'ocs', 'with', 'mod', '300tm', 'software', '.']\n",
      "11-->47553-->['af100', 'advant', 'fieldbus', '.']\n",
      "12-->534152-->['•', 'mod', 'multibus', '.']\n",
      "13-->829509-->['mod', 'extensions', '.']\n",
      "14-->1129292-->['–', 'mod', 'multibus', '.']\n",
      "15-->857361-->['af100', 'advant', 'fieldbus', '.']\n",
      "16-->480899-->['•', 'mod', 'controller', 'subsystem', '.']\n",
      "17-->589117-->['–', 'mod', 'multibus', '.']\n",
      "18-->456358-->['800xa', 'for', 'mod', '.']\n",
      "19-->825827-->['–', 'mod', 'message', '.']\n"
=======
      "0-->1077874-->['fuzzy', 'control', 'fuzzy', '.']\n",
      "1-->481941-->['g', 'fuzzy', 'control', '.']\n",
      "2-->271509-->['g', 'fuzzy', 'control', '.']\n",
      "3-->340288-->['fuzzy', 'controllers', '.']\n",
      "4-->340077-->['a', 'fuzzy', 'rule', '.']\n",
      "5-->874143-->['typical', 'configuration', 'where', 'a', 'fuzzy', 'controller', 'is', 'used', 'as', 'part', 'of', 'the', 'control', 'loop', '.']\n",
      "6-->89729-->['•', 'configuration', 'of', 'control', 'connections', '.']\n",
      "7-->2574-->['typical', 'configuration', 'where', 'a', 'fuzzy', 'controller', 'is', 'used', 'as', 'part', 'of', 'the', 'control', 'loop', '.']\n",
      "8-->266187-->['typical', 'configuration', 'where', 'a', 'fuzzy', 'controller', 'is', 'used', 'as', 'part', 'of', 'the', 'control', 'loop', '.']\n",
      "9-->799746-->['•', 'control', 'modules', '.']\n",
      "10-->133920-->['typical', 'configuration', 'where', 'a', 'fuzzy', 'controller', 'is', 'used', 'as', 'part', 'of', 'the', 'control', 'loop', '.']\n",
      "11-->362593-->['•', 'configuration', 'of', 'control', 'connections', '.']\n",
      "12-->1133509-->['3bur002417-610', 'a', 'configuration', 'control', 'structure', 'configuration', '.']\n",
      "13-->269010-->['configuration', 'example', 'of', 'vote', 'logic', '.']\n",
      "14-->136434-->['configuration', 'example', 'of', 'vote', 'logic', '.']\n",
      "15-->259864-->['typical', 'configuration', 'where', 'a', 'fuzzy', 'controller', 'is', 'used', 'as', 'part', 'of', 'the', 'control', 'loop', '.']\n",
      "16-->366256-->['typical', 'configuration', 'where', 'a', 'fuzzy', 'controller', 'is', 'used', 'as', 'part', 'of', 'the', 'control', 'loop', '.']\n",
      "17-->631576-->['typical', 'configuration', 'where', 'a', 'fuzzy', 'controller', 'is', 'used', 'as', 'part', 'of', 'the', 'control', 'loop', '.']\n",
      "18-->784110-->['configuration', '.']\n",
      "19-->55328-->['•', 'hardware', 'configuration', 'with', 'the', 'control', 'builder', '.']\n"
>>>>>>> a66b4149ec558b7ffa66a9a92b15d3e7c849b21b
     ]
    }
   ],
   "source": [
    "for i in range(20):\n",
    "    print(f\"{i}-->{ans[i][0]}-->{l[ans[i][0]]}\")\n"
   ]
  },
  {
   "cell_type": "code",
<<<<<<< HEAD
   "execution_count": 160,
=======
   "execution_count": 80,
>>>>>>> a66b4149ec558b7ffa66a9a92b15d3e7c849b21b
   "metadata": {},
   "outputs": [
    {
     "ename": "SyntaxError",
<<<<<<< HEAD
     "evalue": "invalid syntax (<ipython-input-160-29e0c3615294>, line 1)",
     "output_type": "error",
     "traceback": [
      "\u001b[1;36m  File \u001b[1;32m\"<ipython-input-160-29e0c3615294>\"\u001b[1;36m, line \u001b[1;32m1\u001b[0m\n\u001b[1;33m    ---\u001b[0m\n\u001b[1;37m       ^\u001b[0m\n\u001b[1;31mSyntaxError\u001b[0m\u001b[1;31m:\u001b[0m invalid syntax\n"
=======
     "evalue": "invalid syntax (<ipython-input-80-29e0c3615294>, line 1)",
     "output_type": "error",
     "traceback": [
      "\u001b[1;36m  File \u001b[1;32m\"<ipython-input-80-29e0c3615294>\"\u001b[1;36m, line \u001b[1;32m1\u001b[0m\n\u001b[1;33m    ---\u001b[0m\n\u001b[1;37m       ^\u001b[0m\n\u001b[1;31mSyntaxError\u001b[0m\u001b[1;31m:\u001b[0m invalid syntax\n"
>>>>>>> a66b4149ec558b7ffa66a9a92b15d3e7c849b21b
     ]
    }
   ],
   "source": [
    "---"
   ]
  },
  {
   "cell_type": "code",
   "execution_count": null,
   "metadata": {},
   "outputs": [
    {
     "data": {
      "text/plain": [
       "[(605389, 0.5232157111167908),\n",
       " (1119275, 0.5093902945518494),\n",
       " (734848, 0.5039147734642029),\n",
       " (374510, 0.499597430229187),\n",
       " (294117, 0.4992225170135498),\n",
       " (780943, 0.49791574478149414),\n",
       " (220951, 0.49753323197364807),\n",
       " (363986, 0.49635398387908936),\n",
       " (850603, 0.49197709560394287),\n",
       " (850947, 0.4877803921699524)]"
      ]
     },
     "execution_count": 208,
     "metadata": {},
     "output_type": "execute_result"
    }
   ],
   "source": [
    "doc_model.dv.most_similar(49)"
   ]
  },
  {
   "cell_type": "code",
   "execution_count": null,
   "metadata": {},
   "outputs": [
    {
     "data": {
      "text/plain": [
       "['this',\n",
       " 'allows',\n",
       " 'the',\n",
       " 'user',\n",
       " 'to',\n",
       " 'connect',\n",
       " 'several',\n",
       " 'hart',\n",
       " 'devices',\n",
       " 'at',\n",
       " 'one',\n",
       " 'i/o',\n",
       " 'module',\n",
       " '.']"
      ]
     },
     "execution_count": 209,
     "metadata": {},
     "output_type": "execute_result"
    }
   ],
   "source": [
    "l[780943]"
   ]
  },
  {
   "cell_type": "code",
   "execution_count": null,
   "metadata": {},
   "outputs": [
    {
     "data": {
      "text/plain": [
       "array([ 0.14275657, -0.12109455,  0.11778981, -0.0884012 ,  0.04710093,\n",
       "       -0.04779061,  0.03244827, -0.01420515, -0.15112314,  0.19248857],\n",
       "      dtype=float32)"
      ]
     },
     "execution_count": 102,
     "metadata": {},
     "output_type": "execute_result"
    }
   ],
   "source": [
    "model1"
   ]
  },
  {
   "cell_type": "code",
   "execution_count": null,
   "metadata": {},
   "outputs": [],
   "source": [
    "doc_model.save(\"Doc2vec_ABB.model\")"
   ]
  },
  {
   "cell_type": "code",
   "execution_count": null,
   "metadata": {},
   "outputs": [],
   "source": []
  },
  {
   "cell_type": "code",
   "execution_count": null,
   "metadata": {},
   "outputs": [
    {
     "name": "stdout",
     "output_type": "stream",
     "text": [
      "0 ,\n",
      "100 which\n",
      "200 analog\n",
      "300 definition\n",
      "400 color\n",
      "500 need\n",
      "600 protection\n",
      "700 logical\n",
      "800 lock\n",
      "900 fci\n",
      "1000 less\n",
      "1100 material\n",
      "1200 protocols\n",
      "1300 vertical\n",
      "1400 against\n",
      "1500 drawing\n",
      "1600 often\n",
      "1700 fogra39\n",
      "1800 scm\n",
      "1900 protect\n",
      "2000 room\n",
      "2100 in_out\n",
      "2200 vmware\n",
      "2300 leave\n",
      "2400 rates\n",
      "2500 indirect\n",
      "2600 maintained\n",
      "2700 coupling\n",
      "2800 images\n",
      "2900 3bds013988-600\n",
      "3000 acquisition\n",
      "3100 sa\n",
      "3200 acid\n",
      "3300 immunity\n",
      "3400 agreed\n",
      "3500 graphically\n",
      "3600 improvements\n",
      "3700 facilities\n",
      "3800 scada\n",
      "3900 why\n",
      "4000 proven\n",
      "4100 appearing\n",
      "4200 compile\n",
      "4300 cba\n",
      "4400 aid\n",
      "4500 consecutive\n",
      "4600 nlb\n",
      "4700 descr\n",
      "4800 rpa\n",
      "4900 vtrin\n",
      "5000 underflow\n",
      "5100 2paa107375\n",
      "5200 var\n",
      "5300 spur\n",
      "5400 integers\n",
      "5500 ca\n",
      "5600 f5\n",
      "5700 trainee\n",
      "5800 prewarn\n",
      "5900 minimizing\n",
      "6000 tb820/tb820v2\n",
      "6100 agitator\n",
      "6200 3bse044222r101\n",
      "6300 breakpoints\n",
      "6400 hj\n",
      "6500 motor10\n",
      "6600 61158-2\n",
      "6700 mill\n",
      "6800 so-called\n",
      "6900 backlight\n",
      "7000 einem\n",
      "7100 a.b.c.d\n",
      "7200 autotuned\n",
      "7300 hs\n",
      "7400 tu834\n",
      "7500 november\n",
      "7600 commercial\n",
      "7700 database1\n",
      "7800 cement\n",
      "7900 crashed\n",
      "8000 unintended\n",
      "8100 www.abb.com/abbuniversity\n",
      "8200 dcp\n",
      "8300 cap\n",
      "8400 ¢k\n",
      "8500 dancy\n",
      "8600 recognizes\n",
      "8700 formulation\n",
      "8800 if-then-else\n",
      "8900 pole\n",
      "9000 9ard000015-510\n",
      "9100 iedstatusreceive\n",
      "9200 hgf¢hkhj\n",
      "9300 3bse080520-610\n",
      "9400 serving\n",
      "9500 comparisons\n",
      "9600 usability\n",
      "9700 xjv\n",
      "9800 spectrum\n",
      "9900 mbm1\n",
      "10000 scrollbars\n",
      "10100 velocitylimiterreal\n",
      "10200 hglgpr\n",
      "10300 posn\n",
      "10400 mode_tr\n",
      "10500 votexoo8\n",
      "10600 tighten\n",
      "10700 m.idx\n",
      "10800 she\n",
      "10900 pnq22\n",
      "11000 multcc\n",
      "11100 ±¢…m\n",
      "11200 2-3\n",
      "11300 1x\n",
      "11400 hartmann\n",
      "11500 clone\n",
      "11600 expresssync\n",
      "11700 insize\n",
      "11800 sector\n",
      "11900 semiautomatic\n",
      "12000 ignores\n",
      "12100 divcc\n",
      "12200 gbytes\n",
      "12300 t-\n",
      "12400 leveldetection\n",
      "12500 tb820v2\n",
      "12600 ilockstop\n",
      "12700 pslv\n",
      "12800 persistence\n",
      "12900 re-importing\n",
      "13000 \\uf0d6\n",
      "13100 off-the-shelf\n",
      "13200 pp877\n",
      "13300 code1\n",
      "13400 programmatically\n",
      "13500 pagers\n",
      "13600 ip65\n",
      "13700 ly_sig\n",
      "13800 30s\n",
      "13900 bitte\n",
      "14000 non-existent\n",
      "14100 bvarputs\n",
      "14200 chile\n",
      "14300 stats\n",
      "14400 developments\n",
      "14500 repeatability\n",
      "14600 well-defined\n",
      "14700 differing\n",
      "14800 ll1\n",
      "14900 oxygen\n",
      "15000 syslog\n",
      "15100 comlisbwrite\n",
      "15200 trqselectorout\n",
      "15300 meanings\n",
      "15400 binterl3\n",
      "15500 electro-static\n",
      "15600 dw\n",
      "15700 slows\n",
      "15800 plm\n",
      "15900 overshoots\n",
      "16000 matically\n",
      "16100 a-team\n",
      "16200 economical\n",
      "16300 swx.x/y\n",
      "16400 pos2\n",
      "16500 systemdiagnosticssm\n",
      "16600 -in\n",
      "16700 summed\n",
      "16800 1-9999\n",
      "16900 ain\n",
      "17000 ac500\n",
      "17100 encapsulating\n",
      "17200 motor_onlym\n",
      "17300 hp¬\n",
      "17400 sectionname\n",
      "17500 hgm\n",
      "17600 ozd\n",
      "17700 thickness/2\n",
      "17800 b.16\n",
      "17900 imperative\n",
      "18000 0x45\n",
      "18100 s3964hwlib\n",
      "18200 abbeditnlogs\n",
      "18300 recipeelementid\n",
      "18400 sowie\n",
      "18500 s23\n",
      "18600 acofactdeact\n",
      "18700 hgw…pm\n",
      "18800 favor\n",
      "18900 pre-allocated\n",
      "19000 senderdiagram1\n",
      "19100 instru-\n",
      "19200 board1\n",
      "19300 fdl\n",
      "19400 nibble2\n",
      "19500 xx', \"''\", 'in\n",
      "19600 fidelity\n",
      "19700 modemdialup\n",
      "19800 out/channel\n",
      "19900 myfirstfb\n",
      "20000 overridden\\uf020\n",
      "20100 expand/collapse\n",
      "20200 x202\n",
      "20300 multi-system\n",
      "20400 preselected\n",
      "20500 0xa9\n",
      "20600 mytank_type\n",
      "20700 randomrect\n",
      "20800 sub-diagram\n",
      "20900 feature-based\n",
      "21000 thumbnails\n",
      "21100 cpt\n",
      "21200 p4\n",
      "21300 i/o-channel\n",
      "21400 sequence/sequence2d\n",
      "21500 bye\n",
      "21600 autom\n",
      "21700 umc22\n",
      "21800 right-clicks\n",
      "21900 930f\n",
      "22000 unreliable\n",
      "22100 91/91.6\n",
      "22200 e-mails\n",
      "22300 in-place\n",
      "22400 prompting\n",
      "22500 csa1\n",
      "22600 g+\n",
      "22700 ld800p\n",
      "22800 intro\n",
      "22900 t0val_h1\n",
      "23000 cxphscx\n",
      "23100 toprighttargetid\n",
      "23200 redwarningbackup\n",
      "23300 project/package\n",
      "23400 non-approved\n",
      "23500 framecolor2\n",
      "23600 service_unit\n",
      "23700 rcu-switch\n",
      "23800 zealand\n",
      "23900 low-power\n",
      "24000 recognizing\n",
      "24100 spg\n",
      "24200 objectard\n",
      "24300 40mb\n",
      "24400 göran\n",
      "24500 budapest\n",
      "24600 scrap\n",
      "24700 batch_instance\n",
      "24800 beckhoff\n",
      "24900 interped\n",
      "25000 divergences\n",
      "25100 erscheint\n",
      "25200 auto-notification\n",
      "25300 high-end\n",
      "25400 lonely\n",
      "25500 rab\n",
      "25600 hzp\n",
      "25700 3.0/2\n",
      "25800 affordable\n",
      "25900 00000023h\n",
      "26000 datasize\n",
      "26100 -25.0\n",
      "26200 deg-f\n",
      "26300 b925e77f-2a82-\n",
      "26400 text_14\n",
      "26500 r1011\n",
      "26600 :process\n",
      "26700 kanäle\n",
      "26800 upd_bl\n",
      "26900 mouse/touch\n",
      "27000 sil3app1\n",
      "27100 readstringdevice\n",
      "27200 ctrl+p\n",
      "27300 valuename\n",
      "27400 dn+o\n",
      "27500 wle\n",
      "27600 ggcain\n",
      "27700 lb/hr\n",
      "27800 intégrante\n",
      "27900 msgtrans\n",
      "28000 slvboard\n",
      "28100 0-signal\n",
      "28200 multipath\n",
      "28300 knx\n",
      "28400 unzip\n",
      "28500 har\n",
      "28600 error.txt\n",
      "28700 admag\n",
      "28800 noofbytesleft\n",
      "28900 taz\n",
      "29000 builderlevel\n",
      "29100 tightness\n",
      "29200 tying\n",
      "29300 dint/uint/int\n",
      "29400 t1-t4\n",
      "29500 dmtypeofcall\n",
      "29600 methane\n",
      "29700 pt801\n",
      "29800 .gsg\n",
      "29900 sixnet\n",
      "30000 fbalarmcond.srcname\n",
      "30100 verb/action\n",
      "30200 answeropen\n",
      "30300 ms2\n",
      "30400 jt\n",
      "30500 state-of-the\n",
      "30600 indic.4\n",
      "30700 hello', \"''\", 'lrec2.b\n",
      "30800 mbm1scanner\n",
      "30900 simocode\n",
      "31000 buffer', \"''\", ';\n",
      "31100 doubling\n",
      "31200 ±0.2\n",
      "31300 name\\\\800xa\n",
      "31400 e_empty\n",
      "31500 3bse013208r1\n",
      "31600 ao4-ex\n",
      "31700 out/en\n",
      "31800 value_flt\n",
      "31900 pararmeters\n",
      "32000 template1\n",
      "32100 limcc\n",
      "32200 >', \"''\", 'must\n",
      "32300 selection\\uf020\n",
      "32400 objecttemplate\n",
      "32500 selcooker\n",
      "32600 tluserh\n",
      "32700 3bse080520\n",
      "32800 tunes\n",
      "32900 alt+f4\n",
      "33000 severing\n",
      "33100 cu50\n",
      "33200 sme\n",
      "33300 ci8101\n",
      "33400 3bdd011942\n",
      "33500 iec61850importwizard.log\n",
      "33600 cpims/dbadmin\n",
      "33700 commer-\n",
      "33800 11:12:03.335\n",
      "33900 dvio\n",
      "34000 ine\n",
      "34100 v1.2-ff\n",
      "34200 biofuel\n",
      "34300 structure\\\\root\\\\itserver\\\\basic\n",
      "34400 syslocation\n",
      "34500 pdlconfig.dat\n",
      "34600 remove/delete\n",
      "34700 6,0\n",
      "34800 ms', \"''\", '\\uf020\n",
      "34900 y/\n",
      "35000 connect.afw\n",
      "35100 printer/sms/e-mail\n",
      "35200 pm-modules\n",
      "35300 isolates\n",
      "35400 localtext\n",
      "35500 controlnd\n",
      "35600 utputs\n",
      "35700 signale\n",
      "35800 lp¬¬\n",
      "35900 add4int\n",
      "36000 sparametername\n",
      "36100 3214.4of\n",
      "36200 i1ib\n",
      "36300 localtimestamp\n",
      "36400 port-1/3\n",
      "36500 ‰\n",
      "36600 490-1760-43\n",
      "36700 -pt\n",
      "36800 internalcode\n",
      "36900 selvand\n",
      "37000 erratic\n",
      "37100 800xaadm-cn-5100-004\n",
      "37200 nodes.this\n",
      "37300 safeguardobjecttypes\n",
      "37400 expedient\n",
      "37500 bargraph01\n",
      "37600 charger/adapter\n",
      "37700 \\\\logfiles\\\\system.log\n",
      "37800 ökobit\n",
      "37900 -2,147,483,648\n",
      "38000 phönix\n",
      "38100 spezifikationen\n",
      "38200 900°c\n",
      "38300 a_b_c_d\n",
      "38400 testen\n",
      "38500 baugruppe\n",
      "38600 systemmodules\\\\\n",
      "38700 webs\n",
      "38800 hbojwhv\n",
      "38900 /category\n",
      "39000 800xamod-cn-5020-021\n",
      "39100 sandbox\n",
      "39200 semcams\n",
      "39300 2km\n",
      "39400 800xainm-cn-3600-0004\n",
      "39500 auto-reservation\n",
      "39600 wide-spread\n",
      "39700 cyclo\n",
      "39800 m.time_nano/10000,3\n",
      "39900 0x09\n",
      "40000 2.2/1\n",
      "40100 -upint\n",
      "40200 balloon\n",
      "40300 \\\\programdata\\\\abb\\\\im\\\\datadirect\\\\bin\\\\deletef\n",
      "40400 t13\n",
      "40500 evalua-\n",
      "40600 rn2\n",
      "40700 db_datawriter\n",
      "40800 objcomm\n",
      "40900 indica-\n",
      "41000 lastreaderr_errcode\n",
      "41100 brack-\n",
      "41200 exceeded/some\n",
      "41300 1-80\n",
      "41400 sub-directory\n",
      "41500 cultural\n",
      "41600 fi830\n",
      "41700 spc7øø\n",
      "41800 ako22\n",
      "41900 create/select\n",
      "42000 slightest\n",
      "42100 //abort\n",
      "42200 alln/unack\n",
      "42300 np11\n",
      "42400 tracking1\n",
      "42500 gj¶\n",
      "42600 oc27\n",
      "42700 rsp_wrong_module\n",
      "42800 forms/submit\n",
      "42900 long-running\n",
      "43000 800xaens-ol-5105-001\n",
      "43100 hglc£²g\n",
      "43200 800xaens-ol-5130-005\n",
      "43300 batchspreadsheet\n",
      "43400 functional/control\n",
      "43500 accordingcb\n",
      "43600 pargetlist\n",
      "43700 :', \"'\", ',\n",
      "43800 acquireappl3\n",
      "43900 nicr-cuni\n",
      "44000 cbopenif\n",
      "44100 robotic\n",
      "44200 re-enters\n",
      "44300 sdlnbool\n",
      "44400 100-240v\n",
      "44500 retransmits\n",
      "44600 mate-\n",
      "44700 swithgear\n",
      "44800 licensereport.exe\n",
      "44900 lcds\n",
      "45000 assignment', \"''\", 'for\n",
      "45100 script\\uf020\n",
      "45200 2/4\n",
      "45300 t1-t3\n",
      "45400 started.rcp\n",
      "45500 initializations\n",
      "45600 value=50\n",
      "45700 i/o', \"'s\", 'and\n",
      "45800 p2ka4\n",
      "45900 spvisible\n",
      "46000 syncdelayedstop\n",
      "46100 fhsjekhx\n",
      "46200 bar1limitxcolor\n",
      "46300 800m\\\\logfiles\\\\importwizard.log\n",
      "46400 floor/room/coordinate\n",
      "46500 devicelist\n",
      "46600 3964rwrite\n",
      "46700 time01\n",
      "46800 dialed-\n",
      "46900 opposition\n",
      "47000 thres\n",
      "47100 hgehk\n",
      "47200 maxcount=1000000\n",
      "47300 operator_action\n",
      "47400 rolf\n",
      "47500 one-element\n",
      "47600 bollmeyer\n",
      "47700 800xahar-cn-6000-003\n",
      "47800 800xaplc-ol-5010-011\n",
      "47900 800xainm-ol-5025-111\n",
      "48000 objectid_in_use\n",
      "48100 sulfur\n",
      "48200 braiding\n",
      "48300 nrofmmsconnections\n",
      "48400 no', \"''\", 'in\n",
      "48500 fhysteresis3\n",
      "48600 isblocked\n",
      "48700 io.cmd1-\n",
      "48800 pop-ups\n",
      "48900 checkcfg\n",
      "49000 pcmcia\n",
      "49100 calcenableprecalc\n",
      "49200 x2:3\n",
      "49300 ./binary\n",
      "49400 -5,2,125,325,1\n",
      "49500 controlstructure\n",
      "49600 50,50\n",
      "49700 spare_06\n",
      "49800 ite\n",
      "49900 ao_spare_9\n",
      "50000 param17_spare01\n",
      "50100 pc_status\n",
      "50200 optimax®\n",
      "50300 collapsibility\n",
      "50400 gradientbrush\n",
      "50500 3bse060242\n",
      "50600 cost-cutting\n",
      "50700 opc_quality_comm_failure\n",
      "50800 72429-5-\n",
      "50900 process-control\n"
     ]
    }
   ],
   "source": [
    "for index, word in enumerate (model1.wv.index_to_key):\n",
    "    if index % 100==0:\n",
    "        print(index,word)"
   ]
  },
  {
   "cell_type": "code",
   "execution_count": null,
   "metadata": {},
   "outputs": [
    {
     "data": {
      "text/plain": [
       "[('non-redundant', 0.5890538096427917),\n",
       " ('redundancy', 0.5542015433311462),\n",
       " ('2oo3', 0.513979971408844),\n",
       " ('ci869s', 0.5113728046417236),\n",
       " ('pm858/pm861/pm862/pm864/pm865/pm866/pm867/pm891', 0.4885058104991913),\n",
       " ('hardware-tree', 0.4843270480632782),\n",
       " ('1oo2', 0.4809989035129547),\n",
       " ('opcserv11', 0.4786463677883148),\n",
       " ('nonredundant', 0.47102490067481995),\n",
       " ('pm861/pm862/pm864/pm865/pm866/pm867/pm891', 0.46977168321609497)]"
      ]
     },
     "execution_count": 87,
     "metadata": {},
     "output_type": "execute_result"
    }
   ],
   "source": [
    "model1.wv.most_similar(\"redundant\")"
   ]
  },
  {
   "cell_type": "code",
   "execution_count": null,
   "metadata": {},
   "outputs": [],
   "source": [
    "---\n"
   ]
  }
 ],
 "metadata": {
  "interpreter": {
   "hash": "e7370f93d1d0cde622a1f8e1c04877d8463912d04d973331ad4851f04de6915a"
  },
  "kernelspec": {
   "display_name": "Python 3.8.10 64-bit",
   "language": "python",
   "name": "python3"
  },
  "language_info": {
   "codemirror_mode": {
    "name": "ipython",
    "version": 3
   },
   "file_extension": ".py",
   "mimetype": "text/x-python",
   "name": "python",
   "nbconvert_exporter": "python",
   "pygments_lexer": "ipython3",
   "version": "3.8.10"
  },
  "orig_nbformat": 4
 },
 "nbformat": 4,
 "nbformat_minor": 2
}
