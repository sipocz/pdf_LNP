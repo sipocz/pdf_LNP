{
 "cells": [
  {
   "cell_type": "code",
   "execution_count": 1,
   "metadata": {},
   "outputs": [
    {
     "data": {
      "text/plain": [
       "'\\nCHANGE LOG\\n\\n20220207: Doc2Vec tesz\\n\\n\\n'"
      ]
     },
     "execution_count": 1,
     "metadata": {},
     "output_type": "execute_result"
    }
   ],
   "source": [
    "'''\n",
    "CHANGE LOG\n",
    "\n",
    "20220207: Doc2Vec tesz\n",
    "\n",
    "\n",
    "'''"
   ]
  },
  {
   "cell_type": "code",
   "execution_count": 2,
   "metadata": {},
   "outputs": [],
   "source": [
    "import nltk\n",
    "# nltk.download() NLTK library download\n",
    "\n"
   ]
  },
  {
   "cell_type": "code",
   "execution_count": 4,
   "metadata": {},
   "outputs": [],
   "source": [
    " \n",
    "import platform\n",
    "os_str=platform.platform()\n",
    "if \"Windows\" in os_str:\n",
    "    _OS_=\"windows\"\n",
    "else:\n",
    "    _OS_=\"linux\""
   ]
  },
  {
   "cell_type": "code",
   "execution_count": 5,
   "metadata": {},
   "outputs": [],
   "source": [
    "if _OS_== \"linux\":\n",
    "    _fname_=\"/home/sipocz/drive/ABB_sentences.txt\"\n",
    "    _basepath_=\"/home/sipocz/drive/\"\n",
    "else:\n",
    "    _fname_=\"C:/Users/sipocz/Downloads/ABB_sentences.txt\"\n",
    "    _basepath_=\"C:/Users/sipocz/Downloads/\"\n",
    "    _modelpath_=\"C:/PDF_NLP_MODELS/\"\n",
    "    \n"
   ]
  },
  {
   "cell_type": "code",
   "execution_count": 6,
   "metadata": {},
   "outputs": [],
   "source": [
    "def read_file(fname, counter=0):\n",
    "    out=[]\n",
    "    f=open(fname,\"r\",encoding=\"utf-8\")\n",
    "    if counter!=0:\n",
    "        for i in range(counter):\n",
    "            one_line=f.readline()\n",
    "            out.append(one_line.strip())\n",
    "    else:\n",
    "        while True:\n",
    "            one_line=f.readline()\n",
    "            if one_line==\"\":\n",
    "                print(\"EOF\")\n",
    "                \n",
    "                break\n",
    "            out.append(one_line.strip())\n",
    "\n",
    "    \n",
    "    return(out)"
   ]
  },
  {
   "cell_type": "code",
   "execution_count": 7,
   "metadata": {},
   "outputs": [
    {
     "name": "stdout",
     "output_type": "stream",
     "text": [
      "EOF\n"
     ]
    }
   ],
   "source": [
    "st=read_file(_fname_)"
   ]
  },
  {
   "cell_type": "code",
   "execution_count": 8,
   "metadata": {},
   "outputs": [
    {
     "data": {
      "text/plain": [
       "1156117"
      ]
     },
     "execution_count": 8,
     "metadata": {},
     "output_type": "execute_result"
    }
   ],
   "source": [
    "len(st)"
   ]
  },
  {
   "cell_type": "code",
   "execution_count": 9,
   "metadata": {},
   "outputs": [
    {
     "data": {
      "text/plain": [
       "\"['the', 'checksum', 'program', 'is', 'started', ',', 'and', 'the', 'check-', 'sum', 'is', 'indicated', 'at', 'the', 'end', 'of', 'the', 'configuration', 'file', '.']\""
      ]
     },
     "execution_count": 9,
     "metadata": {},
     "output_type": "execute_result"
    }
   ],
   "source": [
    "st[150]"
   ]
  },
  {
   "cell_type": "code",
   "execution_count": 11,
   "metadata": {},
   "outputs": [],
   "source": [
    "from nltk.tokenize import sent_tokenize, word_tokenize\n",
    "import gensim\n",
    "from gensim.models import Word2Vec\n",
    "from gensim.models import Doc2Vec\n",
    "\n",
    "import pandas as pd"
   ]
  },
  {
   "cell_type": "code",
   "execution_count": 12,
   "metadata": {},
   "outputs": [],
   "source": [
    "def str2list(str):\n",
    "    s=str[1:-1]\n",
    "    s=s.replace(\"', '\",\"#\")[1:-1]\n",
    "    #print(s)\n",
    "    out=s.split(\"#\")\n",
    "    #print(out)\n",
    "    return(out)"
   ]
  },
  {
   "cell_type": "code",
   "execution_count": 13,
   "metadata": {},
   "outputs": [
    {
     "data": {
      "text/plain": [
       "['the',\n",
       " 'compact',\n",
       " 'flash',\n",
       " 'card',\n",
       " 'must',\n",
       " 'be',\n",
       " 'removed',\n",
       " 'from',\n",
       " 'the',\n",
       " 'high',\n",
       " 'integrity',\n",
       " 'controller',\n",
       " 'before',\n",
       " 'the',\n",
       " 'reset',\n",
       " 'button',\n",
       " 'is',\n",
       " 'pressed',\n",
       " 'to',\n",
       " 'perform',\n",
       " 'a',\n",
       " 'cold',\n",
       " 'restart',\n",
       " '.']"
      ]
     },
     "execution_count": 13,
     "metadata": {},
     "output_type": "execute_result"
    }
   ],
   "source": [
    "str2list(st[1200])"
   ]
  },
  {
   "cell_type": "code",
   "execution_count": 14,
   "metadata": {},
   "outputs": [],
   "source": [
    "l=[str2list(x) for x in st]"
   ]
  },
  {
   "cell_type": "code",
   "execution_count": 15,
   "metadata": {},
   "outputs": [
    {
     "name": "stdout",
     "output_type": "stream",
     "text": [
      "1156117\n",
      "['plug', 'the', 'module', 'back', 'into', 'the', 'subrack', '.']\n"
     ]
    }
   ],
   "source": [
    "print(len(l))\n",
    "print(l[50])"
   ]
  },
  {
   "cell_type": "code",
   "execution_count": 33,
   "metadata": {},
   "outputs": [],
   "source": [
    "#model1 = gensim.models.Word2Vec(l, vector_size=400,  sg=1,)"
   ]
  },
  {
   "cell_type": "code",
   "execution_count": null,
   "metadata": {},
   "outputs": [],
   "source": []
  },
  {
   "cell_type": "code",
   "execution_count": 16,
   "metadata": {},
   "outputs": [
    {
     "name": "stdout",
     "output_type": "stream",
     "text": [
      "['when', 'the', 'reference', 'signal', 'is', 'close', 'to', 'a', 'limit', ',', 'autotuning', 'may', 'give', 'poor', 'results', '.']\n"
     ]
    }
   ],
   "source": [
    "print(l[3421])"
   ]
  },
  {
   "cell_type": "code",
   "execution_count": 18,
   "metadata": {},
   "outputs": [],
   "source": [
    "def create_sentence(lin:list):\n",
    "    '''\n",
    "    in:  lin -- list of words\n",
    "    out: out -- sentence string \n",
    "    '''\n",
    "    out=\"\"\n",
    "    for i in lin:\n",
    "        out=out+\" \"+i\n",
    "    return(out)\n",
    "        "
   ]
  },
  {
   "cell_type": "code",
   "execution_count": 17,
   "metadata": {},
   "outputs": [
    {
     "data": {
      "text/plain": [
       "' when the reference signal is close to a limit , autotuning may give poor results .'"
      ]
     },
     "execution_count": 17,
     "metadata": {},
     "output_type": "execute_result"
    }
   ],
   "source": [
    "create_sentence(l[3421])\n",
    "\n",
    "\n",
    "\n"
   ]
  },
  {
   "cell_type": "code",
   "execution_count": 19,
   "metadata": {},
   "outputs": [],
   "source": [
    "def create_doc_corpus(fname,lst:list):\n",
    "\n",
    "\n",
    "    out=[]\n",
    "    f=open(fname,\"w\",encoding=\"utf-8\")\n",
    "\n",
    "    for i in lst[:]:\n",
    "        sentence=create_sentence(i)    \n",
    "        f.write(sentence+\"\\n\")                \n",
    "    f.close()    \n",
    "    \n",
    "    \n",
    "    \n",
    "\n",
    "\n",
    "\n"
   ]
  },
  {
   "cell_type": "code",
   "execution_count": 20,
   "metadata": {},
   "outputs": [],
   "source": [
    "sentence_corpus_file=_basepath_+\"ABB_sentences_corpus.txt\""
   ]
  },
  {
   "cell_type": "code",
   "execution_count": 21,
   "metadata": {},
   "outputs": [
    {
     "data": {
      "text/plain": [
       "'C:/Users/sipocz/Downloads/ABB_sentences_corpus.txt'"
      ]
     },
     "execution_count": 21,
     "metadata": {},
     "output_type": "execute_result"
    }
   ],
   "source": [
    "sentence_corpus_file"
   ]
  },
  {
   "cell_type": "code",
   "execution_count": 22,
   "metadata": {},
   "outputs": [],
   "source": [
    "create_doc_corpus(sentence_corpus_file,l)"
   ]
  },
  {
   "cell_type": "code",
   "execution_count": 23,
   "metadata": {},
   "outputs": [],
   "source": [
    "doc_model =  Doc2Vec(corpus_file=sentence_corpus_file,vector_size=200,epochs=60,dm=0)"
   ]
  },
  {
   "cell_type": "code",
   "execution_count": 46,
   "metadata": {},
   "outputs": [
    {
     "name": "stdout",
     "output_type": "stream",
     "text": [
      "['fuzzy', 'rules', 'usage']\n"
     ]
    }
   ],
   "source": [
    "search_text=\"fuzzy rules usage\"\n",
    "search_list=search_text.split(\" \")\n",
    "print(search_list)"
   ]
  },
  {
   "cell_type": "code",
   "execution_count": 47,
   "metadata": {},
   "outputs": [],
   "source": [
    "model1=doc_model.infer_vector(search_list,epochs=1220)"
   ]
  },
  {
   "cell_type": "code",
   "execution_count": null,
   "metadata": {},
   "outputs": [],
   "source": []
  },
  {
   "cell_type": "code",
   "execution_count": 48,
   "metadata": {},
   "outputs": [
    {
     "name": "stdout",
     "output_type": "stream",
     "text": [
      "[(266149, 0.7434206604957581), (259826, 0.7397719025611877), (1077690, 0.7372651696205139), (366218, 0.7340590357780457), (631538, 0.7323113083839417), (340077, 0.72816401720047), (874105, 0.72181236743927), (2536, 0.7207245230674744), (133882, 0.72048020362854), (340288, 0.6728330254554749), (1077874, 0.6624722480773926), (133881, 0.6562891602516174), (1077689, 0.6556671261787415), (266148, 0.6524133086204529), (874104, 0.6442574262619019), (2535, 0.6430692672729492), (126188, 0.6426321268081665), (168771, 0.6421699523925781), (366217, 0.63930344581604), (631537, 0.6379867792129517)]\n"
     ]
    }
   ],
   "source": [
    "ans=doc_model.dv.similar_by_vector(model1,topn=20)\n",
    "print(ans)"
   ]
  },
  {
   "cell_type": "code",
   "execution_count": 49,
   "metadata": {},
   "outputs": [
    {
     "name": "stdout",
     "output_type": "stream",
     "text": [
      "0-->266149-->['•', 'computation', 'of', 'fuzzy', 'rules', '.']\n",
      "1-->259826-->['•', 'computation', 'of', 'fuzzy', 'rules', '.']\n",
      "2-->1077690-->['•', 'computation', 'of', 'fuzzy', 'rules', '.']\n",
      "3-->366218-->['•', 'computation', 'of', 'fuzzy', 'rules', '.']\n",
      "4-->631538-->['•', 'computation', 'of', 'fuzzy', 'rules', '.']\n",
      "5-->340077-->['a', 'fuzzy', 'rule', '.']\n",
      "6-->874105-->['•', 'computation', 'of', 'fuzzy', 'rules', '.']\n",
      "7-->2536-->['•', 'computation', 'of', 'fuzzy', 'rules', '.']\n",
      "8-->133882-->['•', 'computation', 'of', 'fuzzy', 'rules', '.']\n",
      "9-->340288-->['fuzzy', 'controllers', '.']\n",
      "10-->1077874-->['fuzzy', 'control', 'fuzzy', '.']\n",
      "11-->133881-->['•', 'computation', 'of', 'fuzzy', 'conditions', '.']\n",
      "12-->1077689-->['•', 'computation', 'of', 'fuzzy', 'conditions', '.']\n",
      "13-->266148-->['•', 'computation', 'of', 'fuzzy', 'conditions', '.']\n",
      "14-->874104-->['•', 'computation', 'of', 'fuzzy', 'conditions', '.']\n",
      "15-->2535-->['•', 'computation', 'of', 'fuzzy', 'conditions', '.']\n",
      "16-->126188-->['version', 'handling', 'rules', 'for', 'libraries', '.']\n",
      "17-->168771-->['version', 'handling', 'rules', 'for', 'libraries', '.']\n",
      "18-->366217-->['•', 'computation', 'of', 'fuzzy', 'conditions', '.']\n",
      "19-->631537-->['•', 'computation', 'of', 'fuzzy', 'conditions', '.']\n"
     ]
    }
   ],
   "source": [
    "for i in range(20):\n",
    "    print(f\"{i}-->{ans[i][0]}-->{l[ans[i][0]]}\")\n"
   ]
  },
  {
   "cell_type": "code",
   "execution_count": 50,
   "metadata": {},
   "outputs": [],
   "source": [
    "doc_model.save(_modelpath_+\"ABB_paragraph.model\")"
   ]
  },
  {
   "cell_type": "code",
   "execution_count": 51,
   "metadata": {},
   "outputs": [],
   "source": [
    "doc_model=Doc2Vec.load(_modelpath_+\"ABB_paragraph.model\")"
   ]
  },
  {
   "cell_type": "code",
   "execution_count": 52,
   "metadata": {},
   "outputs": [
    {
     "data": {
      "text/plain": [
       "[(372706, 0.7824651598930359),\n",
       " (66484, 0.7542577981948853),\n",
       " (411861, 0.753726601600647),\n",
       " (797, 0.6260333061218262),\n",
       " (932, 0.6060267686843872),\n",
       " (1067658, 0.6060259938240051),\n",
       " (275, 0.5977721810340881),\n",
       " (887735, 0.5767804384231567),\n",
       " (440852, 0.5670477151870728),\n",
       " (440857, 0.5664275884628296)]"
      ]
     },
     "execution_count": 52,
     "metadata": {},
     "output_type": "execute_result"
    }
   ],
   "source": [
    "doc_model.dv.most_similar(49)"
   ]
  },
  {
   "cell_type": "code",
   "execution_count": 53,
   "metadata": {},
   "outputs": [
    {
     "data": {
      "text/plain": [
       "['this',\n",
       " 'allows',\n",
       " 'the',\n",
       " 'user',\n",
       " 'to',\n",
       " 'connect',\n",
       " 'several',\n",
       " 'hart',\n",
       " 'devices',\n",
       " 'at',\n",
       " 'one',\n",
       " 'i/o',\n",
       " 'module',\n",
       " '.']"
      ]
     },
     "execution_count": 53,
     "metadata": {},
     "output_type": "execute_result"
    }
   ],
   "source": [
    "l[780943]"
   ]
  },
  {
   "cell_type": "code",
   "execution_count": 54,
   "metadata": {},
   "outputs": [
    {
     "data": {
      "text/plain": [
       "array([-0.23209937, -0.18839273,  0.18666184, -0.26850843, -0.14898726,\n",
       "        0.20004053, -0.09561861, -0.45500603,  0.19144402, -0.07960212,\n",
       "        0.03069295,  0.4162682 , -0.19793661,  0.31730905, -0.08952855,\n",
       "        0.24137647,  0.25302288,  0.11694437, -0.07626978,  0.09152886,\n",
       "       -0.072115  ,  0.3191852 ,  0.26985988, -0.00450049,  0.07087364,\n",
       "        0.2864534 , -0.14146474,  0.15621491,  0.03361202, -0.06583793,\n",
       "        0.28393954,  0.19324389,  0.14945807, -0.25297123,  0.29716352,\n",
       "       -0.02167186, -0.12334183, -0.16051407,  0.15470682,  0.41082135,\n",
       "        0.18205397, -0.16817206,  0.14101896, -0.20799595,  0.1531665 ,\n",
       "       -0.21316436, -0.0307122 ,  0.12127362,  0.26645753, -0.13868052,\n",
       "        0.05929894, -0.188961  , -0.16204984,  0.05801835,  0.47982714,\n",
       "        0.04777055,  0.14979392,  0.20928061, -0.29141614, -0.00225965,\n",
       "        0.22094437,  0.07953804, -0.02998331, -0.10390525,  0.22047491,\n",
       "        0.21069926,  0.15651876, -0.06526116,  0.02956753, -0.08568661,\n",
       "        0.45531818,  0.06796447, -0.01358816,  0.03610586,  0.05707915,\n",
       "        0.28049678, -0.08064726,  0.04684706,  0.14606616,  0.12497229,\n",
       "        0.02094986,  0.04835666,  0.1025741 , -0.15894794, -0.16384062,\n",
       "        0.35598218, -0.01775028, -0.03336211,  0.07786917,  0.28558055,\n",
       "        0.7317412 ,  0.44282487,  0.02957159,  0.34237635, -0.0059775 ,\n",
       "        0.39499304, -0.08022732,  0.00972909, -0.13911413, -0.02179549,\n",
       "        0.34660167, -0.05077294, -0.1878267 , -0.19239028,  0.0343497 ,\n",
       "        0.10909832, -0.13251957,  0.4060133 , -0.17627151,  0.22485897,\n",
       "       -0.17306645, -0.02541137, -0.08076004,  0.11342801, -0.17224903,\n",
       "        0.3896762 ,  0.0816609 ,  0.28143808,  0.00830885, -0.30558178,\n",
       "        0.35120115, -0.08560017,  0.18521021, -0.09254807, -0.08464551,\n",
       "       -0.06351281,  0.03497207,  0.10038322, -0.01103755, -0.20505287,\n",
       "        0.3856988 , -0.05651489, -0.04845103, -0.2810494 , -0.2291595 ,\n",
       "        0.1457182 , -0.25607038,  0.39231643, -0.07817799, -0.0182216 ,\n",
       "       -0.13434759,  0.09199604, -0.2396522 , -0.47395587,  0.19196726,\n",
       "       -0.13969202,  0.23517561,  0.16795456, -0.14872193, -0.11458493,\n",
       "        0.1271378 ,  0.439241  , -0.04223622, -0.00602648, -0.06587778,\n",
       "       -0.31006488, -0.00243015, -0.18107282,  0.1162422 ,  0.06585547,\n",
       "        0.19955415, -0.31906134, -0.30064037, -0.03134562,  0.46236637,\n",
       "       -0.3221445 ,  0.02268605,  0.17540222,  0.00432902, -0.19057472,\n",
       "        0.04124766,  0.1094137 ,  0.08969492,  0.08092747, -0.31167033,\n",
       "        0.09314393,  0.07246339, -0.06000425,  0.18316123, -0.19780038,\n",
       "       -0.04452255,  0.16528378,  0.22590849,  0.39728516,  0.27793506,\n",
       "        0.06326929,  0.2787303 , -0.25703174,  0.11996979,  0.03804236,\n",
       "       -0.15135774,  0.19456814,  0.01434455, -0.3284819 ,  0.13333501,\n",
       "        0.19780515,  0.04151526,  0.06835113, -0.11651605, -0.11909571],\n",
       "      dtype=float32)"
      ]
     },
     "execution_count": 54,
     "metadata": {},
     "output_type": "execute_result"
    }
   ],
   "source": [
    "model1"
   ]
  },
  {
   "cell_type": "code",
   "execution_count": 55,
   "metadata": {},
   "outputs": [],
   "source": [
    "doc_model.save(\"Doc2vec_ABB.model\")"
   ]
  },
  {
   "cell_type": "code",
   "execution_count": null,
   "metadata": {},
   "outputs": [],
   "source": []
  },
  {
   "cell_type": "code",
   "execution_count": 56,
   "metadata": {},
   "outputs": [
    {
     "ename": "AttributeError",
     "evalue": "'numpy.ndarray' object has no attribute 'wv'",
     "output_type": "error",
     "traceback": [
      "\u001b[1;31m---------------------------------------------------------------------------\u001b[0m",
      "\u001b[1;31mAttributeError\u001b[0m                            Traceback (most recent call last)",
      "\u001b[1;32m<ipython-input-56-55db962c8e74>\u001b[0m in \u001b[0;36m<module>\u001b[1;34m\u001b[0m\n\u001b[1;32m----> 1\u001b[1;33m \u001b[1;32mfor\u001b[0m \u001b[0mindex\u001b[0m\u001b[1;33m,\u001b[0m \u001b[0mword\u001b[0m \u001b[1;32min\u001b[0m \u001b[0menumerate\u001b[0m \u001b[1;33m(\u001b[0m\u001b[0mmodel1\u001b[0m\u001b[1;33m.\u001b[0m\u001b[0mwv\u001b[0m\u001b[1;33m.\u001b[0m\u001b[0mindex_to_key\u001b[0m\u001b[1;33m)\u001b[0m\u001b[1;33m:\u001b[0m\u001b[1;33m\u001b[0m\u001b[1;33m\u001b[0m\u001b[0m\n\u001b[0m\u001b[0;32m      2\u001b[0m     \u001b[1;32mif\u001b[0m \u001b[0mindex\u001b[0m \u001b[1;33m%\u001b[0m \u001b[1;36m100\u001b[0m\u001b[1;33m==\u001b[0m\u001b[1;36m0\u001b[0m\u001b[1;33m:\u001b[0m\u001b[1;33m\u001b[0m\u001b[1;33m\u001b[0m\u001b[0m\n\u001b[0;32m      3\u001b[0m         \u001b[0mprint\u001b[0m\u001b[1;33m(\u001b[0m\u001b[0mindex\u001b[0m\u001b[1;33m,\u001b[0m\u001b[0mword\u001b[0m\u001b[1;33m)\u001b[0m\u001b[1;33m\u001b[0m\u001b[1;33m\u001b[0m\u001b[0m\n",
      "\u001b[1;31mAttributeError\u001b[0m: 'numpy.ndarray' object has no attribute 'wv'"
     ]
    }
   ],
   "source": [
    "for index, word in enumerate (model1.wv.index_to_key):\n",
    "    if index % 100==0:\n",
    "        print(index,word)"
   ]
  },
  {
   "cell_type": "code",
   "execution_count": null,
   "metadata": {},
   "outputs": [
    {
     "data": {
      "text/plain": [
       "[('non-redundant', 0.5890538096427917),\n",
       " ('redundancy', 0.5542015433311462),\n",
       " ('2oo3', 0.513979971408844),\n",
       " ('ci869s', 0.5113728046417236),\n",
       " ('pm858/pm861/pm862/pm864/pm865/pm866/pm867/pm891', 0.4885058104991913),\n",
       " ('hardware-tree', 0.4843270480632782),\n",
       " ('1oo2', 0.4809989035129547),\n",
       " ('opcserv11', 0.4786463677883148),\n",
       " ('nonredundant', 0.47102490067481995),\n",
       " ('pm861/pm862/pm864/pm865/pm866/pm867/pm891', 0.46977168321609497)]"
      ]
     },
     "execution_count": 87,
     "metadata": {},
     "output_type": "execute_result"
    }
   ],
   "source": [
    "model1.wv.most_similar(\"redundant\")"
   ]
  },
  {
   "cell_type": "code",
   "execution_count": null,
   "metadata": {},
   "outputs": [],
   "source": [
    "##\n"
   ]
  }
 ],
 "metadata": {
  "interpreter": {
   "hash": "e7370f93d1d0cde622a1f8e1c04877d8463912d04d973331ad4851f04de6915a"
  },
  "kernelspec": {
   "display_name": "Python 3.8.10 64-bit",
   "language": "python",
   "name": "python3"
  },
  "language_info": {
   "codemirror_mode": {
    "name": "ipython",
    "version": 3
   },
   "file_extension": ".py",
   "mimetype": "text/x-python",
   "name": "python",
   "nbconvert_exporter": "python",
   "pygments_lexer": "ipython3",
   "version": "3.8.6"
  },
  "orig_nbformat": 4
 },
 "nbformat": 4,
 "nbformat_minor": 2
}
