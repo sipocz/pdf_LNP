{
 "cells": [
  {
   "cell_type": "code",
   "execution_count": 1,
   "metadata": {},
   "outputs": [
    {
     "data": {
      "text/plain": [
       "'\\nCHANGE LOG\\n\\n20220207: Doc2Vec tesz\\n\\n\\n'"
      ]
     },
     "execution_count": 1,
     "metadata": {},
     "output_type": "execute_result"
    }
   ],
   "source": [
    "'''\n",
    "CHANGE LOG\n",
    "\n",
    "20220207: Doc2Vec tesz\n",
    "\n",
    "\n",
    "'''"
   ]
  },
  {
   "cell_type": "code",
   "execution_count": 2,
   "metadata": {},
   "outputs": [],
   "source": [
    "import nltk\n",
    "# nltk.download() NLTK library download\n",
    "\n"
   ]
  },
  {
   "cell_type": "code",
   "execution_count": 4,
   "metadata": {},
   "outputs": [],
   "source": [
    " \n",
    "import platform\n",
    "os_str=platform.platform()\n",
    "if \"Windows\" in os_str:\n",
    "    _OS_=\"windows\"\n",
    "else:\n",
    "    _OS_=\"linux\""
   ]
  },
  {
   "cell_type": "code",
   "execution_count": 5,
   "metadata": {},
   "outputs": [],
   "source": [
    "if _OS_== \"linux\":\n",
    "    _fname_=\"/home/sipocz/drive/ABB_sentences.txt\"\n",
    "    _basepath_=\"/home/sipocz/drive/\"\n",
    "else:\n",
    "    _fname_=\"C:/Users/sipocz/Downloads/ABB_sentences.txt\"\n",
    "    _basepath_=\"C:/Users/sipocz/Downloads/\"\n",
    "    _modelpath_=\"C:/PDF_NLP_MODELS/\"\n",
    "    \n"
   ]
  },
  {
   "cell_type": "code",
   "execution_count": 6,
   "metadata": {},
   "outputs": [],
   "source": [
    "def read_file(fname, counter=0):\n",
    "    out=[]\n",
    "    f=open(fname,\"r\",encoding=\"utf-8\")\n",
    "    if counter!=0:\n",
    "        for i in range(counter):\n",
    "            one_line=f.readline()\n",
    "            out.append(one_line.strip())\n",
    "    else:\n",
    "        while True:\n",
    "            one_line=f.readline()\n",
    "            if one_line==\"\":\n",
    "                print(\"EOF\")\n",
    "                \n",
    "                break\n",
    "            out.append(one_line.strip())\n",
    "\n",
    "    \n",
    "    return(out)"
   ]
  },
  {
   "cell_type": "code",
   "execution_count": 7,
   "metadata": {},
   "outputs": [
    {
     "name": "stdout",
     "output_type": "stream",
     "text": [
      "EOF\n"
     ]
    }
   ],
   "source": [
    "st=read_file(_fname_)"
   ]
  },
  {
   "cell_type": "code",
   "execution_count": 8,
   "metadata": {},
   "outputs": [
    {
     "data": {
      "text/plain": [
       "1156117"
      ]
     },
     "execution_count": 8,
     "metadata": {},
     "output_type": "execute_result"
    }
   ],
   "source": [
    "len(st)"
   ]
  },
  {
   "cell_type": "code",
   "execution_count": 9,
   "metadata": {},
   "outputs": [
    {
     "data": {
      "text/plain": [
       "\"['the', 'checksum', 'program', 'is', 'started', ',', 'and', 'the', 'check-', 'sum', 'is', 'indicated', 'at', 'the', 'end', 'of', 'the', 'configuration', 'file', '.']\""
      ]
     },
     "execution_count": 9,
     "metadata": {},
     "output_type": "execute_result"
    }
   ],
   "source": [
    "st[150]"
   ]
  },
  {
   "cell_type": "code",
   "execution_count": 11,
   "metadata": {},
   "outputs": [],
   "source": [
    "from nltk.tokenize import sent_tokenize, word_tokenize\n",
    "import gensim\n",
    "from gensim.models import Word2Vec\n",
    "from gensim.models import Doc2Vec\n",
    "\n",
    "import pandas as pd"
   ]
  },
  {
   "cell_type": "code",
   "execution_count": 12,
   "metadata": {},
   "outputs": [],
   "source": [
    "def str2list(str):\n",
    "    s=str[1:-1]\n",
    "    s=s.replace(\"', '\",\"#\")[1:-1]\n",
    "    #print(s)\n",
    "    out=s.split(\"#\")\n",
    "    #print(out)\n",
    "    return(out)"
   ]
  },
  {
   "cell_type": "code",
   "execution_count": 13,
   "metadata": {},
   "outputs": [
    {
     "data": {
      "text/plain": [
       "['the',\n",
       " 'compact',\n",
       " 'flash',\n",
       " 'card',\n",
       " 'must',\n",
       " 'be',\n",
       " 'removed',\n",
       " 'from',\n",
       " 'the',\n",
       " 'high',\n",
       " 'integrity',\n",
       " 'controller',\n",
       " 'before',\n",
       " 'the',\n",
       " 'reset',\n",
       " 'button',\n",
       " 'is',\n",
       " 'pressed',\n",
       " 'to',\n",
       " 'perform',\n",
       " 'a',\n",
       " 'cold',\n",
       " 'restart',\n",
       " '.']"
      ]
     },
     "execution_count": 13,
     "metadata": {},
     "output_type": "execute_result"
    }
   ],
   "source": [
    "str2list(st[1200])"
   ]
  },
  {
   "cell_type": "code",
   "execution_count": 14,
   "metadata": {},
   "outputs": [],
   "source": [
    "l=[str2list(x) for x in st]"
   ]
  },
  {
   "cell_type": "code",
   "execution_count": 15,
   "metadata": {},
   "outputs": [
    {
     "name": "stdout",
     "output_type": "stream",
     "text": [
      "1156117\n",
      "['plug', 'the', 'module', 'back', 'into', 'the', 'subrack', '.']\n"
     ]
    }
   ],
   "source": [
    "print(len(l))\n",
    "print(l[50])"
   ]
  },
  {
   "cell_type": "code",
   "execution_count": 33,
   "metadata": {},
   "outputs": [],
   "source": [
    "#model1 = gensim.models.Word2Vec(l, vector_size=400,  sg=1,)"
   ]
  },
  {
   "cell_type": "code",
   "execution_count": null,
   "metadata": {},
   "outputs": [],
   "source": []
  },
  {
   "cell_type": "code",
   "execution_count": 16,
   "metadata": {},
   "outputs": [
    {
     "name": "stdout",
     "output_type": "stream",
     "text": [
      "['when', 'the', 'reference', 'signal', 'is', 'close', 'to', 'a', 'limit', ',', 'autotuning', 'may', 'give', 'poor', 'results', '.']\n"
     ]
    }
   ],
   "source": [
    "print(l[3421])"
   ]
  },
  {
   "cell_type": "code",
   "execution_count": 18,
   "metadata": {},
   "outputs": [],
   "source": [
    "def create_sentence(lin:list):\n",
    "    '''\n",
    "    in:  lin -- list of words\n",
    "    out: out -- sentence string \n",
    "    '''\n",
    "    out=\"\"\n",
    "    for i in lin:\n",
    "        out=out+\" \"+i\n",
    "    return(out)\n",
    "        "
   ]
  },
  {
   "cell_type": "code",
   "execution_count": 17,
   "metadata": {},
   "outputs": [
    {
     "data": {
      "text/plain": [
       "' when the reference signal is close to a limit , autotuning may give poor results .'"
      ]
     },
     "execution_count": 17,
     "metadata": {},
     "output_type": "execute_result"
    }
   ],
   "source": [
    "create_sentence(l[3421])\n",
    "\n",
    "\n",
    "\n"
   ]
  },
  {
   "cell_type": "code",
   "execution_count": 19,
   "metadata": {},
   "outputs": [],
   "source": [
    "def create_doc_corpus(fname,lst:list):\n",
    "\n",
    "\n",
    "    out=[]\n",
    "    f=open(fname,\"w\",encoding=\"utf-8\")\n",
    "\n",
    "    for i in lst[:]:\n",
    "        sentence=create_sentence(i)    \n",
    "        f.write(sentence+\"\\n\")                \n",
    "    f.close()    \n",
    "    \n",
    "    \n",
    "    \n",
    "\n",
    "\n",
    "\n"
   ]
  },
  {
   "cell_type": "code",
   "execution_count": 20,
   "metadata": {},
   "outputs": [],
   "source": [
    "sentence_corpus_file=_basepath_+\"ABB_sentences_corpus.txt\""
   ]
  },
  {
   "cell_type": "code",
   "execution_count": 21,
   "metadata": {},
   "outputs": [
    {
     "data": {
      "text/plain": [
       "'C:/Users/sipocz/Downloads/ABB_sentences_corpus.txt'"
      ]
     },
     "execution_count": 21,
     "metadata": {},
     "output_type": "execute_result"
    }
   ],
   "source": [
    "sentence_corpus_file"
   ]
  },
  {
   "cell_type": "code",
   "execution_count": 22,
   "metadata": {},
   "outputs": [],
   "source": [
    "create_doc_corpus(sentence_corpus_file,l)"
   ]
  },
  {
   "cell_type": "code",
   "execution_count": 23,
   "metadata": {},
   "outputs": [],
   "source": [
    "doc_model =  Doc2Vec(corpus_file=sentence_corpus_file,vector_size=200,epochs=60,dm=0)"
   ]
  },
  {
   "cell_type": "code",
   "execution_count": 68,
   "metadata": {},
   "outputs": [
    {
     "name": "stdout",
     "output_type": "stream",
     "text": [
      "['abb', 'fuzzy', 'logic', 'control', 'configuration']\n"
     ]
    }
   ],
   "source": [
    "search_text=\"abb fuzzy logic control configuration\"\n",
    "search_list=search_text.split(\" \")\n",
    "print(search_list)"
   ]
  },
  {
   "cell_type": "code",
   "execution_count": 69,
   "metadata": {},
   "outputs": [],
   "source": [
    "model1=doc_model.infer_vector(search_list,epochs=1220)"
   ]
  },
  {
   "cell_type": "code",
   "execution_count": null,
   "metadata": {},
   "outputs": [],
   "source": []
  },
  {
   "cell_type": "code",
   "execution_count": 70,
   "metadata": {},
   "outputs": [
    {
     "name": "stdout",
     "output_type": "stream",
     "text": [
      "[(1077874, 0.6855971813201904), (481941, 0.6496621966362), (271509, 0.6447224617004395), (340288, 0.6387056112289429), (48610, 0.629594624042511), (369049, 0.6249274611473083), (958779, 0.6245079636573792), (136434, 0.6243069767951965), (269010, 0.6237938404083252), (340077, 0.6223552227020264), (876965, 0.6143320798873901), (958837, 0.6132553815841675), (621312, 0.6114043593406677), (634398, 0.6105431914329529), (999219, 0.6075044870376587), (958082, 0.6061051487922668), (547651, 0.6059761643409729), (342562, 0.6058273911476135), (620701, 0.6045238971710205), (874143, 0.6044226288795471)]\n"
     ]
    }
   ],
   "source": [
    "ans=doc_model.dv.similar_by_vector(model1,topn=20)\n",
    "print(ans)"
   ]
  },
  {
   "cell_type": "code",
   "execution_count": 71,
   "metadata": {},
   "outputs": [
    {
     "name": "stdout",
     "output_type": "stream",
     "text": [
      "0-->1077874-->['fuzzy', 'control', 'fuzzy', '.']\n",
      "1-->481941-->['g', 'fuzzy', 'control', '.']\n",
      "2-->271509-->['g', 'fuzzy', 'control', '.']\n",
      "3-->340288-->['fuzzy', 'controllers', '.']\n",
      "4-->48610-->['abb', 'equipment', '.']\n",
      "5-->369049-->['configuration', 'example', 'of', 'vote', 'logic', '.']\n",
      "6-->958779-->['3bua000146-610', 'a', 'equipment', 'configuration', '(', 'ept', 'control', 'modules', ')', 'equipment', 'phase', 'logic', '.']\n",
      "7-->136434-->['configuration', 'example', 'of', 'vote', 'logic', '.']\n",
      "8-->269010-->['configuration', 'example', 'of', 'vote', 'logic', '.']\n",
      "9-->340077-->['a', 'fuzzy', 'rule', '.']\n",
      "10-->876965-->['configuration', 'example', 'of', 'vote', 'logic', '.']\n",
      "11-->958837-->['3bua000146-610', 'a', 'equipment', 'configuration', '(', 'ept', 'control', 'modules', ')', 'batch', 'equipment', '.']\n",
      "12-->621312-->['acc', 'ampl', 'control', 'configuration', '.']\n",
      "13-->634398-->['configuration', 'example', 'of', 'vote', 'logic', '.']\n",
      "14-->999219-->['3bds011222-610', 'a', 'configuration', 'automation', 'solution', '.']\n",
      "15-->958082-->['3bua000146-610', 'a', 'equipment', 'configuration', '(', 'batch', 'advanced', 'templates', ')', 'equipment', 'logic', 'to', 'define', 'equipment', 'logic', ':', '.']\n",
      "16-->547651-->['configuration', '.']\n",
      "17-->342562-->['configuration', 'example', 'of', 'vote', 'logic', '.']\n",
      "18-->620701-->['acc', 'ampl', 'control', 'configuration', '.']\n",
      "19-->874143-->['typical', 'configuration', 'where', 'a', 'fuzzy', 'controller', 'is', 'used', 'as', 'part', 'of', 'the', 'control', 'loop', '.']\n"
     ]
    }
   ],
   "source": [
    "for i in range(20):\n",
    "    print(f\"{i}-->{ans[i][0]}-->{l[ans[i][0]]}\")\n"
   ]
  },
  {
   "cell_type": "code",
   "execution_count": 72,
   "metadata": {},
   "outputs": [],
   "source": [
    "doc_model.save(_modelpath_+\"ABB_paragraph.model\")"
   ]
  },
  {
   "cell_type": "code",
   "execution_count": 73,
   "metadata": {},
   "outputs": [],
   "source": [
    "doc_model=Doc2Vec.load(_modelpath_+\"ABB_paragraph.model\")"
   ]
  },
  {
   "cell_type": "code",
   "execution_count": 74,
   "metadata": {},
   "outputs": [
    {
     "data": {
      "text/plain": [
       "[(372706, 0.7824651598930359),\n",
       " (66484, 0.7542577981948853),\n",
       " (411861, 0.753726601600647),\n",
       " (797, 0.6260333061218262),\n",
       " (932, 0.6060267686843872),\n",
       " (1067658, 0.6060259938240051),\n",
       " (275, 0.5977721810340881),\n",
       " (887735, 0.5767804384231567),\n",
       " (440852, 0.5670477151870728),\n",
       " (440857, 0.5664275884628296)]"
      ]
     },
     "execution_count": 74,
     "metadata": {},
     "output_type": "execute_result"
    }
   ],
   "source": [
    "doc_model.dv.most_similar(49)"
   ]
  },
  {
   "cell_type": "code",
   "execution_count": 75,
   "metadata": {},
   "outputs": [
    {
     "data": {
      "text/plain": [
       "['this',\n",
       " 'allows',\n",
       " 'the',\n",
       " 'user',\n",
       " 'to',\n",
       " 'connect',\n",
       " 'several',\n",
       " 'hart',\n",
       " 'devices',\n",
       " 'at',\n",
       " 'one',\n",
       " 'i/o',\n",
       " 'module',\n",
       " '.']"
      ]
     },
     "execution_count": 75,
     "metadata": {},
     "output_type": "execute_result"
    }
   ],
   "source": [
    "l[780943]"
   ]
  },
  {
   "cell_type": "code",
   "execution_count": 76,
   "metadata": {},
   "outputs": [
    {
     "data": {
      "text/plain": [
       "array([-0.16527982, -0.520779  ,  0.07846759,  0.03349936, -0.12471495,\n",
       "        0.00757268, -0.11972517, -0.32998765,  0.12395369, -0.29452464,\n",
       "        0.22653049,  0.36112568, -0.20048018,  0.11848545, -0.00564661,\n",
       "        0.27108786,  0.13301799, -0.0390998 , -0.15807728,  0.14086549,\n",
       "       -0.05335161,  0.47546723, -0.07258407, -0.04740986,  0.09607821,\n",
       "        0.21165812, -0.25008222,  0.41664144,  0.24039826, -0.29895887,\n",
       "       -0.01946729,  0.22133134,  0.10967112,  0.02965391,  0.44220367,\n",
       "       -0.12015463, -0.22525215, -0.2992277 ,  0.3356279 ,  0.27138346,\n",
       "        0.23562972, -0.01463183,  0.23717882, -0.31000328,  0.21706697,\n",
       "       -0.29476312,  0.20215532, -0.1570388 ,  0.32616344,  0.0265946 ,\n",
       "        0.03958258,  0.0205757 , -0.0755497 , -0.32652372,  0.28884363,\n",
       "       -0.00548693,  0.20135672,  0.20156616, -0.36872318,  0.20563143,\n",
       "        0.20285842, -0.011844  ,  0.36071178,  0.29419267,  0.28688973,\n",
       "        0.00790975, -0.02202187, -0.08521426, -0.04280373, -0.0380233 ,\n",
       "        0.03664963, -0.01195105,  0.0098434 ,  0.02966158,  0.14574347,\n",
       "        0.1905342 ,  0.15955257,  0.11731727,  0.3175502 ,  0.05377195,\n",
       "       -0.24468306, -0.03067588,  0.04444098, -0.1132088 , -0.13730402,\n",
       "        0.35765016, -0.10530476, -0.04065594, -0.26869547,  0.38206455,\n",
       "        0.52462894,  0.13722795, -0.1638965 ,  0.39532465,  0.04593588,\n",
       "        0.6127532 , -0.05603153,  0.11258867, -0.22082013, -0.07443254,\n",
       "        0.24549502,  0.00245032, -0.27651453, -0.46637553,  0.01437988,\n",
       "       -0.20185123, -0.19153018,  0.10315857, -0.07918176,  0.34841937,\n",
       "       -0.09776162,  0.1756549 ,  0.02064137,  0.09465168, -0.4258193 ,\n",
       "        0.5476635 ,  0.0165811 ,  0.16620278,  0.32935905, -0.7402284 ,\n",
       "        0.18949565, -0.19671473,  0.05630229, -0.16823694,  0.34597838,\n",
       "        0.0085319 ,  0.31111896,  0.5079833 , -0.12262768, -0.21952821,\n",
       "        0.33814198,  0.2110877 , -0.1133602 , -0.35545614, -0.11910299,\n",
       "        0.05574431, -0.03675791,  0.42425355, -0.11875846,  0.0371667 ,\n",
       "       -0.05027819, -0.03052998, -0.17099492, -0.22490607,  0.1883011 ,\n",
       "       -0.0890395 ,  0.14762524, -0.03034244, -0.54314905, -0.04192649,\n",
       "        0.02818258,  0.11762441,  0.04369126,  0.14985299,  0.17235371,\n",
       "       -0.2204451 ,  0.00961718, -0.53752816,  0.10503544,  0.25810263,\n",
       "        0.24225798, -0.31423974, -0.06111284, -0.03443981,  0.69929874,\n",
       "       -0.3079516 ,  0.17983554,  0.18648784, -0.02361611, -0.14154337,\n",
       "        0.1212186 , -0.11130657, -0.06951315, -0.0184545 , -0.2991458 ,\n",
       "       -0.03783903, -0.11106274,  0.11234687, -0.01905336,  0.09515988,\n",
       "        0.03442108, -0.04218269,  0.39159203,  0.21849415,  0.23634152,\n",
       "        0.14253312,  0.09266178, -0.13029395,  0.14509988,  0.01481149,\n",
       "       -0.07163849,  0.2088134 ,  0.2648599 , -0.4525886 , -0.2992039 ,\n",
       "        0.04666182, -0.03874621, -0.12006152, -0.10214403, -0.16611709],\n",
       "      dtype=float32)"
      ]
     },
     "execution_count": 76,
     "metadata": {},
     "output_type": "execute_result"
    }
   ],
   "source": [
    "model1"
   ]
  },
  {
   "cell_type": "code",
   "execution_count": 77,
   "metadata": {},
   "outputs": [],
   "source": [
    "doc_model.save(\"Doc2vec_ABB.model\")"
   ]
  },
  {
   "cell_type": "code",
   "execution_count": null,
   "metadata": {},
   "outputs": [],
   "source": []
  },
  {
   "cell_type": "code",
   "execution_count": 78,
   "metadata": {},
   "outputs": [
    {
     "ename": "AttributeError",
     "evalue": "'numpy.ndarray' object has no attribute 'wv'",
     "output_type": "error",
     "traceback": [
      "\u001b[1;31m---------------------------------------------------------------------------\u001b[0m",
      "\u001b[1;31mAttributeError\u001b[0m                            Traceback (most recent call last)",
      "\u001b[1;32m<ipython-input-78-55db962c8e74>\u001b[0m in \u001b[0;36m<module>\u001b[1;34m\u001b[0m\n\u001b[1;32m----> 1\u001b[1;33m \u001b[1;32mfor\u001b[0m \u001b[0mindex\u001b[0m\u001b[1;33m,\u001b[0m \u001b[0mword\u001b[0m \u001b[1;32min\u001b[0m \u001b[0menumerate\u001b[0m \u001b[1;33m(\u001b[0m\u001b[0mmodel1\u001b[0m\u001b[1;33m.\u001b[0m\u001b[0mwv\u001b[0m\u001b[1;33m.\u001b[0m\u001b[0mindex_to_key\u001b[0m\u001b[1;33m)\u001b[0m\u001b[1;33m:\u001b[0m\u001b[1;33m\u001b[0m\u001b[1;33m\u001b[0m\u001b[0m\n\u001b[0m\u001b[0;32m      2\u001b[0m     \u001b[1;32mif\u001b[0m \u001b[0mindex\u001b[0m \u001b[1;33m%\u001b[0m \u001b[1;36m100\u001b[0m\u001b[1;33m==\u001b[0m\u001b[1;36m0\u001b[0m\u001b[1;33m:\u001b[0m\u001b[1;33m\u001b[0m\u001b[1;33m\u001b[0m\u001b[0m\n\u001b[0;32m      3\u001b[0m         \u001b[0mprint\u001b[0m\u001b[1;33m(\u001b[0m\u001b[0mindex\u001b[0m\u001b[1;33m,\u001b[0m\u001b[0mword\u001b[0m\u001b[1;33m)\u001b[0m\u001b[1;33m\u001b[0m\u001b[1;33m\u001b[0m\u001b[0m\n",
      "\u001b[1;31mAttributeError\u001b[0m: 'numpy.ndarray' object has no attribute 'wv'"
     ]
    }
   ],
   "source": [
    "for index, word in enumerate (model1.wv.index_to_key):\n",
    "    if index % 100==0:\n",
    "        print(index,word)"
   ]
  },
  {
   "cell_type": "code",
   "execution_count": null,
   "metadata": {},
   "outputs": [
    {
     "data": {
      "text/plain": [
       "[('non-redundant', 0.5890538096427917),\n",
       " ('redundancy', 0.5542015433311462),\n",
       " ('2oo3', 0.513979971408844),\n",
       " ('ci869s', 0.5113728046417236),\n",
       " ('pm858/pm861/pm862/pm864/pm865/pm866/pm867/pm891', 0.4885058104991913),\n",
       " ('hardware-tree', 0.4843270480632782),\n",
       " ('1oo2', 0.4809989035129547),\n",
       " ('opcserv11', 0.4786463677883148),\n",
       " ('nonredundant', 0.47102490067481995),\n",
       " ('pm861/pm862/pm864/pm865/pm866/pm867/pm891', 0.46977168321609497)]"
      ]
     },
     "execution_count": 87,
     "metadata": {},
     "output_type": "execute_result"
    }
   ],
   "source": [
    "model1.wv.most_similar(\"redundant\")"
   ]
  },
  {
   "cell_type": "code",
   "execution_count": null,
   "metadata": {},
   "outputs": [],
   "source": [
    "##\n"
   ]
  }
 ],
 "metadata": {
  "interpreter": {
   "hash": "e7370f93d1d0cde622a1f8e1c04877d8463912d04d973331ad4851f04de6915a"
  },
  "kernelspec": {
   "display_name": "Python 3.8.10 64-bit",
   "language": "python",
   "name": "python3"
  },
  "language_info": {
   "codemirror_mode": {
    "name": "ipython",
    "version": 3
   },
   "file_extension": ".py",
   "mimetype": "text/x-python",
   "name": "python",
   "nbconvert_exporter": "python",
   "pygments_lexer": "ipython3",
   "version": "3.8.6"
  },
  "orig_nbformat": 4
 },
 "nbformat": 4,
 "nbformat_minor": 2
}
