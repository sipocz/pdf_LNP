{
 "cells": [
  {
   "cell_type": "code",
   "execution_count": 1,
   "metadata": {},
   "outputs": [],
   "source": [
    "# pip\n",
    "# !pip install Pillow \n",
    "\n",
    "\n",
    "from PIL import Image\n",
    "from PIL import ImageDraw"
   ]
  },
  {
   "cell_type": "code",
   "execution_count": 2,
   "metadata": {},
   "outputs": [],
   "source": [
    "def fname_separator(fname):\n",
    "    '''\n",
    "    *** TASK: PNG OUTPUT\n",
    "    input: fname egy fájl neve\n",
    "    return: megadott fname file könyvtára, fole neve, és kiterjesztése  \n",
    "    '''\n",
    "    import os\n",
    "    temp = os.path.splitext(fname)\n",
    "    out = (os.path.dirname(fname),os.path.basename(temp[0]), temp[1])\n",
    "    \n",
    "    return(out)"
   ]
  },
  {
   "cell_type": "code",
   "execution_count": 3,
   "metadata": {},
   "outputs": [],
   "source": [
    "def text_drawer(fname,rmatrix,delta=2, index=None):\n",
    "    '''\n",
    "    *** TASK : PNG OUTPUT  \n",
    "    desc: fname png file-ban rmatrix alapján index pozícióban lévő elemet kiemeli delta vastag kerettel\n",
    "    \n",
    "    fname:png file neve \n",
    "    rmatrix: keretsruktura\n",
    "    delta: a keret vastagsága\n",
    "    index: melyik elemet kell kiemelni \n",
    "\n",
    "\n",
    "    '''\n",
    "    _file_name_expander_=\"rect\"\n",
    "\n",
    "    if index==None:\n",
    "        selection=slice(0,-1,1)\n",
    "    else:\n",
    "        selection=slice(index,index+1,1)\n",
    "    inner_gap=3\n",
    "    (xdir,xfname,xext)=fname_separator(fname)\n",
    "    outfname=xdir+xfname+_file_name_expander_+xext\n",
    "    img=Image.open(fname)\n",
    "    Drawer = ImageDraw.Draw(img)\n",
    "    for melement in rmatrix[selection]:\n",
    "        x1=melement[\"pos0\"]\n",
    "        y1=melement[\"pos1\"]\n",
    "        x2=melement[\"pos2\"]\n",
    "        y2=melement[\"pos3\"]\n",
    "        Drawer.rectangle((x1-delta-inner_gap, y1-delta-inner_gap, x2+delta+inner_gap, y2+delta+inner_gap), outline=\"green\",width=5,)\n",
    "    img.save(outfname)\n",
    "    return(outfname)"
   ]
  },
  {
   "cell_type": "code",
   "execution_count": 1,
   "metadata": {},
   "outputs": [],
   "source": [
    "def xpng(search_text,topn=2):\n",
    "    return (search_text*topn)"
   ]
  },
  {
   "cell_type": "code",
   "execution_count": 4,
   "metadata": {},
   "outputs": [],
   "source": [
    "from flask import Flask\n",
    "app = Flask(__name__)\n",
    "\n",
    "@app.route('/png/<search_text>')\n",
    "def query(search_text):\n",
    "    print(search_text)\n",
    "    return xpng(search_text, topn=1)\n",
    "\n",
    "\n",
    "'''\n",
    "@app.route('/statistic/<search_text>')\n",
    "def query2(search_text):\n",
    "    print(search_text)\n",
    "    return _query(search_text,topn=100)\n",
    "\n",
    "'''\n",
    "\n",
    "@app.route('/')\n",
    "def root():\n",
    "    return 'Hello, World!'"
   ]
  },
  {
   "cell_type": "code",
   "execution_count": 5,
   "metadata": {},
   "outputs": [
    {
     "name": "stdout",
     "output_type": "stream",
     "text": [
      " * Serving Flask app '__main__' (lazy loading)\n",
      " * Environment: production\n",
      "   WARNING: This is a development server. Do not use it in a production deployment.\n",
      "   Use a production WSGI server instead.\n",
      " * Debug mode: off\n"
     ]
    },
    {
     "name": "stderr",
     "output_type": "stream",
     "text": [
      " * Running on all addresses.\n",
      "   WARNING: This is a development server. Do not use it in a production deployment.\n",
      " * Running on http://192.168.2.6:5002/ (Press CTRL+C to quit)\n",
      "192.168.2.6 - - [21/Feb/2022 22:02:32] \"GET /png/[alfa%20beta%20gamma%20(20)(20)] HTTP/1.1\" 200 -\n"
     ]
    },
    {
     "name": "stdout",
     "output_type": "stream",
     "text": [
      "[alfa beta gamma (20)(20)]\n"
     ]
    },
    {
     "name": "stderr",
     "output_type": "stream",
     "text": [
      "192.168.2.6 - - [21/Feb/2022 22:02:35] \"GET /png/[alfa%20beta%20gamma%20(20)(20)] HTTP/1.1\" 200 -\n"
     ]
    },
    {
     "name": "stdout",
     "output_type": "stream",
     "text": [
      "[alfa beta gamma (20)(20)]\n"
     ]
    },
    {
     "name": "stderr",
     "output_type": "stream",
     "text": [
      "192.168.2.6 - - [21/Feb/2022 22:07:31] \"GET /png/[alfa%20beta%20gamma%20(20)(20)] HTTP/1.1\" 200 -\n"
     ]
    },
    {
     "name": "stdout",
     "output_type": "stream",
     "text": [
      "[alfa beta gamma (20)(20)]\n"
     ]
    },
    {
     "name": "stderr",
     "output_type": "stream",
     "text": [
      "192.168.2.6 - - [21/Feb/2022 22:25:42] \"GET /png/alfa&beta=5&gamma=45 HTTP/1.1\" 200 -\n"
     ]
    },
    {
     "name": "stdout",
     "output_type": "stream",
     "text": [
      "alfa&beta=5&gamma=45\n"
     ]
    }
   ],
   "source": [
    "\n",
    "if __name__ == '__main__':\n",
    "   porto = int(os.environ.get(\"PORT\", 5002))\n",
    "   app.run(host=\"0.0.0.0\", port=porto)"
   ]
  },
  {
   "cell_type": "code",
   "execution_count": null,
   "metadata": {},
   "outputs": [],
   "source": []
  }
 ],
 "metadata": {
  "interpreter": {
   "hash": "5ce7801274b0b37dd0fd5d67dc711627c3fd25ac6676442e98aec8c24f76fbd7"
  },
  "kernelspec": {
   "display_name": "Python 3.8.6 64-bit",
   "language": "python",
   "name": "python3"
  },
  "language_info": {
   "codemirror_mode": {
    "name": "ipython",
    "version": 3
   },
   "file_extension": ".py",
   "mimetype": "text/x-python",
   "name": "python",
   "nbconvert_exporter": "python",
   "pygments_lexer": "ipython3",
   "version": "3.8.6"
  },
  "orig_nbformat": 4
 },
 "nbformat": 4,
 "nbformat_minor": 2
}
